{
 "cells": [
  {
   "cell_type": "code",
   "execution_count": 3,
   "metadata": {},
   "outputs": [],
   "source": [
    "from src import host\n",
    "from src import common\n",
    "from src.setup import *"
   ]
  },
  {
   "cell_type": "markdown",
   "metadata": {},
   "source": [
    "# Introduction\n",
    "\n",
    "As an non-interactive usage of this notebook, one can use `sbatch src/run_gwas.sh` to send a job and get the results in a notebook or in HTML format. \n",
    "\n",
    "**TODO**: \n",
    "\n",
    "# README !\n",
    "\n",
    "This notebook is special: it's designed differently from the others. To use this notebook effciently and interactively, first use `sbatch src/run_gwas.sh` to run a job that...\n",
    "\n",
    "###### A word about `run_gwas()` function\n",
    "\n",
    "Every output is stored. Warnings are displayed in `concatenated_warnings`, and the whole reports in `concatenated_logs` (both paths are defined in `setup.py`)."
   ]
  },
  {
   "cell_type": "markdown",
   "metadata": {},
   "source": [
    "# Compute assciation tests\n",
    "\n"
   ]
  },
  {
   "cell_type": "code",
   "execution_count": 2,
   "metadata": {},
   "outputs": [],
   "source": [
    "#host.run_gwas()"
   ]
  },
  {
   "cell_type": "markdown",
   "metadata": {},
   "source": [
    "# Check the results\n",
    "\n",
    "###### Report computational time\n"
   ]
  },
  {
   "cell_type": "code",
   "execution_count": 3,
   "metadata": {},
   "outputs": [
    {
     "name": "stdout",
     "output_type": "stream",
     "text": [
      "Start time: Tue Aug 20 18:20:28 2019\r\n",
      "grep: erreur d'écriture\r\n",
      "cat: erreur d'écriture: Relais brisé (pipe)\r\n",
      "End time: Tue Aug 20 18:38:07 2019\r\n"
     ]
    }
   ],
   "source": [
    "!cat $PATH_ASIANS_GWAS_TMP_LOGS_CONCAT | grep \"Start time:\" | head -1 \n",
    "!cat $PATH_ASIANS_GWAS_TMP_LOGS_CONCAT | grep \"End time:\" | tail -1 "
   ]
  },
  {
   "cell_type": "markdown",
   "metadata": {},
   "source": [
    "This took about 18 min 30 s."
   ]
  },
  {
   "cell_type": "markdown",
   "metadata": {},
   "source": [
    "###### Look at warnings\n",
    "\n"
   ]
  },
  {
   "cell_type": "code",
   "execution_count": 4,
   "metadata": {},
   "outputs": [
    {
     "name": "stdout",
     "output_type": "stream",
     "text": [
      "Number of warnings: 633\r\n"
     ]
    }
   ],
   "source": [
    "# count warnings\n",
    "print(\"Number of warnings: \", end='')\n",
    "!grep $PATH_ASIANS_GWAS_TMP_LOGS_CONCAT -e Warning | wc -l"
   ]
  },
  {
   "cell_type": "code",
   "execution_count": 6,
   "metadata": {},
   "outputs": [
    {
     "name": "stdout",
     "output_type": "stream",
     "text": [
      "\r\n",
      "(PC_9_V) Warning: --glm remaining case count is less than 10x predictor count for\r\n",
      "phenotype 'PC_9_V'.\r\n"
     ]
    }
   ],
   "source": [
    "!head -3 $PATH_ASIANS_GWAS_TMP_WARNINGS"
   ]
  },
  {
   "cell_type": "markdown",
   "metadata": {},
   "source": [
    "We have 633/744 amino acids that do not respect the 1 to 10 rule of the thumb."
   ]
  },
  {
   "cell_type": "markdown",
   "metadata": {},
   "source": [
    "###### Skipped amino acids\n"
   ]
  },
  {
   "cell_type": "code",
   "execution_count": 6,
   "metadata": {},
   "outputs": [
    {
     "name": "stdout",
     "output_type": "stream",
     "text": [
      "37\r\n"
     ]
    }
   ],
   "source": [
    "!grep $PATH_ASIANS_GWAS_TMP_WARNINGS -e Skipping | wc -l"
   ]
  },
  {
   "cell_type": "markdown",
   "metadata": {},
   "source": [
    "We have 37 amino acids that were skipped with the following warning:\n",
    "\n",
    "    (S_19_P) Warning: Skipping --glm regression on phenotype <AA> since # samples <= #\n",
    "    predictor columns.\n",
    "    (Quasi-)separated covariate(s) were present.  Try removing inappropriate\n",
    "    covariates, and/or using Firth logistic regression."
   ]
  },
  {
   "cell_type": "markdown",
   "metadata": {},
   "source": [
    "# Summarize & filter results\n",
    "\n",
    "## Compute p-value summaries and filter with threshold\n",
    "\n",
    "For each amino acid:\n",
    "\n",
    "* We filter results with the threshold, add a column with the amino acid reference and concatenate the results\n",
    "* We generate summary statistics for the p-values (SNPs + covariates) and include it as a column (the column name being the amino acid reference) in a table\n",
    "* We generate summary statistics for the p-values of the SNPs (no covariates included)\n",
    "\n",
    "**Warning: this takes a while (> 30 min).**"
   ]
  },
  {
   "cell_type": "code",
   "execution_count": 7,
   "metadata": {},
   "outputs": [],
   "source": [
    "# 1. Get all files in the temporary results directory\n",
    "from os import walk\n",
    "f = []\n",
    "for (dirpath, dirnames, filenames) in walk(PATH_ASIANS_GWAS_TMP):\n",
    "    f = filenames    "
   ]
  },
  {
   "cell_type": "code",
   "execution_count": 8,
   "metadata": {},
   "outputs": [],
   "source": [
    "threshold = 5e-8"
   ]
  },
  {
   "cell_type": "code",
   "execution_count": 9,
   "metadata": {},
   "outputs": [
    {
     "name": "stdout",
     "output_type": "stream",
     "text": [
      ".."
     ]
    },
    {
     "name": "stderr",
     "output_type": "stream",
     "text": [
      "/home/mazeller/.local/lib/python3.6/site-packages/ipykernel_launcher.py:14: SettingWithCopyWarning: \n",
      "A value is trying to be set on a copy of a slice from a DataFrame.\n",
      "Try using .loc[row_indexer,col_indexer] = value instead\n",
      "\n",
      "See the caveats in the documentation: http://pandas.pydata.org/pandas-docs/stable/user_guide/indexing.html#returning-a-view-versus-a-copy\n",
      "  \n"
     ]
    },
    {
     "name": "stdout",
     "output_type": "stream",
     "text": [
      "................................................................................................................................................................................................................................................................................................................................................................................................................................................................................................................................................................................................................................................................................................................................\n"
     ]
    }
   ],
   "source": [
    "# 2. For each plink report file, get p-values and summarize them\n",
    "summaries = pd.DataFrame()\n",
    "summaries_snps = pd.DataFrame()\n",
    "concat = pd.DataFrame()\n",
    "for i in f:\n",
    "    if i[-9:] != '.logistic': continue \n",
    "    print('.', end='')\n",
    "    df = pd.read_csv(PATH_ASIANS_GWAS_TMP+i, sep='\\t')\n",
    "    summary = df.P.describe()\n",
    "    summary.name = i.split('.')[1]\n",
    "    summary_snps = df[ df.TEST == 'ADD' ].P.describe() # select only p-values for SNPs\n",
    "    summary_snps.name = i.split('.')[1]\n",
    "    filtered = df[ df.P <= threshold ] \n",
    "    filtered['AA'] = [i.split('.')[1]] * filtered.shape[0]\n",
    "    if summaries.empty: \n",
    "        summaries = pd.DataFrame(summary)\n",
    "        summaries_snps = pd.DataFrame(summary_snps)\n",
    "        concat = pd.DataFrame( filtered )\n",
    "    else: \n",
    "        summaries.insert(loc=0, column=i.split('.')[1], value=summary)\n",
    "        summaries_snps.insert(loc=0, column=i.split('.')[1], value=summary_snps)\n",
    "        concat = concat.append(filtered, ignore_index=True)\n",
    "print()"
   ]
  },
  {
   "cell_type": "code",
   "execution_count": 10,
   "metadata": {
    "scrolled": true
   },
   "outputs": [
    {
     "name": "stdout",
     "output_type": "stream",
     "text": [
      "write_binary(): successfully written in 'data/plink/gwas/pval_summary'\n",
      "write_binary(): successfully written in 'data/plink/gwas/filtered_g2g'\n",
      "write_binary(): successfully written in 'data/plink/gwas/pval_summary_snps'\n"
     ]
    }
   ],
   "source": [
    "# 3. Save the results\n",
    "common.write_binary(PATH_ASIANS_GWAS_TMP_SUMMARY, summaries)\n",
    "common.write_binary(PATH_ASIANS_GWAS_FILTERED, concat)\n",
    "common.write_binary(PATH_ASIANS_GWAS_TMP_SUMMARY_SNPS, summaries_snps)"
   ]
  },
  {
   "cell_type": "markdown",
   "metadata": {},
   "source": [
    "## Statistics on SNP-p-value summaries"
   ]
  },
  {
   "cell_type": "code",
   "execution_count": 8,
   "metadata": {},
   "outputs": [],
   "source": [
    "with open(PATH_ASIANS_GWAS_TMP_SUMMARY_SNPS, 'rb') as file:\n",
    "    df = pickle.load(file)"
   ]
  },
  {
   "cell_type": "code",
   "execution_count": 33,
   "metadata": {},
   "outputs": [
    {
     "name": "stdout",
     "output_type": "stream",
     "text": [
      "DataFrame containing statistic summaries of p-values for every amino acid that was tested:\n"
     ]
    },
    {
     "data": {
      "text/html": [
       "<div>\n",
       "<style scoped>\n",
       "    .dataframe tbody tr th:only-of-type {\n",
       "        vertical-align: middle;\n",
       "    }\n",
       "\n",
       "    .dataframe tbody tr th {\n",
       "        vertical-align: top;\n",
       "    }\n",
       "\n",
       "    .dataframe thead th {\n",
       "        text-align: right;\n",
       "    }\n",
       "</style>\n",
       "<table border=\"1\" class=\"dataframe\">\n",
       "  <thead>\n",
       "    <tr style=\"text-align: right;\">\n",
       "      <th></th>\n",
       "      <th>Pol_617_E</th>\n",
       "      <th>Pol_206_P</th>\n",
       "      <th>PC_108_P</th>\n",
       "      <th>Pol_624_I</th>\n",
       "      <th>S_114_N</th>\n",
       "      <th>S_230_P</th>\n",
       "    </tr>\n",
       "  </thead>\n",
       "  <tbody>\n",
       "    <tr>\n",
       "      <th>count</th>\n",
       "      <td>154760.000000</td>\n",
       "      <td>163990.000000</td>\n",
       "      <td>34.000000</td>\n",
       "      <td>28274.000000</td>\n",
       "      <td>9932.000000</td>\n",
       "      <td>763.000000</td>\n",
       "    </tr>\n",
       "    <tr>\n",
       "      <th>mean</th>\n",
       "      <td>0.494626</td>\n",
       "      <td>0.495551</td>\n",
       "      <td>0.363614</td>\n",
       "      <td>0.454594</td>\n",
       "      <td>0.654745</td>\n",
       "      <td>0.991211</td>\n",
       "    </tr>\n",
       "    <tr>\n",
       "      <th>std</th>\n",
       "      <td>0.281275</td>\n",
       "      <td>0.290087</td>\n",
       "      <td>0.330374</td>\n",
       "      <td>0.268580</td>\n",
       "      <td>0.252537</td>\n",
       "      <td>0.022060</td>\n",
       "    </tr>\n",
       "    <tr>\n",
       "      <th>min</th>\n",
       "      <td>0.000098</td>\n",
       "      <td>0.000044</td>\n",
       "      <td>0.003333</td>\n",
       "      <td>0.000114</td>\n",
       "      <td>0.006030</td>\n",
       "      <td>0.890236</td>\n",
       "    </tr>\n",
       "    <tr>\n",
       "      <th>25%</th>\n",
       "      <td>0.252816</td>\n",
       "      <td>0.241494</td>\n",
       "      <td>0.067961</td>\n",
       "      <td>0.229965</td>\n",
       "      <td>0.493756</td>\n",
       "      <td>0.996659</td>\n",
       "    </tr>\n",
       "    <tr>\n",
       "      <th>50%</th>\n",
       "      <td>0.488282</td>\n",
       "      <td>0.493717</td>\n",
       "      <td>0.256824</td>\n",
       "      <td>0.427179</td>\n",
       "      <td>0.707108</td>\n",
       "      <td>0.998154</td>\n",
       "    </tr>\n",
       "    <tr>\n",
       "      <th>75%</th>\n",
       "      <td>0.733023</td>\n",
       "      <td>0.746613</td>\n",
       "      <td>0.649933</td>\n",
       "      <td>0.665216</td>\n",
       "      <td>0.860763</td>\n",
       "      <td>0.999240</td>\n",
       "    </tr>\n",
       "    <tr>\n",
       "      <th>max</th>\n",
       "      <td>0.999997</td>\n",
       "      <td>0.999999</td>\n",
       "      <td>0.965263</td>\n",
       "      <td>0.999884</td>\n",
       "      <td>0.999963</td>\n",
       "      <td>1.000000</td>\n",
       "    </tr>\n",
       "  </tbody>\n",
       "</table>\n",
       "</div>"
      ],
      "text/plain": [
       "           Pol_617_E      Pol_206_P   PC_108_P     Pol_624_I      S_114_N  \\\n",
       "count  154760.000000  163990.000000  34.000000  28274.000000  9932.000000   \n",
       "mean        0.494626       0.495551   0.363614      0.454594     0.654745   \n",
       "std         0.281275       0.290087   0.330374      0.268580     0.252537   \n",
       "min         0.000098       0.000044   0.003333      0.000114     0.006030   \n",
       "25%         0.252816       0.241494   0.067961      0.229965     0.493756   \n",
       "50%         0.488282       0.493717   0.256824      0.427179     0.707108   \n",
       "75%         0.733023       0.746613   0.649933      0.665216     0.860763   \n",
       "max         0.999997       0.999999   0.965263      0.999884     0.999963   \n",
       "\n",
       "          S_230_P  \n",
       "count  763.000000  \n",
       "mean     0.991211  \n",
       "std      0.022060  \n",
       "min      0.890236  \n",
       "25%      0.996659  \n",
       "50%      0.998154  \n",
       "75%      0.999240  \n",
       "max      1.000000  "
      ]
     },
     "execution_count": 33,
     "metadata": {},
     "output_type": "execute_result"
    }
   ],
   "source": [
    "print(\"DataFrame containing statistic summaries of p-values for every amino acid that was tested:\")\n",
    "df.loc[:, np.random.choice(df.columns.values, size=6)]"
   ]
  },
  {
   "cell_type": "markdown",
   "metadata": {},
   "source": [
    "Now we make summary statistics of the summary statistics... For each summary statistic of the table above, we compute the summary statistics among all amino acids (we compute statistics for each row of the table, those will be inserted as columns in the table below)."
   ]
  },
  {
   "cell_type": "code",
   "execution_count": 38,
   "metadata": {},
   "outputs": [
    {
     "data": {
      "text/html": [
       "<div>\n",
       "<style scoped>\n",
       "    .dataframe tbody tr th:only-of-type {\n",
       "        vertical-align: middle;\n",
       "    }\n",
       "\n",
       "    .dataframe tbody tr th {\n",
       "        vertical-align: top;\n",
       "    }\n",
       "\n",
       "    .dataframe thead th {\n",
       "        text-align: right;\n",
       "    }\n",
       "</style>\n",
       "<table border=\"1\" class=\"dataframe\">\n",
       "  <thead>\n",
       "    <tr style=\"text-align: right;\">\n",
       "      <th></th>\n",
       "      <th>mean</th>\n",
       "      <th>std</th>\n",
       "      <th>min</th>\n",
       "      <th>25%</th>\n",
       "      <th>50%</th>\n",
       "      <th>75%</th>\n",
       "      <th>max</th>\n",
       "    </tr>\n",
       "  </thead>\n",
       "  <tbody>\n",
       "    <tr>\n",
       "      <th>mean</th>\n",
       "      <td>0.523212</td>\n",
       "      <td>0.250829</td>\n",
       "      <td>1.003225e-01</td>\n",
       "      <td>0.317075</td>\n",
       "      <td>0.511991</td>\n",
       "      <td>0.724496</td>\n",
       "      <td>0.973434</td>\n",
       "    </tr>\n",
       "    <tr>\n",
       "      <th>std</th>\n",
       "      <td>0.183638</td>\n",
       "      <td>0.083681</td>\n",
       "      <td>2.748930e-01</td>\n",
       "      <td>0.243611</td>\n",
       "      <td>0.199840</td>\n",
       "      <td>0.164530</td>\n",
       "      <td>0.129062</td>\n",
       "    </tr>\n",
       "    <tr>\n",
       "      <th>min</th>\n",
       "      <td>0.025849</td>\n",
       "      <td>0.000000</td>\n",
       "      <td>1.947920e-13</td>\n",
       "      <td>0.013235</td>\n",
       "      <td>0.025849</td>\n",
       "      <td>0.025849</td>\n",
       "      <td>0.025849</td>\n",
       "    </tr>\n",
       "    <tr>\n",
       "      <th>25%</th>\n",
       "      <td>0.484316</td>\n",
       "      <td>0.269889</td>\n",
       "      <td>1.922910e-05</td>\n",
       "      <td>0.229926</td>\n",
       "      <td>0.474882</td>\n",
       "      <td>0.731825</td>\n",
       "      <td>0.999958</td>\n",
       "    </tr>\n",
       "    <tr>\n",
       "      <th>50%</th>\n",
       "      <td>0.492665</td>\n",
       "      <td>0.286613</td>\n",
       "      <td>8.511255e-05</td>\n",
       "      <td>0.242587</td>\n",
       "      <td>0.488228</td>\n",
       "      <td>0.741184</td>\n",
       "      <td>0.999992</td>\n",
       "    </tr>\n",
       "    <tr>\n",
       "      <th>75%</th>\n",
       "      <td>0.509177</td>\n",
       "      <td>0.289439</td>\n",
       "      <td>2.328043e-03</td>\n",
       "      <td>0.271306</td>\n",
       "      <td>0.506736</td>\n",
       "      <td>0.751404</td>\n",
       "      <td>0.999997</td>\n",
       "    </tr>\n",
       "    <tr>\n",
       "      <th>max</th>\n",
       "      <td>0.998267</td>\n",
       "      <td>0.386736</td>\n",
       "      <td>9.982670e-01</td>\n",
       "      <td>0.998267</td>\n",
       "      <td>0.999365</td>\n",
       "      <td>0.999704</td>\n",
       "      <td>1.000000</td>\n",
       "    </tr>\n",
       "  </tbody>\n",
       "</table>\n",
       "</div>"
      ],
      "text/plain": [
       "          mean       std           min       25%       50%       75%       max\n",
       "mean  0.523212  0.250829  1.003225e-01  0.317075  0.511991  0.724496  0.973434\n",
       "std   0.183638  0.083681  2.748930e-01  0.243611  0.199840  0.164530  0.129062\n",
       "min   0.025849  0.000000  1.947920e-13  0.013235  0.025849  0.025849  0.025849\n",
       "25%   0.484316  0.269889  1.922910e-05  0.229926  0.474882  0.731825  0.999958\n",
       "50%   0.492665  0.286613  8.511255e-05  0.242587  0.488228  0.741184  0.999992\n",
       "75%   0.509177  0.289439  2.328043e-03  0.271306  0.506736  0.751404  0.999997\n",
       "max   0.998267  0.386736  9.982670e-01  0.998267  0.999365  0.999704  1.000000"
      ]
     },
     "execution_count": 38,
     "metadata": {},
     "output_type": "execute_result"
    }
   ],
   "source": [
    "df_summary = pd.DataFrame(df.loc['mean'].describe())\n",
    "rows = ['std', 'min', '25%', '50%', '75%', 'max']\n",
    "for r in rows:\n",
    "    df_summary[r] = df.loc[r].describe()\n",
    "df_summary.drop('count', axis=0, inplace=True)\n",
    "df_summary"
   ]
  },
  {
   "cell_type": "markdown",
   "metadata": {},
   "source": [
    "Explanation for the `mean` *column*: for each amino acids, we made a list of the p-values that were related to the tested SNPs (excluding covariates). This list thus has a length that is equal to the number of amino acids. Now we compute summary statistics for this list (each these statistics is a row in the table above), thus we summarize the mean p-value for all SNPs among every amino acid.\n",
    "\n",
    "For instance, we observe that\n",
    "* the most significant association ever observed in the analysis between a SNP and an amino acid (row `min`, column `min`) has a p-value of `1.947920e-13`\n",
    "* the amount of significant associations is probably low: the average p-value among all the smallest observed p-values is `1.003225e-01` (row `mean`, column `min`)."
   ]
  },
  {
   "cell_type": "code",
   "execution_count": 69,
   "metadata": {},
   "outputs": [],
   "source": [
    "df_plot = df.transpose().drop('count', axis=1)"
   ]
  },
  {
   "cell_type": "code",
   "execution_count": 81,
   "metadata": {},
   "outputs": [
    {
     "data": {
      "image/png": "[encoded data removed]",
      "text/plain": [
       "<Figure size 1008x144 with 4 Axes>"
      ]
     },
     "metadata": {
      "needs_background": "light"
     },
     "output_type": "display_data"
    }
   ],
   "source": [
    "boxes = ['mean', 'min', '50%', 'max']\n",
    "fig, ax = plt.subplots(1, len(boxes), figsize=(14,2))\n",
    "for i, b in enumerate(boxes):\n",
    "    sns.distplot(df_plot[b].dropna(), ax=ax[i])"
   ]
  },
  {
   "cell_type": "markdown",
   "metadata": {},
   "source": [
    "# Analysis of filtered results\n",
    "\n",
    "Here, we want to investigate the most significant associations in the results that were filtered by the threshold defined above.\n",
    "\n",
    "###### Plan\n",
    "\n",
    "* See which variables (and covariates) have the biggest number of associations\n",
    "* Investigate the associations for the additive effects\n",
    "* Investigate the associations by grouping by SNPs."
   ]
  },
  {
   "cell_type": "code",
   "execution_count": 46,
   "metadata": {},
   "outputs": [],
   "source": [
    "# Load the filtered results\n",
    "# Pay attention to the RAM available, it's a big file (about 2Go)\n",
    "with open(PATH_ASIANS_GWAS_FILTERED, 'rb') as file:\n",
    "    df_results = pickle.load(file)"
   ]
  },
  {
   "cell_type": "code",
   "execution_count": 50,
   "metadata": {},
   "outputs": [
    {
     "name": "stdout",
     "output_type": "stream",
     "text": [
      "Shape of the DataFrame: (20247946, 13)\n"
     ]
    },
    {
     "data": {
      "text/html": [
       "<div>\n",
       "<style scoped>\n",
       "    .dataframe tbody tr th:only-of-type {\n",
       "        vertical-align: middle;\n",
       "    }\n",
       "\n",
       "    .dataframe tbody tr th {\n",
       "        vertical-align: top;\n",
       "    }\n",
       "\n",
       "    .dataframe thead th {\n",
       "        text-align: right;\n",
       "    }\n",
       "</style>\n",
       "<table border=\"1\" class=\"dataframe\">\n",
       "  <thead>\n",
       "    <tr style=\"text-align: right;\">\n",
       "      <th></th>\n",
       "      <th>#CHROM</th>\n",
       "      <th>POS</th>\n",
       "      <th>ID</th>\n",
       "      <th>REF</th>\n",
       "      <th>ALT</th>\n",
       "      <th>A1</th>\n",
       "      <th>TEST</th>\n",
       "      <th>OBS_CT</th>\n",
       "      <th>OR</th>\n",
       "      <th>LOG(OR)_SE</th>\n",
       "      <th>Z_STAT</th>\n",
       "      <th>P</th>\n",
       "      <th>AA</th>\n",
       "    </tr>\n",
       "  </thead>\n",
       "  <tbody>\n",
       "    <tr>\n",
       "      <th>0</th>\n",
       "      <td>1</td>\n",
       "      <td>14677</td>\n",
       "      <td>rs201327123</td>\n",
       "      <td>G</td>\n",
       "      <td>A</td>\n",
       "      <td>A</td>\n",
       "      <td>VPC1</td>\n",
       "      <td>397</td>\n",
       "      <td>0.586538</td>\n",
       "      <td>0.080103</td>\n",
       "      <td>-6.66038</td>\n",
       "      <td>2.731220e-11</td>\n",
       "      <td>S_179_T</td>\n",
       "    </tr>\n",
       "    <tr>\n",
       "      <th>1</th>\n",
       "      <td>1</td>\n",
       "      <td>14933</td>\n",
       "      <td>rs199856693</td>\n",
       "      <td>G</td>\n",
       "      <td>A</td>\n",
       "      <td>A</td>\n",
       "      <td>VPC1</td>\n",
       "      <td>433</td>\n",
       "      <td>0.629773</td>\n",
       "      <td>0.062398</td>\n",
       "      <td>-7.41044</td>\n",
       "      <td>1.258810e-13</td>\n",
       "      <td>S_179_T</td>\n",
       "    </tr>\n",
       "  </tbody>\n",
       "</table>\n",
       "</div>"
      ],
      "text/plain": [
       "   #CHROM    POS           ID REF ALT A1  TEST  OBS_CT        OR  LOG(OR)_SE  \\\n",
       "0       1  14677  rs201327123   G   A  A  VPC1     397  0.586538    0.080103   \n",
       "1       1  14933  rs199856693   G   A  A  VPC1     433  0.629773    0.062398   \n",
       "\n",
       "    Z_STAT             P       AA  \n",
       "0 -6.66038  2.731220e-11  S_179_T  \n",
       "1 -7.41044  1.258810e-13  S_179_T  "
      ]
     },
     "execution_count": 50,
     "metadata": {},
     "output_type": "execute_result"
    }
   ],
   "source": [
    "# See how it looks like\n",
    "print(\"Shape of the DataFrame:\", df_results.shape)\n",
    "df_results.head(2)"
   ]
  },
  {
   "cell_type": "code",
   "execution_count": 53,
   "metadata": {},
   "outputs": [
    {
     "name": "stdout",
     "output_type": "stream",
     "text": [
      "There are 223 amino acids that contain at least 1 significant association (variable or covariate)\n"
     ]
    }
   ],
   "source": [
    "aa_counts = df_results.AA.value_counts()\n",
    "print(\"There are {} different amino acids that contain at least 1 significant association (variable or covariate)\"\n",
    "     .format(len(aa_counts)))"
   ]
  },
  {
   "cell_type": "markdown",
   "metadata": {},
   "source": [
    "## Rate of significant associations for each variable of the model"
   ]
  },
  {
   "cell_type": "code",
   "execution_count": 51,
   "metadata": {},
   "outputs": [
    {
     "data": {
      "text/plain": [
       "VPC1    10748966\n",
       "VPC5     4038924\n",
       "VPC6     2752348\n",
       "VPC2     2529906\n",
       "VPC3      161430\n",
       "VPC4       15975\n",
       "ADD          318\n",
       "AGE           78\n",
       "HPC3           1\n",
       "Name: TEST, dtype: int64"
      ]
     },
     "execution_count": 51,
     "metadata": {},
     "output_type": "execute_result"
    }
   ],
   "source": [
    "df_results.TEST.value_counts()"
   ]
  },
  {
   "cell_type": "markdown",
   "metadata": {},
   "source": [
    "We observed **318 significant associations** between a SNP and an amino acid at the $5*10^{-8}$ level (this is represented by the keyword `ADD`, for additive effects)."
   ]
  },
  {
   "cell_type": "markdown",
   "metadata": {},
   "source": [
    "## Associations SNP<->AA"
   ]
  },
  {
   "cell_type": "code",
   "execution_count": 84,
   "metadata": {},
   "outputs": [
    {
     "data": {
      "text/plain": [
       "(318, 13)"
      ]
     },
     "execution_count": 84,
     "metadata": {},
     "output_type": "execute_result"
    }
   ],
   "source": [
    "# Among the filtered results, keep only the tests done on the additive effects of SNPs\n",
    "df_snps = df_results[ df_results.TEST == 'ADD' ]\n",
    "df_snps.shape"
   ]
  },
  {
   "cell_type": "code",
   "execution_count": 86,
   "metadata": {},
   "outputs": [
    {
     "data": {
      "text/plain": [
       "PC_160_A     213\n",
       "PC_160_P      64\n",
       "Pol_49_N      21\n",
       "PC_142_D      14\n",
       "Pol_584_T      2\n",
       "S_45_F         1\n",
       "S_51_P         1\n",
       "Pol_215_Q      1\n",
       "S_35_R         1\n",
       "Name: AA, dtype: int64"
      ]
     },
     "execution_count": 86,
     "metadata": {},
     "output_type": "execute_result"
    }
   ],
   "source": [
    "df_snps.AA.value_counts()"
   ]
  },
  {
   "cell_type": "code",
   "execution_count": 87,
   "metadata": {},
   "outputs": [
    {
     "data": {
      "text/plain": [
       "rs2296651      3\n",
       "rs151233761    2\n",
       "rs41549018     2\n",
       "rs376806238    2\n",
       "rs73414461     2\n",
       "              ..\n",
       "rs1131279      1\n",
       "rs2294415      1\n",
       "rs11757135     1\n",
       "rs2231095      1\n",
       "rs61315420     1\n",
       "Name: ID, Length: 252, dtype: int64"
      ]
     },
     "execution_count": 87,
     "metadata": {},
     "output_type": "execute_result"
    }
   ],
   "source": [
    "df_snps.ID.value_counts()"
   ]
  },
  {
   "cell_type": "code",
   "execution_count": null,
   "metadata": {},
   "outputs": [],
   "source": []
  },
  {
   "cell_type": "code",
   "execution_count": null,
   "metadata": {},
   "outputs": [],
   "source": []
  }
 ],
 "metadata": {
  "kernelspec": {
   "display_name": "Python 3",
   "language": "python",
   "name": "python3"
  },
  "language_info": {
   "codemirror_mode": {
    "name": "ipython",
    "version": 3
   },
   "file_extension": ".py",
   "mimetype": "text/x-python",
   "name": "python",
   "nbconvert_exporter": "python",
   "pygments_lexer": "ipython3",
   "version": "3.6.5"
  }
 },
 "nbformat": 4,
 "nbformat_minor": 2
}
