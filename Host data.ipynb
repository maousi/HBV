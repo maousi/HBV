{
 "cells": [
  {
   "cell_type": "code",
   "execution_count": 117,
   "metadata": {},
   "outputs": [
    {
     "name": "stdout",
     "output_type": "stream",
     "text": [
      "The autoreload extension is already loaded. To reload it, use:\n",
      "  %reload_ext autoreload\n"
     ]
    }
   ],
   "source": [
    "import numpy as np\n",
    "import seaborn as sns\n",
    "import matplotlib.pyplot as plt\n",
    "import pandas as pd\n",
    "import pandas_plink as pp\n",
    "\n",
    "from src import setup\n",
    "from src.host import run_plink\n",
    "\n",
    "# This prevents to restart the kernel whenever an external file is edited\n",
    "%load_ext autoreload\n",
    "%autoreload 2\n",
    "\n",
    "# Scripts: see below (computation management)\n",
    "RUN_SCRIPTS = True\n",
    "DEFAULT_RECOMPUTE = False\n",
    "# \n",
    "DATA_THINNING = True"
   ]
  },
  {
   "cell_type": "markdown",
   "metadata": {},
   "source": [
    "# Introduction\n",
    "\n",
    "**14'738'460 variants, 622 people.**\n",
    "\n",
    "## Computation management\n",
    "\n",
    "<s>\n",
    "We run all the bash scripts with the function below. Idea: two separate procedures, depending on wether the computations have already been done locally. Principle:\n",
    "\n",
    "1. Call of the custom function `run(path)` and hide output by default.\n",
    "    * If `RUN_SCRIPTS` == False, simply do nothing\n",
    "    * If `RUN_SCRIPTS` == True, run the script\n",
    "1. `cat` the log file.\n",
    "\n",
    "Example: while coding or after importing source code, put `RUN_SCRIPTS = True`. While re-running a notebook (ex: check that the code runs), put `RUN_SCRIPTS = False`.\n",
    "</s>\n",
    "\n",
    "### Idea\n",
    "\n",
    "Sometimes we don't want to re-do all the computations if the resulting data is already calculated. Thus we provide:\n",
    "1. A way of easily running shell commands\n",
    "1. A dedicated function to easily run plink commands on the shell\n",
    "1. A way of checking if the results already exist, and loading data if this is the case\n",
    "    * Unless we specifically specifiy to re-do the calculations.\n",
    "\n",
    "DOCUMENTATION about running shell commands and managing the outputs : https://janakiev.com/til/python-shell-commands/, https://www.pythonforbeginners.com/os/subprocess-for-system-administrators"
   ]
  },
  {
   "cell_type": "markdown",
   "metadata": {},
   "source": [
    "### General principle\n",
    "\n",
    "* `run_shell_command`: manage to run shell commands with a specific package (`subprocess`) that helps to manage the outputs.\n",
    "* `run_plink`: manage plink version, binary files location, output location, display errors, check if results already exist\n",
    "\n",
    "**NOTE: possible improvement: automatically find the file extension. Also, if the command results in several output files, we should check that all of them are present (but we assume the user doesn't make such dumb things, i.e. deleting only a fraction of the output files.**\n",
    "\n",
    "Workflow:\n",
    "1. Call `run_plink` command with the specific command (e.g. `--freq`), the input, the output and the file extension to look for (to avoid re-doing the computations). \n",
    "1. The function checks if the result already exist (needs the output and the extension resulting from the command)\n",
    "    * already exists: display a message, abort the process (returns 2-tuple of empty strings). This occurs if `force==False` (which is the default value).\n",
    "1. The command is runned with plink2 by default\n",
    "1. The error messages are displayed (by default, `verbose_err=True`)\n",
    "1. The outputs are returned as a tuple (stdout, stderr)"
   ]
  },
  {
   "cell_type": "code",
   "execution_count": 118,
   "metadata": {},
   "outputs": [],
   "source": [
    "path_raw = setup.PATH_HOST_RAW_PLINK_DATA\n",
    "path_out = setup.PATH_PLINK_DATA\n",
    "file_prefix = 'host_geno'"
   ]
  },
  {
   "cell_type": "markdown",
   "metadata": {},
   "source": [
    "## Overview on raw data\n",
    "\n",
    "### Files"
   ]
  },
  {
   "cell_type": "code",
   "execution_count": 119,
   "metadata": {},
   "outputs": [
    {
     "name": "stdout",
     "output_type": "stream",
     "text": [
      "total 4.0G\r\n",
      "-rwxr-xr-x 1 mazeller SV-BA4-unit  245 Aug  9 16:11 dictionary_wes_vcf.txt\r\n",
      "-rwxr-xr-x 1 mazeller SV-BA4-unit 2.2G Aug  9 16:11 hbv_gilead.bed\r\n",
      "-rwxr-xr-x 1 mazeller SV-BA4-unit 431M Aug  9 16:11 hbv_gilead.bim\r\n",
      "-rwxr-xr-x 1 mazeller SV-BA4-unit  18K Aug  9 16:11 hbv_gilead.fam\r\n",
      "-rw-r--r-- 1 mazeller SV-BA4-unit 1.4G Aug 11 01:59 hbv_gilead.frq\r\n",
      "-rw-r--r-- 1 mazeller SV-BA4-unit  930 Aug 11 01:59 hbv_gilead.log\r\n",
      "-rw-r--r-- 1 mazeller SV-BA4-unit  13K Aug 11 01:59 hbv_gilead.nosex\r\n",
      "-rw-r--r-- 1 mazeller SV-BA4-unit  677 Aug 11 17:56 hbv_gilead_validate.log\r\n"
     ]
    }
   ],
   "source": [
    "path = setup.PATH_HOST_RAW_DATA\n",
    "!ls -lh $path"
   ]
  },
  {
   "cell_type": "markdown",
   "metadata": {},
   "source": [
    "Those are **plink binary files**. "
   ]
  },
  {
   "cell_type": "markdown",
   "metadata": {},
   "source": [
    "### Dictionnary of the data"
   ]
  },
  {
   "cell_type": "code",
   "execution_count": 120,
   "metadata": {},
   "outputs": [
    {
     "name": "stdout",
     "output_type": "stream",
     "text": [
      "Info about WES_VCF by Ondrej.Podlaha@gilead.com on Dec 12 2018.\r\n",
      "\r\n",
      "1. Human reference genome: GRCh37.87\r\n",
      "2. Variant calling was performed using GATK (version nightly-2016-08-27-g667f78b; HaplotypeCaller)\r\n",
      "3. dbSNP v138 was used by HaplotypeCaller\r\n",
      " \r\n"
     ]
    }
   ],
   "source": [
    "!cat $path/dictionary_wes_vcf.txt"
   ]
  },
  {
   "cell_type": "markdown",
   "metadata": {},
   "source": [
    "### Data integrity\n"
   ]
  },
  {
   "cell_type": "code",
   "execution_count": 121,
   "metadata": {},
   "outputs": [
    {
     "name": "stdout",
     "output_type": "stream",
     "text": [
      "run_plink: command '--validate', the file 'data/plink/host_geno_validate.log' already exists (force is set to False).\n",
      "run_plink was aborted (not an error)\n"
     ]
    }
   ],
   "source": [
    "o,e= run_plink('--validate', file=path_raw, out=path_out+file_prefix+'_validate', extension='log')\n",
    "print(o)"
   ]
  },
  {
   "cell_type": "markdown",
   "metadata": {},
   "source": [
    "## Arbitrary thinning of the data\n",
    "\n",
    "We use the plink2 `--thin <p>` option to **reduce the amount of data** (keep entries with probability p). We'll make sure that the code runs first. When everything works, we can simply set `DATA_THINNING = False`.\n",
    "\n",
    "Management of the **data being taken into account**: we simply put `path_raw` to target the reduced data."
   ]
  },
  {
   "cell_type": "code",
   "execution_count": 122,
   "metadata": {
    "scrolled": true
   },
   "outputs": [
    {
     "name": "stdout",
     "output_type": "stream",
     "text": [
      "run_plink: command '--thin 0.001 --make-bed', the file 'data/plink/host_reduced.bed' already exists (force is set to False).\n"
     ]
    }
   ],
   "source": [
    "# We change the default raw data for subsequent analyses\n",
    "if DATA_THINNING == True :\n",
    "    file_prefix = 'host_reduced'\n",
    "    run_plink(\"--thin 0.001 --make-bed\", file=path_raw, out=path_out+file_prefix, extension='bed')\n",
    "    path_raw = path_out+file_prefix"
   ]
  },
  {
   "cell_type": "code",
   "execution_count": 123,
   "metadata": {
    "scrolled": true
   },
   "outputs": [
    {
     "name": "stdout",
     "output_type": "stream",
     "text": [
      "  --thin 0.001\r\n",
      "--thin: 14723971 variants removed (14489 remaining).\r\n"
     ]
    }
   ],
   "source": [
    "!cat $path_out$file_prefix'.log' | grep thin"
   ]
  },
  {
   "cell_type": "markdown",
   "metadata": {},
   "source": [
    "<s>\n",
    "**WARNING: now, the `path_raw` variable targets the reduced data if `DATA_THINNING==True`. Moreover, this path should not be modified in any downstream procedure.**\n",
    "</s>"
   ]
  },
  {
   "cell_type": "markdown",
   "metadata": {},
   "source": [
    "# Missing values\n",
    "\n",
    "`.smiss` for sample-based missing data report:\n",
    "* MISSING_CT: Number of missing hardcalls, not counting het haploids\n",
    "* OBS_CT = Denominator (#males on chrY, otherwise #samples)\n",
    "* F_MISS = Missing hardcall rate, not counting het haploids\n",
    "\n"
   ]
  },
  {
   "cell_type": "code",
   "execution_count": 134,
   "metadata": {},
   "outputs": [
    {
     "name": "stdout",
     "output_type": "stream",
     "text": [
      "run_plink: command '--missing', the file 'data/plink/host_reduced_missing.vmiss' already exists (force is set to False).\n"
     ]
    }
   ],
   "source": [
    "path_missing = path_out+file_prefix+'_missing'\n",
    "o,e = run_plink(\"--missing\", file=path_raw, out=path_missing, extension='vmiss')"
   ]
  },
  {
   "cell_type": "code",
   "execution_count": 160,
   "metadata": {},
   "outputs": [
    {
     "name": "stdout",
     "output_type": "stream",
     "text": [
      "Shape of missing var table: (14489, 2)\n",
      "Columns of missing var table:\n",
      "\tIndex(['#CHROM', 'F_MISS'], dtype='object')\n",
      "Shape of missing ind table: (622, 1)\n",
      "Columns of missing ind table:\n",
      "\tIndex(['F_MISS'], dtype='object')\n"
     ]
    }
   ],
   "source": [
    "df_miss_ind = pd.read_csv(path_missing+'.smiss', sep='\\s+', usecols=['F_MISS'])\n",
    "df_miss_var = pd.read_csv(path_missing+'.vmiss', sep='\\s+', usecols=['#CHROM', 'F_MISS'])\n",
    "print(\"Shape of missing var table: {}\\nColumns of missing var table:\\n\\t{}\\\n",
    "\\nShape of missing ind table: {}\\nColumns of missing ind table:\\n\\t{}\"\n",
    "     .format(df_miss_var.shape, df_miss_var.columns, \n",
    "             df_miss_ind.shape, df_miss_ind.columns))"
   ]
  },
  {
   "cell_type": "markdown",
   "metadata": {},
   "source": [
    "## Missingness of individuals per variant\n",
    "\n",
    "For each individual, plink computed the rate of missing variants. This tells us about how to filter individuals out."
   ]
  },
  {
   "cell_type": "code",
   "execution_count": 161,
   "metadata": {},
   "outputs": [
    {
     "data": {
      "text/html": [
       "<div>\n",
       "<style scoped>\n",
       "    .dataframe tbody tr th:only-of-type {\n",
       "        vertical-align: middle;\n",
       "    }\n",
       "\n",
       "    .dataframe tbody tr th {\n",
       "        vertical-align: top;\n",
       "    }\n",
       "\n",
       "    .dataframe thead th {\n",
       "        text-align: right;\n",
       "    }\n",
       "</style>\n",
       "<table border=\"1\" class=\"dataframe\">\n",
       "  <thead>\n",
       "    <tr style=\"text-align: right;\">\n",
       "      <th></th>\n",
       "      <th>F_MISS</th>\n",
       "    </tr>\n",
       "  </thead>\n",
       "  <tbody>\n",
       "    <tr>\n",
       "      <th>0</th>\n",
       "      <td>0.776025</td>\n",
       "    </tr>\n",
       "  </tbody>\n",
       "</table>\n",
       "</div>"
      ],
      "text/plain": [
       "     F_MISS\n",
       "0  0.776025"
      ]
     },
     "execution_count": 161,
     "metadata": {},
     "output_type": "execute_result"
    }
   ],
   "source": [
    "df_miss_ind.head(1)"
   ]
  },
  {
   "cell_type": "code",
   "execution_count": 162,
   "metadata": {},
   "outputs": [
    {
     "data": {
      "image/png": "[encoded data removed]",
      "text/plain": [
       "<Figure size 432x288 with 1 Axes>"
      ]
     },
     "metadata": {
      "needs_background": "light"
     },
     "output_type": "display_data"
    }
   ],
   "source": [
    "sns.distplot(df_miss_ind['F_MISS'], norm_hist=False, kde=False)\n",
    "plt.ylabel('number of individuals'); plt.xlabel('rate of missing variants');"
   ]
  },
  {
   "cell_type": "markdown",
   "metadata": {},
   "source": [
    "## Missing report - variants\n",
    "\n",
    "For each variant, plink computed the rate of missing individuals. This tells us about how to filter variants out."
   ]
  },
  {
   "cell_type": "code",
   "execution_count": 163,
   "metadata": {
    "scrolled": true
   },
   "outputs": [
    {
     "data": {
      "text/html": [
       "<div>\n",
       "<style scoped>\n",
       "    .dataframe tbody tr th:only-of-type {\n",
       "        vertical-align: middle;\n",
       "    }\n",
       "\n",
       "    .dataframe tbody tr th {\n",
       "        vertical-align: top;\n",
       "    }\n",
       "\n",
       "    .dataframe thead th {\n",
       "        text-align: right;\n",
       "    }\n",
       "</style>\n",
       "<table border=\"1\" class=\"dataframe\">\n",
       "  <thead>\n",
       "    <tr style=\"text-align: right;\">\n",
       "      <th></th>\n",
       "      <th>#CHROM</th>\n",
       "      <th>F_MISS</th>\n",
       "    </tr>\n",
       "  </thead>\n",
       "  <tbody>\n",
       "    <tr>\n",
       "      <th>0</th>\n",
       "      <td>1</td>\n",
       "      <td>0.92283</td>\n",
       "    </tr>\n",
       "  </tbody>\n",
       "</table>\n",
       "</div>"
      ],
      "text/plain": [
       "  #CHROM   F_MISS\n",
       "0      1  0.92283"
      ]
     },
     "execution_count": 163,
     "metadata": {},
     "output_type": "execute_result"
    }
   ],
   "source": [
    "df_miss_var.head(1)"
   ]
  },
  {
   "cell_type": "code",
   "execution_count": 164,
   "metadata": {},
   "outputs": [
    {
     "data": {
      "image/png": "[encoded data removed]",
      "text/plain": [
       "<Figure size 432x288 with 1 Axes>"
      ]
     },
     "metadata": {
      "needs_background": "light"
     },
     "output_type": "display_data"
    }
   ],
   "source": [
    "sns.distplot(df_miss_var.F_MISS.dropna(), kde=False, norm_hist=False)\n",
    "plt.xlabel('rate of missing individuals'); plt.ylabel('number of variants');"
   ]
  },
  {
   "cell_type": "markdown",
   "metadata": {},
   "source": [
    "### Median missingness per chromosome\n",
    "\n",
    "**WARNING: this may take a while if the data is not reduced.**"
   ]
  },
  {
   "cell_type": "code",
   "execution_count": 165,
   "metadata": {},
   "outputs": [
    {
     "data": {
      "image/png": "[encoded data removed]",
      "text/plain": [
       "<Figure size 432x288 with 1 Axes>"
      ]
     },
     "metadata": {
      "needs_background": "light"
     },
     "output_type": "display_data"
    }
   ],
   "source": [
    "df_miss_chr = df_miss_var[['#CHROM', 'F_MISS']].groupby('#CHROM').median()\n",
    "sns.boxplot(x='#CHROM', y='F_MISS', data=df_miss_var);"
   ]
  },
  {
   "cell_type": "markdown",
   "metadata": {},
   "source": [
    "## Summary of missing reports\n",
    "\n",
    "We indeed expect to have almost no items with very few missing variants: missingness has more to do with the sequencing method and the genome location (than randomness). There is no individual that would be specifically better sequenced than others (excluding randomness). In contrast, we expect some variants to be missing in almost all individuals or to be present in all of them.\n",
    "\n",
    "Report `.smiss` (individuals): for each individual, we're interested in the rate of missing variants. That tells us which individuals have too much missingness. There is actually a huge number of individuals with a missing rate >80%. It can arise from that fact that:\n",
    "1. We have low-quality sequencing data\n",
    "1. If we use reduced data, the sub-sample we have has a lot of missingness by random\n",
    "1. **Missingness is biased**, since we did not exclude the variants with high missing rates.\n",
    "\n",
    "Remember that we want to be very careful while excluding individuals, we want to save them due to the small sample size. Just like we did in the viral sequencing data, we must first remove bad variants before removing individuals.\n"
   ]
  },
  {
   "cell_type": "code",
   "execution_count": 132,
   "metadata": {},
   "outputs": [],
   "source": [
    "# Free memory\n",
    "df_miss_var = None\n",
    "df_miss_ind = None\n",
    "df_miss_chr = None"
   ]
  },
  {
   "cell_type": "markdown",
   "metadata": {},
   "source": [
    "# NaN values processing\n",
    "\n",
    "We use the filtering options of plink2.\n",
    "\n",
    "**NOTE: after data cleaning, we set `file_prefix = file_prefix+'_clean'`.**"
   ]
  },
  {
   "cell_type": "code",
   "execution_count": 94,
   "metadata": {},
   "outputs": [],
   "source": [
    "# Define thresholds\n",
    "THRESHOLD_INDIVIDUALS = 0.1\n",
    "THRESHOLD_VARIANTS = 0.05"
   ]
  },
  {
   "cell_type": "code",
   "execution_count": 79,
   "metadata": {},
   "outputs": [],
   "source": [
    "# Managing paths and files\n",
    "file_prefix = file_prefix + '_clean'\n",
    "path_clean = path_out+file_prefix"
   ]
  },
  {
   "cell_type": "code",
   "execution_count": 95,
   "metadata": {},
   "outputs": [
    {
     "name": "stdout",
     "output_type": "stream",
     "text": [
      "PLINK v2.00a2LM 64-bit Intel (31 Jul 2019)     www.cog-genomics.org/plink/2.0/\n",
      "(C) 2005-2019 Shaun Purcell, Christopher Chang   GNU General Public License v3\n",
      "Logging to data/plink/host_reduced_clean_intermed.log.\n",
      "Options in effect:\n",
      "  --bfile data/plink/host_reduced\n",
      "  --geno 0.05\n",
      "  --make-bed\n",
      "  --out data/plink/host_reduced_clean_intermed\n",
      "\n",
      "Start time: Sun Aug 11 19:51:52 2019\n",
      "64232 MiB RAM detected; reserving 32116 MiB for main workspace.\n",
      "Using up to 16 threads (change this with --threads).\n",
      "622 samples (0 females, 0 males, 622 ambiguous; 622 founders) loaded from\n",
      "data/plink/host_reduced.fam.\n",
      "14489 variants loaded from data/plink/host_reduced.bim.\n",
      "Note: No phenotype data present.\n",
      "Calculating allele frequencies... 0%\b\bdone.\n",
      "--geno: 12068 variants removed due to missing genotype data.\n",
      "2421 variants remaining after main filters.\n",
      "Writing data/plink/host_reduced_clean_intermed.fam ... done.\n",
      "Writing data/plink/host_reduced_clean_intermed.bim ... done.\n",
      "Writing data/plink/host_reduced_clean_intermed.bed ... 0%\b\bdone.\n",
      "End time: Sun Aug 11 19:51:52 2019\n",
      "\n"
     ]
    }
   ],
   "source": [
    "path_clean_intermed = path_clean+'_intermed'\n",
    "o,e = run_plink('--geno ' + str(THRESHOLD_VARIANTS) + ' --make-bed',\n",
    "                 file=path_raw, out=path_clean_intermed, extension='bed', force=True)\n",
    "print(o)"
   ]
  },
  {
   "cell_type": "code",
   "execution_count": 96,
   "metadata": {},
   "outputs": [
    {
     "name": "stdout",
     "output_type": "stream",
     "text": [
      "PLINK v2.00a2LM 64-bit Intel (31 Jul 2019)     www.cog-genomics.org/plink/2.0/\n",
      "(C) 2005-2019 Shaun Purcell, Christopher Chang   GNU General Public License v3\n",
      "Logging to data/plink/host_reduced_clean.log.\n",
      "Options in effect:\n",
      "  --bfile data/plink/host_reduced_clean_intermed\n",
      "  --make-bed\n",
      "  --mind 0.1\n",
      "  --out data/plink/host_reduced_clean\n",
      "\n",
      "Start time: Sun Aug 11 19:52:58 2019\n",
      "64232 MiB RAM detected; reserving 32116 MiB for main workspace.\n",
      "Using up to 16 threads (change this with --threads).\n",
      "622 samples (0 females, 0 males, 622 ambiguous; 622 founders) loaded from\n",
      "data/plink/host_reduced_clean_intermed.fam.\n",
      "2421 variants loaded from data/plink/host_reduced_clean_intermed.bim.\n",
      "Note: No phenotype data present.\n",
      "Calculating sample missingness rates... 0%\b\bdone.\n",
      "10 samples removed due to missing genotype data (--mind).\n",
      "IDs written to data/plink/host_reduced_clean.mindrem.id .\n",
      "612 samples (0 females, 0 males, 612 ambiguous; 612 founders) remaining after\n",
      "main filters.\n",
      "Writing data/plink/host_reduced_clean.fam ... done.\n",
      "Writing data/plink/host_reduced_clean.bim ... done.\n",
      "Writing data/plink/host_reduced_clean.bed ... 0%\b\bdone.\n",
      "End time: Sun Aug 11 19:52:58 2019\n",
      "\n"
     ]
    }
   ],
   "source": [
    "o,e = run_plink('--mind ' + str(THRESHOLD_INDIVIDUALS) + ' --make-bed',\n",
    "                file=path_clean_intermed, out=path_clean, extension='bed', force=True)\n",
    "print(o)"
   ]
  },
  {
   "cell_type": "markdown",
   "metadata": {},
   "source": [
    "## Check again missingness\n"
   ]
  },
  {
   "cell_type": "code",
   "execution_count": 159,
   "metadata": {},
   "outputs": [
    {
     "name": "stdout",
     "output_type": "stream",
     "text": [
      "run_plink: command '--missing', the file 'data/plink/host_reduced_clean.vmiss' already exists (force is set to False).\n"
     ]
    },
    {
     "data": {
      "image/png": "[encoded data removed]",
      "text/plain": [
       "<Figure size 864x216 with 2 Axes>"
      ]
     },
     "metadata": {
      "needs_background": "light"
     },
     "output_type": "display_data"
    }
   ],
   "source": [
    "# Run plink\n",
    "run_plink('--missing', file=path_clean, out=path_clean, extension='vmiss')\n",
    "# Put in DataFrames\n",
    "# NOTE: param usecols DRASTICALLY lowers the amount of memory used\n",
    "df_miss_ind = pd.read_csv(path_clean+'.smiss', sep='\\s+', usecols=['F_MISS'])\n",
    "df_miss_var = pd.read_csv(path_clean+'.vmiss', sep='\\s+', usecols=['F_MISS'])\n",
    "# Plotting\n",
    "fig, ax = plt.subplots(1,2, figsize=(12, 3))\n",
    "sns.distplot(df_miss_ind.F_MISS.dropna(), kde=False, ax=ax[0])\n",
    "ax[0].set_xlabel('rate of missing variants')\n",
    "sns.distplot(df_miss_var.F_MISS.dropna(), kde=False, ax=ax[1])\n",
    "ax[1].set_xlabel('rate of missing individuals');\n",
    "# Free memory\n",
    "df_miss_var = None\n",
    "df_miss_ind = None"
   ]
  },
  {
   "cell_type": "markdown",
   "metadata": {},
   "source": [
    "# Minor allele frequencies\n",
    "\n",
    "## plink1.9 report\n",
    "\n",
    "* A1: minor allele (usually)\n",
    "* A2: major allele (usually)\n",
    "* MAF: frequency of A1"
   ]
  },
  {
   "cell_type": "code",
   "execution_count": 168,
   "metadata": {},
   "outputs": [
    {
     "name": "stdout",
     "output_type": "stream",
     "text": [
      "run_plink: command '--freq', the file 'data/plink/host_reduced_clean.frq' already exists (force is set to False).\n"
     ]
    },
    {
     "data": {
      "image/png": "[encoded data removed]",
      "text/plain": [
       "<Figure size 432x288 with 1 Axes>"
      ]
     },
     "metadata": {
      "needs_background": "light"
     },
     "output_type": "display_data"
    }
   ],
   "source": [
    "path_freq = path_clean\n",
    "run_plink('--freq', extension='frq', file=path_clean, out=path_freq, plink2=False);\n",
    "df_freq = pd.read_csv(path_freq+\".frq\", sep=\"\\s+\")\n",
    "df_freq.head(1)\n",
    "sns.distplot(df_freq.MAF.dropna(), kde=False);"
   ]
  },
  {
   "cell_type": "code",
   "execution_count": 169,
   "metadata": {},
   "outputs": [
    {
     "name": "stdout",
     "output_type": "stream",
     "text": [
      "Percentage of variants to drop for different frequency thresholds:\n",
      "0.1\t87.9%\n",
      "0.05\t85.1%\n",
      "0.01\t77.4%\n",
      "0.005\t72.8%\n"
     ]
    }
   ],
   "source": [
    "frequencies = [0.1, 0.05, 0.01, 0.005]\n",
    "print(\"Percentage of variants to drop for different frequency thresholds:\")\n",
    "N = len(df_freq.MAF)\n",
    "for f in frequencies :\n",
    "    variants = df_freq.MAF[df_freq.MAF < f]\n",
    "    print(\"{}\\t{:.3}%\".format(f, len(variants)/N*100))"
   ]
  },
  {
   "cell_type": "markdown",
   "metadata": {},
   "source": [
    "## plink2 report"
   ]
  },
  {
   "cell_type": "code",
   "execution_count": 170,
   "metadata": {},
   "outputs": [
    {
     "name": "stdout",
     "output_type": "stream",
     "text": [
      "run_plink: command '--freq', the file 'data/plink/host_reduced_clean.afreq' already exists (force is set to False).\n"
     ]
    },
    {
     "data": {
      "image/png": "[encoded data removed]",
      "text/plain": [
       "<Figure size 432x288 with 1 Axes>"
      ]
     },
     "metadata": {
      "needs_background": "light"
     },
     "output_type": "display_data"
    }
   ],
   "source": [
    "path_freq = path_clean\n",
    "run_plink('--freq', extension='afreq', file=path_clean, out=path_freq);\n",
    "df_freq = pd.read_csv(path_freq+\".afreq\", sep=\"\\s+\")\n",
    "df_freq.head(1)\n",
    "sns.distplot(df_freq.ALT_FREQS.dropna(), kde=False, norm_hist=True);"
   ]
  },
  {
   "cell_type": "markdown",
   "metadata": {},
   "source": [
    "## MAF summary\n",
    "\n"
   ]
  },
  {
   "cell_type": "code",
   "execution_count": 171,
   "metadata": {},
   "outputs": [],
   "source": [
    "df_freq = None"
   ]
  },
  {
   "cell_type": "markdown",
   "metadata": {},
   "source": [
    "# Hardy-Weinberg equilibrium\n",
    "\n",
    "* A1: Tested allele\n",
    "* AX: Non-A1 alleles (comma-separated)\n",
    "* HOM_A1_CT: Homozygous-A1 genotype count\n",
    "* HET_A1_CT: Heterozygous-A1 genotype count\n",
    "* TWO_AX_CT: number of NONmissing calls with no A1 copies\n",
    "* O(HET_A1): Observed heterozygous-major frequency\n",
    "* E(HET_A1): Expected heterozygous-major frequency\n",
    "* P: Hardy-Weinberg equilibrium exact test p-value"
   ]
  },
  {
   "cell_type": "code",
   "execution_count": 172,
   "metadata": {},
   "outputs": [
    {
     "name": "stdout",
     "output_type": "stream",
     "text": [
      "run_plink: command '--hardy', the file 'data/plink/host_reduced_hardy.hardy' already exists (force is set to False).\n"
     ]
    }
   ],
   "source": [
    "path_hardy = path_raw+'_hardy'\n",
    "run_plink('--hardy', file=path_raw, out=path_hardy, extension='hardy');"
   ]
  },
  {
   "cell_type": "code",
   "execution_count": 173,
   "metadata": {},
   "outputs": [
    {
     "data": {
      "text/html": [
       "<div>\n",
       "<style scoped>\n",
       "    .dataframe tbody tr th:only-of-type {\n",
       "        vertical-align: middle;\n",
       "    }\n",
       "\n",
       "    .dataframe tbody tr th {\n",
       "        vertical-align: top;\n",
       "    }\n",
       "\n",
       "    .dataframe thead th {\n",
       "        text-align: right;\n",
       "    }\n",
       "</style>\n",
       "<table border=\"1\" class=\"dataframe\">\n",
       "  <thead>\n",
       "    <tr style=\"text-align: right;\">\n",
       "      <th></th>\n",
       "      <th>#CHROM</th>\n",
       "      <th>ID</th>\n",
       "      <th>A1</th>\n",
       "      <th>AX</th>\n",
       "      <th>HOM_A1_CT</th>\n",
       "      <th>HET_A1_CT</th>\n",
       "      <th>TWO_AX_CT</th>\n",
       "      <th>O(HET_A1)</th>\n",
       "      <th>E(HET_A1)</th>\n",
       "      <th>P</th>\n",
       "    </tr>\n",
       "  </thead>\n",
       "  <tbody>\n",
       "    <tr>\n",
       "      <th>0</th>\n",
       "      <td>1</td>\n",
       "      <td>rs12238997</td>\n",
       "      <td>A</td>\n",
       "      <td>G</td>\n",
       "      <td>42</td>\n",
       "      <td>4</td>\n",
       "      <td>2</td>\n",
       "      <td>0.083333</td>\n",
       "      <td>0.152778</td>\n",
       "      <td>2.272870e-02</td>\n",
       "    </tr>\n",
       "    <tr>\n",
       "      <th>1</th>\n",
       "      <td>1</td>\n",
       "      <td>1:726605:C:CGAATG</td>\n",
       "      <td>C</td>\n",
       "      <td>CGAATG</td>\n",
       "      <td>72</td>\n",
       "      <td>1</td>\n",
       "      <td>0</td>\n",
       "      <td>0.013699</td>\n",
       "      <td>0.013605</td>\n",
       "      <td>1.000000e+00</td>\n",
       "    </tr>\n",
       "    <tr>\n",
       "      <th>2</th>\n",
       "      <td>1</td>\n",
       "      <td>1:726819:G:GATCTA</td>\n",
       "      <td>GATCTA</td>\n",
       "      <td>G</td>\n",
       "      <td>145</td>\n",
       "      <td>0</td>\n",
       "      <td>1</td>\n",
       "      <td>0.000000</td>\n",
       "      <td>0.013605</td>\n",
       "      <td>3.436430e-03</td>\n",
       "    </tr>\n",
       "    <tr>\n",
       "      <th>3</th>\n",
       "      <td>1</td>\n",
       "      <td>rs778519663</td>\n",
       "      <td>CTAGACACACACACCTGGACACACACACG</td>\n",
       "      <td>C</td>\n",
       "      <td>35</td>\n",
       "      <td>0</td>\n",
       "      <td>6</td>\n",
       "      <td>0.000000</td>\n",
       "      <td>0.249851</td>\n",
       "      <td>5.427240e-08</td>\n",
       "    </tr>\n",
       "    <tr>\n",
       "      <th>4</th>\n",
       "      <td>1</td>\n",
       "      <td>rs148661787</td>\n",
       "      <td>G</td>\n",
       "      <td>A</td>\n",
       "      <td>605</td>\n",
       "      <td>1</td>\n",
       "      <td>0</td>\n",
       "      <td>0.001650</td>\n",
       "      <td>0.001649</td>\n",
       "      <td>1.000000e+00</td>\n",
       "    </tr>\n",
       "    <tr>\n",
       "      <th>5</th>\n",
       "      <td>1</td>\n",
       "      <td>rs17160781</td>\n",
       "      <td>T</td>\n",
       "      <td>C</td>\n",
       "      <td>586</td>\n",
       "      <td>5</td>\n",
       "      <td>3</td>\n",
       "      <td>0.008418</td>\n",
       "      <td>0.018347</td>\n",
       "      <td>4.138240e-06</td>\n",
       "    </tr>\n",
       "    <tr>\n",
       "      <th>6</th>\n",
       "      <td>1</td>\n",
       "      <td>1:1277676:C:T</td>\n",
       "      <td>C</td>\n",
       "      <td>T</td>\n",
       "      <td>613</td>\n",
       "      <td>1</td>\n",
       "      <td>0</td>\n",
       "      <td>0.001629</td>\n",
       "      <td>0.001627</td>\n",
       "      <td>1.000000e+00</td>\n",
       "    </tr>\n",
       "    <tr>\n",
       "      <th>7</th>\n",
       "      <td>1</td>\n",
       "      <td>1:1405421:C:T</td>\n",
       "      <td>C</td>\n",
       "      <td>T</td>\n",
       "      <td>107</td>\n",
       "      <td>1</td>\n",
       "      <td>0</td>\n",
       "      <td>0.009259</td>\n",
       "      <td>0.009216</td>\n",
       "      <td>1.000000e+00</td>\n",
       "    </tr>\n",
       "    <tr>\n",
       "      <th>8</th>\n",
       "      <td>1</td>\n",
       "      <td>rs577360633</td>\n",
       "      <td>G</td>\n",
       "      <td>GC</td>\n",
       "      <td>621</td>\n",
       "      <td>1</td>\n",
       "      <td>0</td>\n",
       "      <td>0.001608</td>\n",
       "      <td>0.001606</td>\n",
       "      <td>1.000000e+00</td>\n",
       "    </tr>\n",
       "    <tr>\n",
       "      <th>9</th>\n",
       "      <td>1</td>\n",
       "      <td>rs75174864</td>\n",
       "      <td>T</td>\n",
       "      <td>G</td>\n",
       "      <td>56</td>\n",
       "      <td>4</td>\n",
       "      <td>10</td>\n",
       "      <td>0.057143</td>\n",
       "      <td>0.284082</td>\n",
       "      <td>4.863510e-09</td>\n",
       "    </tr>\n",
       "  </tbody>\n",
       "</table>\n",
       "</div>"
      ],
      "text/plain": [
       "   #CHROM                 ID                             A1      AX  \\\n",
       "0       1         rs12238997                              A       G   \n",
       "1       1  1:726605:C:CGAATG                              C  CGAATG   \n",
       "2       1  1:726819:G:GATCTA                         GATCTA       G   \n",
       "3       1        rs778519663  CTAGACACACACACCTGGACACACACACG       C   \n",
       "4       1        rs148661787                              G       A   \n",
       "5       1         rs17160781                              T       C   \n",
       "6       1      1:1277676:C:T                              C       T   \n",
       "7       1      1:1405421:C:T                              C       T   \n",
       "8       1        rs577360633                              G      GC   \n",
       "9       1         rs75174864                              T       G   \n",
       "\n",
       "   HOM_A1_CT  HET_A1_CT  TWO_AX_CT  O(HET_A1)  E(HET_A1)             P  \n",
       "0         42          4          2   0.083333   0.152778  2.272870e-02  \n",
       "1         72          1          0   0.013699   0.013605  1.000000e+00  \n",
       "2        145          0          1   0.000000   0.013605  3.436430e-03  \n",
       "3         35          0          6   0.000000   0.249851  5.427240e-08  \n",
       "4        605          1          0   0.001650   0.001649  1.000000e+00  \n",
       "5        586          5          3   0.008418   0.018347  4.138240e-06  \n",
       "6        613          1          0   0.001629   0.001627  1.000000e+00  \n",
       "7        107          1          0   0.009259   0.009216  1.000000e+00  \n",
       "8        621          1          0   0.001608   0.001606  1.000000e+00  \n",
       "9         56          4         10   0.057143   0.284082  4.863510e-09  "
      ]
     },
     "execution_count": 173,
     "metadata": {},
     "output_type": "execute_result"
    }
   ],
   "source": [
    "df_hardy = pd.read_csv(path_hardy+'.hardy', sep=\"\\s+\")\n",
    "df_hardy.head(10)"
   ]
  },
  {
   "cell_type": "markdown",
   "metadata": {},
   "source": [
    "***\n",
    "***\n",
    "<br /><br /><br /><br /><br /><br /><br /><br /><br /><br /><br /><br /><br /><br /><br /><br /><br /><br /><br /><br /><br /><br /><br /><br /><br /><br /><br /><br /><br /><br />"
   ]
  }
 ],
 "metadata": {
  "kernelspec": {
   "display_name": "Python 3",
   "language": "python",
   "name": "python3"
  },
  "language_info": {
   "codemirror_mode": {
    "name": "ipython",
    "version": 3
   },
   "file_extension": ".py",
   "mimetype": "text/x-python",
   "name": "python",
   "nbconvert_exporter": "python",
   "pygments_lexer": "ipython3",
   "version": "3.6.5"
  }
 },
 "nbformat": 4,
 "nbformat_minor": 2
}
