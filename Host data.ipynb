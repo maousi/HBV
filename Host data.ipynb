{
 "cells": [
  {
   "cell_type": "code",
   "execution_count": 16,
   "metadata": {},
   "outputs": [
    {
     "name": "stdout",
     "output_type": "stream",
     "text": [
      "The autoreload extension is already loaded. To reload it, use:\n",
      "  %reload_ext autoreload\n"
     ]
    }
   ],
   "source": [
    "import numpy as np\n",
    "import seaborn as sns\n",
    "import matplotlib.pyplot as plt\n",
    "import pandas as pd\n",
    "import pandas_plink as pp\n",
    "from src import setup\n",
    "# This prevents to restart the kernel whenever an external file is edited\n",
    "%load_ext autoreload\n",
    "%autoreload 2\n",
    "\n",
    "# Scripts: see below (computation management)\n",
    "RUN_SCRIPTS = True\n",
    "DEFAULT_RECOMPUTE = False\n",
    "# \n",
    "DATA_THINNING = True"
   ]
  },
  {
   "cell_type": "markdown",
   "metadata": {},
   "source": [
    "# Introduction\n",
    "\n",
    "**14'738'460 variants, 622 people.**\n",
    "\n",
    "## Computation management\n",
    "\n",
    "<s>\n",
    "We run all the bash scripts with the function below. Idea: two separate procedures, depending on wether the computations have already been done locally. Principle:\n",
    "\n",
    "1. Call of the custom function `run(path)` and hide output by default.\n",
    "    * If `RUN_SCRIPTS` == False, simply do nothing\n",
    "    * If `RUN_SCRIPTS` == True, run the script\n",
    "1. `cat` the log file.\n",
    "\n",
    "Example: while coding or after importing source code, put `RUN_SCRIPTS = True`. While re-running a notebook (ex: check that the code runs), put `RUN_SCRIPTS = False`.\n",
    "</s>\n",
    "\n",
    "### Idea\n",
    "\n",
    "Sometimes we don't want to re-do all the computations if the resulting data is already calculated. Thus we provide:\n",
    "1. A way of easily running shell commands\n",
    "1. A dedicated function to easily run plink commands on the shell\n",
    "1. A way of checking if the results already exist, and loading data if this is the case\n",
    "    * Unless we specifically specifiy to re-do the calculations.\n",
    "\n",
    "DOCUMENTATION about running shell commands and managing the outputs : https://janakiev.com/til/python-shell-commands/, https://www.pythonforbeginners.com/os/subprocess-for-system-administrators"
   ]
  },
  {
   "cell_type": "markdown",
   "metadata": {},
   "source": [
    "### General principle\n",
    "\n",
    "* `run_shell_command`: manage to run shell commands with a specific package (`subprocess`) that helps to manage the outputs.\n",
    "* `run_plink`: manage plink version, binary files location, output location, display errors, check if results already exist\n",
    "\n",
    "**NOTE: possible improvement: automatically find the file extension. Also, if the command results in several output files, we should check that all of them are present (but we assume the user doesn't make such dumb things, i.e. deleting only a fraction of the output files.**\n",
    "\n",
    "Workflow:\n",
    "1. Call `run_plink` command with the specific command (e.g. `--freq`), the input, the output and the file extension to look for (to avoid re-doing the computations). \n",
    "1. The function checks if the result already exist (needs the output and the extension resulting from the command)\n",
    "    * already exists: display a message, abort the process (returns 2-tuple of empty strings). This occurs if `force==False` (which is the default value).\n",
    "1. The command is runned with plink2 by default\n",
    "1. The error messages are displayed (by default, `verbose_err=True`)\n",
    "1. The outputs are returned as a tuple (stdout, stderr)"
   ]
  },
  {
   "cell_type": "code",
   "execution_count": 23,
   "metadata": {},
   "outputs": [],
   "source": [
    "import subprocess\n",
    "import os.path\n",
    "\n",
    "def run_shell_command(cmd_lst) :\n",
    "    \"\"\"Returns a tuple: (stdout, stderr).\n",
    "    Note: you must separate the options from their values.\n",
    "    Note: the output is returned when all calculations are done\n",
    "    Example: you want 'plink --bfile <file> ...'. Must provide cmd_list=['plink', '--bfile', '<file>', ...]\"\"\"\n",
    "    process = subprocess.Popen(cmd_lst, stdout=subprocess.PIPE, \n",
    "                               stderr=subprocess.PIPE, universal_newlines=True)\n",
    "    return process.communicate()\n",
    "\n",
    "def run_plink(command, file, out, extension, plink2=True, verbose_err=True, force=DEFAULT_RECOMPUTE):\n",
    "    \"\"\"Returns a tuple: (stdout, stderr).\n",
    "    Note: command input must have the options/values separated by a single space\"\"\"\n",
    "    #if RUN_SCRIPTS == False: return\n",
    "    # Check is result already exist\n",
    "    if force==False and os.path.exists(out+'.'+extension): \n",
    "        print(\"run_plink: command '{}', the file '{}' already exists (force is set to False).\"\n",
    "             .format(command, out+'.'+extension))\n",
    "        # ABORT !\n",
    "        return ('run_plink was aborted', '')\n",
    "    # Construct the shell commands\n",
    "    lst = []\n",
    "    # Determine plink version to use\n",
    "    lst.append('plink2' if plink2 else 'plink')\n",
    "    # Input and output\n",
    "    lst.append('--bfile'); lst.append(file)\n",
    "    lst.append('--out');   lst.append(out)\n",
    "    # Must separate the options from their values (see run_shell_command)\n",
    "    commands = command.split(' ')\n",
    "    for c in commands :\n",
    "        lst.append(c)\n",
    "    # Provide values to the run_shell_command function\n",
    "    stdout, stderr = run_shell_command(lst)\n",
    "    # Display errors\n",
    "    if stderr and verbose_err : print(stderr)\n",
    "    # Return the outputs\n",
    "    return stdout, stderr"
   ]
  },
  {
   "cell_type": "code",
   "execution_count": 20,
   "metadata": {},
   "outputs": [],
   "source": [
    "path_raw = setup.PATH_HOST_RAW_PLINK_DATA"
   ]
  },
  {
   "cell_type": "markdown",
   "metadata": {},
   "source": [
    "## Overview on raw data\n",
    "\n",
    "### Files"
   ]
  },
  {
   "cell_type": "code",
   "execution_count": 5,
   "metadata": {},
   "outputs": [
    {
     "name": "stdout",
     "output_type": "stream",
     "text": [
      "total 4.0G\r\n",
      "-rwxr-xr-x 1 mazeller SV-BA4-unit  245 Aug  9 16:11 dictionary_wes_vcf.txt\r\n",
      "-rwxr-xr-x 1 mazeller SV-BA4-unit 2.2G Aug  9 16:11 hbv_gilead.bed\r\n",
      "-rwxr-xr-x 1 mazeller SV-BA4-unit 431M Aug  9 16:11 hbv_gilead.bim\r\n",
      "-rwxr-xr-x 1 mazeller SV-BA4-unit  18K Aug  9 16:11 hbv_gilead.fam\r\n",
      "-rw-r--r-- 1 mazeller SV-BA4-unit 1.4G Aug 11 01:59 hbv_gilead.frq\r\n",
      "-rw-r--r-- 1 mazeller SV-BA4-unit  930 Aug 11 01:59 hbv_gilead.log\r\n",
      "-rw-r--r-- 1 mazeller SV-BA4-unit  13K Aug 11 01:59 hbv_gilead.nosex\r\n"
     ]
    }
   ],
   "source": [
    "path = setup.PATH_HOST_RAW_DATA\n",
    "!ls -lh $path"
   ]
  },
  {
   "cell_type": "markdown",
   "metadata": {},
   "source": [
    "Those are **plink binary files**. "
   ]
  },
  {
   "cell_type": "markdown",
   "metadata": {},
   "source": [
    "### Dictionnary of the data"
   ]
  },
  {
   "cell_type": "code",
   "execution_count": 6,
   "metadata": {},
   "outputs": [
    {
     "name": "stdout",
     "output_type": "stream",
     "text": [
      "Info about WES_VCF by Ondrej.Podlaha@gilead.com on Dec 12 2018.\r\n",
      "\r\n",
      "1. Human reference genome: GRCh37.87\r\n",
      "2. Variant calling was performed using GATK (version nightly-2016-08-27-g667f78b; HaplotypeCaller)\r\n",
      "3. dbSNP v138 was used by HaplotypeCaller\r\n",
      " \r\n"
     ]
    }
   ],
   "source": [
    "!cat $path/dictionary_wes_vcf.txt"
   ]
  },
  {
   "cell_type": "markdown",
   "metadata": {},
   "source": [
    "## Arbitrary thinning of the data\n",
    "\n",
    "We use the plink2 `--thin <p>` option to **reduce the amount of data** (keep entries with probability p). We'll make sure that the code runs first. When everything works, we can simply set `DATA_THINNING = False`.\n",
    "\n",
    "Management of the **data being taken into account**: we simply put `path_raw` to target the reduced data."
   ]
  },
  {
   "cell_type": "code",
   "execution_count": 27,
   "metadata": {
    "scrolled": true
   },
   "outputs": [
    {
     "name": "stdout",
     "output_type": "stream",
     "text": [
      "run_plink: command '--thin 0.001 --make-bed', the file 'data/host_reduced.bed' already exists (force is set to False).\n"
     ]
    }
   ],
   "source": [
    "if DATA_THINNING == True :\n",
    "    path_out = setup.PATH_DATA+'host_reduced'\n",
    "    run_plink(\"--thin 0.001 --make-bed\", file=path_raw, out=path_out, extension='bed')\n",
    "    path_raw = path_out"
   ]
  },
  {
   "cell_type": "code",
   "execution_count": 26,
   "metadata": {
    "scrolled": true
   },
   "outputs": [
    {
     "name": "stdout",
     "output_type": "stream",
     "text": [
      "  --thin 0.001\r\n",
      "--thin: 14723780 variants removed (14680 remaining).\r\n"
     ]
    }
   ],
   "source": [
    "!cat $path_out'.log' | grep thin"
   ]
  },
  {
   "cell_type": "markdown",
   "metadata": {},
   "source": [
    "**WARNING: now, the `path_raw` variable targets the reduced data if `DATA_THINNING==True`. Moreover, this path should not be modified in any downstream procedure.**"
   ]
  },
  {
   "cell_type": "markdown",
   "metadata": {},
   "source": [
    "# Missing values\n",
    "\n",
    "`.smiss` for sample-based missing data report:\n",
    "* MISSING_CT: Number of missing hardcalls, not counting het haploids\n",
    "* OBS_CT = Denominator (#males on chrY, otherwise #samples)\n",
    "* F_MISS = Missing hardcall rate, not counting het haploids\n",
    "\n"
   ]
  },
  {
   "cell_type": "code",
   "execution_count": 156,
   "metadata": {},
   "outputs": [
    {
     "ename": "FileNotFoundError",
     "evalue": "[Errno 2] No such file or directory: 'plink --bfile data/host_reduced --out test --freq': 'plink --bfile data/host_reduced --out test --freq'",
     "output_type": "error",
     "traceback": [
      "\u001b[0;31m---------------------------------------------------------------------------\u001b[0m",
      "\u001b[0;31mFileNotFoundError\u001b[0m                         Traceback (most recent call last)",
      "\u001b[0;32m<ipython-input-156-4cf8ff75ed26>\u001b[0m in \u001b[0;36m<module>\u001b[0;34m\u001b[0m\n\u001b[1;32m      4\u001b[0m \u001b[0;34m\u001b[0m\u001b[0m\n\u001b[1;32m      5\u001b[0m \u001b[0;31m#run(fun=plink2_missing)\u001b[0m\u001b[0;34m\u001b[0m\u001b[0;34m\u001b[0m\u001b[0m\n\u001b[0;32m----> 6\u001b[0;31m \u001b[0mo\u001b[0m\u001b[0;34m,\u001b[0m \u001b[0me\u001b[0m \u001b[0;34m=\u001b[0m \u001b[0mrun_plink\u001b[0m\u001b[0;34m(\u001b[0m\u001b[0;34m\"--freq\"\u001b[0m\u001b[0;34m,\u001b[0m \u001b[0mfile\u001b[0m\u001b[0;34m=\u001b[0m\u001b[0mpath_raw\u001b[0m\u001b[0;34m,\u001b[0m \u001b[0mout\u001b[0m\u001b[0;34m=\u001b[0m\u001b[0mpath_missing\u001b[0m\u001b[0;34m)\u001b[0m\u001b[0;34m\u001b[0m\u001b[0m\n\u001b[0m\u001b[1;32m      7\u001b[0m \u001b[0mprint\u001b[0m\u001b[0;34m(\u001b[0m\u001b[0mo\u001b[0m\u001b[0;34m)\u001b[0m\u001b[0;34m\u001b[0m\u001b[0m\n",
      "\u001b[0;32m<ipython-input-155-6ddf381daa58>\u001b[0m in \u001b[0;36mrun_plink\u001b[0;34m(command, file, out, plink2, verbose_err)\u001b[0m\n\u001b[1;32m     16\u001b[0m     \u001b[0;31m#lst.append('--out ' + out)\u001b[0m\u001b[0;34m\u001b[0m\u001b[0;34m\u001b[0m\u001b[0m\n\u001b[1;32m     17\u001b[0m     \u001b[0mlst\u001b[0m\u001b[0;34m.\u001b[0m\u001b[0mappend\u001b[0m\u001b[0;34m(\u001b[0m\u001b[0mcommand\u001b[0m\u001b[0;34m)\u001b[0m\u001b[0;34m\u001b[0m\u001b[0m\n\u001b[0;32m---> 18\u001b[0;31m     \u001b[0mstdout\u001b[0m\u001b[0;34m,\u001b[0m \u001b[0mstderr\u001b[0m \u001b[0;34m=\u001b[0m \u001b[0mrun_shell_command\u001b[0m\u001b[0;34m(\u001b[0m\u001b[0;34m\"plink --bfile data/host_reduced --out test --freq\"\u001b[0m\u001b[0;34m)\u001b[0m\u001b[0;34m\u001b[0m\u001b[0m\n\u001b[0m\u001b[1;32m     19\u001b[0m     \u001b[0;32mif\u001b[0m \u001b[0mstderr\u001b[0m\u001b[0;34m:\u001b[0m \u001b[0mprint\u001b[0m\u001b[0;34m(\u001b[0m\u001b[0mstderr\u001b[0m\u001b[0;34m)\u001b[0m\u001b[0;34m\u001b[0m\u001b[0m\n\u001b[1;32m     20\u001b[0m     \u001b[0;32mreturn\u001b[0m \u001b[0mstdout\u001b[0m\u001b[0;34m,\u001b[0m \u001b[0mstderr\u001b[0m\u001b[0;34m\u001b[0m\u001b[0m\n",
      "\u001b[0;32m<ipython-input-155-6ddf381daa58>\u001b[0m in \u001b[0;36mrun_shell_command\u001b[0;34m(cmd_lst)\u001b[0m\n\u001b[1;32m      4\u001b[0m     \u001b[0;34m\"\"\"Returns a tuple: (stdout, stderr)\"\"\"\u001b[0m\u001b[0;34m\u001b[0m\u001b[0m\n\u001b[1;32m      5\u001b[0m     process = subprocess.Popen(cmd_lst, stdout=subprocess.PIPE, \n\u001b[0;32m----> 6\u001b[0;31m                                stderr=subprocess.PIPE, universal_newlines=True)\n\u001b[0m\u001b[1;32m      7\u001b[0m     \u001b[0;32mreturn\u001b[0m \u001b[0mprocess\u001b[0m\u001b[0;34m.\u001b[0m\u001b[0mcommunicate\u001b[0m\u001b[0;34m(\u001b[0m\u001b[0;34m)\u001b[0m\u001b[0;34m\u001b[0m\u001b[0m\n\u001b[1;32m      8\u001b[0m \u001b[0;34m\u001b[0m\u001b[0m\n",
      "\u001b[0;32m/ssoft/spack/paien/v2/opt/spack/linux-rhel7-x86_E5v2_IntelIB/gcc-6.4.0/python-3.6.5-wq64mct6tytbe3dp5iv65jlwd7rn7wvd/lib/python3.6/subprocess.py\u001b[0m in \u001b[0;36m__init__\u001b[0;34m(self, args, bufsize, executable, stdin, stdout, stderr, preexec_fn, close_fds, shell, cwd, env, universal_newlines, startupinfo, creationflags, restore_signals, start_new_session, pass_fds, encoding, errors)\u001b[0m\n\u001b[1;32m    707\u001b[0m                                 \u001b[0mc2pread\u001b[0m\u001b[0;34m,\u001b[0m \u001b[0mc2pwrite\u001b[0m\u001b[0;34m,\u001b[0m\u001b[0;34m\u001b[0m\u001b[0m\n\u001b[1;32m    708\u001b[0m                                 \u001b[0merrread\u001b[0m\u001b[0;34m,\u001b[0m \u001b[0merrwrite\u001b[0m\u001b[0;34m,\u001b[0m\u001b[0;34m\u001b[0m\u001b[0m\n\u001b[0;32m--> 709\u001b[0;31m                                 restore_signals, start_new_session)\n\u001b[0m\u001b[1;32m    710\u001b[0m         \u001b[0;32mexcept\u001b[0m\u001b[0;34m:\u001b[0m\u001b[0;34m\u001b[0m\u001b[0m\n\u001b[1;32m    711\u001b[0m             \u001b[0;31m# Cleanup if the child failed starting.\u001b[0m\u001b[0;34m\u001b[0m\u001b[0;34m\u001b[0m\u001b[0m\n",
      "\u001b[0;32m/ssoft/spack/paien/v2/opt/spack/linux-rhel7-x86_E5v2_IntelIB/gcc-6.4.0/python-3.6.5-wq64mct6tytbe3dp5iv65jlwd7rn7wvd/lib/python3.6/subprocess.py\u001b[0m in \u001b[0;36m_execute_child\u001b[0;34m(self, args, executable, preexec_fn, close_fds, pass_fds, cwd, env, startupinfo, creationflags, shell, p2cread, p2cwrite, c2pread, c2pwrite, errread, errwrite, restore_signals, start_new_session)\u001b[0m\n\u001b[1;32m   1342\u001b[0m                         \u001b[0;32mif\u001b[0m \u001b[0merrno_num\u001b[0m \u001b[0;34m==\u001b[0m \u001b[0merrno\u001b[0m\u001b[0;34m.\u001b[0m\u001b[0mENOENT\u001b[0m\u001b[0;34m:\u001b[0m\u001b[0;34m\u001b[0m\u001b[0m\n\u001b[1;32m   1343\u001b[0m                             \u001b[0merr_msg\u001b[0m \u001b[0;34m+=\u001b[0m \u001b[0;34m': '\u001b[0m \u001b[0;34m+\u001b[0m \u001b[0mrepr\u001b[0m\u001b[0;34m(\u001b[0m\u001b[0merr_filename\u001b[0m\u001b[0;34m)\u001b[0m\u001b[0;34m\u001b[0m\u001b[0m\n\u001b[0;32m-> 1344\u001b[0;31m                     \u001b[0;32mraise\u001b[0m \u001b[0mchild_exception_type\u001b[0m\u001b[0;34m(\u001b[0m\u001b[0merrno_num\u001b[0m\u001b[0;34m,\u001b[0m \u001b[0merr_msg\u001b[0m\u001b[0;34m,\u001b[0m \u001b[0merr_filename\u001b[0m\u001b[0;34m)\u001b[0m\u001b[0;34m\u001b[0m\u001b[0m\n\u001b[0m\u001b[1;32m   1345\u001b[0m                 \u001b[0;32mraise\u001b[0m \u001b[0mchild_exception_type\u001b[0m\u001b[0;34m(\u001b[0m\u001b[0merr_msg\u001b[0m\u001b[0;34m)\u001b[0m\u001b[0;34m\u001b[0m\u001b[0m\n\u001b[1;32m   1346\u001b[0m \u001b[0;34m\u001b[0m\u001b[0m\n",
      "\u001b[0;31mFileNotFoundError\u001b[0m: [Errno 2] No such file or directory: 'plink --bfile data/host_reduced --out test --freq': 'plink --bfile data/host_reduced --out test --freq'"
     ]
    }
   ],
   "source": [
    "path_missing = path_raw+'_missing'\n",
    "run_plink(\"--freq\", file=path_raw, out=path_missing, extension='frq')"
   ]
  },
  {
   "cell_type": "code",
   "execution_count": 82,
   "metadata": {},
   "outputs": [
    {
     "name": "stdout",
     "output_type": "stream",
     "text": [
      "Shape of missing var table: (14843, 5)\n",
      "Columns of missing var table:\n",
      "\tIndex(['#CHROM', 'ID', 'MISSING_CT', 'OBS_CT', 'F_MISS'], dtype='object')\n",
      "Shape of missing ind table: (622, 5)\n",
      "Columns of missing ind table:\n",
      "\tIndex(['#FID', 'IID', 'MISSING_CT', 'OBS_CT', 'F_MISS'], dtype='object')\n"
     ]
    }
   ],
   "source": [
    "df_miss_ind = pd.read_csv(path_missing+'.smiss', sep='\\s+')\n",
    "df_miss_var = pd.read_csv(path_missing+'.vmiss', sep='\\s+')\n",
    "print(\"Shape of missing var table: {}\\nColumns of missing var table:\\n\\t{}\\\n",
    "\\nShape of missing ind table: {}\\nColumns of missing ind table:\\n\\t{}\"\n",
    "     .format(df_miss_var.shape, df_miss_var.columns, \n",
    "             df_miss_ind.shape, df_miss_ind.columns))"
   ]
  },
  {
   "cell_type": "markdown",
   "metadata": {},
   "source": [
    "## Missing report - individuals\n",
    "\n",
    "For each individual, plink computed the rate of missing variants. This tells us about how to filter individuals out."
   ]
  },
  {
   "cell_type": "code",
   "execution_count": 37,
   "metadata": {},
   "outputs": [
    {
     "data": {
      "text/html": [
       "<div>\n",
       "<style scoped>\n",
       "    .dataframe tbody tr th:only-of-type {\n",
       "        vertical-align: middle;\n",
       "    }\n",
       "\n",
       "    .dataframe tbody tr th {\n",
       "        vertical-align: top;\n",
       "    }\n",
       "\n",
       "    .dataframe thead th {\n",
       "        text-align: right;\n",
       "    }\n",
       "</style>\n",
       "<table border=\"1\" class=\"dataframe\">\n",
       "  <thead>\n",
       "    <tr style=\"text-align: right;\">\n",
       "      <th></th>\n",
       "      <th>#FID</th>\n",
       "      <th>IID</th>\n",
       "      <th>MISSING_CT</th>\n",
       "      <th>OBS_CT</th>\n",
       "      <th>F_MISS</th>\n",
       "    </tr>\n",
       "  </thead>\n",
       "  <tbody>\n",
       "    <tr>\n",
       "      <th>0</th>\n",
       "      <td>igm160017</td>\n",
       "      <td>igm160017</td>\n",
       "      <td>11449</td>\n",
       "      <td>14823</td>\n",
       "      <td>0.772381</td>\n",
       "    </tr>\n",
       "  </tbody>\n",
       "</table>\n",
       "</div>"
      ],
      "text/plain": [
       "        #FID        IID  MISSING_CT  OBS_CT    F_MISS\n",
       "0  igm160017  igm160017       11449   14823  0.772381"
      ]
     },
     "execution_count": 37,
     "metadata": {},
     "output_type": "execute_result"
    }
   ],
   "source": [
    "df_miss_ind.head(1)"
   ]
  },
  {
   "cell_type": "code",
   "execution_count": 73,
   "metadata": {},
   "outputs": [
    {
     "data": {
      "image/png": "[encoded data removed]",
      "text/plain": [
       "<Figure size 432x288 with 1 Axes>"
      ]
     },
     "metadata": {
      "needs_background": "light"
     },
     "output_type": "display_data"
    }
   ],
   "source": [
    "sns.distplot(df_miss_ind['F_MISS'], norm_hist=False, kde=False)\n",
    "plt.ylabel('number of individuals'); plt.xlabel('rate of missing variants');"
   ]
  },
  {
   "cell_type": "markdown",
   "metadata": {},
   "source": [
    "## Missing report - variants\n",
    "\n",
    "For each variant, plink computed the rate of missing individuals. This tells us about how to filter variants out."
   ]
  },
  {
   "cell_type": "code",
   "execution_count": 60,
   "metadata": {},
   "outputs": [
    {
     "data": {
      "text/html": [
       "<div>\n",
       "<style scoped>\n",
       "    .dataframe tbody tr th:only-of-type {\n",
       "        vertical-align: middle;\n",
       "    }\n",
       "\n",
       "    .dataframe tbody tr th {\n",
       "        vertical-align: top;\n",
       "    }\n",
       "\n",
       "    .dataframe thead th {\n",
       "        text-align: right;\n",
       "    }\n",
       "</style>\n",
       "<table border=\"1\" class=\"dataframe\">\n",
       "  <thead>\n",
       "    <tr style=\"text-align: right;\">\n",
       "      <th></th>\n",
       "      <th>#CHROM</th>\n",
       "      <th>ID</th>\n",
       "      <th>MISSING_CT</th>\n",
       "      <th>OBS_CT</th>\n",
       "      <th>F_MISS</th>\n",
       "    </tr>\n",
       "  </thead>\n",
       "  <tbody>\n",
       "    <tr>\n",
       "      <th>0</th>\n",
       "      <td>1</td>\n",
       "      <td>1:17493:A:G</td>\n",
       "      <td>0</td>\n",
       "      <td>622</td>\n",
       "      <td>0.0</td>\n",
       "    </tr>\n",
       "  </tbody>\n",
       "</table>\n",
       "</div>"
      ],
      "text/plain": [
       "  #CHROM           ID  MISSING_CT  OBS_CT  F_MISS\n",
       "0      1  1:17493:A:G           0     622     0.0"
      ]
     },
     "execution_count": 60,
     "metadata": {},
     "output_type": "execute_result"
    }
   ],
   "source": [
    "df_miss_var.head(1)"
   ]
  },
  {
   "cell_type": "code",
   "execution_count": 85,
   "metadata": {},
   "outputs": [
    {
     "data": {
      "image/png": "[encoded data removed]",
      "text/plain": [
       "<Figure size 432x288 with 1 Axes>"
      ]
     },
     "metadata": {
      "needs_background": "light"
     },
     "output_type": "display_data"
    }
   ],
   "source": [
    "sns.distplot(df_miss_var.F_MISS.dropna(), kde=False, norm_hist=False)\n",
    "plt.xlabel('rate of missing individuals'); plt.ylabel('number of variants');"
   ]
  },
  {
   "cell_type": "markdown",
   "metadata": {},
   "source": [
    "## Summary of missing report\n",
    "\n",
    "Report `.smiss` (individuals): for each variant, we're interested in the rate of missing individuals. We see t"
   ]
  },
  {
   "cell_type": "code",
   "execution_count": 76,
   "metadata": {},
   "outputs": [],
   "source": [
    "df_miss_var = None\n",
    "df_miss_ind = None"
   ]
  },
  {
   "cell_type": "markdown",
   "metadata": {},
   "source": [
    "# Minor allele frequencies"
   ]
  },
  {
   "cell_type": "code",
   "execution_count": 77,
   "metadata": {},
   "outputs": [],
   "source": [
    "path_freq = setup.PATH_PLINK_DATA+'freq'\n",
    "def plink2_freq():\n",
    "    !plink2 --bfile $path_raw --freq --out $path_freq > $setup.PATH_NULL\n",
    "\n",
    "run(fun=plink2_freq)"
   ]
  },
  {
   "cell_type": "code",
   "execution_count": 78,
   "metadata": {},
   "outputs": [],
   "source": [
    "df_freq = pd.read_csv(path_freq+\".frq\", sep=\"\\s+\")"
   ]
  },
  {
   "cell_type": "code",
   "execution_count": 80,
   "metadata": {},
   "outputs": [
    {
     "data": {
      "image/png": "[encoded data removed]",
      "text/plain": [
       "<Figure size 432x288 with 1 Axes>"
      ]
     },
     "metadata": {
      "needs_background": "light"
     },
     "output_type": "display_data"
    }
   ],
   "source": [
    "sns.distplot(df_freq.MAF.dropna(), kde=False, norm_hist=True);"
   ]
  },
  {
   "cell_type": "markdown",
   "metadata": {},
   "source": [
    "<br /><br /><br /><br /><br /><br /><br /><br /><br /><br /><br /><br /><br /><br /><br />"
   ]
  }
 ],
 "metadata": {
  "kernelspec": {
   "display_name": "Python 3",
   "language": "python",
   "name": "python3"
  },
  "language_info": {
   "codemirror_mode": {
    "name": "ipython",
    "version": 3
   },
   "file_extension": ".py",
   "mimetype": "text/x-python",
   "name": "python",
   "nbconvert_exporter": "python",
   "pygments_lexer": "ipython3",
   "version": "3.6.5"
  }
 },
 "nbformat": 4,
 "nbformat_minor": 2
}
