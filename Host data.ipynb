{
 "cells": [
  {
   "cell_type": "code",
   "execution_count": 1,
   "metadata": {},
   "outputs": [],
   "source": [
    "import numpy as np\n",
    "import seaborn as sns\n",
    "import matplotlib.pyplot as plt\n",
    "import pandas as pd\n",
    "import pandas_plink as pp\n",
    "\n",
    "from src import setup\n",
    "from src.host import run_plink\n",
    "\n",
    "# This prevents to restart the kernel whenever an external file is edited\n",
    "%load_ext autoreload\n",
    "%autoreload 2\n",
    "\n",
    "# Scripts: see below (computation management)\n",
    "RUN_SCRIPTS = True\n",
    "DEFAULT_RECOMPUTE = False\n",
    "# \n",
    "DATA_THINNING = True"
   ]
  },
  {
   "cell_type": "markdown",
   "metadata": {},
   "source": [
    "# Introduction\n",
    "\n",
    "**14'738'460 variants, 622 people.**\n",
    "\n",
    "## Computation management\n",
    "\n",
    "<s>\n",
    "We run all the bash scripts with the function below. Idea: two separate procedures, depending on wether the computations have already been done locally. Principle:\n",
    "\n",
    "1. Call of the custom function `run(path)` and hide output by default.\n",
    "    * If `RUN_SCRIPTS` == False, simply do nothing\n",
    "    * If `RUN_SCRIPTS` == True, run the script\n",
    "1. `cat` the log file.\n",
    "\n",
    "Example: while coding or after importing source code, put `RUN_SCRIPTS = True`. While re-running a notebook (ex: check that the code runs), put `RUN_SCRIPTS = False`.\n",
    "</s>\n",
    "\n",
    "### Idea\n",
    "\n",
    "Sometimes we don't want to re-do all the computations if the resulting data is already calculated. Thus we provide:\n",
    "1. A way of easily running shell commands\n",
    "1. A dedicated function to easily run plink commands on the shell\n",
    "1. A way of checking if the results already exist, and loading data if this is the case\n",
    "    * Unless we specifically specifiy to re-do the calculations.\n",
    "\n",
    "DOCUMENTATION about running shell commands and managing the outputs : https://janakiev.com/til/python-shell-commands/, https://www.pythonforbeginners.com/os/subprocess-for-system-administrators"
   ]
  },
  {
   "cell_type": "markdown",
   "metadata": {},
   "source": [
    "### General principle\n",
    "\n",
    "* `run_shell_command`: manage to run shell commands with a specific package (`subprocess`) that helps to manage the outputs.\n",
    "* `run_plink`: manage plink version, binary files location, output location, display errors, check if results already exist\n",
    "\n",
    "**NOTE: possible improvement: automatically find the file extension. Also, if the command results in several output files, we should check that all of them are present (but we assume the user doesn't make such dumb things, i.e. deleting only a fraction of the output files.**\n",
    "\n",
    "Workflow:\n",
    "1. Call `run_plink` command with the specific command (e.g. `--freq`), the input, the output and the file extension to look for (to avoid re-doing the computations). \n",
    "1. The function checks if the result already exist (needs the output and the extension resulting from the command)\n",
    "    * already exists: display a message, abort the process (returns 2-tuple of empty strings). This occurs if `force==False` (which is the default value).\n",
    "1. The command is runned with plink2 by default\n",
    "1. The error messages are displayed (by default, `verbose_err=True`)\n",
    "1. The outputs are returned as a tuple (stdout, stderr)"
   ]
  },
  {
   "cell_type": "code",
   "execution_count": 2,
   "metadata": {},
   "outputs": [],
   "source": [
    "path_raw = setup.PATH_HOST_RAW_PLINK_DATA\n",
    "path_out = setup.PATH_PLINK_DATA\n",
    "file_prefix = 'host_geno'"
   ]
  },
  {
   "cell_type": "markdown",
   "metadata": {},
   "source": [
    "## Overview on raw data\n",
    "\n",
    "### Files"
   ]
  },
  {
   "cell_type": "code",
   "execution_count": 3,
   "metadata": {},
   "outputs": [
    {
     "name": "stdout",
     "output_type": "stream",
     "text": [
      "total 4.0G\r\n",
      "-rwxr-xr-x 1 mazeller SV-BA4-unit  245  9 aoû 16:11 dictionary_wes_vcf.txt\r\n",
      "-rwxr-xr-x 1 mazeller SV-BA4-unit 2.2G  9 aoû 16:11 hbv_gilead.bed\r\n",
      "-rwxr-xr-x 1 mazeller SV-BA4-unit 431M  9 aoû 16:11 hbv_gilead.bim\r\n",
      "-rwxr-xr-x 1 mazeller SV-BA4-unit  18K  9 aoû 16:11 hbv_gilead.fam\r\n",
      "-rw-r--r-- 1 mazeller SV-BA4-unit 1.4G 11 aoû 01:59 hbv_gilead.frq\r\n",
      "-rw-r--r-- 1 mazeller SV-BA4-unit  930 11 aoû 01:59 hbv_gilead.log\r\n",
      "-rw-r--r-- 1 mazeller SV-BA4-unit  13K 11 aoû 01:59 hbv_gilead.nosex\r\n",
      "-rw-r--r-- 1 mazeller SV-BA4-unit  677 11 aoû 17:56 hbv_gilead_validate.log\r\n"
     ]
    }
   ],
   "source": [
    "path = setup.PATH_HOST_RAW_DATA\n",
    "!ls -lh $path"
   ]
  },
  {
   "cell_type": "markdown",
   "metadata": {},
   "source": [
    "Those are **plink binary files**. "
   ]
  },
  {
   "cell_type": "markdown",
   "metadata": {},
   "source": [
    "### Dictionnary of the data"
   ]
  },
  {
   "cell_type": "code",
   "execution_count": 4,
   "metadata": {},
   "outputs": [
    {
     "name": "stdout",
     "output_type": "stream",
     "text": [
      "Info about WES_VCF by Ondrej.Podlaha@gilead.com on Dec 12 2018.\r\n",
      "\r\n",
      "1. Human reference genome: GRCh37.87\r\n",
      "2. Variant calling was performed using GATK (version nightly-2016-08-27-g667f78b; HaplotypeCaller)\r\n",
      "3. dbSNP v138 was used by HaplotypeCaller\r\n",
      " \r\n"
     ]
    }
   ],
   "source": [
    "!cat $path/dictionary_wes_vcf.txt"
   ]
  },
  {
   "cell_type": "markdown",
   "metadata": {},
   "source": [
    "### Data integrity\n"
   ]
  },
  {
   "cell_type": "code",
   "execution_count": 5,
   "metadata": {},
   "outputs": [
    {
     "name": "stdout",
     "output_type": "stream",
     "text": [
      "PLINK v2.00a2LM 64-bit Intel (31 Jul 2019)     www.cog-genomics.org/plink/2.0/\n",
      "(C) 2005-2019 Shaun Purcell, Christopher Chang   GNU General Public License v3\n",
      "Logging to data/plink/host_geno_validate.log.\n",
      "Options in effect:\n",
      "  --bfile data/raw/wes_plink/hbv_gilead\n",
      "  --out data/plink/host_geno_validate\n",
      "  --validate\n",
      "\n",
      "Start time: Mon Aug 12 10:08:07 2019\n",
      "64232 MiB RAM detected; reserving 32116 MiB for main workspace.\n",
      "Using up to 16 threads (change this with --threads).\n",
      "622 samples (0 females, 0 males, 622 ambiguous; 622 founders) loaded from\n",
      "data/raw/wes_plink/hbv_gilead.fam.\n",
      "14738460 variants loaded from data/raw/wes_plink/hbv_gilead.bim.\n",
      "Validating data/raw/wes_plink/hbv_gilead.bed... done.\n",
      "End time: Mon Aug 12 10:08:12 2019\n",
      "\n"
     ]
    }
   ],
   "source": [
    "o,e= run_plink('--validate', file=path_raw, out=path_out+file_prefix+'_validate', extension='log')\n",
    "print(o)"
   ]
  },
  {
   "cell_type": "markdown",
   "metadata": {},
   "source": [
    "## Arbitrary thinning of the data\n",
    "\n",
    "We use the plink2 `--thin <p>` option to **reduce the amount of data** (keep entries with probability p). We'll make sure that the code runs first. When everything works, we can simply set `DATA_THINNING = False`.\n",
    "\n",
    "Management of the **data being taken into account**: we simply put `path_raw` to target the reduced data."
   ]
  },
  {
   "cell_type": "code",
   "execution_count": 6,
   "metadata": {
    "scrolled": true
   },
   "outputs": [],
   "source": [
    "# We change the default raw data for subsequent analyses\n",
    "if DATA_THINNING == True :\n",
    "    file_prefix = 'host_reduced'\n",
    "    run_plink(\"--thin 0.001 --make-bed\", file=path_raw, out=path_out+file_prefix, extension='bed')\n",
    "    path_raw = path_out+file_prefix"
   ]
  },
  {
   "cell_type": "code",
   "execution_count": 7,
   "metadata": {
    "scrolled": true
   },
   "outputs": [
    {
     "name": "stdout",
     "output_type": "stream",
     "text": [
      "  --thin 0.001\r\n",
      "--thin: 14723855 variants removed (14605 remaining).\r\n"
     ]
    }
   ],
   "source": [
    "!cat $path_out$file_prefix'.log' | grep thin"
   ]
  },
  {
   "cell_type": "markdown",
   "metadata": {},
   "source": [
    "<s>\n",
    "**WARNING: now, the `path_raw` variable targets the reduced data if `DATA_THINNING==True`. Moreover, this path should not be modified in any downstream procedure.**\n",
    "</s>\n",
    "\n",
    "## Note on plink\n",
    "\n",
    "| Feature | Summary statistic | Inclusion criteria  |\n",
    "|----------------------------|-----------|-----------|\n",
    "| Missingness per individual | --missing | --mind N  |\n",
    "| Missingness per marker     | --missing | --geno N  |\n",
    "| Allele frequency           | --freq    | --maf N   |\n",
    "| Hardy-Weinberg equilibrium | --hardy   | --hwe     |\n",
    "| Mendel error rates         | --mendel  |  --me N M |"
   ]
  },
  {
   "cell_type": "markdown",
   "metadata": {},
   "source": [
    "# Missing values\n",
    "\n",
    "`.smiss` for sample-based missing data report:\n",
    "* MISSING_CT: Number of missing hardcalls, not counting het haploids\n",
    "* OBS_CT = Denominator (#males on chrY, otherwise #samples)\n",
    "* F_MISS = Missing hardcall rate, not counting het haploids\n",
    "\n"
   ]
  },
  {
   "cell_type": "code",
   "execution_count": 8,
   "metadata": {},
   "outputs": [],
   "source": [
    "path_missing = path_out+file_prefix+'_missing'\n",
    "o,e = run_plink(\"--missing\", file=path_raw, out=path_missing, extension='vmiss')"
   ]
  },
  {
   "cell_type": "code",
   "execution_count": 9,
   "metadata": {},
   "outputs": [
    {
     "name": "stdout",
     "output_type": "stream",
     "text": [
      "Shape of missing var table: (14605, 2)\n",
      "Columns of missing var table:\n",
      "\tIndex(['#CHROM', 'F_MISS'], dtype='object')\n",
      "Shape of missing ind table: (622, 1)\n",
      "Columns of missing ind table:\n",
      "\tIndex(['F_MISS'], dtype='object')\n"
     ]
    }
   ],
   "source": [
    "df_miss_ind = pd.read_csv(path_missing+'.smiss', sep='\\s+', usecols=['F_MISS'])\n",
    "df_miss_var = pd.read_csv(path_missing+'.vmiss', sep='\\s+', usecols=['#CHROM', 'F_MISS'])\n",
    "print(\"Shape of missing var table: {}\\nColumns of missing var table:\\n\\t{}\\\n",
    "\\nShape of missing ind table: {}\\nColumns of missing ind table:\\n\\t{}\"\n",
    "     .format(df_miss_var.shape, df_miss_var.columns, \n",
    "             df_miss_ind.shape, df_miss_ind.columns))"
   ]
  },
  {
   "cell_type": "markdown",
   "metadata": {},
   "source": [
    "## Missingness of individuals per variant\n",
    "\n",
    "For each individual, plink computed the rate of missing variants. This tells us about how to filter individuals out."
   ]
  },
  {
   "cell_type": "code",
   "execution_count": 10,
   "metadata": {},
   "outputs": [
    {
     "data": {
      "text/html": [
       "<div>\n",
       "<style scoped>\n",
       "    .dataframe tbody tr th:only-of-type {\n",
       "        vertical-align: middle;\n",
       "    }\n",
       "\n",
       "    .dataframe tbody tr th {\n",
       "        vertical-align: top;\n",
       "    }\n",
       "\n",
       "    .dataframe thead th {\n",
       "        text-align: right;\n",
       "    }\n",
       "</style>\n",
       "<table border=\"1\" class=\"dataframe\">\n",
       "  <thead>\n",
       "    <tr style=\"text-align: right;\">\n",
       "      <th></th>\n",
       "      <th>F_MISS</th>\n",
       "    </tr>\n",
       "  </thead>\n",
       "  <tbody>\n",
       "    <tr>\n",
       "      <th>0</th>\n",
       "      <td>0.774461</td>\n",
       "    </tr>\n",
       "  </tbody>\n",
       "</table>\n",
       "</div>"
      ],
      "text/plain": [
       "     F_MISS\n",
       "0  0.774461"
      ]
     },
     "execution_count": 10,
     "metadata": {},
     "output_type": "execute_result"
    }
   ],
   "source": [
    "df_miss_ind.head(1)"
   ]
  },
  {
   "cell_type": "code",
   "execution_count": 11,
   "metadata": {},
   "outputs": [
    {
     "data": {
      "image/png": "[encoded data removed]",
      "text/plain": [
       "<Figure size 432x288 with 1 Axes>"
      ]
     },
     "metadata": {
      "needs_background": "light"
     },
     "output_type": "display_data"
    }
   ],
   "source": [
    "sns.distplot(df_miss_ind['F_MISS'], norm_hist=False, kde=False)\n",
    "plt.ylabel('number of individuals'); plt.xlabel('rate of missing variants');"
   ]
  },
  {
   "cell_type": "markdown",
   "metadata": {},
   "source": [
    "## Missing report - variants\n",
    "\n",
    "For each variant, plink computed the rate of missing individuals. This tells us about how to filter variants out."
   ]
  },
  {
   "cell_type": "code",
   "execution_count": 12,
   "metadata": {
    "scrolled": true
   },
   "outputs": [
    {
     "data": {
      "text/html": [
       "<div>\n",
       "<style scoped>\n",
       "    .dataframe tbody tr th:only-of-type {\n",
       "        vertical-align: middle;\n",
       "    }\n",
       "\n",
       "    .dataframe tbody tr th {\n",
       "        vertical-align: top;\n",
       "    }\n",
       "\n",
       "    .dataframe thead th {\n",
       "        text-align: right;\n",
       "    }\n",
       "</style>\n",
       "<table border=\"1\" class=\"dataframe\">\n",
       "  <thead>\n",
       "    <tr style=\"text-align: right;\">\n",
       "      <th></th>\n",
       "      <th>#CHROM</th>\n",
       "      <th>F_MISS</th>\n",
       "    </tr>\n",
       "  </thead>\n",
       "  <tbody>\n",
       "    <tr>\n",
       "      <th>0</th>\n",
       "      <td>1</td>\n",
       "      <td>0.651125</td>\n",
       "    </tr>\n",
       "  </tbody>\n",
       "</table>\n",
       "</div>"
      ],
      "text/plain": [
       "  #CHROM    F_MISS\n",
       "0      1  0.651125"
      ]
     },
     "execution_count": 12,
     "metadata": {},
     "output_type": "execute_result"
    }
   ],
   "source": [
    "df_miss_var.head(1)"
   ]
  },
  {
   "cell_type": "code",
   "execution_count": 13,
   "metadata": {},
   "outputs": [
    {
     "data": {
      "image/png": "[encoded data removed]",
      "text/plain": [
       "<Figure size 432x288 with 1 Axes>"
      ]
     },
     "metadata": {
      "needs_background": "light"
     },
     "output_type": "display_data"
    }
   ],
   "source": [
    "sns.distplot(df_miss_var.F_MISS.dropna(), kde=False, norm_hist=False)\n",
    "plt.xlabel('rate of missing individuals'); plt.ylabel('number of variants');"
   ]
  },
  {
   "cell_type": "markdown",
   "metadata": {},
   "source": [
    "### Median missingness per chromosome\n",
    "\n",
    "**WARNING: this may take a while if the data is not reduced.**"
   ]
  },
  {
   "cell_type": "code",
   "execution_count": 14,
   "metadata": {},
   "outputs": [
    {
     "data": {
      "image/png": "[encoded data removed]",
      "text/plain": [
       "<Figure size 432x288 with 1 Axes>"
      ]
     },
     "metadata": {
      "needs_background": "light"
     },
     "output_type": "display_data"
    }
   ],
   "source": [
    "df_miss_chr = df_miss_var[['#CHROM', 'F_MISS']].groupby('#CHROM').median()\n",
    "sns.boxplot(x='#CHROM', y='F_MISS', data=df_miss_var);"
   ]
  },
  {
   "cell_type": "markdown",
   "metadata": {},
   "source": [
    "## Summary of missing reports\n",
    "\n",
    "We indeed expect to have almost no items with very few missing variants: missingness has more to do with the sequencing method and the genome location (than randomness). There is no individual that would be specifically better sequenced than others (excluding randomness). In contrast, we expect some variants to be missing in almost all individuals or to be present in all of them.\n",
    "\n",
    "Report `.smiss` (individuals): for each individual, we're interested in the rate of missing variants. That tells us which individuals have too much missingness. There is actually a huge number of individuals with a missing rate >80%. It can arise from that fact that:\n",
    "1. We have low-quality sequencing data\n",
    "1. If we use reduced data, the sub-sample we have has a lot of missingness by random\n",
    "1. **Missingness is biased**, since we did not exclude the variants with high missing rates.\n",
    "\n",
    "Remember that we want to be very careful while excluding individuals, we want to save them due to the small sample size. Just like we did in the viral sequencing data, we must first remove bad variants before removing individuals.\n"
   ]
  },
  {
   "cell_type": "code",
   "execution_count": 15,
   "metadata": {},
   "outputs": [],
   "source": [
    "# Free memory\n",
    "df_miss_var = None\n",
    "df_miss_ind = None\n",
    "df_miss_chr = None"
   ]
  },
  {
   "cell_type": "markdown",
   "metadata": {},
   "source": [
    "# NaN values processing\n",
    "\n",
    "We use the filtering options of plink2 (i.e. `--geno` and `--mind`) together with `--make-bed` to create a new dataset.\n",
    "\n",
    "**NOTE: after data cleaning, we set `file_prefix = file_prefix+'_clean'`.**"
   ]
  },
  {
   "cell_type": "code",
   "execution_count": 16,
   "metadata": {},
   "outputs": [],
   "source": [
    "# Define thresholds\n",
    "THRESHOLD_INDIVIDUALS = 0.1\n",
    "THRESHOLD_VARIANTS = 0.05"
   ]
  },
  {
   "cell_type": "code",
   "execution_count": 17,
   "metadata": {},
   "outputs": [],
   "source": [
    "# Managing paths and files\n",
    "file_prefix = file_prefix + '_clean'\n",
    "path_clean = path_out+file_prefix"
   ]
  },
  {
   "cell_type": "code",
   "execution_count": 18,
   "metadata": {},
   "outputs": [
    {
     "name": "stdout",
     "output_type": "stream",
     "text": [
      "PLINK v2.00a2LM 64-bit Intel (31 Jul 2019)     www.cog-genomics.org/plink/2.0/\n",
      "(C) 2005-2019 Shaun Purcell, Christopher Chang   GNU General Public License v3\n",
      "Logging to data/plink/host_reduced_clean_var.log.\n",
      "Options in effect:\n",
      "  --bfile data/plink/host_reduced\n",
      "  --geno 0.05\n",
      "  --make-bed\n",
      "  --out data/plink/host_reduced_clean_var\n",
      "\n",
      "Start time: Mon Aug 12 10:08:17 2019\n",
      "64232 MiB RAM detected; reserving 32116 MiB for main workspace.\n",
      "Using up to 16 threads (change this with --threads).\n",
      "622 samples (0 females, 0 males, 622 ambiguous; 622 founders) loaded from\n",
      "data/plink/host_reduced.fam.\n",
      "14605 variants loaded from data/plink/host_reduced.bim.\n",
      "Note: No phenotype data present.\n",
      "Calculating allele frequencies... 0%\b\bdone.\n",
      "--geno: 12155 variants removed due to missing genotype data.\n",
      "2450 variants remaining after main filters.\n",
      "Writing data/plink/host_reduced_clean_var.fam ... done.\n",
      "Writing data/plink/host_reduced_clean_var.bim ... done.\n",
      "Writing data/plink/host_reduced_clean_var.bed ... 0%\b\bdone.\n",
      "End time: Mon Aug 12 10:08:17 2019\n",
      "\n"
     ]
    }
   ],
   "source": [
    "path_clean_variants = path_clean+'_var'\n",
    "o,e = run_plink('--geno ' + str(THRESHOLD_VARIANTS) + ' --make-bed',\n",
    "                 file=path_raw, out=path_clean_variants, extension='bed', force=True)\n",
    "print(o)"
   ]
  },
  {
   "cell_type": "code",
   "execution_count": 19,
   "metadata": {},
   "outputs": [
    {
     "name": "stdout",
     "output_type": "stream",
     "text": [
      "PLINK v2.00a2LM 64-bit Intel (31 Jul 2019)     www.cog-genomics.org/plink/2.0/\n",
      "(C) 2005-2019 Shaun Purcell, Christopher Chang   GNU General Public License v3\n",
      "Logging to data/plink/host_reduced_clean_ind.log.\n",
      "Options in effect:\n",
      "  --bfile data/plink/host_reduced_clean_var\n",
      "  --make-bed\n",
      "  --mind 0.1\n",
      "  --out data/plink/host_reduced_clean_ind\n",
      "\n",
      "Start time: Mon Aug 12 10:08:17 2019\n",
      "64232 MiB RAM detected; reserving 32116 MiB for main workspace.\n",
      "Using up to 16 threads (change this with --threads).\n",
      "622 samples (0 females, 0 males, 622 ambiguous; 622 founders) loaded from\n",
      "data/plink/host_reduced_clean_var.fam.\n",
      "2450 variants loaded from data/plink/host_reduced_clean_var.bim.\n",
      "Note: No phenotype data present.\n",
      "Calculating sample missingness rates... 0%\b\bdone.\n",
      "10 samples removed due to missing genotype data (--mind).\n",
      "IDs written to data/plink/host_reduced_clean_ind.mindrem.id .\n",
      "612 samples (0 females, 0 males, 612 ambiguous; 612 founders) remaining after\n",
      "main filters.\n",
      "Writing data/plink/host_reduced_clean_ind.fam ... done.\n",
      "Writing data/plink/host_reduced_clean_ind.bim ... done.\n",
      "Writing data/plink/host_reduced_clean_ind.bed ... 0%\b\bdone.\n",
      "End time: Mon Aug 12 10:08:17 2019\n",
      "\n"
     ]
    }
   ],
   "source": [
    "# We overwrite on the intermediate clean dataset\n",
    "# Thus we must call run_plink with force=True\n",
    "path_clean_ind = path_clean+'_ind'\n",
    "o,e = run_plink('--mind ' + str(THRESHOLD_INDIVIDUALS) + ' --make-bed',\n",
    "                file=path_clean_variants, out=path_clean_ind, extension='bed', \n",
    "                force=True)\n",
    "print(o)"
   ]
  },
  {
   "cell_type": "markdown",
   "metadata": {},
   "source": [
    "## Check again missingness\n"
   ]
  },
  {
   "cell_type": "code",
   "execution_count": 20,
   "metadata": {},
   "outputs": [
    {
     "data": {
      "image/png": "[encoded data removed]",
      "text/plain": [
       "<Figure size 864x216 with 2 Axes>"
      ]
     },
     "metadata": {
      "needs_background": "light"
     },
     "output_type": "display_data"
    }
   ],
   "source": [
    "# Run plink\n",
    "run_plink('--missing', file=path_clean_ind, out=path_clean_ind, extension='vmiss')\n",
    "# Put in DataFrames\n",
    "# NOTE: param usecols DRASTICALLY lowers the amount of memory used\n",
    "df_miss_ind = pd.read_csv(path_clean_ind+'.smiss', sep='\\s+', usecols=['F_MISS'])\n",
    "df_miss_var = pd.read_csv(path_clean_ind+'.vmiss', sep='\\s+', usecols=['F_MISS'])\n",
    "# Plotting\n",
    "fig, ax = plt.subplots(1,2, figsize=(12, 3))\n",
    "sns.distplot(df_miss_ind.F_MISS.dropna(), kde=False, ax=ax[0])\n",
    "ax[0].set_xlabel('rate of missing variants')\n",
    "sns.distplot(df_miss_var.F_MISS.dropna(), kde=False, ax=ax[1])\n",
    "ax[1].set_xlabel('rate of missing individuals');\n",
    "# Free memory\n",
    "df_miss_var = None\n",
    "df_miss_ind = None"
   ]
  },
  {
   "cell_type": "markdown",
   "metadata": {},
   "source": [
    "# Minor allele frequencies\n",
    "\n",
    "## plink1.9 report\n",
    "\n",
    "* A1: minor allele (usually)\n",
    "* A2: major allele (usually)\n",
    "* MAF: frequency of A1"
   ]
  },
  {
   "cell_type": "code",
   "execution_count": 21,
   "metadata": {},
   "outputs": [
    {
     "name": "stdout",
     "output_type": "stream",
     "text": [
      "Warning: Nonmissing nonmale Y chromosome genotype(s) present; many commands\n",
      "treat these as missing.\n",
      "\n"
     ]
    },
    {
     "data": {
      "image/png": "[encoded data removed]",
      "text/plain": [
       "<Figure size 432x288 with 1 Axes>"
      ]
     },
     "metadata": {
      "needs_background": "light"
     },
     "output_type": "display_data"
    }
   ],
   "source": [
    "path_freq = path_clean_ind\n",
    "run_plink('--freq', extension='frq', file=path_clean_ind, \n",
    "          out=path_clean_ind, plink2=False);\n",
    "df_freq = pd.read_csv(path_freq+\".frq\", sep=\"\\s+\")\n",
    "df_freq.head(1)\n",
    "sns.distplot(df_freq.MAF.dropna(), kde=False);"
   ]
  },
  {
   "cell_type": "code",
   "execution_count": 22,
   "metadata": {},
   "outputs": [
    {
     "name": "stdout",
     "output_type": "stream",
     "text": [
      "Percentage of variants to drop for different frequency thresholds:\n",
      "0.1\t87.9%\n",
      "0.05\t84.7%\n",
      "0.01\t77.2%\n",
      "0.005\t72.6%\n"
     ]
    }
   ],
   "source": [
    "frequencies = [0.1, 0.05, 0.01, 0.005]\n",
    "print(\"Percentage of variants to drop for different frequency thresholds:\")\n",
    "N = len(df_freq.MAF)\n",
    "for f in frequencies :\n",
    "    variants = df_freq.MAF[df_freq.MAF < f]\n",
    "    print(\"{}\\t{:.3}%\".format(f, len(variants)/N*100))"
   ]
  },
  {
   "cell_type": "markdown",
   "metadata": {},
   "source": [
    "## plink2 report"
   ]
  },
  {
   "cell_type": "code",
   "execution_count": 23,
   "metadata": {},
   "outputs": [
    {
     "data": {
      "image/png": "[encoded data removed]",
      "text/plain": [
       "<Figure size 432x288 with 1 Axes>"
      ]
     },
     "metadata": {
      "needs_background": "light"
     },
     "output_type": "display_data"
    }
   ],
   "source": [
    "path_freq = path_clean_ind\n",
    "run_plink('--freq', extension='afreq', file=path_clean_ind, out=path_freq);\n",
    "df_freq = pd.read_csv(path_freq+\".afreq\", sep=\"\\s+\")\n",
    "df_freq.head(1)\n",
    "sns.distplot(df_freq.ALT_FREQS.dropna(), kde=False, norm_hist=True);"
   ]
  },
  {
   "cell_type": "markdown",
   "metadata": {},
   "source": [
    "## MAF summary\n",
    "\n"
   ]
  },
  {
   "cell_type": "code",
   "execution_count": 24,
   "metadata": {},
   "outputs": [],
   "source": [
    "df_freq = None"
   ]
  },
  {
   "cell_type": "markdown",
   "metadata": {},
   "source": [
    "## Filtering out rare variants\n",
    "\n"
   ]
  },
  {
   "cell_type": "code",
   "execution_count": null,
   "metadata": {},
   "outputs": [],
   "source": []
  },
  {
   "cell_type": "markdown",
   "metadata": {},
   "source": [
    "# Hardy-Weinberg equilibrium\n",
    "\n",
    "* A1: Tested allele\n",
    "* AX: Non-A1 alleles (comma-separated)\n",
    "* HOM_A1_CT: Homozygous-A1 genotype count\n",
    "* HET_A1_CT: Heterozygous-A1 genotype count\n",
    "* TWO_AX_CT: number of NONmissing calls with no A1 copies\n",
    "* O(HET_A1): Observed heterozygous-major frequency\n",
    "* E(HET_A1): Expected heterozygous-major frequency\n",
    "* P: Hardy-Weinberg equilibrium exact test p-value"
   ]
  },
  {
   "cell_type": "code",
   "execution_count": 25,
   "metadata": {},
   "outputs": [],
   "source": [
    "path_hardy = path_raw+'_hardy'\n",
    "run_plink('--hardy', file=path_raw, out=path_hardy, extension='hardy');"
   ]
  },
  {
   "cell_type": "code",
   "execution_count": 26,
   "metadata": {},
   "outputs": [
    {
     "data": {
      "text/html": [
       "<div>\n",
       "<style scoped>\n",
       "    .dataframe tbody tr th:only-of-type {\n",
       "        vertical-align: middle;\n",
       "    }\n",
       "\n",
       "    .dataframe tbody tr th {\n",
       "        vertical-align: top;\n",
       "    }\n",
       "\n",
       "    .dataframe thead th {\n",
       "        text-align: right;\n",
       "    }\n",
       "</style>\n",
       "<table border=\"1\" class=\"dataframe\">\n",
       "  <thead>\n",
       "    <tr style=\"text-align: right;\">\n",
       "      <th></th>\n",
       "      <th>#CHROM</th>\n",
       "      <th>ID</th>\n",
       "      <th>A1</th>\n",
       "      <th>AX</th>\n",
       "      <th>HOM_A1_CT</th>\n",
       "      <th>HET_A1_CT</th>\n",
       "      <th>TWO_AX_CT</th>\n",
       "      <th>O(HET_A1)</th>\n",
       "      <th>E(HET_A1)</th>\n",
       "      <th>P</th>\n",
       "    </tr>\n",
       "  </thead>\n",
       "  <tbody>\n",
       "    <tr>\n",
       "      <th>0</th>\n",
       "      <td>1</td>\n",
       "      <td>rs201696125</td>\n",
       "      <td>C</td>\n",
       "      <td>A</td>\n",
       "      <td>205</td>\n",
       "      <td>11</td>\n",
       "      <td>1</td>\n",
       "      <td>0.050691</td>\n",
       "      <td>0.058113</td>\n",
       "      <td>1.689620e-01</td>\n",
       "    </tr>\n",
       "    <tr>\n",
       "      <th>1</th>\n",
       "      <td>1</td>\n",
       "      <td>rs201057270</td>\n",
       "      <td>G</td>\n",
       "      <td>A</td>\n",
       "      <td>328</td>\n",
       "      <td>294</td>\n",
       "      <td>0</td>\n",
       "      <td>0.472669</td>\n",
       "      <td>0.360961</td>\n",
       "      <td>1.969700e-20</td>\n",
       "    </tr>\n",
       "    <tr>\n",
       "      <th>2</th>\n",
       "      <td>1</td>\n",
       "      <td>rs12354148</td>\n",
       "      <td>C</td>\n",
       "      <td>T</td>\n",
       "      <td>453</td>\n",
       "      <td>163</td>\n",
       "      <td>0</td>\n",
       "      <td>0.264610</td>\n",
       "      <td>0.229601</td>\n",
       "      <td>5.526700e-06</td>\n",
       "    </tr>\n",
       "    <tr>\n",
       "      <th>3</th>\n",
       "      <td>1</td>\n",
       "      <td>rs372212855</td>\n",
       "      <td>T</td>\n",
       "      <td>G</td>\n",
       "      <td>58</td>\n",
       "      <td>2</td>\n",
       "      <td>0</td>\n",
       "      <td>0.033333</td>\n",
       "      <td>0.032778</td>\n",
       "      <td>1.000000e+00</td>\n",
       "    </tr>\n",
       "    <tr>\n",
       "      <th>4</th>\n",
       "      <td>1</td>\n",
       "      <td>1:109575:C:CGTGTGTGT</td>\n",
       "      <td>CGTGTGTGT</td>\n",
       "      <td>C</td>\n",
       "      <td>22</td>\n",
       "      <td>0</td>\n",
       "      <td>2</td>\n",
       "      <td>0.000000</td>\n",
       "      <td>0.152778</td>\n",
       "      <td>1.418440e-03</td>\n",
       "    </tr>\n",
       "    <tr>\n",
       "      <th>5</th>\n",
       "      <td>1</td>\n",
       "      <td>rs200509509</td>\n",
       "      <td>GA</td>\n",
       "      <td>G</td>\n",
       "      <td>17</td>\n",
       "      <td>0</td>\n",
       "      <td>2</td>\n",
       "      <td>0.000000</td>\n",
       "      <td>0.188366</td>\n",
       "      <td>2.316600e-03</td>\n",
       "    </tr>\n",
       "    <tr>\n",
       "      <th>6</th>\n",
       "      <td>1</td>\n",
       "      <td>1:838153:CA:CAA</td>\n",
       "      <td>CAA</td>\n",
       "      <td>CA</td>\n",
       "      <td>17</td>\n",
       "      <td>2</td>\n",
       "      <td>16</td>\n",
       "      <td>0.057143</td>\n",
       "      <td>0.499592</td>\n",
       "      <td>3.101520e-08</td>\n",
       "    </tr>\n",
       "    <tr>\n",
       "      <th>7</th>\n",
       "      <td>1</td>\n",
       "      <td>1:930495:C:T</td>\n",
       "      <td>C</td>\n",
       "      <td>T</td>\n",
       "      <td>109</td>\n",
       "      <td>0</td>\n",
       "      <td>1</td>\n",
       "      <td>0.000000</td>\n",
       "      <td>0.018016</td>\n",
       "      <td>4.566210e-03</td>\n",
       "    </tr>\n",
       "    <tr>\n",
       "      <th>8</th>\n",
       "      <td>1</td>\n",
       "      <td>1:934108:G:T</td>\n",
       "      <td>G</td>\n",
       "      <td>T</td>\n",
       "      <td>121</td>\n",
       "      <td>0</td>\n",
       "      <td>1</td>\n",
       "      <td>0.000000</td>\n",
       "      <td>0.016259</td>\n",
       "      <td>4.115230e-03</td>\n",
       "    </tr>\n",
       "    <tr>\n",
       "      <th>9</th>\n",
       "      <td>1</td>\n",
       "      <td>rs546556619</td>\n",
       "      <td>C</td>\n",
       "      <td>T</td>\n",
       "      <td>621</td>\n",
       "      <td>1</td>\n",
       "      <td>0</td>\n",
       "      <td>0.001608</td>\n",
       "      <td>0.001606</td>\n",
       "      <td>1.000000e+00</td>\n",
       "    </tr>\n",
       "  </tbody>\n",
       "</table>\n",
       "</div>"
      ],
      "text/plain": [
       "   #CHROM                    ID         A1  AX  HOM_A1_CT  HET_A1_CT  \\\n",
       "0       1           rs201696125          C   A        205         11   \n",
       "1       1           rs201057270          G   A        328        294   \n",
       "2       1            rs12354148          C   T        453        163   \n",
       "3       1           rs372212855          T   G         58          2   \n",
       "4       1  1:109575:C:CGTGTGTGT  CGTGTGTGT   C         22          0   \n",
       "5       1           rs200509509         GA   G         17          0   \n",
       "6       1       1:838153:CA:CAA        CAA  CA         17          2   \n",
       "7       1          1:930495:C:T          C   T        109          0   \n",
       "8       1          1:934108:G:T          G   T        121          0   \n",
       "9       1           rs546556619          C   T        621          1   \n",
       "\n",
       "   TWO_AX_CT  O(HET_A1)  E(HET_A1)             P  \n",
       "0          1   0.050691   0.058113  1.689620e-01  \n",
       "1          0   0.472669   0.360961  1.969700e-20  \n",
       "2          0   0.264610   0.229601  5.526700e-06  \n",
       "3          0   0.033333   0.032778  1.000000e+00  \n",
       "4          2   0.000000   0.152778  1.418440e-03  \n",
       "5          2   0.000000   0.188366  2.316600e-03  \n",
       "6         16   0.057143   0.499592  3.101520e-08  \n",
       "7          1   0.000000   0.018016  4.566210e-03  \n",
       "8          1   0.000000   0.016259  4.115230e-03  \n",
       "9          0   0.001608   0.001606  1.000000e+00  "
      ]
     },
     "execution_count": 26,
     "metadata": {},
     "output_type": "execute_result"
    }
   ],
   "source": [
    "df_hardy = pd.read_csv(path_hardy+'.hardy', sep=\"\\s+\")\n",
    "df_hardy.head(10)"
   ]
  },
  {
   "cell_type": "markdown",
   "metadata": {},
   "source": [
    "***\n",
    "***\n",
    "<br /><br /><br /><br /><br /><br /><br /><br /><br /><br /><br /><br /><br /><br /><br /><br /><br /><br /><br /><br /><br /><br /><br /><br /><br /><br /><br /><br /><br /><br />"
   ]
  }
 ],
 "metadata": {
  "kernelspec": {
   "display_name": "Python 3",
   "language": "python",
   "name": "python3"
  },
  "language_info": {
   "codemirror_mode": {
    "name": "ipython",
    "version": 3
   },
   "file_extension": ".py",
   "mimetype": "text/x-python",
   "name": "python",
   "nbconvert_exporter": "python",
   "pygments_lexer": "ipython3",
   "version": "3.6.5"
  }
 },
 "nbformat": 4,
 "nbformat_minor": 2
}
