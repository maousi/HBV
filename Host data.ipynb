{
 "cells": [
  {
   "cell_type": "code",
   "execution_count": 72,
   "metadata": {},
   "outputs": [
    {
     "name": "stdout",
     "output_type": "stream",
     "text": [
      "The autoreload extension is already loaded. To reload it, use:\n",
      "  %reload_ext autoreload\n"
     ]
    }
   ],
   "source": [
    "from src import setup\n",
    "# This prevents to restart the kernel whenever an external file is edited\n",
    "%load_ext autoreload\n",
    "%autoreload 2\n",
    "\n",
    "# Scripts: see below (computation management)\n",
    "RUN_SCRIPTS = True"
   ]
  },
  {
   "cell_type": "markdown",
   "metadata": {},
   "source": [
    "# Introduction\n",
    "\n",
    "## Computation management\n",
    "We run all the bash scripts with the function below. Idea: two separate procedures, depending on wether the computations have already been done locally. Principle:\n",
    "\n",
    "1. Call of the custom function `run(path)` and hide output by default.\n",
    "    * If `RUN_SCRIPTS` == False, simply do nothing\n",
    "    * If `RUN_SCRIPTS` == True, run the script\n",
    "1. `cat` the log file.\n",
    "\n",
    "Example: while coding or after importing source code, put `RUN_SCRIPTS = True`. While re-running a notebook (ex: check that the code runs), put `RUN_SCRIPTS = False`."
   ]
  },
  {
   "cell_type": "code",
   "execution_count": 73,
   "metadata": {},
   "outputs": [],
   "source": [
    "def run(path=None, func=None):\n",
    "    if RUN_SCRIPTS == False: return\n",
    "    if path is not None:\n",
    "        !./pwd\n",
    "    if func is not None:\n",
    "        func()"
   ]
  },
  {
   "cell_type": "markdown",
   "metadata": {},
   "source": [
    "## Overview on raw data\n",
    "\n",
    "### Files"
   ]
  },
  {
   "cell_type": "code",
   "execution_count": 12,
   "metadata": {},
   "outputs": [
    {
     "name": "stdout",
     "output_type": "stream",
     "text": [
      "total 2.6G\r\n",
      "-rwxr-xr-x 1 mazeller SV-BA4-unit  245 Aug  9 16:11 dictionary_wes_vcf.txt\r\n",
      "-rwxr-xr-x 1 mazeller SV-BA4-unit 2.2G Aug  9 16:11 hbv_gilead.bed\r\n",
      "-rwxr-xr-x 1 mazeller SV-BA4-unit 431M Aug  9 16:11 hbv_gilead.bim\r\n",
      "-rwxr-xr-x 1 mazeller SV-BA4-unit  18K Aug  9 16:11 hbv_gilead.fam\r\n"
     ]
    }
   ],
   "source": [
    "path = setup.PATH_HOST_RAW_DATA\n",
    "!ls -lh $path"
   ]
  },
  {
   "cell_type": "markdown",
   "metadata": {},
   "source": [
    "Those are **plink binary files**. "
   ]
  },
  {
   "cell_type": "markdown",
   "metadata": {},
   "source": [
    "### Dictionnary of the data"
   ]
  },
  {
   "cell_type": "code",
   "execution_count": 13,
   "metadata": {},
   "outputs": [
    {
     "name": "stdout",
     "output_type": "stream",
     "text": [
      "Info about WES_VCF by Ondrej.Podlaha@gilead.com on Dec 12 2018.\r\n",
      "\r\n",
      "1. Human reference genome: GRCh37.87\r\n",
      "2. Variant calling was performed using GATK (version nightly-2016-08-27-g667f78b; HaplotypeCaller)\r\n",
      "3. dbSNP v138 was used by HaplotypeCaller\r\n",
      " \r\n"
     ]
    }
   ],
   "source": [
    "!cat $path/dictionary_wes_vcf.txt"
   ]
  },
  {
   "cell_type": "markdown",
   "metadata": {},
   "source": [
    "### Summary of data - plink2\n",
    "\n",
    "We simply run plink with the `--bfile` option to get an overview on the data"
   ]
  },
  {
   "cell_type": "code",
   "execution_count": 15,
   "metadata": {},
   "outputs": [
    {
     "name": "stdout",
     "output_type": "stream",
     "text": [
      "/usr/bin/sh: /home/mazeller/opt/x86_E5v2_IntelIB/venv-gcc/bin:/ssoft/spack/paien/v2/opt/spack/linux-rhel7-x86_E5v2_IntelIB/gcc-6.4.0/python-3.6.5-wq64mct6tytbe3dp5iv65jlwd7rn7wvd/bin:/ssoft/spack/paien/v2/opt/spack/linux-rhel7-x86_E5v2_IntelIB/gcc-4.8.5/gcc-6.4.0-5lz2sine3ujgoc7aswaexuinafuepktx/bin:/usr/lib64/qt-3.3/bin:/usr/lib64/ccache:/usr/local/bin:/usr/bin:/usr/local/sbin:/usr/sbin:/usr/lpp/mmfs/bin:/home/mazeller/.local/bin:/home/mazeller/bin: No such file or directory\r\n"
     ]
    }
   ],
   "source": [
    "def plink_summary():\n",
    "    !plink2 "
   ]
  },
  {
   "cell_type": "markdown",
   "metadata": {},
   "source": [
    "<br /><br /><br /><br /><br /><br /><br /><br /><br /><br /><br /><br /><br /><br /><br />"
   ]
  }
 ],
 "metadata": {
  "kernelspec": {
   "display_name": "Python 3",
   "language": "python",
   "name": "python3"
  },
  "language_info": {
   "codemirror_mode": {
    "name": "ipython",
    "version": 3
   },
   "file_extension": ".py",
   "mimetype": "text/x-python",
   "name": "python",
   "nbconvert_exporter": "python",
   "pygments_lexer": "ipython3",
   "version": "3.6.5"
  }
 },
 "nbformat": 4,
 "nbformat_minor": 2
}
