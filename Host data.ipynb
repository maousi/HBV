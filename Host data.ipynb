{
 "cells": [
  {
   "cell_type": "code",
   "execution_count": 16,
   "metadata": {},
   "outputs": [
    {
     "name": "stdout",
     "output_type": "stream",
     "text": [
      "The autoreload extension is already loaded. To reload it, use:\n",
      "  %reload_ext autoreload\n"
     ]
    }
   ],
   "source": [
    "import numpy as np\n",
    "import seaborn as sns\n",
    "import matplotlib.pyplot as plt\n",
    "import pandas as pd\n",
    "import pandas_plink as pp\n",
    "from src import setup\n",
    "# This prevents to restart the kernel whenever an external file is edited\n",
    "%load_ext autoreload\n",
    "%autoreload 2\n",
    "\n",
    "# Scripts: see below (computation management)\n",
    "RUN_SCRIPTS = True\n",
    "DEFAULT_RECOMPUTE = False\n",
    "# \n",
    "DATA_THINNING = True"
   ]
  },
  {
   "cell_type": "markdown",
   "metadata": {},
   "source": [
    "# Introduction\n",
    "\n",
    "**14'738'460 variants, 622 people.**\n",
    "\n",
    "## Computation management\n",
    "\n",
    "<s>\n",
    "We run all the bash scripts with the function below. Idea: two separate procedures, depending on wether the computations have already been done locally. Principle:\n",
    "\n",
    "1. Call of the custom function `run(path)` and hide output by default.\n",
    "    * If `RUN_SCRIPTS` == False, simply do nothing\n",
    "    * If `RUN_SCRIPTS` == True, run the script\n",
    "1. `cat` the log file.\n",
    "\n",
    "Example: while coding or after importing source code, put `RUN_SCRIPTS = True`. While re-running a notebook (ex: check that the code runs), put `RUN_SCRIPTS = False`.\n",
    "</s>\n",
    "\n",
    "### Idea\n",
    "\n",
    "Sometimes we don't want to re-do all the computations if the resulting data is already calculated. Thus we provide:\n",
    "1. A way of easily running shell commands\n",
    "1. A dedicated function to easily run plink commands on the shell\n",
    "1. A way of checking if the results already exist, and loading data if this is the case\n",
    "    * Unless we specifically specifiy to re-do the calculations.\n",
    "\n",
    "DOCUMENTATION about running shell commands and managing the outputs : https://janakiev.com/til/python-shell-commands/, https://www.pythonforbeginners.com/os/subprocess-for-system-administrators"
   ]
  },
  {
   "cell_type": "markdown",
   "metadata": {},
   "source": [
    "### General principle\n",
    "\n",
    "* `run_shell_command`: manage to run shell commands with a specific package (`subprocess`) that helps to manage the outputs.\n",
    "* `run_plink`: manage plink version, binary files location, output location, display errors, check if results already exist\n",
    "\n",
    "**NOTE: possible improvement: automatically find the file extension. Also, if the command results in several output files, we should check that all of them are present (but we assume the user doesn't make such dumb things, i.e. deleting only a fraction of the output files.**\n",
    "\n",
    "Workflow:\n",
    "1. Call `run_plink` command with the specific command (e.g. `--freq`), the input, the output and the file extension to look for (to avoid re-doing the computations). \n",
    "1. The function checks if the result already exist (needs the output and the extension resulting from the command)\n",
    "    * already exists: display a message, abort the process (returns 2-tuple of empty strings). This occurs if `force==False` (which is the default value).\n",
    "1. The command is runned with plink2 by default\n",
    "1. The error messages are displayed (by default, `verbose_err=True`)\n",
    "1. The outputs are returned as a tuple (stdout, stderr)"
   ]
  },
  {
   "cell_type": "code",
   "execution_count": 23,
   "metadata": {},
   "outputs": [],
   "source": [
    "import subprocess\n",
    "import os.path\n",
    "\n",
    "def run_shell_command(cmd_lst) :\n",
    "    \"\"\"Returns a tuple: (stdout, stderr).\n",
    "    Note: you must separate the options from their values.\n",
    "    Note: the output is returned when all calculations are done\n",
    "    Example: you want 'plink --bfile <file> ...'. Must provide cmd_list=['plink', '--bfile', '<file>', ...]\"\"\"\n",
    "    process = subprocess.Popen(cmd_lst, stdout=subprocess.PIPE, \n",
    "                               stderr=subprocess.PIPE, universal_newlines=True)\n",
    "    return process.communicate()\n",
    "\n",
    "def run_plink(command, file, out, extension, plink2=True, verbose_err=True, force=DEFAULT_RECOMPUTE):\n",
    "    \"\"\"Returns a tuple: (stdout, stderr).\n",
    "    Note: command input must have the options/values separated by a single space\"\"\"\n",
    "    #if RUN_SCRIPTS == False: return\n",
    "    # Check is result already exist\n",
    "    if force==False and os.path.exists(out+'.'+extension): \n",
    "        print(\"run_plink: command '{}', the file '{}' already exists (force is set to False).\"\n",
    "             .format(command, out+'.'+extension))\n",
    "        # ABORT !\n",
    "        return ('run_plink was aborted', '')\n",
    "    # Construct the shell commands\n",
    "    lst = []\n",
    "    # Determine plink version to use\n",
    "    lst.append('plink2' if plink2 else 'plink')\n",
    "    # Input and output\n",
    "    lst.append('--bfile'); lst.append(file)\n",
    "    lst.append('--out');   lst.append(out)\n",
    "    # Must separate the options from their values (see run_shell_command)\n",
    "    commands = command.split(' ')\n",
    "    for c in commands :\n",
    "        lst.append(c)\n",
    "    # Provide values to the run_shell_command function\n",
    "    stdout, stderr = run_shell_command(lst)\n",
    "    # Display errors\n",
    "    if stderr and verbose_err : print(stderr)\n",
    "    # Return the outputs\n",
    "    return stdout, stderr"
   ]
  },
  {
   "cell_type": "code",
   "execution_count": 48,
   "metadata": {},
   "outputs": [],
   "source": [
    "path_raw = setup.PATH_HOST_RAW_PLINK_DATA"
   ]
  },
  {
   "cell_type": "markdown",
   "metadata": {},
   "source": [
    "## Overview on raw data\n",
    "\n",
    "### Files"
   ]
  },
  {
   "cell_type": "code",
   "execution_count": 5,
   "metadata": {},
   "outputs": [
    {
     "name": "stdout",
     "output_type": "stream",
     "text": [
      "total 4.0G\r\n",
      "-rwxr-xr-x 1 mazeller SV-BA4-unit  245 Aug  9 16:11 dictionary_wes_vcf.txt\r\n",
      "-rwxr-xr-x 1 mazeller SV-BA4-unit 2.2G Aug  9 16:11 hbv_gilead.bed\r\n",
      "-rwxr-xr-x 1 mazeller SV-BA4-unit 431M Aug  9 16:11 hbv_gilead.bim\r\n",
      "-rwxr-xr-x 1 mazeller SV-BA4-unit  18K Aug  9 16:11 hbv_gilead.fam\r\n",
      "-rw-r--r-- 1 mazeller SV-BA4-unit 1.4G Aug 11 01:59 hbv_gilead.frq\r\n",
      "-rw-r--r-- 1 mazeller SV-BA4-unit  930 Aug 11 01:59 hbv_gilead.log\r\n",
      "-rw-r--r-- 1 mazeller SV-BA4-unit  13K Aug 11 01:59 hbv_gilead.nosex\r\n"
     ]
    }
   ],
   "source": [
    "path = setup.PATH_HOST_RAW_DATA\n",
    "!ls -lh $path"
   ]
  },
  {
   "cell_type": "markdown",
   "metadata": {},
   "source": [
    "Those are **plink binary files**. "
   ]
  },
  {
   "cell_type": "markdown",
   "metadata": {},
   "source": [
    "### Dictionnary of the data"
   ]
  },
  {
   "cell_type": "code",
   "execution_count": 6,
   "metadata": {},
   "outputs": [
    {
     "name": "stdout",
     "output_type": "stream",
     "text": [
      "Info about WES_VCF by Ondrej.Podlaha@gilead.com on Dec 12 2018.\r\n",
      "\r\n",
      "1. Human reference genome: GRCh37.87\r\n",
      "2. Variant calling was performed using GATK (version nightly-2016-08-27-g667f78b; HaplotypeCaller)\r\n",
      "3. dbSNP v138 was used by HaplotypeCaller\r\n",
      " \r\n"
     ]
    }
   ],
   "source": [
    "!cat $path/dictionary_wes_vcf.txt"
   ]
  },
  {
   "cell_type": "markdown",
   "metadata": {},
   "source": [
    "## Arbitrary thinning of the data\n",
    "\n",
    "We use the plink2 `--thin <p>` option to **reduce the amount of data** (keep entries with probability p). We'll make sure that the code runs first. When everything works, we can simply set `DATA_THINNING = False`.\n",
    "\n",
    "Management of the **data being taken into account**: we simply put `path_raw` to target the reduced data."
   ]
  },
  {
   "cell_type": "code",
   "execution_count": 50,
   "metadata": {
    "scrolled": true
   },
   "outputs": [
    {
     "name": "stdout",
     "output_type": "stream",
     "text": [
      "run_plink: command '--thin 0.001 --make-bed', the file 'data/plink/host_reduced.bed' already exists (force is set to False).\n"
     ]
    }
   ],
   "source": [
    "if DATA_THINNING == True :\n",
    "    path_out = setup.PATH_PLINK_DATA+'host_reduced'\n",
    "    run_plink(\"--thin 0.001 --make-bed\", file=path_raw, out=path_out, extension='bed')\n",
    "    path_raw = path_out"
   ]
  },
  {
   "cell_type": "code",
   "execution_count": 51,
   "metadata": {
    "scrolled": true
   },
   "outputs": [
    {
     "name": "stdout",
     "output_type": "stream",
     "text": [
      "  --thin 0.001\r\n",
      "--thin: 14723731 variants removed (14729 remaining).\r\n"
     ]
    }
   ],
   "source": [
    "!cat $path_out'.log' | grep thin"
   ]
  },
  {
   "cell_type": "markdown",
   "metadata": {},
   "source": [
    "**WARNING: now, the `path_raw` variable targets the reduced data if `DATA_THINNING==True`. Moreover, this path should not be modified in any downstream procedure.**"
   ]
  },
  {
   "cell_type": "markdown",
   "metadata": {},
   "source": [
    "# Missing values\n",
    "\n",
    "`.smiss` for sample-based missing data report:\n",
    "* MISSING_CT: Number of missing hardcalls, not counting het haploids\n",
    "* OBS_CT = Denominator (#males on chrY, otherwise #samples)\n",
    "* F_MISS = Missing hardcall rate, not counting het haploids\n",
    "\n"
   ]
  },
  {
   "cell_type": "code",
   "execution_count": 52,
   "metadata": {},
   "outputs": [],
   "source": [
    "path_missing = path_raw+'_missing'\n",
    "o,e = run_plink(\"--missing\", file=path_raw, out=path_missing, extension='vmiss')"
   ]
  },
  {
   "cell_type": "code",
   "execution_count": 53,
   "metadata": {},
   "outputs": [
    {
     "name": "stdout",
     "output_type": "stream",
     "text": [
      "Shape of missing var table: (14729, 5)\n",
      "Columns of missing var table:\n",
      "\tIndex(['#CHROM', 'ID', 'MISSING_CT', 'OBS_CT', 'F_MISS'], dtype='object')\n",
      "Shape of missing ind table: (622, 5)\n",
      "Columns of missing ind table:\n",
      "\tIndex(['#FID', 'IID', 'MISSING_CT', 'OBS_CT', 'F_MISS'], dtype='object')\n"
     ]
    }
   ],
   "source": [
    "df_miss_ind = pd.read_csv(path_missing+'.smiss', sep='\\s+')\n",
    "df_miss_var = pd.read_csv(path_missing+'.vmiss', sep='\\s+')\n",
    "print(\"Shape of missing var table: {}\\nColumns of missing var table:\\n\\t{}\\\n",
    "\\nShape of missing ind table: {}\\nColumns of missing ind table:\\n\\t{}\"\n",
    "     .format(df_miss_var.shape, df_miss_var.columns, \n",
    "             df_miss_ind.shape, df_miss_ind.columns))"
   ]
  },
  {
   "cell_type": "markdown",
   "metadata": {},
   "source": [
    "## Missingness of individuals per variant\n",
    "\n",
    "For each individual, plink computed the rate of missing variants. This tells us about how to filter individuals out."
   ]
  },
  {
   "cell_type": "code",
   "execution_count": 36,
   "metadata": {},
   "outputs": [
    {
     "data": {
      "text/html": [
       "<div>\n",
       "<style scoped>\n",
       "    .dataframe tbody tr th:only-of-type {\n",
       "        vertical-align: middle;\n",
       "    }\n",
       "\n",
       "    .dataframe tbody tr th {\n",
       "        vertical-align: top;\n",
       "    }\n",
       "\n",
       "    .dataframe thead th {\n",
       "        text-align: right;\n",
       "    }\n",
       "</style>\n",
       "<table border=\"1\" class=\"dataframe\">\n",
       "  <thead>\n",
       "    <tr style=\"text-align: right;\">\n",
       "      <th></th>\n",
       "      <th>#FID</th>\n",
       "      <th>IID</th>\n",
       "      <th>MISSING_CT</th>\n",
       "      <th>OBS_CT</th>\n",
       "      <th>F_MISS</th>\n",
       "    </tr>\n",
       "  </thead>\n",
       "  <tbody>\n",
       "    <tr>\n",
       "      <th>0</th>\n",
       "      <td>igm160017</td>\n",
       "      <td>igm160017</td>\n",
       "      <td>11319</td>\n",
       "      <td>14658</td>\n",
       "      <td>0.772206</td>\n",
       "    </tr>\n",
       "  </tbody>\n",
       "</table>\n",
       "</div>"
      ],
      "text/plain": [
       "        #FID        IID  MISSING_CT  OBS_CT    F_MISS\n",
       "0  igm160017  igm160017       11319   14658  0.772206"
      ]
     },
     "execution_count": 36,
     "metadata": {},
     "output_type": "execute_result"
    }
   ],
   "source": [
    "df_miss_ind.head(1)"
   ]
  },
  {
   "cell_type": "code",
   "execution_count": 37,
   "metadata": {},
   "outputs": [
    {
     "data": {
      "image/png": "[encoded data removed]",
      "text/plain": [
       "<Figure size 432x288 with 1 Axes>"
      ]
     },
     "metadata": {
      "needs_background": "light"
     },
     "output_type": "display_data"
    }
   ],
   "source": [
    "sns.distplot(df_miss_ind['F_MISS'], norm_hist=False, kde=False)\n",
    "plt.ylabel('number of individuals'); plt.xlabel('rate of missing variants');"
   ]
  },
  {
   "cell_type": "markdown",
   "metadata": {},
   "source": [
    "## Missing report - variants\n",
    "\n",
    "For each variant, plink computed the rate of missing individuals. This tells us about how to filter variants out."
   ]
  },
  {
   "cell_type": "code",
   "execution_count": 38,
   "metadata": {
    "scrolled": true
   },
   "outputs": [
    {
     "data": {
      "text/html": [
       "<div>\n",
       "<style scoped>\n",
       "    .dataframe tbody tr th:only-of-type {\n",
       "        vertical-align: middle;\n",
       "    }\n",
       "\n",
       "    .dataframe tbody tr th {\n",
       "        vertical-align: top;\n",
       "    }\n",
       "\n",
       "    .dataframe thead th {\n",
       "        text-align: right;\n",
       "    }\n",
       "</style>\n",
       "<table border=\"1\" class=\"dataframe\">\n",
       "  <thead>\n",
       "    <tr style=\"text-align: right;\">\n",
       "      <th></th>\n",
       "      <th>#CHROM</th>\n",
       "      <th>ID</th>\n",
       "      <th>MISSING_CT</th>\n",
       "      <th>OBS_CT</th>\n",
       "      <th>F_MISS</th>\n",
       "    </tr>\n",
       "  </thead>\n",
       "  <tbody>\n",
       "    <tr>\n",
       "      <th>0</th>\n",
       "      <td>1</td>\n",
       "      <td>rs62639100</td>\n",
       "      <td>20</td>\n",
       "      <td>622</td>\n",
       "      <td>0.032154</td>\n",
       "    </tr>\n",
       "  </tbody>\n",
       "</table>\n",
       "</div>"
      ],
      "text/plain": [
       "  #CHROM          ID  MISSING_CT  OBS_CT    F_MISS\n",
       "0      1  rs62639100          20     622  0.032154"
      ]
     },
     "execution_count": 38,
     "metadata": {},
     "output_type": "execute_result"
    }
   ],
   "source": [
    "df_miss_var.head(1)"
   ]
  },
  {
   "cell_type": "code",
   "execution_count": 39,
   "metadata": {},
   "outputs": [
    {
     "data": {
      "image/png": "[encoded data removed]",
      "text/plain": [
       "<Figure size 432x288 with 1 Axes>"
      ]
     },
     "metadata": {
      "needs_background": "light"
     },
     "output_type": "display_data"
    }
   ],
   "source": [
    "sns.distplot(df_miss_var.F_MISS.dropna(), kde=False, norm_hist=False)\n",
    "plt.xlabel('rate of missing individuals'); plt.ylabel('number of variants');"
   ]
  },
  {
   "cell_type": "markdown",
   "metadata": {},
   "source": [
    "## Summary of missing reports\n",
    "\n",
    "We indeed expect to have almost no items with very few missing variants: missingness has more to do with the sequencing method and the genome location (than randomness). There is no individual that would be specifically better sequenced than others (excluding randomness). In contrast, we expect some variants to be missing in almost all individuals or to be present in all of them.\n",
    "\n",
    "Report `.smiss` (individuals): for each individual, we're interested in the rate of missing variants. That tells us which individuals have too much missingness. There is actually a huge number of individuals with a missing rate >80%. It can arise from that fact that:\n",
    "1. We have low-quality sequencing data\n",
    "1. If we use reduced data, the sub-sample we have has a lot of missingness by random\n",
    "1. **Missingness is biased**, since we did not exclude the variants with high missing rates.\n",
    "\n",
    "Remember that we want to be very careful while excluding individuals, we want to save them due to the small sample size. Just like we did in the viral sequencing data, we must first remove bad variants before removing individuals.\n"
   ]
  },
  {
   "cell_type": "code",
   "execution_count": null,
   "metadata": {},
   "outputs": [],
   "source": [
    "# Free memory\n",
    "df_miss_var = None\n",
    "df_miss_ind = None"
   ]
  },
  {
   "cell_type": "markdown",
   "metadata": {},
   "source": [
    "# Minor allele frequencies\n",
    "\n",
    "## plink1.9 report\n",
    "\n",
    "* A1: minor allele (usually)\n",
    "* A2: major allele (usually)\n",
    "* MAF: frequency of A1"
   ]
  },
  {
   "cell_type": "code",
   "execution_count": 75,
   "metadata": {},
   "outputs": [
    {
     "name": "stdout",
     "output_type": "stream",
     "text": [
      "Warning: Nonmissing nonmale Y chromosome genotype(s) present; many commands\n",
      "treat these as missing.\n",
      "\n"
     ]
    }
   ],
   "source": [
    "path_freq = path_raw+'_freq'\n",
    "run_plink('--freq', extension='frq', file=path_raw, out=path_freq, plink2=False);"
   ]
  },
  {
   "cell_type": "code",
   "execution_count": 76,
   "metadata": {},
   "outputs": [
    {
     "data": {
      "text/html": [
       "<div>\n",
       "<style scoped>\n",
       "    .dataframe tbody tr th:only-of-type {\n",
       "        vertical-align: middle;\n",
       "    }\n",
       "\n",
       "    .dataframe tbody tr th {\n",
       "        vertical-align: top;\n",
       "    }\n",
       "\n",
       "    .dataframe thead th {\n",
       "        text-align: right;\n",
       "    }\n",
       "</style>\n",
       "<table border=\"1\" class=\"dataframe\">\n",
       "  <thead>\n",
       "    <tr style=\"text-align: right;\">\n",
       "      <th></th>\n",
       "      <th>CHR</th>\n",
       "      <th>SNP</th>\n",
       "      <th>A1</th>\n",
       "      <th>A2</th>\n",
       "      <th>MAF</th>\n",
       "      <th>NCHROBS</th>\n",
       "    </tr>\n",
       "  </thead>\n",
       "  <tbody>\n",
       "    <tr>\n",
       "      <th>0</th>\n",
       "      <td>1</td>\n",
       "      <td>rs760339928</td>\n",
       "      <td>C</td>\n",
       "      <td>CT</td>\n",
       "      <td>0.01493</td>\n",
       "      <td>402</td>\n",
       "    </tr>\n",
       "  </tbody>\n",
       "</table>\n",
       "</div>"
      ],
      "text/plain": [
       "   CHR          SNP A1  A2      MAF  NCHROBS\n",
       "0    1  rs760339928  C  CT  0.01493      402"
      ]
     },
     "execution_count": 76,
     "metadata": {},
     "output_type": "execute_result"
    }
   ],
   "source": [
    "df_freq = pd.read_csv(path_freq+\".frq\", sep=\"\\s+\")\n",
    "df_freq.head(1)"
   ]
  },
  {
   "cell_type": "code",
   "execution_count": 80,
   "metadata": {},
   "outputs": [
    {
     "data": {
      "image/png": "[encoded data removed]",
      "text/plain": [
       "<Figure size 432x288 with 1 Axes>"
      ]
     },
     "metadata": {
      "needs_background": "light"
     },
     "output_type": "display_data"
    }
   ],
   "source": [
    "sns.distplot(df_freq.MAF.dropna(), kde=False);"
   ]
  },
  {
   "cell_type": "code",
   "execution_count": 86,
   "metadata": {},
   "outputs": [
    {
     "name": "stdout",
     "output_type": "stream",
     "text": [
      "Number of variants to drop for different frequency thresholds:\n",
      "0.1 \t 9428\n",
      "0.05 \t 7832\n",
      "0.01 \t 3678\n",
      "0.005 \t 2575\n"
     ]
    }
   ],
   "source": [
    "frequencies = [0.1, 0.05, 0.01, 0.005]\n",
    "print(\"Number of variants to drop for different frequency thresholds:\")\n",
    "for f in frequencies :\n",
    "    variants = df_freq.MAF[df_freq.MAF < f]\n",
    "    print(f, '\\t', len(variants))"
   ]
  },
  {
   "cell_type": "markdown",
   "metadata": {},
   "source": [
    "## plink2 report"
   ]
  },
  {
   "cell_type": "code",
   "execution_count": 74,
   "metadata": {},
   "outputs": [],
   "source": [
    "path_freq = path_raw+'_freq'\n",
    "run_plink('--freq', extension='afreq', file=path_raw, out=path_freq);"
   ]
  },
  {
   "cell_type": "code",
   "execution_count": 65,
   "metadata": {},
   "outputs": [
    {
     "data": {
      "text/html": [
       "<div>\n",
       "<style scoped>\n",
       "    .dataframe tbody tr th:only-of-type {\n",
       "        vertical-align: middle;\n",
       "    }\n",
       "\n",
       "    .dataframe tbody tr th {\n",
       "        vertical-align: top;\n",
       "    }\n",
       "\n",
       "    .dataframe thead th {\n",
       "        text-align: right;\n",
       "    }\n",
       "</style>\n",
       "<table border=\"1\" class=\"dataframe\">\n",
       "  <thead>\n",
       "    <tr style=\"text-align: right;\">\n",
       "      <th></th>\n",
       "      <th>#CHROM</th>\n",
       "      <th>ID</th>\n",
       "      <th>REF</th>\n",
       "      <th>ALT</th>\n",
       "      <th>ALT_FREQS</th>\n",
       "      <th>OBS_CT</th>\n",
       "    </tr>\n",
       "  </thead>\n",
       "  <tbody>\n",
       "    <tr>\n",
       "      <th>0</th>\n",
       "      <td>1</td>\n",
       "      <td>rs760339928</td>\n",
       "      <td>CT</td>\n",
       "      <td>C</td>\n",
       "      <td>0.014925</td>\n",
       "      <td>402</td>\n",
       "    </tr>\n",
       "  </tbody>\n",
       "</table>\n",
       "</div>"
      ],
      "text/plain": [
       "  #CHROM           ID REF ALT  ALT_FREQS  OBS_CT\n",
       "0      1  rs760339928  CT   C   0.014925     402"
      ]
     },
     "execution_count": 65,
     "metadata": {},
     "output_type": "execute_result"
    }
   ],
   "source": [
    "df_freq = pd.read_csv(path_freq+\".afreq\", sep=\"\\s+\")\n",
    "df_freq.head(1)"
   ]
  },
  {
   "cell_type": "code",
   "execution_count": 71,
   "metadata": {},
   "outputs": [
    {
     "data": {
      "image/png": "[encoded data removed]",
      "text/plain": [
       "<Figure size 432x288 with 1 Axes>"
      ]
     },
     "metadata": {
      "needs_background": "light"
     },
     "output_type": "display_data"
    }
   ],
   "source": [
    "sns.distplot(df_freq.ALT_FREQS.dropna(), kde=False, norm_hist=True);"
   ]
  },
  {
   "cell_type": "markdown",
   "metadata": {},
   "source": [
    "## MAF summary\n",
    "\n",
    "Should still say if should use plink or plink2."
   ]
  },
  {
   "cell_type": "code",
   "execution_count": null,
   "metadata": {},
   "outputs": [],
   "source": [
    "# Free memory\n",
    "df_freq = None"
   ]
  },
  {
   "cell_type": "markdown",
   "metadata": {},
   "source": [
    "<br /><br /><br /><br /><br /><br /><br /><br /><br /><br /><br /><br /><br /><br /><br />"
   ]
  }
 ],
 "metadata": {
  "kernelspec": {
   "display_name": "Python 3",
   "language": "python",
   "name": "python3"
  },
  "language_info": {
   "codemirror_mode": {
    "name": "ipython",
    "version": 3
   },
   "file_extension": ".py",
   "mimetype": "text/x-python",
   "name": "python",
   "nbconvert_exporter": "python",
   "pygments_lexer": "ipython3",
   "version": "3.6.5"
  }
 },
 "nbformat": 4,
 "nbformat_minor": 2
}
