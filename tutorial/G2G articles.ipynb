{
 "cells": [
  {
   "cell_type": "markdown",
   "metadata": {},
   "source": [
    "# Background\n",
    "\n",
    "###### Human leukocyte antigen\n",
    "\n",
    "HLA is a gene complex encoding MHC proteins in human. MHC proteins are cell surface proteins involved in the immune system regulation. HLA genes are **higly polymorphic**\n",
    "\n",
    "###### Difference HLA-MHC\n",
    "\n",
    "[By simplifying](https://www.researchgate.net/post/What_is_the_difference_between_MHC_and_HLA_genes), HLA is the human version of MHC."
   ]
  },
  {
   "cell_type": "markdown",
   "metadata": {},
   "source": [
    "# Human-HIV1\n",
    "\n",
    "[A genome-to-genome analysis of associations between human genetic variation, HIV-1 sequence diversity, and viral control](https://cdn.elifesciences.org/articles/01123/elife-01123-v1.pdf)\n",
    "\n",
    "#### Abstract \n",
    "\n",
    "Selection pressures araising from the host's genomic factors affects HIV-1 sequence diversity. Ran >3000 genome-wide scans by testing host polymorphisms<->HIV-1 seq variaition or host polymorphisms<->plasma viral load. They took viral and human population structures into account. A total of 48 HIV-1 amino acid variants ($p < 2.4*10^{-12}$) were associated with SNPs that are only from HLA class 1 region. They assessed using viral load results. \n",
    "\n",
    "##### Results\n",
    "\n",
    "Full length HIV-1 genome sequences, 1071 patients (Western Europe ancestry), infected with subtype B. Homogeneity of the study population was confirmed by PCA of the genotype matrix. The first 5 PCs explained 1% of the variation. After QC, imputation and filtering, ~ 7 million SNPs were available for association testing. 9.5Kb long, HIV-1 has 3000 encoded amino acids, they were covered in 85% of the study population. A portion (gp120) was not sequenced due to its hypervariable nature. **Overall 1126 residues of HIV-1 proteome were found to be variable in at least 10 samples** (~ 0.9%)**, for a total of 3381 different viral amino acids represented by 3007 distinct binary variables**. \n",
    "\n",
    "They performed 3 studies :\n",
    "\n",
    "\n",
    "\n",
    "* Human genetic variation <-> Viral load\n",
    "* Human genetic variation <-> HIV sequence variation\n",
    "* HIV sequence variation <-> Viral load"
   ]
  },
  {
   "cell_type": "markdown",
   "metadata": {},
   "source": [
    "#### Host VL GWAS\n",
    "\n",
    "#### G2G analyses\n",
    "\n",
    "3007 genome-wide analyses between SNPs<->AA variants performed in 1071 individuals, logistic regression corrected for viral phylogeny. They observed highly significant associations with SNPs from the major histocompatibility complex (MHC) region. Using Bonferroni correction, 48 viral AA were associated. None of these mapped to known sites of major antiretroviral drug resistance mutations. \n",
    "\n",
    "#### SNPs, HLA alleles and CTL epitopes\n",
    "\n",
    "They tested pair-wise correlations between significant MHC SNPs and HLA class I alleles which revealed high LD between them. \n",
    "\n",
    "[...]\n",
    "\n",
    "\n",
    "*The study suggests that the G2G approach can be linked to clinical phenotypes, allowing for detailed understanding of the distribution and relative contribution of sites of host-pathogen interaction to disease outcome.*"
   ]
  },
  {
   "cell_type": "markdown",
   "metadata": {},
   "source": [
    "#### Discussion\n",
    "\n",
    "HIV-1 host genomic studies performed so far focused on clinically defined outcomes, which present some drawbacks:\n",
    "\n",
    "* Hard to determine phenotypes consistently, which affects power in large-scale studies performed across multiple centers. \n",
    "* Unrealistic and ethically questionable to obtain data about the natural history of the infection, in the context of HIV (need long absence of antiretroviral treatment).\n",
    "\n",
    "HIV-1 variation was thus used as an **intermediate phenotype** for association sutdies. "
   ]
  },
  {
   "cell_type": "code",
   "execution_count": null,
   "metadata": {},
   "outputs": [],
   "source": []
  },
  {
   "cell_type": "code",
   "execution_count": null,
   "metadata": {},
   "outputs": [],
   "source": []
  },
  {
   "cell_type": "code",
   "execution_count": null,
   "metadata": {},
   "outputs": [],
   "source": []
  }
 ],
 "metadata": {
  "kernelspec": {
   "display_name": "Python 3",
   "language": "python",
   "name": "python3"
  },
  "language_info": {
   "codemirror_mode": {
    "name": "ipython",
    "version": 3
   },
   "file_extension": ".py",
   "mimetype": "text/x-python",
   "name": "python",
   "nbconvert_exporter": "python",
   "pygments_lexer": "ipython3",
   "version": "3.7.3"
  },
  "toc": {
   "base_numbering": 1,
   "nav_menu": {},
   "number_sections": true,
   "sideBar": true,
   "skip_h1_title": false,
   "title_cell": "Table of Contents",
   "title_sidebar": "Contents",
   "toc_cell": false,
   "toc_position": {},
   "toc_section_display": true,
   "toc_window_display": false
  },
  "varInspector": {
   "cols": {
    "lenName": 16,
    "lenType": 16,
    "lenVar": 40
   },
   "kernels_config": {
    "python": {
     "delete_cmd_postfix": "",
     "delete_cmd_prefix": "del ",
     "library": "var_list.py",
     "varRefreshCmd": "print(var_dic_list())"
    },
    "r": {
     "delete_cmd_postfix": ") ",
     "delete_cmd_prefix": "rm(",
     "library": "var_list.r",
     "varRefreshCmd": "cat(var_dic_list()) "
    }
   },
   "types_to_exclude": [
    "module",
    "function",
    "builtin_function_or_method",
    "instance",
    "_Feature"
   ],
   "window_display": false
  }
 },
 "nbformat": 4,
 "nbformat_minor": 2
}
