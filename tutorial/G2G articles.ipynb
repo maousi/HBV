{
 "cells": [
  {
   "cell_type": "markdown",
   "metadata": {},
   "source": [
    "# Human-HIV1\n",
    "\n",
    "[A genome-to-genome analysis of associations between human genetic variation, HIV-1 sequence diversity, and viral control](https://cdn.elifesciences.org/articles/01123/elife-01123-v1.pdf)\n",
    "\n",
    "#### Abstract \n",
    "\n",
    "Selection pressures araising from the host's genomic factors affects HIV-1 sequence diversity. Ran >3000 genome-wide scans by testing host polymorphisms<->HIV-1 seq variaition or host polymorphisms<->plasma viral load. They took viral and human population structures into account. A total of 48 HIV-1 amino acid variants ($p < 2.4*10^{-12}$) were associated with SNPs that are only from HLA class 1 region. They assessed using viral load results. \n",
    "\n",
    "##### Results\n",
    "\n",
    "Full length HIV-1 genome sequences, 1071 patients (Western Europe ancestry), infected with subtype B. Homogeneity of the study population was confirmed by PCA of the genotype matrix. The first 5 PCs explained 1% of the variation. After QC, imputation and filtering, ~ 7 million SNPs were available for association testing. 9.5Kb long, HIV-1 has 3000 encoded amino acids, they were covered in 85% of the study population. A portion (gp120) was not sequenced due to its hypervariable nature. **Overall 1126 residues of HIV-1 proteome were found to be variable in at least 10 samples, for a total of 3381 different viral amino acids represented by 3007 distinct binary variables**. \n",
    "\n",
    "They performed 3 studies :\n",
    "\n",
    "\n",
    "\n",
    "* Human genetic variation <-> Viral load\n",
    "* Human genetic variation <-> HIV sequence variation\n",
    "* HIV sequence variation <-> Viral load\n",
    "\n",
    "#### Host VL GWAS\n",
    "\n",
    "#### G2G analyses\n",
    "\n",
    "3007 genome-wide analyses between SNPs<->AA variants performed in 1071 individuals, logistic regression corrected for viral phylogeny. "
   ]
  },
  {
   "cell_type": "code",
   "execution_count": null,
   "metadata": {},
   "outputs": [],
   "source": []
  },
  {
   "cell_type": "code",
   "execution_count": null,
   "metadata": {},
   "outputs": [],
   "source": []
  },
  {
   "cell_type": "code",
   "execution_count": null,
   "metadata": {},
   "outputs": [],
   "source": []
  },
  {
   "cell_type": "code",
   "execution_count": null,
   "metadata": {},
   "outputs": [],
   "source": []
  }
 ],
 "metadata": {
  "kernelspec": {
   "display_name": "Python 3",
   "language": "python",
   "name": "python3"
  },
  "language_info": {
   "codemirror_mode": {
    "name": "ipython",
    "version": 3
   },
   "file_extension": ".py",
   "mimetype": "text/x-python",
   "name": "python",
   "nbconvert_exporter": "python",
   "pygments_lexer": "ipython3",
   "version": "3.6.5"
  }
 },
 "nbformat": 4,
 "nbformat_minor": 2
}
