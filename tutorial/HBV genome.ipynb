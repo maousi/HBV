{
 "cells": [
  {
   "cell_type": "markdown",
   "metadata": {},
   "source": [
    "# Genome\n",
    "\n",
    "https://en.wikipedia.org/wiki/Hepatitis_B\n",
    "\n",
    "Circular DNA, unusually partially double-stranded. \n",
    "\n",
    "<img style=\"width:300px;\" src=\"https://upload.wikimedia.org/wikipedia/commons/7/78/HBV.png\" align=\"right\" />\n",
    "\n",
    "###### Core protein\n",
    "\n",
    "Encoded by gene C (HBcAG), its start codon is preceded by an upstram in-frame AUG start codon from which the pre-core protein is produced. When HBcAG\n",
    "\n",
    "HBcAG is an antigen found on the surface of the nucleocapsid (inner most layer of HBV). \n",
    "\n",
    "###### HBeAG\n",
    "\n",
    "Translating together Pre-C and Core gives [HBeAG](https://en.wikipedia.org/wiki/HBeAg):\n",
    "\n",
    "> Although the function of HBeAg was not clearly understood, one study demonstrated that it downregulated Toll-like receptor 2 expression on hepatocytes and monocytes leading to a decrease in cytokine expression. HBeAg is dispensable for replication, as mutant viruses with defects in the pre-C region are both infectious and pathogenic.\n",
    "\n",
    "###### [HBsAG](https://en.wikipedia.org/wiki/HBsAg)\n",
    "\n",
    "Surface antigen of HBV. The viral envelope of an enveloped virus has different surface proteins that are specificaly recognized by antibodies.\n",
    "\n",
    "# Reference genome\n",
    "\n",
    "HBV subtype C, reference GQ924620, https://www.ncbi.nlm.nih.gov/nuccore/281190887/\n",
    "\n",
    "For the significantly associated amino acid, the reference genome has:\n",
    "\n",
    "* PC_160_A: A\n",
    "* Pol_584_T: N\n",
    "* S_35_R: G"
   ]
  },
  {
   "cell_type": "markdown",
   "metadata": {},
   "source": [
    "# Uniprot\n",
    "\n",
    "Entries for the reference genome ID: https://www.uniprot.org/uniprot/?query=GQ924620&sort=score, all of the 4 proteins are present (2 different entries for C).\n",
    "\n",
    "###### Large envelope protein\n",
    "\n",
    "gene S: https://www.uniprot.org/uniprot/D2JMH9. Alternative names: large S protein, large surface protein, L-HBsAg\n",
    "\n",
    "\n",
    "###### [P protein](https://www.uniprot.org/uniprot/D2JMH8) \n",
    "\n",
    "> Multifunctional enzyme that converts the viral RNA genome into dsDNA in viral cytoplasmic capsids. This enzyme displays a DNA polymerase activity that can copy either DNA or RNA templates, and a ribonuclease H (RNase H) activity that cleaves the RNA strand of RNA-DNA heteroduplexes in a partially processive 3'- to 5'-endonucleasic mode.\n",
    "\n",
    "The position 584 is in the reverse transcriptase domain. \n",
    "\n",
    "###### [Capsid protein](https://www.uniprot.org/uniprot/D2JMI1)\n",
    "\n",
    "There are two entries for the reference genome. One should take the one with length 212. "
   ]
  },
  {
   "cell_type": "markdown",
   "metadata": {},
   "source": [
    "# Litterature\n",
    "\n",
    "https://www.ncbi.nlm.nih.gov/pubmed/2149522 Warning, very old paper (1990)\n",
    "\n",
    "> The importance of the nucleocapsid proteins as targets for sensitized cytotoxic T cells has been established for chronic HBV infection. The importance of pre-S sequences as inducers and targets of the virus-neutralizing humoral immune response is becoming established\n",
    "\n",
    "https://www.ncbi.nlm.nih.gov/pubmed/15756147 old paper (2002)\n",
    "\n",
    ">  Chronic hepatitis may present as typical HBeAg-positive chronic hepatitis B or HBeAg-negative chronic hepatitis B. HBeAg-positive chronic hepatitis is due to wild type HBV; it represents the early phase of chronic HBV infection. HBeAg-negative chronic hepatitis is due to a naturally occurring HBV variant with mutations in the precore or/and basic core promoter regions of the genome; it represents a late phase of chronic HBV infection.\n",
    "\n",
    "https://www.ncbi.nlm.nih.gov/pubmed/28660478 2017\n",
    "\n",
    "> [...] currently several dozen investigational agents being developed for treatment of CHB. They can be broadly divided into two categories: (1) direct-acting antivirals (DAAs) that interfere with a specific step in viral replication; and (2) host-targeting agents that inhibit viral replication by modifying host cell function\n",
    "\n"
   ]
  },
  {
   "cell_type": "markdown",
   "metadata": {},
   "source": [
    "https://www.ncbi.nlm.nih.gov/pmc/articles/PMC6102499/\n",
    "\n",
    "\n",
    "\n",
    "###### [Hepatitis B Virus Genotypes and Variants](https://www.ncbi.nlm.nih.gov/pmc/articles/PMC4448583/), 2015\n",
    "\n",
    "[geographical distribution](https://www.ncbi.nlm.nih.gov/pmc/articles/PMC4448583/table/A021436TB1/?report=objectonly), [HBV genotype–specific implications in patients with chronic hepatitis B](https://www.ncbi.nlm.nih.gov/pmc/articles/PMC4448583/table/A021436TB2/)\n",
    "\n",
    "> HBV genotype–specific pathogenesis may contribute to heterogeneous clinical outcomes in chronic hepatitis B patients across the world. For example, patients with HBV genotypes C and D infection have a lower rate of spontaneous HBeAg seroconversion.\n",
    "> \n",
    "> HBV genotype–specific pathogenesis may contribute to heterogeneous clinical outcomes in chronic hepatitis B patients across the world. For example, patients with HBV genotypes C and D infection have a lower rate of spontaneous HBeAg seroconversion.\n",
    "> \n",
    "> For example, genotypes B and C are prevalent in highly endemic areas, such as Asian countries, where perinatal or mother-to-infant transmission plays an important role in spreading HBV; whereas the remaining genotypes are frequently found in areas in which horizontal transmission (close personal contact between young children, blood, or sexual interactions between adults) is the most common route of HBV infection. [...] Therefore, HBV genotyping can serve as an epidemiologic marker to determine the correlation of HBV genotype distribution with modes of transmission, linked to important social behavioral changes.\n",
    ">\n",
    ">  The relationship of HBV genotypes and the tendency of chronic infection has been elucidated.\n",
    "> \n",
    "> These findings suggest that hepatitis B viral characteristics may play an important role in HBV genotype–specific pathogenesis.\n",
    "> \n",
    "> In summary, the specific virological manifestations of HBV genotypes and variants include (1) genotype C shows a higher frequency of BCP A1762T/G1764A variants and pre-S deletion mutations than genotype B; (2) *serum HBV viral load is higher in genotype C than genotype B*; (3) the expression of intracellular HBV DNA increases in genotype C; (4) the expression of intracellular core protein increases in genotype C with BCP A1762T/G1764A variants; and (5) more HBeAg is secreted by genotype C than by genotype B. These findings may partly explain why genotype C is associated with more severe liver disease than other genotypes."
   ]
  },
  {
   "cell_type": "markdown",
   "metadata": {},
   "source": [
    "###### [Hepatitis B virus pre-S/S variants in liver diseases](https://www.ncbi.nlm.nih.gov/pmc/articles/PMC5897855/), 2018\n",
    "\n",
    "> The pre-S/S gene has three open reading frames (ORFs) that encode three forms of hepatitis B surface antigen (HBsAg): the L, M, and S structural proteins of the viral envelope. However, these proteins are translated from different mRNAs. [...] The S protein consists of 226 amino acids (aa).  The M protein is an extension of the S protein, with an additional 55 aa (i.e., pre-S2 region). The L protein is an extension of the M protein, with an additional 108-119 aa depending on the genotype (i.e., pre-S1 region). The aa sequence present at the C termini of the L and M proteins is identical to the S protein and is referred to as the S region.\n",
    ">  The pre-S (pre-S1 and pre-S2) region of the L protein is crucial for viral replication. It contains several functional sites: [...]. The **pre-S region also plays an essential role in the interaction with the immune responses because it contains both B- and T-cell epitopes** (Figure 3)[34-39].\n",
    "> \n",
    "> Five amino acid sites (codon 27, **35**, 54, 137, and 167) that were under positive selection pressure were identified in the HBV/C sequences, whereas no positive selection codon was detected for HBV/B [[44]](https://www.ncbi.nlm.nih.gov/pubmed/26421619/)."
   ]
  },
  {
   "cell_type": "markdown",
   "metadata": {},
   "source": [
    "https://www.ncbi.nlm.nih.gov/pmc/articles/PMC4589234/\n",
    "\n",
    "> Positive selection codons that computed by SLAC method are depicted in Fig 2. We identified 5 amino acid sites (codon 27, 35, 54, 137 and 167) which were under positive selection pressure in genotype C sequences, while no positive selection codon was detected in genotype B sequences. Immune epitope mapping of these mutations suggested that all of these amino acid substitutions were located in B- or/and T-cell epitopes.\n"
   ]
  },
  {
   "cell_type": "markdown",
   "metadata": {},
   "source": []
  },
  {
   "cell_type": "markdown",
   "metadata": {},
   "source": []
  },
  {
   "cell_type": "markdown",
   "metadata": {},
   "source": []
  },
  {
   "cell_type": "markdown",
   "metadata": {},
   "source": []
  },
  {
   "cell_type": "markdown",
   "metadata": {},
   "source": []
  }
 ],
 "metadata": {
  "kernelspec": {
   "display_name": "Python 3",
   "language": "python",
   "name": "python3"
  },
  "language_info": {
   "codemirror_mode": {
    "name": "ipython",
    "version": 3
   },
   "file_extension": ".py",
   "mimetype": "text/x-python",
   "name": "python",
   "nbconvert_exporter": "python",
   "pygments_lexer": "ipython3",
   "version": "3.7.3"
  },
  "toc": {
   "base_numbering": 1,
   "nav_menu": {},
   "number_sections": true,
   "sideBar": true,
   "skip_h1_title": false,
   "title_cell": "Table of Contents",
   "title_sidebar": "Contents",
   "toc_cell": false,
   "toc_position": {},
   "toc_section_display": true,
   "toc_window_display": false
  },
  "varInspector": {
   "cols": {
    "lenName": 16,
    "lenType": 16,
    "lenVar": 40
   },
   "kernels_config": {
    "python": {
     "delete_cmd_postfix": "",
     "delete_cmd_prefix": "del ",
     "library": "var_list.py",
     "varRefreshCmd": "print(var_dic_list())"
    },
    "r": {
     "delete_cmd_postfix": ") ",
     "delete_cmd_prefix": "rm(",
     "library": "var_list.r",
     "varRefreshCmd": "cat(var_dic_list()) "
    }
   },
   "types_to_exclude": [
    "module",
    "function",
    "builtin_function_or_method",
    "instance",
    "_Feature"
   ],
   "window_display": false
  }
 },
 "nbformat": 4,
 "nbformat_minor": 2
}
