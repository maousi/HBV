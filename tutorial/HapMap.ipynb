{
 "cells": [
  {
   "cell_type": "code",
   "execution_count": 2,
   "metadata": {},
   "outputs": [],
   "source": [
    "# Import libraries\n",
    "import pandas as pd\n",
    "import matplotlib.pyplot as plt\n",
    "import seaborn as sns\n",
    "import numpy as np\n",
    "%matplotlib inline"
   ]
  },
  {
   "cell_type": "markdown",
   "metadata": {},
   "source": [
    "# Introduction\n",
    "\n",
    "To do:\n",
    "\n",
    "* Run allele frequency analysis\n",
    "* Run PCA (population clustering)\n",
    "* Import results into Python\n",
    "\n",
    "Assuming the **data is in `hapmap1/` directory** (relative path). Procedure: \n",
    "1. Run the `binary.sh` file to create binary file from the PED and MAP files, this creates BED, BIM and FAM files (plink commands)\n",
    "2. Run the `freq_analysis.sh` file (plink commands)\n",
    "3. Run PCA and display PC1 w.r.t PC2\n",
    "4. Color PCA plots with the 'real' ethnicity"
   ]
  },
  {
   "cell_type": "markdown",
   "metadata": {},
   "source": [
    "# Create binary files"
   ]
  },
  {
   "cell_type": "code",
   "execution_count": 3,
   "metadata": {},
   "outputs": [
    {
     "name": "stdout",
     "output_type": "stream",
     "text": [
      "\n",
      "@----------------------------------------------------------@\n",
      "|        PLINK!       |     v1.07      |   10/Aug/2009     |\n",
      "|----------------------------------------------------------|\n",
      "|  (C) 2009 Shaun Purcell, GNU General Public License, v2  |\n",
      "|----------------------------------------------------------|\n",
      "|  For documentation, citation & bug-report instructions:  |\n",
      "|        http://pngu.mgh.harvard.edu/purcell/plink/        |\n",
      "@----------------------------------------------------------@\n",
      "\n",
      "Skipping web check... [ --noweb ] \n",
      "Writing this text to log file [ hapmap1/hapmap1.log ]\n",
      "Analysis started: Tue Aug  6 15:44:44 2019\n",
      "\n",
      "Options in effect:\n",
      "\t--file hapmap1/hapmap1\n",
      "\t--make-bed\n",
      "\t--out hapmap1/hapmap1\n",
      "\t--noweb\n",
      "\n",
      "83534 (of 83534) markers to be included from [ hapmap1/hapmap1.map ]\n",
      "89 individuals read from [ hapmap1/hapmap1.ped ] \n",
      "89 individuals with nonmissing phenotypes\n",
      "Assuming a disease phenotype (1=unaff, 2=aff, 0=miss)\n",
      "Missing phenotype value is also -9\n",
      "44 cases, 45 controls and 0 missing\n",
      "89 males, 0 females, and 0 of unspecified sex\n",
      "Before frequency and genotyping pruning, there are 83534 SNPs\n",
      "89 founders and 0 non-founders found\n",
      "Total genotyping rate in remaining individuals is 0.99441\n",
      "0 SNPs failed missingness test ( GENO > 1 )\n",
      "0 SNPs failed frequency test ( MAF < 0 )\n",
      "After frequency and genotyping pruning, there are 83534 SNPs\n",
      "After filtering, 44 cases, 45 controls and 0 missing\n",
      "After filtering, 89 males, 0 females, and 0 of unspecified sex\n",
      "Writing pedigree information to [ hapmap1/hapmap1.fam ] \n",
      "Writing map (extended format) information to [ hapmap1/hapmap1.bim ] \n",
      "Writing genotype bitfile to [ hapmap1/hapmap1.bed ] \n",
      "Using (default) SNP-major mode\n",
      "\n",
      "Analysis finished: Tue Aug  6 15:44:48 2019\n",
      "\n"
     ]
    }
   ],
   "source": [
    "!./binary.sh"
   ]
  },
  {
   "cell_type": "markdown",
   "metadata": {},
   "source": [
    "# Summary statistics\n",
    "\n",
    "## Minor allele frequencies\n",
    "\n",
    "### Run plink --freq\n",
    "\n",
    "See [this doc](http://www.cog-genomics.org/plink/2.0/basic_stats#freq) page to get more info about allele frequencies in plink. See the [doc on the .frq format](http://www.cog-genomics.org/plink/1.9/formats#frq).\n",
    "\n",
    "Note: also possible to run a summary of allele freuquencies that is stratified by a categorical cluster variable *(like subpopulations I guess)*. "
   ]
  },
  {
   "cell_type": "code",
   "execution_count": 4,
   "metadata": {},
   "outputs": [
    {
     "name": "stdout",
     "output_type": "stream",
     "text": [
      "\n",
      "@----------------------------------------------------------@\n",
      "|        PLINK!       |     v1.07      |   10/Aug/2009     |\n",
      "|----------------------------------------------------------|\n",
      "|  (C) 2009 Shaun Purcell, GNU General Public License, v2  |\n",
      "|----------------------------------------------------------|\n",
      "|  For documentation, citation & bug-report instructions:  |\n",
      "|        http://pngu.mgh.harvard.edu/purcell/plink/        |\n",
      "@----------------------------------------------------------@\n",
      "\n",
      "Skipping web check... [ --noweb ] \n",
      "Writing this text to log file [ hapmap1/freq_stat.log ]\n",
      "Analysis started: Tue Aug  6 15:44:48 2019\n",
      "\n",
      "Options in effect:\n",
      "\t--bfile hapmap1/hapmap1\n",
      "\t--noweb\n",
      "\t--freq\n",
      "\t--out hapmap1/freq_stat\n",
      "\n",
      "Reading map (extended format) from [ hapmap1/hapmap1.bim ] \n",
      "83534 markers to be included from [ hapmap1/hapmap1.bim ]\n",
      "Reading pedigree information from [ hapmap1/hapmap1.fam ] \n",
      "89 individuals read from [ hapmap1/hapmap1.fam ] \n",
      "89 individuals with nonmissing phenotypes\n",
      "Assuming a disease phenotype (1=unaff, 2=aff, 0=miss)\n",
      "Missing phenotype value is also -9\n",
      "44 cases, 45 controls and 0 missing\n",
      "89 males, 0 females, and 0 of unspecified sex\n",
      "Reading genotype bitfile from [ hapmap1/hapmap1.bed ] \n",
      "Detected that binary PED file is v1.00 SNP-major mode\n",
      "Before frequency and genotyping pruning, there are 83534 SNPs\n",
      "89 founders and 0 non-founders found\n",
      "Writing allele frequencies (founders-only) to [ hapmap1/freq_stat.frq ] \n",
      "\n",
      "Analysis finished: Tue Aug  6 15:44:49 2019\n",
      "\n"
     ]
    }
   ],
   "source": [
    "!./freq_analysis.sh"
   ]
  },
  {
   "cell_type": "markdown",
   "metadata": {},
   "source": [
    "### Visualize"
   ]
  },
  {
   "cell_type": "markdown",
   "metadata": {},
   "source": [
    "This creates a `freq_stat.frq` file that looks like this:"
   ]
  },
  {
   "cell_type": "code",
   "execution_count": 5,
   "metadata": {},
   "outputs": [
    {
     "name": "stdout",
     "output_type": "stream",
     "text": [
      " CHR         SNP   A1   A2          MAF  NCHROBS\n",
      "   1   rs6681049    1    2       0.2135      178\n",
      "   1   rs4074137    1    2      0.07865      178\n",
      "   1   rs7540009    0    2            0      178\n",
      "   1   rs1891905    1    2       0.4045      178\n",
      "   1   rs9729550    1    2       0.1292      178\n",
      "   1   rs3813196    1    2      0.02809      178\n",
      "   1   rs6704013    0    2            0      174\n",
      "   1    rs307347    0    2            0      154\n",
      "   1   rs9439440    0    2            0      174\n",
      "\n",
      "  22    rs131817    2    1        0.408      174\n",
      "  22    rs131794    1    2       0.0618      178\n",
      "  22  rs12157953    1    2     0.005618      178\n",
      "  22   rs5770913    1    2       0.4773      176\n",
      "  22    rs131750    1    2       0.4943      176\n",
      "  22   rs2269380    1    2       0.2216      176\n",
      "  22   rs6151412    0    2            0      176\n",
      "  22  rs11912064    0    2            0      178\n",
      "  22   rs1001469    1    2       0.3068      176\n",
      "  22    rs756638    1    2       0.1307      176\n"
     ]
    }
   ],
   "source": [
    "!head hapmap1/freq_stat.frq\n",
    "print()\n",
    "!tail hapmap1/freq_stat.frq"
   ]
  },
  {
   "cell_type": "markdown",
   "metadata": {},
   "source": [
    "Columns are:\n",
    "* CHR: chromosome code\n",
    "* SNP: variant identifier\n",
    "* A1: allele 1 (usually minor)\n",
    "* A2: allele 2 (usually major)\n",
    "* MAJ: allele 1 frequency\n",
    "* NCHROBS: number of allele observation"
   ]
  },
  {
   "cell_type": "markdown",
   "metadata": {},
   "source": [
    "### Make a plot of allele frequencies\n",
    "\n",
    "Use of Pandas and Matplotlib libraries in Python.\n",
    "\n",
    "#### Import file into DataFrame"
   ]
  },
  {
   "cell_type": "code",
   "execution_count": 6,
   "metadata": {
    "scrolled": true
   },
   "outputs": [
    {
     "name": "stdout",
     "output_type": "stream",
     "text": [
      "   CHR        SNP  A1  A2      MAF  NCHROBS\n",
      "0    1  rs6681049   1   2  0.21350      178\n",
      "1    1  rs4074137   1   2  0.07865      178\n",
      "2    1  rs7540009   0   2  0.00000      178\n",
      "3    1  rs1891905   1   2  0.40450      178\n",
      "4    1  rs9729550   1   2  0.12920      178\n",
      "Shape: (83534, 6)\n"
     ]
    }
   ],
   "source": [
    "# use \\s+ as a separator\n",
    "df_freq = pd.read_csv(\"hapmap1/freq_stat.frq\", sep=\"\\s+\")\n",
    "print(df_freq.head())\n",
    "print(\"Shape:\", \n",
    "    df_freq.shape)"
   ]
  },
  {
   "cell_type": "markdown",
   "metadata": {},
   "source": [
    "#### Generate the plot\n",
    "\n",
    "Now we want to make a plot of minor allele frequencies. This is a **univariate distribution plot**, so we'll use [seaborn.distplot function](https://seaborn.pydata.org/generated/seaborn.distplot.html#seaborn.distplot)."
   ]
  },
  {
   "cell_type": "code",
   "execution_count": 7,
   "metadata": {
    "scrolled": true
   },
   "outputs": [
    {
     "data": {
      "image/png": "[encoded data removed]",
      "text/plain": [
       "<Figure size 576x360 with 1 Axes>"
      ]
     },
     "metadata": {
      "needs_background": "light"
     },
     "output_type": "display_data"
    }
   ],
   "source": [
    "plt.figure(figsize=(8,5));\n",
    "sns.distplot(df_freq.MAF, norm_hist=True, kde=True);\n",
    "plt.savefig(\"figures/maf_distrib.png\");"
   ]
  },
  {
   "cell_type": "code",
   "execution_count": 8,
   "metadata": {},
   "outputs": [
    {
     "data": {
      "image/png": "[encoded data removed]",
      "text/plain": [
       "<Figure size 576x360 with 1 Axes>"
      ]
     },
     "metadata": {
      "needs_background": "light"
     },
     "output_type": "display_data"
    }
   ],
   "source": [
    "# Keep only the frequencies under 5%\n",
    "df_freq_005 = df_freq[ df_freq.MAF <= 0.05 ]\n",
    "df_freq_005.shape\n",
    "plt.figure(figsize=(8,5));\n",
    "sns.distplot(df_freq_005.MAF);\n",
    "plt.savefig(\"figures/maf_distrib_005.png\");"
   ]
  },
  {
   "cell_type": "markdown",
   "metadata": {},
   "source": [
    "# Population stratification\n",
    "\n",
    "See [this article](https://www.cog-genomics.org/plink2/strat). \n",
    "\n",
    "## plink --pca\n",
    "\n",
    "By default `--pca` generates 10 principal components."
   ]
  },
  {
   "cell_type": "code",
   "execution_count": 9,
   "metadata": {},
   "outputs": [
    {
     "name": "stdout",
     "output_type": "stream",
     "text": [
      "PLINK v2.00a2LM AVX2 Intel (31 Jul 2019)       www.cog-genomics.org/plink/2.0/\n",
      "(C) 2005-2019 Shaun Purcell, Christopher Chang   GNU General Public License v3\n",
      "Logging to hapmap1/pca.log.\n",
      "Options in effect:\n",
      "  --bfile hapmap1/hapmap1\n",
      "  --out hapmap1/pca\n",
      "  --pca\n",
      "\n",
      "Start time: Tue Aug  6 15:44:51 2019\n",
      "7889 MiB RAM detected; reserving 3944 MiB for main workspace.\n",
      "Using up to 4 compute threads.\n",
      "89 samples (0 females, 89 males; 89 founders) loaded from hapmap1/hapmap1.fam.\n",
      "83534 variants loaded from hapmap1/hapmap1.bim.\n",
      "1 binary phenotype loaded (44 cases, 45 controls).\n",
      "Calculating allele frequencies... 78done.\n",
      "Constructing GRM: 101112131415161718192021222324252627282930313233343536373839404142434445464748495051525354555657585960616263646566676869707172737475767778798081828384858687888990919293949596979899done.\n",
      "Correcting for missingness... 10111213141415161718192021222324252627282930313233343536373839404142434445464748495051525354555657585960616263646566676869707172737475767778798081828384858687888990919293949596979899done.\n",
      "Extracting eigenvalues and eigenvectors... done.\n",
      "--pca: Eigenvectors written to hapmap1/pca.eigenvec , and eigenvalues written\n",
      "to hapmap1/pca.eigenval .\n",
      "End time: Tue Aug  6 15:44:51 2019\n"
     ]
    }
   ],
   "source": [
    "!plink2 --bfile hapmap1/hapmap1 --out hapmap1/pca --pca "
   ]
  },
  {
   "cell_type": "markdown",
   "metadata": {},
   "source": [
    "## Import dummy phenotypes\n",
    "\n",
    "1 = Chinese, 2 = Japanese."
   ]
  },
  {
   "cell_type": "code",
   "execution_count": 40,
   "metadata": {},
   "outputs": [
    {
     "data": {
      "text/plain": [
       "1    45\n",
       "2    44\n",
       "Name: 2, dtype: int64"
      ]
     },
     "execution_count": 40,
     "metadata": {},
     "output_type": "execute_result"
    }
   ],
   "source": [
    "df_phe = pd.read_csv(\"hapmap1/pop.phe\", sep=\"\\s+\", header=None)\n",
    "df_phe[2].value_counts()"
   ]
  },
  {
   "cell_type": "markdown",
   "metadata": {},
   "source": [
    "## Visualization\n",
    "\n",
    "We obtain eigenvectors for each individual (89 in total). We eventually want to plot clusters with a color code depending on the ethnicity.\n",
    "\n",
    "### Eigenvalues\n",
    "\n"
   ]
  },
  {
   "cell_type": "code",
   "execution_count": 10,
   "metadata": {},
   "outputs": [
    {
     "name": "stdout",
     "output_type": "stream",
     "text": [
      "[1.31082, 0.942592, 0.933744, 0.921205, 0.911502, 0.909852, 0.906222, 0.902498, 0.900286, 0.898584]\n"
     ]
    }
   ],
   "source": [
    "# Read the content of the file\n",
    "with open(\"hapmap1/pca.eigenval\", 'r') as file:\n",
    "    content = file.read()\n",
    "# Split the string into lists\n",
    "eigval = content.split('\\n')\n",
    "# Remove empty item\n",
    "eigval.pop()\n",
    "# Convert strings into floats\n",
    "eigval = [ float(val) for val in eigval ]\n",
    "print(eigval)"
   ]
  },
  {
   "cell_type": "code",
   "execution_count": 11,
   "metadata": {},
   "outputs": [
    {
     "data": {
      "image/png": "[encoded data removed]",
      "text/plain": [
       "<Figure size 432x288 with 1 Axes>"
      ]
     },
     "metadata": {
      "needs_background": "light"
     },
     "output_type": "display_data"
    }
   ],
   "source": [
    "x = np.arange(1, 11)\n",
    "plt.scatter(x, eigval);\n",
    "plt.xlabel('PCA'); plt.ylabel('eigenvalue');"
   ]
  },
  {
   "cell_type": "markdown",
   "metadata": {},
   "source": [
    "### Eigenvectors\n",
    "\n"
   ]
  },
  {
   "cell_type": "code",
   "execution_count": 38,
   "metadata": {
    "scrolled": false
   },
   "outputs": [
    {
     "name": "stdout",
     "output_type": "stream",
     "text": [
      "(89, 13)\n"
     ]
    },
    {
     "data": {
      "text/html": [
       "<div>\n",
       "<style scoped>\n",
       "    .dataframe tbody tr th:only-of-type {\n",
       "        vertical-align: middle;\n",
       "    }\n",
       "\n",
       "    .dataframe tbody tr th {\n",
       "        vertical-align: top;\n",
       "    }\n",
       "\n",
       "    .dataframe thead th {\n",
       "        text-align: right;\n",
       "    }\n",
       "</style>\n",
       "<table border=\"1\" class=\"dataframe\">\n",
       "  <thead>\n",
       "    <tr style=\"text-align: right;\">\n",
       "      <th></th>\n",
       "      <th>#FID</th>\n",
       "      <th>IID</th>\n",
       "      <th>PC1</th>\n",
       "      <th>PC2</th>\n",
       "      <th>PC3</th>\n",
       "      <th>PC4</th>\n",
       "      <th>PC5</th>\n",
       "      <th>PC6</th>\n",
       "      <th>PC7</th>\n",
       "      <th>PC8</th>\n",
       "      <th>PC9</th>\n",
       "      <th>PC10</th>\n",
       "      <th>ethnicity</th>\n",
       "    </tr>\n",
       "  </thead>\n",
       "  <tbody>\n",
       "    <tr>\n",
       "      <th>0</th>\n",
       "      <td>HCB181</td>\n",
       "      <td>1</td>\n",
       "      <td>0.111956</td>\n",
       "      <td>-0.058102</td>\n",
       "      <td>0.016041</td>\n",
       "      <td>-0.220066</td>\n",
       "      <td>0.036913</td>\n",
       "      <td>-0.233806</td>\n",
       "      <td>-0.288174</td>\n",
       "      <td>0.563183</td>\n",
       "      <td>-0.021931</td>\n",
       "      <td>-0.093440</td>\n",
       "      <td>1</td>\n",
       "    </tr>\n",
       "    <tr>\n",
       "      <th>1</th>\n",
       "      <td>HCB182</td>\n",
       "      <td>1</td>\n",
       "      <td>0.119658</td>\n",
       "      <td>-0.003527</td>\n",
       "      <td>-0.100068</td>\n",
       "      <td>-0.039176</td>\n",
       "      <td>0.076547</td>\n",
       "      <td>-0.081671</td>\n",
       "      <td>0.025727</td>\n",
       "      <td>0.174486</td>\n",
       "      <td>0.060108</td>\n",
       "      <td>0.177862</td>\n",
       "      <td>1</td>\n",
       "    </tr>\n",
       "    <tr>\n",
       "      <th>2</th>\n",
       "      <td>HCB183</td>\n",
       "      <td>1</td>\n",
       "      <td>0.110705</td>\n",
       "      <td>-0.026402</td>\n",
       "      <td>0.100365</td>\n",
       "      <td>-0.073164</td>\n",
       "      <td>0.154726</td>\n",
       "      <td>-0.002431</td>\n",
       "      <td>0.029012</td>\n",
       "      <td>-0.116640</td>\n",
       "      <td>-0.023803</td>\n",
       "      <td>-0.129813</td>\n",
       "      <td>1</td>\n",
       "    </tr>\n",
       "    <tr>\n",
       "      <th>3</th>\n",
       "      <td>HCB184</td>\n",
       "      <td>1</td>\n",
       "      <td>0.093028</td>\n",
       "      <td>0.046096</td>\n",
       "      <td>-0.055362</td>\n",
       "      <td>-0.120627</td>\n",
       "      <td>-0.097591</td>\n",
       "      <td>0.151477</td>\n",
       "      <td>0.143391</td>\n",
       "      <td>0.047492</td>\n",
       "      <td>0.042842</td>\n",
       "      <td>-0.059686</td>\n",
       "      <td>1</td>\n",
       "    </tr>\n",
       "    <tr>\n",
       "      <th>4</th>\n",
       "      <td>HCB185</td>\n",
       "      <td>1</td>\n",
       "      <td>0.105844</td>\n",
       "      <td>-0.084207</td>\n",
       "      <td>0.157605</td>\n",
       "      <td>-0.013441</td>\n",
       "      <td>0.033425</td>\n",
       "      <td>-0.006122</td>\n",
       "      <td>-0.174584</td>\n",
       "      <td>0.015990</td>\n",
       "      <td>0.072870</td>\n",
       "      <td>-0.001880</td>\n",
       "      <td>1</td>\n",
       "    </tr>\n",
       "  </tbody>\n",
       "</table>\n",
       "</div>"
      ],
      "text/plain": [
       "     #FID  IID       PC1       PC2       PC3       PC4       PC5       PC6  \\\n",
       "0  HCB181    1  0.111956 -0.058102  0.016041 -0.220066  0.036913 -0.233806   \n",
       "1  HCB182    1  0.119658 -0.003527 -0.100068 -0.039176  0.076547 -0.081671   \n",
       "2  HCB183    1  0.110705 -0.026402  0.100365 -0.073164  0.154726 -0.002431   \n",
       "3  HCB184    1  0.093028  0.046096 -0.055362 -0.120627 -0.097591  0.151477   \n",
       "4  HCB185    1  0.105844 -0.084207  0.157605 -0.013441  0.033425 -0.006122   \n",
       "\n",
       "        PC7       PC8       PC9      PC10  ethnicity  \n",
       "0 -0.288174  0.563183 -0.021931 -0.093440          1  \n",
       "1  0.025727  0.174486  0.060108  0.177862          1  \n",
       "2  0.029012 -0.116640 -0.023803 -0.129813          1  \n",
       "3  0.143391  0.047492  0.042842 -0.059686          1  \n",
       "4 -0.174584  0.015990  0.072870 -0.001880          1  "
      ]
     },
     "execution_count": 38,
     "metadata": {},
     "output_type": "execute_result"
    }
   ],
   "source": [
    "# Import the eigenvectors into a DataFrame\n",
    "df_pca = pd.read_csv(\"hapmap1/pca.eigenvec\", sep=\"\\s+\")\n",
    "# Add a column: real ethnicity\n",
    "df_pca['ethnicity'] = df_phe[2]\n",
    "# Display\n",
    "print(df_pca.shape)\n",
    "df_pca.head()"
   ]
  },
  {
   "cell_type": "markdown",
   "metadata": {},
   "source": [
    "Compute the explained variance : $expl\\_var_k = \\frac {\\lambda_k}{\\sum \\lambda_i }$"
   ]
  },
  {
   "cell_type": "code",
   "execution_count": 47,
   "metadata": {},
   "outputs": [],
   "source": [
    "exp_var = []\n",
    "eigval_sum = np.sum(eigval)\n",
    "for lbda in eigval :\n",
    "    exp_var.append(lbda / eigval_sum)"
   ]
  },
  {
   "cell_type": "code",
   "execution_count": 57,
   "metadata": {
    "cell_style": "center",
    "scrolled": true
   },
   "outputs": [
    {
     "data": {
      "image/png": "[encoded data removed]",
      "text/plain": [
       "<Figure size 360x360 with 1 Axes>"
      ]
     },
     "metadata": {
      "needs_background": "light"
     },
     "output_type": "display_data"
    }
   ],
   "source": [
    "plt.figure(figsize=(5,5))\n",
    "sns.scatterplot(x='PC1', y='PC2', \n",
    "                data=df_pca, hue='ethnicity');\n",
    "plt.xlabel('PC1 ({:.3}%)'.format(exp_var[0]*100))\n",
    "plt.ylabel('PC2 ({:.3}%)'.format(exp_var[1]*100));"
   ]
  },
  {
   "cell_type": "code",
   "execution_count": 59,
   "metadata": {
    "cell_style": "center"
   },
   "outputs": [
    {
     "data": {
      "image/png": "[encoded data removed]",
      "text/plain": [
       "<Figure size 360x360 with 1 Axes>"
      ]
     },
     "metadata": {
      "needs_background": "light"
     },
     "output_type": "display_data"
    }
   ],
   "source": [
    "plt.figure(figsize=(5,5))\n",
    "sns.scatterplot(x='PC3', y='PC4', \n",
    "                data=df_pca, hue='ethnicity');\n",
    "plt.xlabel('PC3 ({:.3}%)'.format(exp_var[2]*100))\n",
    "plt.ylabel('PC4 ({:.3}%)'.format(exp_var[3]*100));"
   ]
  }
 ],
 "metadata": {
  "kernelspec": {
   "display_name": "Python 3",
   "language": "python",
   "name": "python3"
  },
  "language_info": {
   "codemirror_mode": {
    "name": "ipython",
    "version": 3
   },
   "file_extension": ".py",
   "mimetype": "text/x-python",
   "name": "python",
   "nbconvert_exporter": "python",
   "pygments_lexer": "ipython3",
   "version": "3.7.3"
  },
  "toc": {
   "base_numbering": 1,
   "nav_menu": {},
   "number_sections": true,
   "sideBar": true,
   "skip_h1_title": false,
   "title_cell": "Table of Contents",
   "title_sidebar": "Contents",
   "toc_cell": false,
   "toc_position": {},
   "toc_section_display": true,
   "toc_window_display": false
  }
 },
 "nbformat": 4,
 "nbformat_minor": 2
}
