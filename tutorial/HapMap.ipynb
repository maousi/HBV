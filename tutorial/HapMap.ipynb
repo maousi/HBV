{
 "cells": [
  {
   "cell_type": "code",
   "execution_count": 43,
   "metadata": {},
   "outputs": [],
   "source": [
    "# Import libraries\n",
    "import pandas as pd\n",
    "import matplotlib.pyplot as plt\n",
    "import seaborn as sns\n",
    "%matplotlib inline"
   ]
  },
  {
   "cell_type": "markdown",
   "metadata": {},
   "source": [
    "# Introduction\n",
    "\n",
    "To do:\n",
    "\n",
    "* Run allele frequency analysis\n",
    "* Run PCA (population clustering)\n",
    "* Import results into Python\n",
    "\n",
    "Assuming the data is in `hapmap1/` directory. Procedure: \n",
    "1. Run the `binary.sh` file to create binary file from the PED and MAP files, this creates BED, BIM and FAM files (plink commands)\n",
    "2. Run the `freq_analysis.sh` file (plink commands)"
   ]
  },
  {
   "cell_type": "markdown",
   "metadata": {},
   "source": [
    "# Create binary files"
   ]
  },
  {
   "cell_type": "code",
   "execution_count": 7,
   "metadata": {},
   "outputs": [
    {
     "name": "stdout",
     "output_type": "stream",
     "text": [
      "\n",
      "@----------------------------------------------------------@\n",
      "|        PLINK!       |     v1.07      |   10/Aug/2009     |\n",
      "|----------------------------------------------------------|\n",
      "|  (C) 2009 Shaun Purcell, GNU General Public License, v2  |\n",
      "|----------------------------------------------------------|\n",
      "|  For documentation, citation & bug-report instructions:  |\n",
      "|        http://pngu.mgh.harvard.edu/purcell/plink/        |\n",
      "@----------------------------------------------------------@\n",
      "\n",
      "Skipping web check... [ --noweb ] \n",
      "Writing this text to log file [ hapmap1/hapmap1.log ]\n",
      "Analysis started: Tue Aug  6 09:55:48 2019\n",
      "\n",
      "Options in effect:\n",
      "\t--file hapmap1/hapmap1\n",
      "\t--make-bed\n",
      "\t--out hapmap1/hapmap1\n",
      "\t--noweb\n",
      "\n",
      "83534 (of 83534) markers to be included from [ hapmap1/hapmap1.map ]\n",
      "89 individuals read from [ hapmap1/hapmap1.ped ] \n",
      "89 individuals with nonmissing phenotypes\n",
      "Assuming a disease phenotype (1=unaff, 2=aff, 0=miss)\n",
      "Missing phenotype value is also -9\n",
      "44 cases, 45 controls and 0 missing\n",
      "89 males, 0 females, and 0 of unspecified sex\n",
      "Before frequency and genotyping pruning, there are 83534 SNPs\n",
      "89 founders and 0 non-founders found\n",
      "Total genotyping rate in remaining individuals is 0.99441\n",
      "0 SNPs failed missingness test ( GENO > 1 )\n",
      "0 SNPs failed frequency test ( MAF < 0 )\n",
      "After frequency and genotyping pruning, there are 83534 SNPs\n",
      "After filtering, 44 cases, 45 controls and 0 missing\n",
      "After filtering, 89 males, 0 females, and 0 of unspecified sex\n",
      "Writing pedigree information to [ hapmap1/hapmap1.fam ] \n",
      "Writing map (extended format) information to [ hapmap1/hapmap1.bim ] \n",
      "Writing genotype bitfile to [ hapmap1/hapmap1.bed ] \n",
      "Using (default) SNP-major mode\n",
      "\n",
      "Analysis finished: Tue Aug  6 09:55:52 2019\n",
      "\n"
     ]
    }
   ],
   "source": [
    "!./binary.sh"
   ]
  },
  {
   "cell_type": "markdown",
   "metadata": {},
   "source": [
    "# Summary statistics\n",
    "\n",
    "## Minor allele frequencies\n",
    "\n",
    "### Run plink --freq\n",
    "\n",
    "See [this doc](http://www.cog-genomics.org/plink/2.0/basic_stats#freq) page to get more info about allele frequencies in plink. See the [doc on the .frq format](http://www.cog-genomics.org/plink/1.9/formats#frq).\n",
    "\n",
    "Note: also possible to run a summary of allele freuquencies that is stratified by a categorical cluster variable *(like subpopulations I guess)*. "
   ]
  },
  {
   "cell_type": "code",
   "execution_count": 8,
   "metadata": {},
   "outputs": [
    {
     "name": "stdout",
     "output_type": "stream",
     "text": [
      "\n",
      "@----------------------------------------------------------@\n",
      "|        PLINK!       |     v1.07      |   10/Aug/2009     |\n",
      "|----------------------------------------------------------|\n",
      "|  (C) 2009 Shaun Purcell, GNU General Public License, v2  |\n",
      "|----------------------------------------------------------|\n",
      "|  For documentation, citation & bug-report instructions:  |\n",
      "|        http://pngu.mgh.harvard.edu/purcell/plink/        |\n",
      "@----------------------------------------------------------@\n",
      "\n",
      "Skipping web check... [ --noweb ] \n",
      "Writing this text to log file [ hapmap1/freq_stat.log ]\n",
      "Analysis started: Tue Aug  6 10:00:09 2019\n",
      "\n",
      "Options in effect:\n",
      "\t--bfile hapmap1/hapmap1\n",
      "\t--noweb\n",
      "\t--freq\n",
      "\t--out hapmap1/freq_stat\n",
      "\n",
      "Reading map (extended format) from [ hapmap1/hapmap1.bim ] \n",
      "83534 markers to be included from [ hapmap1/hapmap1.bim ]\n",
      "Reading pedigree information from [ hapmap1/hapmap1.fam ] \n",
      "89 individuals read from [ hapmap1/hapmap1.fam ] \n",
      "89 individuals with nonmissing phenotypes\n",
      "Assuming a disease phenotype (1=unaff, 2=aff, 0=miss)\n",
      "Missing phenotype value is also -9\n",
      "44 cases, 45 controls and 0 missing\n",
      "89 males, 0 females, and 0 of unspecified sex\n",
      "Reading genotype bitfile from [ hapmap1/hapmap1.bed ] \n",
      "Detected that binary PED file is v1.00 SNP-major mode\n",
      "Before frequency and genotyping pruning, there are 83534 SNPs\n",
      "89 founders and 0 non-founders found\n",
      "Writing allele frequencies (founders-only) to [ hapmap1/freq_stat.frq ] \n",
      "\n",
      "Analysis finished: Tue Aug  6 10:00:10 2019\n",
      "\n"
     ]
    }
   ],
   "source": [
    "!./freq_analysis.sh"
   ]
  },
  {
   "cell_type": "markdown",
   "metadata": {},
   "source": [
    "### Visualize"
   ]
  },
  {
   "cell_type": "markdown",
   "metadata": {},
   "source": [
    "This creates a `freq_stat.frq` file that looks like this:"
   ]
  },
  {
   "cell_type": "code",
   "execution_count": 11,
   "metadata": {},
   "outputs": [
    {
     "name": "stdout",
     "output_type": "stream",
     "text": [
      " CHR         SNP   A1   A2          MAF  NCHROBS\n",
      "   1   rs6681049    1    2       0.2135      178\n",
      "   1   rs4074137    1    2      0.07865      178\n",
      "   1   rs7540009    0    2            0      178\n",
      "   1   rs1891905    1    2       0.4045      178\n",
      "   1   rs9729550    1    2       0.1292      178\n",
      "   1   rs3813196    1    2      0.02809      178\n",
      "   1   rs6704013    0    2            0      174\n",
      "   1    rs307347    0    2            0      154\n",
      "   1   rs9439440    0    2            0      174\n",
      "\n",
      "  22    rs131817    2    1        0.408      174\n",
      "  22    rs131794    1    2       0.0618      178\n",
      "  22  rs12157953    1    2     0.005618      178\n",
      "  22   rs5770913    1    2       0.4773      176\n",
      "  22    rs131750    1    2       0.4943      176\n",
      "  22   rs2269380    1    2       0.2216      176\n",
      "  22   rs6151412    0    2            0      176\n",
      "  22  rs11912064    0    2            0      178\n",
      "  22   rs1001469    1    2       0.3068      176\n",
      "  22    rs756638    1    2       0.1307      176\n"
     ]
    }
   ],
   "source": [
    "!head hapmap1/freq_stat.frq\n",
    "print()\n",
    "!tail hapmap1/freq_stat.frq"
   ]
  },
  {
   "cell_type": "markdown",
   "metadata": {},
   "source": [
    "Columns are:\n",
    "* CHR: chromosome code\n",
    "* SNP: variant identifier\n",
    "* A1: allele 1 (usually minor)\n",
    "* A2: allele 2 (usually major)\n",
    "* MAJ: allele 1 frequency\n",
    "* NCHROBS: number of allele observation"
   ]
  },
  {
   "cell_type": "code",
   "execution_count": null,
   "metadata": {},
   "outputs": [],
   "source": []
  },
  {
   "cell_type": "markdown",
   "metadata": {},
   "source": [
    "### Make a plot of allele frequencies\n",
    "\n",
    "Use of Pandas and Matplotlib libraries in Python."
   ]
  },
  {
   "cell_type": "code",
   "execution_count": 41,
   "metadata": {
    "scrolled": true
   },
   "outputs": [
    {
     "name": "stdout",
     "output_type": "stream",
     "text": [
      "   CHR        SNP  A1  A2      MAF  NCHROBS\n",
      "0    1  rs6681049   1   2  0.21350      178\n",
      "1    1  rs4074137   1   2  0.07865      178\n",
      "2    1  rs7540009   0   2  0.00000      178\n",
      "3    1  rs1891905   1   2  0.40450      178\n",
      "4    1  rs9729550   1   2  0.12920      178\n",
      "Shape: (83534, 6)\n"
     ]
    }
   ],
   "source": [
    "# use \\s+ as a separator\n",
    "df_freq = pd.read_csv(\"hapmap1/freq_stat.frq\", sep=\"\\s+\")\n",
    "print(df_freq.head())\n",
    "print(\"Shape:\", \n",
    "    df_freq.shape)"
   ]
  },
  {
   "cell_type": "markdown",
   "metadata": {},
   "source": [
    "Now we want to make a plot of minor allele frequencies. This is a **univariate distribution plot**, so we'll use [seaborn.distplot function](https://seaborn.pydata.org/generated/seaborn.distplot.html#seaborn.distplot)."
   ]
  },
  {
   "cell_type": "code",
   "execution_count": 60,
   "metadata": {
    "scrolled": true
   },
   "outputs": [
    {
     "data": {
      "image/png": "[encoded data removed]",
      "text/plain": [
       "<Figure size 576x360 with 1 Axes>"
      ]
     },
     "metadata": {
      "needs_background": "light"
     },
     "output_type": "display_data"
    }
   ],
   "source": [
    "plt.figure(figsize=(8,5));\n",
    "sns.distplot(df_freq.MAF);\n",
    "plt.savefig(\"figures/maf_distrib.png\");"
   ]
  },
  {
   "cell_type": "code",
   "execution_count": null,
   "metadata": {},
   "outputs": [],
   "source": []
  },
  {
   "cell_type": "code",
   "execution_count": null,
   "metadata": {},
   "outputs": [],
   "source": []
  },
  {
   "cell_type": "code",
   "execution_count": null,
   "metadata": {},
   "outputs": [],
   "source": []
  }
 ],
 "metadata": {
  "kernelspec": {
   "display_name": "Python 3",
   "language": "python",
   "name": "python3"
  },
  "language_info": {
   "codemirror_mode": {
    "name": "ipython",
    "version": 3
   },
   "file_extension": ".py",
   "mimetype": "text/x-python",
   "name": "python",
   "nbconvert_exporter": "python",
   "pygments_lexer": "ipython3",
   "version": "3.7.3"
  },
  "toc": {
   "base_numbering": 1,
   "nav_menu": {},
   "number_sections": true,
   "sideBar": true,
   "skip_h1_title": false,
   "title_cell": "Table of Contents",
   "title_sidebar": "Contents",
   "toc_cell": false,
   "toc_position": {},
   "toc_section_display": true,
   "toc_window_display": false
  }
 },
 "nbformat": 4,
 "nbformat_minor": 2
}
