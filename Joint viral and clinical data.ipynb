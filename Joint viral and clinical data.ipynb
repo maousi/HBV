{
 "cells": [
  {
   "cell_type": "code",
   "execution_count": 2,
   "metadata": {},
   "outputs": [],
   "source": [
    "import pickle\n",
    "\n",
    "from src import setup\n",
    "\n",
    "# This prevents to restart the kernel whenever an external file is edited\n",
    "%load_ext autoreload\n",
    "%autoreload 2"
   ]
  },
  {
   "cell_type": "markdown",
   "metadata": {},
   "source": [
    "# Introduction\n",
    "\n",
    "Idea: make a new table that joins the viral data with the clinical data in order to make principal component analysis and display the PCs with some ethnical/racial references.\n",
    "\n",
    "How: the clinical data contains the variable `gilead_id`, representing the pathogen id. The viral data contains an `id` variable. We must simply **join the two DataFrames with this id**.\n",
    "\n",
    "The clinical and viral data are stored in **binary files** (standard `pickle` package).\n",
    "\n",
    "# Import the two tables tables\n",
    "\n"
   ]
  },
  {
   "cell_type": "code",
   "execution_count": 5,
   "metadata": {},
   "outputs": [],
   "source": [
    "with open(setup.PATH_VIRAL_DATA, 'rb') as file :\n",
    "    df_viral = pickle.load(file)\n",
    "with open(setup.PATH_CLINICAL_DATA, 'rb') as file :\n",
    "    df_clinical = pickle.load(file)"
   ]
  },
  {
   "cell_type": "code",
   "execution_count": null,
   "metadata": {},
   "outputs": [],
   "source": []
  }
 ],
 "metadata": {
  "kernelspec": {
   "display_name": "Python 3",
   "language": "python",
   "name": "python3"
  },
  "language_info": {
   "codemirror_mode": {
    "name": "ipython",
    "version": 3
   },
   "file_extension": ".py",
   "mimetype": "text/x-python",
   "name": "python",
   "nbconvert_exporter": "python",
   "pygments_lexer": "ipython3",
   "version": "3.7.3"
  },
  "toc": {
   "base_numbering": 1,
   "nav_menu": {},
   "number_sections": true,
   "sideBar": true,
   "skip_h1_title": false,
   "title_cell": "Table of Contents",
   "title_sidebar": "Contents",
   "toc_cell": false,
   "toc_position": {},
   "toc_section_display": true,
   "toc_window_display": false
  }
 },
 "nbformat": 4,
 "nbformat_minor": 2
}
