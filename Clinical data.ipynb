{
 "cells": [
  {
   "cell_type": "code",
   "execution_count": 1,
   "metadata": {},
   "outputs": [],
   "source": [
    "import pandas as pd\n",
    "import numpy as np\n",
    "import matplotlib.pyplot as plt"
   ]
  },
  {
   "cell_type": "markdown",
   "metadata": {},
   "source": [
    "# Introduction\n",
    "\n",
    "## Import .csv file into DataFrame\n",
    "\n",
    "Contained in the .csv file `data/g2g-hbv/to_fellay_manifest.csv`"
   ]
  },
  {
   "cell_type": "code",
   "execution_count": 3,
   "metadata": {},
   "outputs": [
    {
     "name": "stdout",
     "output_type": "stream",
     "text": [
      "\u001b[0m\u001b[01;32m'Clinical data.ipynb'\u001b[0m*        \u001b[01;32mplink.log\u001b[0m*                    \u001b[01;32mstr1.log\u001b[0m*\r\n",
      " \u001b[34;42mdata\u001b[0m/                       \u001b[01;32m'Python and Plink.ipynb'\u001b[0m*      \u001b[34;42mtutorial\u001b[0m/\r\n",
      " \u001b[01;32mplink.frq.strat\u001b[0m*             \u001b[01;32mREADME.md\u001b[0m*                    \u001b[01;32mUntitled.ipynb\u001b[0m*\r\n",
      "\u001b[01;32m'Plink introduction.ipynb'\u001b[0m*  \u001b[01;32m'Statistics notebook.ipynb'\u001b[0m*\r\n"
     ]
    }
   ],
   "source": [
    "ls"
   ]
  },
  {
   "cell_type": "code",
   "execution_count": 7,
   "metadata": {},
   "outputs": [
    {
     "name": "stdout",
     "output_type": "stream",
     "text": [
      "      IGM_ID Viral_Sequencing_Status  AVG_COVERAGE              USUBJID  \\\n",
      "0  igm160234           Seq available         14150  GS-US-320-0108-1001   \n",
      "1  igm160214           Seq available          8940  GS-US-320-0108-1002   \n",
      "\n",
      "          STUDYID  SUBJID  Screening ID GT COUNTRY               ETHNICITY  \\\n",
      "0  GS-US-320-0108    1001           NaN  B     USA  NOT HISPANIC OR LATINO   \n",
      "1  GS-US-320-0108    1002           NaN  C     USA  NOT HISPANIC OR LATINO   \n",
      "\n",
      "   ... SEX   AGE  OAV_EXPERIENCE BASELINE_HBEAG_STATUS BASELINE_BMI  \\\n",
      "0  ...   M  52.0               N              Negative    25.968033   \n",
      "1  ...   F  64.0               N              Negative    19.607157   \n",
      "\n",
      "   BASELINE_ALT_U/L  BASELINE_HBSAG_log10_IU/mL  BASELINE_HBVDNA_IU/mL  \\\n",
      "0                45                    2.517934                 503000   \n",
      "1                53                    2.887071                 117000   \n",
      "\n",
      "  BASELINE_HBVDNA_Dil_IU/mL            gilead_id  \n",
      "0                       NaN  GS-US-320-0108-1001  \n",
      "1                       NaN  GS-US-320-0108-1002  \n",
      "\n",
      "[2 rows x 21 columns]\n"
     ]
    }
   ],
   "source": [
    "path = \"data/g2g-hbv/to_fellay_manifest.csv\"\n",
    "df = pd.read_csv(path)\n",
    "print(df.head(2))"
   ]
  },
  {
   "cell_type": "code",
   "execution_count": 8,
   "metadata": {},
   "outputs": [
    {
     "data": {
      "text/plain": [
       "(725, 21)"
      ]
     },
     "execution_count": 8,
     "metadata": {},
     "output_type": "execute_result"
    }
   ],
   "source": [
    "df.shape"
   ]
  }
 ],
 "metadata": {
  "kernelspec": {
   "display_name": "Python 3",
   "language": "python",
   "name": "python3"
  },
  "language_info": {
   "codemirror_mode": {
    "name": "ipython",
    "version": 3
   },
   "file_extension": ".py",
   "mimetype": "text/x-python",
   "name": "python",
   "nbconvert_exporter": "python",
   "pygments_lexer": "ipython3",
   "version": "3.7.3"
  },
  "toc": {
   "base_numbering": 1,
   "nav_menu": {},
   "number_sections": true,
   "sideBar": true,
   "skip_h1_title": false,
   "title_cell": "Table of Contents",
   "title_sidebar": "Contents",
   "toc_cell": false,
   "toc_position": {},
   "toc_section_display": true,
   "toc_window_display": false
  }
 },
 "nbformat": 4,
 "nbformat_minor": 2
}
