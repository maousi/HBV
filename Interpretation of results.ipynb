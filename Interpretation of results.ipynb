{
 "cells": [
  {
   "cell_type": "code",
   "execution_count": 2,
   "metadata": {},
   "outputs": [],
   "source": [
    "%load_ext autoreload\n",
    "%autoreload 2\n",
    "from src.setup import *\n",
    "from src import common"
   ]
  },
  {
   "cell_type": "markdown",
   "metadata": {},
   "source": [
    "# Results\n"
   ]
  },
  {
   "cell_type": "code",
   "execution_count": 3,
   "metadata": {},
   "outputs": [
    {
     "data": {
      "text/html": [
       "<div>\n",
       "<style scoped>\n",
       "    .dataframe tbody tr th:only-of-type {\n",
       "        vertical-align: middle;\n",
       "    }\n",
       "\n",
       "    .dataframe tbody tr th {\n",
       "        vertical-align: top;\n",
       "    }\n",
       "\n",
       "    .dataframe thead th {\n",
       "        text-align: right;\n",
       "    }\n",
       "</style>\n",
       "<table border=\"1\" class=\"dataframe\">\n",
       "  <thead>\n",
       "    <tr style=\"text-align: right;\">\n",
       "      <th></th>\n",
       "      <th>#CHROM</th>\n",
       "      <th>POS</th>\n",
       "      <th>REF</th>\n",
       "      <th>ALT</th>\n",
       "      <th>A1</th>\n",
       "      <th>TEST</th>\n",
       "      <th>OBS_CT</th>\n",
       "      <th>OR</th>\n",
       "      <th>LOG(OR)_SE</th>\n",
       "      <th>Z_STAT</th>\n",
       "      <th>P</th>\n",
       "      <th>AA</th>\n",
       "    </tr>\n",
       "    <tr>\n",
       "      <th>ID</th>\n",
       "      <th></th>\n",
       "      <th></th>\n",
       "      <th></th>\n",
       "      <th></th>\n",
       "      <th></th>\n",
       "      <th></th>\n",
       "      <th></th>\n",
       "      <th></th>\n",
       "      <th></th>\n",
       "      <th></th>\n",
       "      <th></th>\n",
       "      <th></th>\n",
       "    </tr>\n",
       "  </thead>\n",
       "  <tbody>\n",
       "    <tr>\n",
       "      <th>rs2296651</th>\n",
       "      <td>14</td>\n",
       "      <td>70245193</td>\n",
       "      <td>G</td>\n",
       "      <td>A</td>\n",
       "      <td>A</td>\n",
       "      <td>ADD</td>\n",
       "      <td>434</td>\n",
       "      <td>4.814160e+01</td>\n",
       "      <td>0.560362</td>\n",
       "      <td>6.91365</td>\n",
       "      <td>4.723260e-12</td>\n",
       "      <td>S_35_R</td>\n",
       "    </tr>\n",
       "    <tr>\n",
       "      <th>rs9397998</th>\n",
       "      <td>6</td>\n",
       "      <td>157488340</td>\n",
       "      <td>C</td>\n",
       "      <td>T</td>\n",
       "      <td>T</td>\n",
       "      <td>ADD</td>\n",
       "      <td>431</td>\n",
       "      <td>1.711340e+09</td>\n",
       "      <td>2.891680</td>\n",
       "      <td>7.35232</td>\n",
       "      <td>1.947920e-13</td>\n",
       "      <td>Pol_584_T</td>\n",
       "    </tr>\n",
       "    <tr>\n",
       "      <th>rs70944751</th>\n",
       "      <td>6</td>\n",
       "      <td>29911857</td>\n",
       "      <td>G</td>\n",
       "      <td>T</td>\n",
       "      <td>T</td>\n",
       "      <td>ADD</td>\n",
       "      <td>430</td>\n",
       "      <td>4.000960e-02</td>\n",
       "      <td>0.490586</td>\n",
       "      <td>-6.56080</td>\n",
       "      <td>5.352000e-11</td>\n",
       "      <td>PC_160_A</td>\n",
       "    </tr>\n",
       "    <tr>\n",
       "      <th>rs376806238</th>\n",
       "      <td>6</td>\n",
       "      <td>29912395</td>\n",
       "      <td>T</td>\n",
       "      <td>TGG</td>\n",
       "      <td>TGG</td>\n",
       "      <td>ADD</td>\n",
       "      <td>413</td>\n",
       "      <td>5.556070e-03</td>\n",
       "      <td>0.793047</td>\n",
       "      <td>-6.54799</td>\n",
       "      <td>5.831780e-11</td>\n",
       "      <td>PC_160_A</td>\n",
       "    </tr>\n",
       "    <tr>\n",
       "      <th>rs2735101</th>\n",
       "      <td>6</td>\n",
       "      <td>29913001</td>\n",
       "      <td>T</td>\n",
       "      <td>C</td>\n",
       "      <td>C</td>\n",
       "      <td>ADD</td>\n",
       "      <td>429</td>\n",
       "      <td>1.258320e-02</td>\n",
       "      <td>0.669145</td>\n",
       "      <td>-6.53878</td>\n",
       "      <td>6.202110e-11</td>\n",
       "      <td>PC_160_A</td>\n",
       "    </tr>\n",
       "  </tbody>\n",
       "</table>\n",
       "</div>"
      ],
      "text/plain": [
       "             #CHROM        POS REF  ALT   A1 TEST  OBS_CT            OR  \\\n",
       "ID                                                                        \n",
       "rs2296651        14   70245193   G    A    A  ADD     434  4.814160e+01   \n",
       "rs9397998         6  157488340   C    T    T  ADD     431  1.711340e+09   \n",
       "rs70944751        6   29911857   G    T    T  ADD     430  4.000960e-02   \n",
       "rs376806238       6   29912395   T  TGG  TGG  ADD     413  5.556070e-03   \n",
       "rs2735101         6   29913001   T    C    C  ADD     429  1.258320e-02   \n",
       "\n",
       "             LOG(OR)_SE   Z_STAT             P         AA  \n",
       "ID                                                         \n",
       "rs2296651      0.560362  6.91365  4.723260e-12     S_35_R  \n",
       "rs9397998      2.891680  7.35232  1.947920e-13  Pol_584_T  \n",
       "rs70944751     0.490586 -6.56080  5.352000e-11   PC_160_A  \n",
       "rs376806238    0.793047 -6.54799  5.831780e-11   PC_160_A  \n",
       "rs2735101      0.669145 -6.53878  6.202110e-11   PC_160_A  "
      ]
     },
     "execution_count": 3,
     "metadata": {},
     "output_type": "execute_result"
    }
   ],
   "source": [
    "df_results = pd.read_csv(PATH_GWAS_FINAL_RESULTS, sep='\\t', index_col=0)\n",
    "df_results"
   ]
  },
  {
   "cell_type": "markdown",
   "metadata": {},
   "source": [
    "* rs2296651 <-> S_35_R: having a G at that position makes you more likely (OR > 1) to be infected by a virus that has  the S_35_R variant.\n",
    "* rs9397998 <-> Pol_584_T: having a C at that position makes you much more likely (OR >> 1) to be infected by a virus that has the Pol_584_T variant\n"
   ]
  },
  {
   "cell_type": "markdown",
   "metadata": {},
   "source": [
    "# Protein sizes\n",
    "\n",
    "First, look at the positions and variants genes in the **raw viral data**."
   ]
  },
  {
   "cell_type": "code",
   "execution_count": 8,
   "metadata": {},
   "outputs": [],
   "source": [
    "df_raw_viral = pd.read_csv(PATH_VIRAL_RAW_DATA, sep='\\t')"
   ]
  },
  {
   "cell_type": "code",
   "execution_count": 31,
   "metadata": {},
   "outputs": [
    {
     "name": "stdout",
     "output_type": "stream",
     "text": [
      "The last position of gene S is gene_S_pos_0401_STOP\n",
      "The last position of gene C is ['gene_PC_C_pos_0213_STOP', 'gene_PC_C_pos_0213_W', 'gene_PC_C_pos_0213_Y']\n",
      "The last position of gene Pol is gene_Pol_pos_0844_STOP\n",
      "The last position of gene X is ['gene_X_pos_0154_A', 'gene_X_pos_0155_STOP', 'gene_X_pos_0155_W']\n"
     ]
    }
   ],
   "source": [
    "list_gene_S = [ item for item in df_raw_viral.columns.values if item[0:6] == 'gene_S' ]\n",
    "print(\"The last position of gene S is\", list_gene_S[-1])\n",
    "list_gene_C = [ item for item in df_raw_viral.columns.values if item[0:7] == 'gene_PC' ]\n",
    "print(\"The last position of gene C is\", list_gene_C[-3:])\n",
    "list_gene_Pol = [ item for item in df_raw_viral.columns.values if item[0:8] == 'gene_Pol' ]\n",
    "print(\"The last position of gene Pol is\", list_gene_Pol[-1])\n",
    "list_gene_X = [ item for item in df_raw_viral.columns.values if item[0:6] == 'gene_X' ]\n",
    "print(\"The last position of gene X is\", list_gene_X[-3:])"
   ]
  },
  {
   "cell_type": "markdown",
   "metadata": {},
   "source": [
    "From the [SnapGene file of HBV GT-C](res/HBV_GT_C.dna), which contains the reference genome described [in this notebook](tutorial/HBV%20genome.ipynb#Reference-genome):\n",
    "\n",
    "* Gene S: STOP codon at 401\n",
    "* Gene Pol: STOP codon at 844\n",
    "* Gene X: STOP at 155\n",
    "* Gene C: STOP at 184, but Pre-C is 29aa -> Total size of protein core is 213\n",
    "\n",
    "All those observations are consistent."
   ]
  },
  {
   "cell_type": "markdown",
   "metadata": {},
   "source": [
    "# Compare viral reported GT and data\n",
    "\n",
    "We merge clinical data (GT) with viral data (whole table) and keep individuals used in the study."
   ]
  },
  {
   "cell_type": "code",
   "execution_count": 28,
   "metadata": {},
   "outputs": [],
   "source": [
    "# 1. Load clinical data\n",
    "with open(PATH_CLINICAL_DATA, 'rb') as file:\n",
    "    df_clinical = pickle.load(file)[['gilead_id', 'GT']]\n",
    "# 2. Load viral data\n",
    "with open(PATH_VIRAL_DATA, 'rb') as file:\n",
    "    df_viral = pickle.load(file)"
   ]
  },
  {
   "cell_type": "code",
   "execution_count": 29,
   "metadata": {},
   "outputs": [],
   "source": [
    "# 3. Join the two tables\n",
    "df_clinical.set_index('gilead_id', inplace=True)\n",
    "df_clinical.columns = pd.MultiIndex.from_product([['GT'], [''], ['']])\n",
    "df = df_viral.join(other=df_clinical, on='id')"
   ]
  },
  {
   "cell_type": "code",
   "execution_count": 30,
   "metadata": {},
   "outputs": [
    {
     "data": {
      "text/plain": [
       "(435, 746)"
      ]
     },
     "execution_count": 30,
     "metadata": {},
     "output_type": "execute_result"
    }
   ],
   "source": [
    "# 4. Load the individuals used in the study\n",
    "list_inds = pd.read_csv(PATH_ASIANS_GWAS+'.fam', sep='\\t', header=None)[0].values\n",
    "# 5. Map the ids IGM->GS\n",
    "list_inds = common.map_ids(list_inds)\n",
    "# 5. Filter out the individuals there were not in the study\n",
    "df = df[ df[('id', '', '')].isin(list_inds) ]\n",
    "df.shape"
   ]
  },
  {
   "cell_type": "markdown",
   "metadata": {},
   "source": [
    "###### S_35_R\n",
    "\n",
    "We know that residue 35 in gene S of HBV genotype C should be a **G** ([see here](tutorial/HBV%20genome.ipynb#Reference-genome))."
   ]
  },
  {
   "cell_type": "code",
   "execution_count": 135,
   "metadata": {},
   "outputs": [
    {
     "data": {
      "text/plain": [
       "pos  variant\n",
       "35   G          309.0\n",
       "     K          100.0\n",
       "     R           50.0\n",
       "dtype: float64"
      ]
     },
     "execution_count": 135,
     "metadata": {},
     "output_type": "execute_result"
    }
   ],
   "source": [
    "# Select a portion of the table\n",
    "ids = pd.IndexSlice\n",
    "S_35 = df.loc[:, ids[['S', 'GT'], [35, '']]]\n",
    "S_35['S'].sum()"
   ]
  },
  {
   "cell_type": "code",
   "execution_count": 147,
   "metadata": {},
   "outputs": [
    {
     "name": "stdout",
     "output_type": "stream",
     "text": [
      "314 individuals have genotype C\n"
     ]
    },
    {
     "data": {
      "text/plain": [
       "variant\n",
       "G    298.0\n",
       "K      1.0\n",
       "R     38.0\n",
       "dtype: float64"
      ]
     },
     "execution_count": 147,
     "metadata": {},
     "output_type": "execute_result"
    }
   ],
   "source": [
    "S_35_GT_C = S_35[S_35.GT == 'C']\n",
    "print(S_35_GT_C.shape[0], \"individuals have genotype C\")\n",
    "S_35_GT_C[('S', 35)].sum()"
   ]
  },
  {
   "cell_type": "markdown",
   "metadata": {},
   "source": [
    "Among the individuals that were assigned to genotype C, only 298 (over 314) have the consensus amino acid. Moreover, there are some individuals that have at least two variants at that position (S_35), since the sum shown above is greater than 314. This basically tells us that we shouldn't rely too much about the assigned viral genotypes."
   ]
  },
  {
   "cell_type": "markdown",
   "metadata": {},
   "source": [
    "# rs2296651 <-> S_35_R"
   ]
  },
  {
   "cell_type": "code",
   "execution_count": 15,
   "metadata": {},
   "outputs": [
    {
     "data": {
      "text/plain": [
       "#CHROM                 14\n",
       "POS              70245193\n",
       "REF                     G\n",
       "ALT                     A\n",
       "A1                      A\n",
       "TEST                  ADD\n",
       "OBS_CT                434\n",
       "OR                48.1416\n",
       "LOG(OR)_SE       0.560362\n",
       "Z_STAT            6.91365\n",
       "P             4.72326e-12\n",
       "AA                 S_35_R\n",
       "Name: rs2296651, dtype: object"
      ]
     },
     "execution_count": 15,
     "metadata": {},
     "output_type": "execute_result"
    }
   ],
   "source": [
    "df_results.loc['rs2296651'] "
   ]
  },
  {
   "cell_type": "markdown",
   "metadata": {},
   "source": [
    "dbSNP: https://www.ncbi.nlm.nih.gov/snp/rs2296651, G->A, causes Ser267Phe, missense mutation. \n",
    "\n",
    "## Gene \n",
    "\n",
    "[SLC10A1](https://www.ncbi.nlm.nih.gov/gene/6554). Expression in the **liver**, sodium/bile acid cotransporter.\n",
    "\n",
    "> The protein encoded by this gene belongs to the sodium/bile acid cotransporter family, which are integral membrane glycoproteins that participate in the enterohepatic circulation of bile acids.\n",
    "\n",
    "###### Function\n",
    "\n",
    "[virus receptor activity](http://amigo.geneontology.org/amigo/term/GO:0001618): Combining with a virus component and mediating entry of the virus into the cell. [Definition](https://www.uniprot.org/keywords/KW-1183):\n",
    "\n",
    "> Cell surface protein used by a virus as an attachment and entry receptor. In some cases, binding to a cellular receptor is not sufficient for infection: an additional cell surface molecule, or coreceptor, is required for entry. Some viruses are able to use different receptors depending on the target cell type.\n",
    "\n",
    "## Articles\n",
    "\n",
    "[SLC10A1 S267F variant influences susceptibility to HBV infection and reduces cholesterol level by impairing bile acid uptake](https://onlinelibrary.wiley.com/doi/full/10.1111/jvh.13157)\n",
    "\n",
    "> The SLC10A1 Ser267Phe (S267F) variant has been reported to severely inhibit hepatitis B virus (HBV) infection and taurocholate transport activity. \n",
    "\n",
    "[The p.Ser267Phe Variant in SLC10A1 Is Associated With Resistance to Chronic Hepatitis B](https://www.researchgate.net/publication/269287835_The_pSer267Phe_Variant_in_SLC10A1_Is_Associated_With_Resistance_to_Chronic_Hepatitis_B)\n",
    "\n",
    "[Diverse Effects of the NTCP p.Ser267Phe Variant on Disease Progression During Chronic HBV Infection and on HBV preS1 Variability](https://www.ncbi.nlm.nih.gov/pmc/articles/PMC6407604/)\n",
    "\n",
    "> The HBV virus comprises an external envelope composed of surface glycoproteins, an icosahedral nucleocapsid, and a 3.2 kb partially double-stranded DNA genome.\n",
    "> \n",
    "> Recently, it was discovered that HBV entry into human hepatocytes is mediated by the receptor sodium taurocholate co-transporting polypeptide (NTCP) expressed by the host (Yan et al., 2012; Ni et al., 2014). **The preS1 domain of large envelope proteins is responsible for its binding with NTCP and involved in virus–host receptor interaction** (Barrera et al., 2005; Glebe et al., 2005; Yan et al., 2012).\n",
    "> \n",
    "> Most SLC10A1 SNPs have distributions related to ethnicity, and the non-synonymous mutation that encodes the p.Ser267Phe variant (S267F, c.800 G>A, rs2296651) is **specific to Asian patient populations**\n",
    "\n",
    "## Interpretation\n",
    "\n"
   ]
  },
  {
   "cell_type": "markdown",
   "metadata": {},
   "source": [
    "Having the Ser267Phe mutation in gene SLC10A1 makes having the S_35_R viral phenotype much more likely (OR > 1). This is because the Ser267Phe mutation severly inhibits HBV infection (it makes you much less susceptible to infection). Thus the S_35_R phenotype must have some escape function. "
   ]
  },
  {
   "cell_type": "markdown",
   "metadata": {},
   "source": [
    "## Re-run association analyses by genotypes\n",
    "\n",
    "We want to re-run an G2G analysis, for variant S_35_R, among asian individuals infected by the same HBV type. \n",
    "\n"
   ]
  },
  {
   "cell_type": "code",
   "execution_count": 26,
   "metadata": {},
   "outputs": [
    {
     "name": "stdout",
     "output_type": "stream",
     "text": [
      "313 individuals written to 'data/working_pheno'\n",
      "121 were filtered out based on the criteria ('GT', 'C')\n",
      "The phenotype '('S', 35, 'R')' were included from viral data.\n"
     ]
    }
   ],
   "source": [
    "common.write_phenotypes(fam=PATH_ASIANS_GWAS, phenotype=('S', 35, 'R'), criteria=('GT', 'C'),\n",
    "                       output_path=PATH_WORKING_PHENOTYPES)\n",
    "host.run_gwas(path_phenotypes=PATH_WORKING_PHENOTYPES, )"
   ]
  },
  {
   "cell_type": "markdown",
   "metadata": {},
   "source": [
    "# rs9397998 <-> Pol_584_T"
   ]
  },
  {
   "cell_type": "code",
   "execution_count": 17,
   "metadata": {},
   "outputs": [
    {
     "data": {
      "text/plain": [
       "#CHROM                  6\n",
       "POS             157488340\n",
       "REF                     C\n",
       "ALT                     T\n",
       "A1                      T\n",
       "TEST                  ADD\n",
       "OBS_CT                431\n",
       "OR            1.71134e+09\n",
       "LOG(OR)_SE        2.89168\n",
       "Z_STAT            7.35232\n",
       "P             1.94792e-13\n",
       "AA              Pol_584_T\n",
       "Name: rs9397998, dtype: object"
      ]
     },
     "execution_count": 17,
     "metadata": {},
     "output_type": "execute_result"
    }
   ],
   "source": [
    "df_results.loc['rs9397998']"
   ]
  },
  {
   "cell_type": "markdown",
   "metadata": {},
   "source": [
    "dbSNP https://www.ncbi.nlm.nih.gov/snp/rs9397998, C>T, intro variant. \n",
    "\n",
    "## Gene\n",
    "\n",
    "[ARID1B AT-rich interaction domain 1B [ Homo sapiens (human) ] ](https://www.ncbi.nlm.nih.gov/gene/57492), expressed in all tissues (but not much in liver).\n",
    "> This locus encodes an AT-rich DNA interacting domain-containing protein. The encoded protein is a component of the SWI/SNF chromatin remodeling complex and may play a role in cell-cycle activation. The protein encoded by this locus is similar to AT-rich interactive domain-containing protein 1A. These two proteins function as alternative, mutually exclusive ARID-subunits of the SWI/SNF complex. The associated complexes play opposing roles. Alternative splicing results in multiple transcript variants. \n",
    "\n",
    "## Articles\n",
    "\n",
    "[Genetic basis of hepatitis virus-associated hepatocellular carcinoma: linkage between infection, inflammation, and tumorigenesis](https://link.springer.com/article/10.1007/s00535-016-1273-2):\n",
    "> HCC tissues contain mutations of genes essential for maintaining the chromatin structure, including ARID1A, **ARID1B**, ARID2, and MLL4 [25]. Mutations of these epigenetic modifiers lead to profound epigenetic changes, including aberrant DNA methylation, histone modifications, and nucleosome positioning [16], resulting in abnormal gene expression and genomic instability, which may predispose to HCC development.\n",
    "\n",
    "[Whole-genome sequencing of liver cancers identifies etiological influences on mutation patterns and recurrent mutations in chromatin regulators.](https://www.ncbi.nlm.nih.gov/pubmed/22634756) :\n",
    "> Multiple chromatin regulators, including ARID1A, ARID1B, ARID2, MLL and MLL3, were mutated in ∼50% of the tumors. \n",
    "\n",
    "-> involved in epigenetic/chromatin regulation and development of hepatocellular carcinoma. \n",
    "\n",
    "## Interpretation\n",
    "\n",
    "None... Found no reference about this specific SNP, neither about the amino acid variant. We only know that the gene containing the intronic SNP is involved in HCC predisposition and that the amino acid is in the reverse transcriptase domain of the viral polymerase. Nothing can be deduced from it. "
   ]
  },
  {
   "cell_type": "markdown",
   "metadata": {},
   "source": [
    "# rs70944751 <-> PC_160_A"
   ]
  },
  {
   "cell_type": "code",
   "execution_count": 27,
   "metadata": {},
   "outputs": [
    {
     "data": {
      "text/plain": [
       "#CHROM                6\n",
       "POS            29911857\n",
       "REF                   G\n",
       "ALT                   T\n",
       "A1                    T\n",
       "TEST                ADD\n",
       "OBS_CT              430\n",
       "OR            0.0400096\n",
       "LOG(OR)_SE     0.490586\n",
       "Z_STAT          -6.5608\n",
       "P             5.352e-11\n",
       "AA             PC_160_A\n",
       "Name: rs70944751, dtype: object"
      ]
     },
     "execution_count": 27,
     "metadata": {},
     "output_type": "execute_result"
    }
   ],
   "source": [
    "df_results.loc['rs70944751']"
   ]
  },
  {
   "cell_type": "markdown",
   "metadata": {},
   "source": [
    "dbSNP https://www.ncbi.nlm.nih.gov/snp/rs70944751, G>T, HLA-A intro variant\n",
    "\n",
    "\n",
    "## Gene\n",
    "\n",
    "[HLA-A](https://www.ncbi.nlm.nih.gov/gene/3105), \n",
    "> HLA-A belongs to the HLA class I heavy chain paralogues. This class I molecule is a heterodimer consisting of a heavy chain and a light chain (beta-2 microglobulin). The heavy chain is anchored in the membrane. Class I molecules play a central role in the immune system by presenting peptides derived from the endoplasmic reticulum lumen.\n",
    "\n",
    "expressed in nearly all tissues, "
   ]
  },
  {
   "cell_type": "code",
   "execution_count": 36,
   "metadata": {},
   "outputs": [
    {
     "data": {
      "text/plain": [
       "variant\n",
       "A    391.0\n",
       "P     36.0\n",
       "dtype: float64"
      ]
     },
     "execution_count": 36,
     "metadata": {},
     "output_type": "execute_result"
    }
   ],
   "source": [
    "# Individuals from the study\n",
    "df[('PC', 160)].sum()"
   ]
  },
  {
   "cell_type": "code",
   "execution_count": 51,
   "metadata": {},
   "outputs": [
    {
     "data": {
      "text/plain": [
       "gene_PC_C_pos_0160_A    735\n",
       "gene_PC_C_pos_0160_G     11\n",
       "gene_PC_C_pos_0160_N      2\n",
       "gene_PC_C_pos_0160_P     44\n",
       "gene_PC_C_pos_0160_S      1\n",
       "gene_PC_C_pos_0160_V      1\n",
       "dtype: int64"
      ]
     },
     "execution_count": 51,
     "metadata": {},
     "output_type": "execute_result"
    }
   ],
   "source": [
    "# Individuals from the raw data\n",
    "DF = pd.read_csv(PATH_VIRAL_RAW_DATA, sep='\\t')\n",
    "lst = [ i for i in DF.columns if len(i) > 17 and i[0:18] == 'gene_PC_C_pos_0160' ]\n",
    "DF[lst].sum()"
   ]
  },
  {
   "cell_type": "markdown",
   "metadata": {},
   "source": [
    "# rs376806238 <-> PC_160_A\n"
   ]
  },
  {
   "cell_type": "code",
   "execution_count": 6,
   "metadata": {},
   "outputs": [
    {
     "data": {
      "text/plain": [
       "#CHROM                  6\n",
       "POS              29912395\n",
       "REF                     T\n",
       "ALT                   TGG\n",
       "A1                    TGG\n",
       "TEST                  ADD\n",
       "OBS_CT                413\n",
       "OR             0.00555607\n",
       "LOG(OR)_SE       0.793047\n",
       "Z_STAT           -6.54799\n",
       "P             5.83178e-11\n",
       "AA               PC_160_A\n",
       "Name: rs376806238, dtype: object"
      ]
     },
     "execution_count": 6,
     "metadata": {},
     "output_type": "execute_result"
    }
   ],
   "source": [
    "df_results.loc['rs376806238']"
   ]
  },
  {
   "cell_type": "markdown",
   "metadata": {},
   "source": [
    "dnSNP https://www.ncbi.nlm.nih.gov/snp/rs376806238, HLA-A non-coding transcript variant"
   ]
  },
  {
   "cell_type": "markdown",
   "metadata": {},
   "source": [
    "# rs2735101 <-> PC_160_A\n",
    "\n",
    "dbSNP https://www.ncbi.nlm.nih.gov/snp/rs2735101, HLA-A intron variant\n",
    "\n"
   ]
  },
  {
   "cell_type": "code",
   "execution_count": null,
   "metadata": {},
   "outputs": [],
   "source": []
  }
 ],
 "metadata": {
  "kernelspec": {
   "display_name": "Python 3",
   "language": "python",
   "name": "python3"
  },
  "language_info": {
   "codemirror_mode": {
    "name": "ipython",
    "version": 3
   },
   "file_extension": ".py",
   "mimetype": "text/x-python",
   "name": "python",
   "nbconvert_exporter": "python",
   "pygments_lexer": "ipython3",
   "version": "3.6.5"
  }
 },
 "nbformat": 4,
 "nbformat_minor": 2
}
