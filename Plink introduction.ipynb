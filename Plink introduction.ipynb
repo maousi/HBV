{
 "cells": [
  {
   "cell_type": "markdown",
   "metadata": {},
   "source": [
    "# Tutorial\n",
    "\n",
    "http://zzz.bwh.harvard.edu/plink/tutorial.shtml\n",
    "\n",
    "Once the .zip file is downloaded, type `./plink` from the command line. \n",
    "\n",
    "One can see [how to use the command line](http://zzz.bwh.harvard.edu/plink/download.shtml#input) to run plink.\n",
    "\n",
    "To add the executable to the PATH, copy it to the `/usr/local/bin` or `~/bin`, assuming those directories are in the path. Use `$PATH` command to see which dirs are into it."
   ]
  },
  {
   "cell_type": "code",
   "execution_count": 2,
   "metadata": {},
   "outputs": [
    {
     "name": "stdout",
     "output_type": "stream",
     "text": [
      "/bin/sh: 1: /home/matthias/anaconda3/bin:/home/matthias/anaconda3/bin:/home/matthias/anaconda3/condabin:/home/matthias/.local/bin:/usr/local/sbin:/usr/local/bin:/usr/sbin:/usr/bin:/sbin:/bin:/usr/games:/usr/local/games:/snap/bin: not found\r\n"
     ]
    }
   ],
   "source": [
    "!$PATH"
   ]
  },
  {
   "cell_type": "markdown",
   "metadata": {},
   "source": [
    "# Running PLINK from command line\n",
    "\n",
    "Use commands to produce summary statistics on missing data, exclude some SNPs, run an association analysis. Any command runs a new instanciation of plink.\n",
    "\n",
    "For example, if you want to run two association tests with different PED files, but include SNPs that are above a certain MAF in both runs: \n",
    "[...]"
   ]
  },
  {
   "cell_type": "markdown",
   "metadata": {},
   "source": [
    "# Tutorial example\n",
    "\n",
    "Randomly selected genotypes (about 80'000 autosomal SNPs), from the 89 Asian HapMap individuals. A phenotype has been simulated based on the genotype at one SNP. \n",
    "\n",
    "The example data has been put into the `data/` directory. It contins the genotypes, map files and two extra phenotype files. Two phenotypes were generated :\n",
    "\n",
    "* Quantitative trait\n",
    "* Disease trait (1=unaffected, 2=affected)\n",
    "\n",
    "**The quantitative trait** was generated as a function of three components:\n",
    "* Random comp\n",
    "* Chinese vs Japanese identity\n",
    "* Variant on chromosome 2, rs2222162\n",
    "\n",
    "One can see te contingency table representing the joint distribution of the disease and subpopulation. It shows a strong relationship between these two variables. \n",
    "\n",
    "| - | Chinese | Japanese |\n",
    "| - | - | - |\n",
    "| Control | 34 | 11 |\n",
    "| Case | 11 | 33 |"
   ]
  },
  {
   "cell_type": "markdown",
   "metadata": {},
   "source": [
    "Another contingency table shows association between the variant and the disease which also shows a strong association. \n",
    "\n",
    "| - | Gen 11 | Gen 12 | Gen 22\n",
    "|-|-|-|-|\n",
    "|Control|17|22|6\n",
    "|Case|3|19|22\n",
    "\n",
    "**In summary, there is a single causal variant that is associated with the disease**. But there are complicating factors, this is one among many SNPs, and there might be some confounding of the SNP-disease associations due to the subpopulation-disease association - i.e. that *population stratification* effect exist. Even though we consider the two populations are similar, but we still need to take this into account. "
   ]
  },
  {
   "cell_type": "markdown",
   "metadata": {},
   "source": [
    "We'll use the affection status variable as the default variable for analysis (sixth column in the PED file). The quantitative trait is in a separate alternate phenotype file, `qt.phe`. The `pop.phe` contains a dummy phenotype (1=Chinese, 2=Japanese). We'll use this to investigate between-population differences. Here we focus on autosomal SNPs for simplicity"
   ]
  },
  {
   "cell_type": "markdown",
   "metadata": {},
   "source": [
    "## Analyse the data\n",
    "\n",
    "### Getting started\n",
    "\n",
    "Type plink and specifying a file without options -> check if the file is intact. To get basic summary statistics: \n",
    "    \n",
    "    plink --file hapmap1"
   ]
  },
  {
   "cell_type": "code",
   "execution_count": 9,
   "metadata": {
    "scrolled": true
   },
   "outputs": [
    {
     "name": "stdout",
     "output_type": "stream",
     "text": [
      "\r\n",
      "@----------------------------------------------------------@\r\n",
      "|        PLINK!       |     v1.07      |   10/Aug/2009     |\r\n",
      "|----------------------------------------------------------|\r\n",
      "|  (C) 2009 Shaun Purcell, GNU General Public License, v2  |\r\n",
      "|----------------------------------------------------------|\r\n",
      "|  For documentation, citation & bug-report instructions:  |\r\n",
      "|        http://pngu.mgh.harvard.edu/purcell/plink/        |\r\n",
      "@----------------------------------------------------------@\r\n",
      "\r\n",
      "Skipping web check... [ --noweb ] \r\n",
      "Writing this text to log file [ plink.log ]\r\n",
      "Analysis started: Mon Aug  5 14:12:54 2019\r\n",
      "\r\n",
      "Options in effect:\r\n",
      "\t--file hapmap1\r\n",
      "\t--noweb\r\n",
      "\r\n",
      "83534 (of 83534) markers to be included from [ hapmap1.map ]\r\n",
      "89 individuals read from [ hapmap1.ped ] \r\n",
      "89 individuals with nonmissing phenotypes\r\n",
      "Assuming a disease phenotype (1=unaff, 2=aff, 0=miss)\r\n",
      "Missing phenotype value is also -9\r\n",
      "44 cases, 45 controls and 0 missing\r\n",
      "89 males, 0 females, and 0 of unspecified sex\r\n",
      "Before frequency and genotyping pruning, there are 83534 SNPs\r\n",
      "89 founders and 0 non-founders found\r\n",
      "Total genotyping rate in remaining individuals is 0.99441\r\n",
      "0 SNPs failed missingness test ( GENO > 1 )\r\n",
      "0 SNPs failed frequency test ( MAF < 0 )\r\n",
      "After frequency and genotyping pruning, there are 83534 SNPs\r\n",
      "After filtering, 44 cases, 45 controls and 0 missing\r\n",
      "After filtering, 89 males, 0 females, and 0 of unspecified sex\r\n",
      "\r\n",
      "Analysis finished: Mon Aug  5 14:12:58 2019\r\n",
      "\r\n"
     ]
    }
   ],
   "source": [
    "# The analysis was runned in a terminal\n",
    "# Here we display the content of the .log file\n",
    "!cat /media/matthias/Data/Programmation/HBV/tutorial/hapmap1/plink.log"
   ]
  },
  {
   "cell_type": "markdown",
   "metadata": {},
   "source": [
    "The `--file` option takes as a single parameter the root of the input file names. It looks for the *PED* and *MAP* files. That means `--file hapmap1` implies that `hapmap1.ped` and `hapmap1.map` exist in the current directory. \n",
    "\n",
    "* PED files contain genotype information\n",
    "* MAP files contain information on the name and position of the markers in the PED file\n",
    "\n",
    "Consult [this page (data)](http://zzz.bwh.harvard.edu/plink/data.shtml) to get familiar with those file formats.  "
   ]
  },
  {
   "cell_type": "markdown",
   "metadata": {},
   "source": [
    "### Content of the log file\n",
    "\n",
    "1. Copyright and version number, web-checking\n",
    "1. Message indicating that everything is in the .log file\n",
    "1. Commands used\n",
    "1. Information on the number of markers and individuals from the MAP and PED files. \n",
    "1. Information on the phenotype and affection status variable (as opposed to a quantitative trait), shows the missing values (here -9).\n",
    "1. Filtering stage: individuals and/or SNPs are removed on the basis of thresholds. In this case, no individuals were removed, but almost 20'000 SNPs were removed based on missingness (859) and frequency (16994). \n",
    "1. Finally, a line indicates that the analysis is finished. "
   ]
  },
  {
   "cell_type": "markdown",
   "metadata": {},
   "source": [
    "### Making a binary PED file\n",
    "\n",
    "This is a more compact representation of the data, **it saves space and speed** for subsequent analysis. Use the command\n",
    "\n",
    "    plink --file hapmap1 --make-bed --out hapmap1\n",
    "    \n",
    "* `--make-bed` option automatically exclude nothing from data \n",
    "* Three files are created: binary file that contains the raw genotype data `hapmap1.bed`, but also a revised map file `hapmap1.bim` which contains two extra columns that give the allele names for each SNP, and `hapmap1.fam` which is just the first six columns of `hapmap1.ped`.\n",
    "* You can view the `.bim` and `.fam` files but not the `.bed` files. \n",
    "\n",
    "Example: create binary files that only include individuals with high genotyping (95% complete at least) :"
   ]
  },
  {
   "cell_type": "code",
   "execution_count": 15,
   "metadata": {
    "scrolled": true
   },
   "outputs": [
    {
     "name": "stdout",
     "output_type": "stream",
     "text": [
      "\n",
      "@----------------------------------------------------------@\n",
      "|        PLINK!       |     v1.07      |   10/Aug/2009     |\n",
      "|----------------------------------------------------------|\n",
      "|  (C) 2009 Shaun Purcell, GNU General Public License, v2  |\n",
      "|----------------------------------------------------------|\n",
      "|  For documentation, citation & bug-report instructions:  |\n",
      "|        http://pngu.mgh.harvard.edu/purcell/plink/        |\n",
      "@----------------------------------------------------------@\n",
      "\n",
      "Skipping web check... [ --noweb ] \n",
      "Writing this text to log file [ tutorial/hapmap1/highgeno.log ]\n",
      "Analysis started: Mon Aug  5 14:34:45 2019\n",
      "\n",
      "Options in effect:\n",
      "\t--noweb\n",
      "\t--file tutorial/hapmap1/hapmap1\n",
      "\t--make-bed\n",
      "\t--mind 0.05\n",
      "\t--out tutorial/hapmap1/highgeno\n",
      "\n",
      "83534 (of 83534) markers to be included from [ tutorial/hapmap1/hapmap1.map ]\n",
      "89 individuals read from [ tutorial/hapmap1/hapmap1.ped ] \n",
      "89 individuals with nonmissing phenotypes\n",
      "Assuming a disease phenotype (1=unaff, 2=aff, 0=miss)\n",
      "Missing phenotype value is also -9\n",
      "44 cases, 45 controls and 0 missing\n",
      "89 males, 0 females, and 0 of unspecified sex\n",
      "Before frequency and genotyping pruning, there are 83534 SNPs\n",
      "89 founders and 0 non-founders found\n",
      "0 of 89 individuals removed for low genotyping ( MIND > 0.05 )\n",
      "Total genotyping rate in remaining individuals is 0.99441\n",
      "0 SNPs failed missingness test ( GENO > 1 )\n",
      "0 SNPs failed frequency test ( MAF < 0 )\n",
      "After frequency and genotyping pruning, there are 83534 SNPs\n",
      "After filtering, 44 cases, 45 controls and 0 missing\n",
      "After filtering, 89 males, 0 females, and 0 of unspecified sex\n",
      "Writing pedigree information to [ tutorial/hapmap1/highgeno.fam ] \n",
      "Writing map (extended format) information to [ tutorial/hapmap1/highgeno.bim ] \n",
      "Writing genotype bitfile to [ tutorial/hapmap1/highgeno.bed ] \n",
      "Using (default) SNP-major mode\n",
      "\n",
      "Analysis finished: Mon Aug  5 14:34:49 2019\n",
      "\n"
     ]
    }
   ],
   "source": [
    "!plink --noweb --file tutorial/hapmap1/hapmap1 --make-bed --mind 0.05 --out tutorial/hapmap1/highgeno"
   ]
  },
  {
   "cell_type": "markdown",
   "metadata": {},
   "source": [
    "### Working with binary PED file\n",
    "\n",
    "Simply use `--bfile` instead of `--file`. From this point you **can actually delete** the `hapmap1.ped` and `hapmap1.map` files, since the binary option will make plink load the files `hapmap1.bim`, `hapmap1.fam`, `hapmap1.bed`. \n",
    "\n",
    "#### Summary statistics: missing rates\n",
    "\n",
    "Using `--missing` option. \n",
    "\n",
    "     plink --bfile hapmap1 --missing --out miss_stat \n",
    "\n",
    "It shows the **removed individuals based on missingness**. For example, MIND > 0.1 implies tht we accept people with less than 10% missingness."
   ]
  },
  {
   "cell_type": "markdown",
   "metadata": {},
   "source": [
    "The per individual and per SNP (after exclusion) rates are output to the files `miss_stat.imiss` and `miss_stat.lmiss` respectively. "
   ]
  },
  {
   "cell_type": "code",
   "execution_count": 21,
   "metadata": {},
   "outputs": [
    {
     "name": "stdout",
     "output_type": "stream",
     "text": [
      " CHR         SNP   N_MISS   N_GENO   F_MISS\r\n",
      "   1   rs6681049        0       89        0\r\n",
      "   1   rs4074137        0       89        0\r\n",
      "   1   rs7540009        0       89        0\r\n",
      "   1   rs1891905        0       89        0\r\n",
      "   1   rs9729550        0       89        0\r\n",
      "   1   rs3813196        0       89        0\r\n",
      "   1   rs6704013        2       89  0.02247\r\n",
      "   1    rs307347       12       89   0.1348\r\n",
      "   1   rs9439440        2       89  0.02247\r\n"
     ]
    }
   ],
   "source": [
    "!head -10 tutorial/hapmap1/miss_stat.lmiss"
   ]
  },
  {
   "cell_type": "markdown",
   "metadata": {},
   "source": [
    "For each SNP *(because .lmiss)*, we see the number of individuals `N_MISS` and the proportion of missing individuals `F_MISS`. "
   ]
  },
  {
   "cell_type": "code",
   "execution_count": 22,
   "metadata": {},
   "outputs": [
    {
     "name": "stdout",
     "output_type": "stream",
     "text": [
      "     FID  IID MISS_PHENO   N_MISS   N_GENO   F_MISS\r\n",
      "  HCB181    1          N      671    83534 0.008033\r\n",
      "  HCB182    1          N     1156    83534  0.01384\r\n",
      "  HCB183    1          N      498    83534 0.005962\r\n",
      "  HCB184    1          N      412    83534 0.004932\r\n",
      "  HCB185    1          N      329    83534 0.003939\r\n",
      "  HCB186    1          N     1233    83534  0.01476\r\n",
      "  HCB187    1          N      258    83534 0.003089\r\n",
      "  HCB188    1          N      864    83534  0.01034\r\n",
      "  HCB189    1          N      517    83534 0.006189\r\n"
     ]
    }
   ],
   "source": [
    "!head -10 tutorial/hapmap1/miss_stat.imiss"
   ]
  },
  {
   "cell_type": "markdown",
   "metadata": {},
   "source": [
    "The final column is the actual genotyping rate for that individual (we see that it's very high here).\n",
    "\n",
    "### Summary statistics: allele frequencies\n",
    "\n",
    "Similar analysis, except requesting allele frequencies instead of genotyping rates. We'll generate a `freq_stat.frq` file which contains the minor allele frequency and allele codes for each SNP. \n",
    "\n",
    "    plink --bfile hapmap1 --freq --out freq_stat"
   ]
  },
  {
   "cell_type": "code",
   "execution_count": 23,
   "metadata": {
    "scrolled": true
   },
   "outputs": [
    {
     "name": "stdout",
     "output_type": "stream",
     "text": [
      " CHR         SNP   A1   A2          MAF  NCHROBS\r\n",
      "   1   rs6681049    1    2       0.2135      178\r\n",
      "   1   rs4074137    1    2      0.07865      178\r\n",
      "   1   rs7540009    0    2            0      178\r\n",
      "   1   rs1891905    1    2       0.4045      178\r\n",
      "   1   rs9729550    1    2       0.1292      178\r\n",
      "   1   rs3813196    1    2      0.02809      178\r\n",
      "   1   rs6704013    0    2            0      174\r\n",
      "   1    rs307347    0    2            0      154\r\n",
      "   1   rs9439440    0    2            0      174\r\n"
     ]
    }
   ],
   "source": [
    "!head -10 tutorial/hapmap1/freq_stat.frq"
   ]
  },
  {
   "cell_type": "markdown",
   "metadata": {},
   "source": [
    "We can also perform this frequency analysis (and missingness analysis) stratified by categorical, cluster variable. In this case, indicate whether the individual is Chinese or Japanese. The cluster files will contain three columns, each row is an individual. See the [documentation](http://zzz.bwh.harvard.edu/plink/data.shtml#cluster) for more information about the format.\n",
    "\n",
    "    # Stratified analysis of allele frequency\n",
    "    plink --bfile hapmap1 --freq --within pop.phe --out freq_stat\n",
    "    \n",
    "This generates a file `freq_stat.frq.strat` instead of `freq_stat.frq` :"
   ]
  },
  {
   "cell_type": "code",
   "execution_count": 25,
   "metadata": {},
   "outputs": [
    {
     "name": "stdout",
     "output_type": "stream",
     "text": [
      " CHR         SNP     CLST   A1   A2      MAF    MAC  NCHROBS\r\n",
      "   1   rs6681049        1    1    2   0.2333     21       90 \r\n",
      "   1   rs6681049        2    1    2   0.1932     17       88 \r\n",
      "   1   rs4074137        1    1    2      0.1      9       90 \r\n",
      "   1   rs4074137        2    1    2  0.05682      5       88 \r\n",
      "   1   rs7540009        1    0    2        0      0       90 \r\n",
      "   1   rs7540009        2    0    2        0      0       88 \r\n",
      "   1   rs1891905        1    1    2   0.4111     37       90 \r\n",
      "   1   rs1891905        2    1    2   0.3977     35       88 \r\n",
      "   1   rs9729550        1    1    2   0.1444     13       90 \r\n"
     ]
    }
   ],
   "source": [
    "!head -10 tutorial/hapmap1/freq_stat.frq.strat"
   ]
  },
  {
   "cell_type": "markdown",
   "metadata": {},
   "source": [
    "We see each row is now the allele frequency for each SNP stratifed by subpopulation. Each SNP is represented twice: the CLST column indicates whether the frequency is from the Chinese or Japanese populations, coded as in the `pop.phe` file. \n",
    "\n",
    "If you're interested in a specific SNP, use te `--snp` option. "
   ]
  },
  {
   "cell_type": "code",
   "execution_count": 29,
   "metadata": {
    "scrolled": true
   },
   "outputs": [
    {
     "name": "stdout",
     "output_type": "stream",
     "text": [
      "\n",
      "@----------------------------------------------------------@\n",
      "|        PLINK!       |     v1.07      |   10/Aug/2009     |\n",
      "|----------------------------------------------------------|\n",
      "|  (C) 2009 Shaun Purcell, GNU General Public License, v2  |\n",
      "|----------------------------------------------------------|\n",
      "|  For documentation, citation & bug-report instructions:  |\n",
      "|        http://pngu.mgh.harvard.edu/purcell/plink/        |\n",
      "@----------------------------------------------------------@\n",
      "\n",
      "Skipping web check... [ --noweb ] \n",
      "Writing this text to log file [ tutorial/hapmap1/snp1_frq_stat.log ]\n",
      "Analysis started: Mon Aug  5 15:57:38 2019\n",
      "\n",
      "Options in effect:\n",
      "\t--noweb\n",
      "\t--bfile tutorial/hapmap1/hapmap1\n",
      "\t--snp rs1891905\n",
      "\t--freq\n",
      "\t--within tutorial/hapmap1/pop.phe\n",
      "\t--out tutorial/hapmap1/snp1_frq_stat\n",
      "\n",
      "Reading map (extended format) from [ tutorial/hapmap1/hapmap1.bim ] \n",
      "83534 markers to be included from [ tutorial/hapmap1/hapmap1.bim ]\n",
      "Scan region on chromosome 1 from [ rs1891905 ] to [ rs1891905 ]\n",
      "Reading pedigree information from [ tutorial/hapmap1/hapmap1.fam ] \n",
      "89 individuals read from [ tutorial/hapmap1/hapmap1.fam ] \n",
      "89 individuals with nonmissing phenotypes\n",
      "Assuming a disease phenotype (1=unaff, 2=aff, 0=miss)\n",
      "Missing phenotype value is also -9\n",
      "44 cases, 45 controls and 0 missing\n",
      "89 males, 0 females, and 0 of unspecified sex\n",
      "Reading genotype bitfile from [ tutorial/hapmap1/hapmap1.bed ] \n",
      "Detected that binary PED file is v1.00 SNP-major mode\n",
      "Reading clusters from [ tutorial/hapmap1/pop.phe ]\n",
      "89 of 89 individuals assigned to 2 cluster(s)\n",
      "Before frequency and genotyping pruning, there are 1 SNPs\n",
      "89 founders and 0 non-founders found\n",
      "Writing stratified allele frequencies (founders-only) to [ tutorial/hapmap1/snp1_frq_stat.frq.strat ] \n",
      "\n",
      "Analysis finished: Mon Aug  5 15:57:38 2019\n",
      "\n"
     ]
    }
   ],
   "source": [
    "!plink --noweb --bfile tutorial/hapmap1/hapmap1 --snp rs1891905 --freq --within tutorial/hapmap1/pop.phe --out tutorial/hapmap1/snp1_frq_stat"
   ]
  },
  {
   "cell_type": "code",
   "execution_count": 32,
   "metadata": {},
   "outputs": [
    {
     "name": "stdout",
     "output_type": "stream",
     "text": [
      " CHR         SNP     CLST   A1   A2      MAF    MAC  NCHROBS\r\n",
      "   1   rs1891905        1    1    2   0.4111     37       90 \r\n",
      "   1   rs1891905        2    1    2   0.3977     35       88 \r\n"
     ]
    }
   ],
   "source": [
    "!cat tutorial/hapmap1/snp1_frq_stat.frq.strat"
   ]
  },
  {
   "cell_type": "markdown",
   "metadata": {},
   "source": [
    "This shows the population-specific frequencies for this single SNP. See [this link](http://zzz.bwh.harvard.edu/plink/dataman.shtml#extract) to see specific options to select a range of SNPs (`--window kb`, `--from`, `--to` options ...).\n",
    "\n",
    "### Basic association analysis\n",
    "\n",
    "Perform a basic association analysis on the disease trait for all single SNPs.\n",
    "\n",
    "    plink --bfile hapmap1 --assoc --out as1"
   ]
  },
  {
   "cell_type": "code",
   "execution_count": 33,
   "metadata": {},
   "outputs": [
    {
     "name": "stdout",
     "output_type": "stream",
     "text": [
      " CHR         SNP         BP   A1      F_A      F_U   A2        CHISQ            P           OR \r\n",
      "   1   rs6681049          1    1   0.1591   0.2667    2        3.067      0.07991       0.5203 \r\n",
      "   1   rs4074137          2    1  0.07955  0.07778    2     0.001919       0.9651        1.025 \r\n",
      "   1   rs7540009          3    0        0        0    2           NA           NA           NA \r\n",
      "   1   rs1891905          4    1   0.4091      0.4    2      0.01527       0.9017        1.038 \r\n",
      "   1   rs9729550          5    1   0.1705  0.08889    2        2.631       0.1048        2.106 \r\n",
      "   1   rs3813196          6    1  0.03409  0.02222    2       0.2296       0.6318        1.553 \r\n",
      "   1   rs6704013          7    0        0        0    2           NA           NA           NA \r\n",
      "   1    rs307347          8    0        0        0    2           NA           NA           NA \r\n",
      "   1   rs9439440          9    0        0        0    2           NA           NA           NA \r\n"
     ]
    }
   ],
   "source": [
    "!head tutorial/hapmap1/as1.assoc"
   ]
  },
  {
   "cell_type": "markdown",
   "metadata": {},
   "source": [
    "Each row is a single SNP association result. The columns are : \n",
    "\n",
    "* Chromosome\n",
    "* SNP identifier\n",
    "* Code for allele 1 (the minor, rare allele based on the entire sample frequencies)\n",
    "* Frequency of this variant in cases\n",
    "* Frequency of this variant in controls\n",
    "* Code or the other allele\n",
    "* Chi-squared statistic for this test (1 df)\n",
    "* Asymptotic significance value for this test\n",
    "* OR (odds ratio) for this test\n",
    "\n",
    "If a test isn't defined (for example the variant is monomorphic but not excluded), the value `NA` is given. For Linux environment, simply sort them and print out the top 10:\n",
    "\n",
    "***\n",
    "**WARNING : the output is not exactly as in the tutorial.. Should investigate where does it come from.** Thus prefer the plink commands to sort by significance. "
   ]
  },
  {
   "cell_type": "code",
   "execution_count": 41,
   "metadata": {},
   "outputs": [
    {
     "name": "stdout",
     "output_type": "stream",
     "text": [
      "  13   rs9314912      61931    2   0.3523   0.6333    1        14.06     0.000177       0.3149 \r\n",
      "   2   rs2222162      10602    1   0.2841   0.6222    2        20.51    5.918e-06       0.2409 \r\n",
      "   1    rs513287       4350    2   0.3523   0.6222    1        12.98    0.0003155       0.3302 \r\n",
      "  14   rs3825726      66182    2   0.3523   0.6222    1        12.98    0.0003155       0.3302 \r\n",
      "   7  rs12705332      37957    1    0.375   0.6111    2        9.923     0.001632       0.3818 \r\n",
      "   3   rs7621054      15360    2   0.3636   0.6111    1        10.91    0.0009588       0.3636 \r\n",
      "   1  rs12028453       3183    2   0.3523   0.6111    1        11.94    0.0005501       0.3461 \r\n",
      "  14   rs4899962      66836    2   0.3023   0.6111    1        16.88    3.983e-05       0.2758 \r\n",
      "   9   rs2118021      47713    1    0.375   0.6023    2        9.096     0.002562       0.3962 \r\n",
      "  15   rs1912010      69505    1   0.3864   0.6023    2        8.206     0.004176       0.4158 \r\n"
     ]
    }
   ],
   "source": [
    "!sort --key=6 -nr tutorial/hapmap1/as1.assoc > tutorial/hapmap1/as1_sorted.assoc\n",
    "!head tutorial/hapmap1/as1_sorted.assoc"
   ]
  },
  {
   "cell_type": "markdown",
   "metadata": {},
   "source": [
    "***\n",
    "Here you see that the simulated disease variant rs2222162 is the secont most significant *(remember: that is the only causal SNP from the simulation)*. It has a large difference in allele frequencies of 0.28 in cases versus 0.62 in controls. But there is another SNP on chr13 that has a slightly higher  test result. We'll investigate whether this is due to chance alone or because of some confounding factors due to population stratification. \n",
    "\n",
    "The important thing to remember is that when so many tests are performed, we often expect the distribution of true positive results to be virtually indistinguishable from the  best false positive results. \n",
    "\n",
    "**To get a sorted list of association results**, including a range of significance **adjusted for multiple comparisons**, use the `--adjust` flag:\n",
    "\n",
    "    plink --bfile hapmap1 --assoc --adjust --out as2\n",
    "    \n",
    "This generates the file `as2.assoc.adjust` in addition to the basic `as2.assoc` file."
   ]
  },
  {
   "cell_type": "code",
   "execution_count": 44,
   "metadata": {},
   "outputs": [
    {
     "name": "stdout",
     "output_type": "stream",
     "text": [
      " CHR         SNP      UNADJ         GC       BONF       HOLM   SIDAK_SS   SIDAK_SD     FDR_BH     FDR_BY\r\n",
      "  13   rs9585021  5.586e-06  4.994e-05     0.3839     0.3839     0.3188     0.3188    0.09719          1 \r\n",
      "   2   rs2222162  5.918e-06  5.232e-05     0.4068     0.4067     0.3342     0.3342    0.09719          1 \r\n",
      "   9  rs10810856  7.723e-06  6.483e-05     0.5308     0.5308     0.4118     0.4118    0.09719          1 \r\n",
      "   2   rs4675607   8.05e-06  6.703e-05     0.5533     0.5533     0.4249     0.4249    0.09719          1 \r\n",
      "   2   rs4673349  8.485e-06  6.994e-05     0.5832     0.5831     0.4419     0.4419    0.09719          1 \r\n",
      "   2   rs1375352  8.485e-06  6.994e-05     0.5832     0.5831     0.4419     0.4419    0.09719          1 \r\n",
      "  21    rs219746  1.228e-05  9.422e-05     0.8442     0.8441     0.5701     0.5701     0.1206          1 \r\n",
      "   1   rs4078404  2.667e-05   0.000176          1          1     0.8401       0.84     0.2291          1 \r\n",
      "  14   rs1152431  3.862e-05  0.0002374          1          1     0.9297     0.9297     0.2737          1 \r\n"
     ]
    }
   ],
   "source": [
    "!head tutorial/hapmap1/as2.assoc.adjusted"
   ]
  },
  {
   "cell_type": "markdown",
   "metadata": {},
   "source": [
    "This is a pre-sorted list of association results which the following fields:\n",
    "\n",
    "* Chromosome\n",
    "* SNP id\n",
    "* Unadjusted, asymptotic significance value\n",
    "* Genomic control adjusted significance value. The estimation is based on the inflation factor based on the median chi2 statistic. These values do not control for multiple testing.\n",
    "* Bonferroni adjusted significance value\n",
    "* Holm step-down adjusted significance value\n",
    "* Sidak single-step adjusted signficiance value\n",
    "* Sidak step-down adjusted sig value\n",
    "* ... step-up FDR control\n",
    "* ... step-up FDR control\n",
    "\n",
    "**In this case, we see that no single variant is significant at the 5% level after genome-wide correction.** Note that different correction measures have different properties (not discussed here). "
   ]
  },
  {
   "cell_type": "markdown",
   "metadata": {},
   "source": [
    "When the `--adjust` command is used, the log file record the inflation factor calculated for the genomic control analysis, and the mean chi2 statistic. **Those values should be 1 under the null**. "
   ]
  },
  {
   "cell_type": "code",
   "execution_count": 45,
   "metadata": {
    "scrolled": true
   },
   "outputs": [
    {
     "name": "stdout",
     "output_type": "stream",
     "text": [
      "Computing corrected significance values (FDR, Sidak, etc)\r\n",
      "Genomic inflation factor (based on median chi-squared) is 1.25377\r\n",
      "Mean chi-squared statistic is 1.14392\r\n",
      "Correcting for 68727 tests\r\n",
      "Writing multiple-test corrected significance values to [ as2.assoc.adjusted ] \r\n",
      "\r\n",
      "Analysis finished: Mon Aug  5 16:20:01 2019\r\n",
      "\r\n"
     ]
    }
   ],
   "source": [
    "!tail -8 tutorial/hapmap1/as2.log"
   ]
  },
  {
   "cell_type": "markdown",
   "metadata": {},
   "source": [
    "Those values **suggest that no strong stratification actually exist**, there is perhaps a hint for an increased false positive rate, as both values are greater than 1.00. \n",
    "\n",
    "By default, he adjusted significance values that control for multiple testing are based on unadjusted significance values. Specify the flag `--gc` as well as `--adjusted` to adjust these values based on the genomic-control significance value instead. *(??? how is this different, does it matter ???)*. "
   ]
  },
  {
   "cell_type": "markdown",
   "metadata": {},
   "source": [
    "Here we already know about the **Chinese/Japanese subpopulations**, it might be interesting to directly look at the inflation factor that results from having population membership as the phenotype in a case/control analysis (this provides extra information about the sample). That is, running the command using the alternative phenotype option (i.e. replacing the disease phenotype with the one in `pop.phe`, which is actually subpopulation membership) :\n",
    "\n",
    "    plink --bfile hapmap1 --pheno pop.phe --assoc --adjust --out as3\n",
    "    \n",
    "We can see that testing frequency differences between Chinese and Japanese individuals, we do see some departure from the null distribution *(from as3.log)*: \n",
    "    \n",
    "    Genomic inflation factor (based on median chi-squared) is 1.78854\n",
    "    Mean chi-squared statistic is 1.56707\n",
    "    \n",
    "The inflation factor of 1.7 represents the maximum possible inflation factor if the disease were perfectly correlated with subpopulation that could arise from the subpopulation split in the samples (this does not account for any possible within-subpopulation structure that might also increase SNP-disese false positive rates). \n",
    "\n",
    "This issue will be discussed in more detail below by using the whole genome data to detect stratification more directly. "
   ]
  },
  {
   "cell_type": "markdown",
   "metadata": {},
   "source": [
    "### Genotypic and other association models\n",
    "\n",
    "Compute association statistics based on the 2-by-3 genotype table as well as the standard allelic test, or tests that assume dominant or recessive action of the minor allele. inally, we can perform the Cochran-Armitage trend test instead of the basic allelic test. All these tests are performed with the `--model` command. Let's run it for our SNP of interest, rs2222162:\n",
    "\n",
    "    plink --bfile hapmap1 --model --snp rs2222162 --out mod1"
   ]
  },
  {
   "cell_type": "code",
   "execution_count": 46,
   "metadata": {},
   "outputs": [
    {
     "name": "stdout",
     "output_type": "stream",
     "text": [
      " CHR         SNP   A1   A2     TEST            AFF          UNAFF        CHISQ   DF            P\r\n",
      "   2   rs2222162    1    2     GENO        3/19/22        17/22/6           NA   NA           NA\r\n",
      "   2   rs2222162    1    2    TREND          25/63          56/34        19.15    1    1.207e-05\r\n",
      "   2   rs2222162    1    2  ALLELIC          25/63          56/34        20.51    1    5.918e-06\r\n",
      "   2   rs2222162    1    2      DOM          22/22           39/6           NA   NA           NA\r\n",
      "   2   rs2222162    1    2      REC           3/41          17/28           NA   NA           NA\r\n"
     ]
    }
   ],
   "source": [
    "!cat tutorial/hapmap1/mod1.model"
   ]
  },
  {
   "cell_type": "markdown",
   "metadata": {},
   "source": [
    "This generates the file `mod1.model` that has more than one row per SNP, representing the different tests performed for each SNP. See [here](http://zzz.bwh.harvard.edu/plink/anal.shtml#model) for the file format.  The tests are the basic allelic test, the Cochran-Armitage trend test, dominant and recessive models and genotypic test. All TS are distributed as chi2 with 1 df under the null, with the exception of the genotypic test which has 2 df. \n",
    "\n",
    "But we **have a problem here**: in this particular case, running the basic model command will not produce values for the genotypic tests. This is because, by default, every cell in the 2-by-3 table is required to have at least 5 observations, which does not hold here. This default can be changed with the `--cell` option. This option is followed by the minimum number of counts in each cell of the 2-by-3 table required before these extended analyses are performed. For example, to force the genotypic tests for this particular SNP jsut for illustrative purposes, run :\n",
    "\n",
    "    plink --bfile hapmap1 --model --cell 0 --snp rs2222162 --out mod2"
   ]
  },
  {
   "cell_type": "code",
   "execution_count": 47,
   "metadata": {
    "scrolled": true
   },
   "outputs": [
    {
     "name": "stdout",
     "output_type": "stream",
     "text": [
      " CHR         SNP   A1   A2     TEST            AFF          UNAFF        CHISQ   DF            P\r\n",
      "   2   rs2222162    1    2     GENO        3/19/22        17/22/6        19.15    2    6.932e-05\r\n",
      "   2   rs2222162    1    2    TREND          25/63          56/34        19.15    1    1.207e-05\r\n",
      "   2   rs2222162    1    2  ALLELIC          25/63          56/34        20.51    1    5.918e-06\r\n",
      "   2   rs2222162    1    2      DOM          22/22           39/6        13.87    1    0.0001958\r\n",
      "   2   rs2222162    1    2      REC           3/41          17/28        12.24    1    0.0004679\r\n"
     ]
    }
   ],
   "source": [
    "!cat tutorial/hapmap1/mod2.model"
   ]
  },
  {
   "cell_type": "markdown",
   "metadata": {},
   "source": [
    "Now the genotypic tests are also calculated, as we set the minimum number in each cell to 0. Reassuringly, the counts in affected and unaffected individuals match the values presented in the table above (generated when the trait was simulated). Looking at the other statistics, we see all are highly significant (as would be expected for a strong, common, allelic effect) although the allelic test has the most significant p-value. This makes sense, as the data were essentially simulated under an allelic (dosage) model. "
   ]
  },
  {
   "cell_type": "markdown",
   "metadata": {},
   "source": [
    "### Stratification analysis\n",
    "\n",
    "The analyses so far have ignored the fact that our samples consists of two similar, but distinct subpopulations (Chinese and Japanese samples). In this case, we already know the subpopulations exist and we also know that the disease is more prevalent in one of the groups. More generally, we might not know anything of potential population substructure in our sample upfront. One way to address this issue is to **use whole-genome data to cluster individuals into homogeneous groups.** There are many options that won't be covered here. For illustrative purpose, we shall perform a cluster anlaysis that **pairs up individuals on the basis of genetic identity**. \n",
    "\n",
    "    # this may take a lot of time\n",
    "    plink --bfile hapmap1 --cluster --mc 2 --ppc 0.05 --out str1\n",
    "    \n",
    "This command requests IBS clustering (`--cluster`) but with the constaints that each cluster has no more than two individuals (`--mc 2`) and that any pair of individuals who have a significance value of less than 0.05 for the test of whether or not the two individuals belong to the same population based on the available SNP data are not merged. These options and tests are described in the [main documentation](http://zzz.bwh.harvard.edu/plink/strat.shtml)"
   ]
  },
  {
   "cell_type": "code",
   "execution_count": 48,
   "metadata": {
    "cell_style": "split"
   },
   "outputs": [
    {
     "name": "stdout",
     "output_type": "stream",
     "text": [
      "SOL-0\t HCB181_1 JPT260_1\r\n",
      "SOL-1\t HCB182_1 HCB225_1\r\n",
      "SOL-2\t HCB183_1 HCB194_1\r\n",
      "SOL-3\t HCB184_1 HCB202_1\r\n",
      "SOL-4\t HCB185_1 HCB217_1\r\n",
      "SOL-5\t HCB186_1 HCB201_1\r\n",
      "SOL-6\t HCB187_1 HCB189_1\r\n",
      "SOL-7\t HCB188_1 HCB206_1\r\n",
      "SOL-8\t HCB190_1 HCB224_1\r\n",
      "SOL-9\t HCB191_1 HCB220_1\r\n"
     ]
    }
   ],
   "source": [
    "!head tutorial/hapmap1/str1.cluster1"
   ]
  },
  {
   "cell_type": "code",
   "execution_count": 50,
   "metadata": {
    "cell_style": "split"
   },
   "outputs": [
    {
     "name": "stdout",
     "output_type": "stream",
     "text": [
      "HCB181 1\t0\r\n",
      "HCB182 1\t1\r\n",
      "HCB183 1\t2\r\n",
      "HCB184 1\t3\r\n",
      "HCB185 1\t4\r\n",
      "HCB186 1\t5\r\n",
      "HCB187 1\t6\r\n",
      "HCB188 1\t7\r\n",
      "HCB189 1\t6\r\n",
      "HCB190 1\t8\r\n"
     ]
    }
   ],
   "source": [
    "!head tutorial/hapmap1/str1.cluster2"
   ]
  },
  {
   "cell_type": "markdown",
   "metadata": {},
   "source": [
    "File `str1.cluster1`: We see that all but one pair are concordant for being Chinese or Japanese (the IDs for each individual are in this case coded to represent which HapMap subpopulation they belong to: HCB and JPT). We see that one individual was not paired with anybody else, as there is an odd numbered of subjects overall. This individual would not contribute to any subsequent association testing that conditions on this cluster solution. We also see that the Japanese individual JPT260_1 is paired with a Chinese individual HCB181_1 rather than JPT257_1. Clearly, this means that HCB181_1 and JPT260_1 do not differ significantly based on the test we performed: this test will have limited power to distinguish individuals from very similar subpopulations, alternatively, one of these individuals could be of mixed ancestry. \n",
    "\n",
    "It's also interesting to note that JPT260_1 was not paired with JPT257_1 instead. Further inspection on data will reveal that JPT257_1 is somewhat unusual, having very long streches of homozygous genotypesare a high inbreeding coefficient, which probably explain why this individual was not considered similar to the other Japanese individuals by the algorithm. \n",
    "\n",
    "*NOTE:* by using the `--genome` option, it examines the significance tests for all pairs of individuals, as [described here](http://zzz.bwh.harvard.edu/plink/ibdibs.shtml).\n"
   ]
  },
  {
   "cell_type": "markdown",
   "metadata": {},
   "source": [
    "# Python and PLINK\n",
    "https://pypi.org/project/pandas-plink/\n",
    "\n",
    "Must install a package for reading PLINK binary file format. \n",
    "\n",
    "## Install\n",
    "\n",
    "    pip install pandas-plink\n",
    "    # aternatively\n",
    "    conda install -c conda-forge pandas-plink\n",
    "\n",
    "## Usage\n",
    "\n",
    "    from pandas_plink import read_plink"
   ]
  },
  {
   "cell_type": "code",
   "execution_count": 19,
   "metadata": {},
   "outputs": [
    {
     "name": "stderr",
     "output_type": "stream",
     "text": [
      "Mapping files: 100%|██████████| 3/3 [00:00<00:00, 10.20it/s]\n"
     ]
    }
   ],
   "source": [
    "from pandas_plink import read_plink1_bin\n",
    "G = read_plink1_bin(\"tutorial/hapmap1/hapmap1.bed\", \n",
    "                    \"tutorial/hapmap1/hapmap1.bim\",\n",
    "                    \"tutorial/hapmap1/hapmap1.fam\")"
   ]
  },
  {
   "cell_type": "code",
   "execution_count": 20,
   "metadata": {},
   "outputs": [
    {
     "name": "stdout",
     "output_type": "stream",
     "text": [
      "<xarray.DataArray 'genotype' (sample: 89, variant: 83534)>\n",
      "dask.array<shape=(89, 83534), dtype=float64, chunksize=(89, 1024)>\n",
      "Coordinates:\n",
      "  * sample   (sample) object '1' '1' '1' '1' '1' '1' ... '1' '1' '1' '1' '1' '1'\n",
      "  * variant  (variant) object '1_rs6681049' '1_rs4074137' ... '22_rs756638'\n",
      "    father   (sample) <U1 '0' '0' '0' '0' '0' '0' ... '0' '0' '0' '0' '0' '0'\n",
      "    fid      (sample) <U6 'HCB181' 'HCB182' 'HCB183' ... 'JPT268' 'JPT269'\n",
      "    gender   (sample) <U1 '1' '1' '1' '1' '1' '1' ... '1' '1' '1' '1' '1' '1'\n",
      "    iid      (sample) <U1 '1' '1' '1' '1' '1' '1' ... '1' '1' '1' '1' '1' '1'\n",
      "    mother   (sample) <U1 '0' '0' '0' '0' '0' '0' ... '0' '0' '0' '0' '0' '0'\n",
      "    trait    (sample) float64 1.0 1.0 2.0 1.0 1.0 1.0 ... 1.0 2.0 2.0 2.0 2.0\n",
      "    a0       (variant) <U1 '1' '1' '0' '1' '1' '1' ... '1' '1' '0' '0' '1' '1'\n",
      "    a1       (variant) <U1 '2' '2' '2' '2' '2' '2' ... '2' '2' '2' '2' '2' '2'\n",
      "    chrom    (variant) <U2 '1' '1' '1' '1' '1' '1' ... '22' '22' '22' '22' '22'\n",
      "    cm       (variant) float64 0.0 0.0 0.0 0.0 0.0 0.0 ... 0.0 0.0 0.0 0.0 0.0\n",
      "    pos      (variant) int64 1 2 3 4 5 6 ... 83529 83530 83531 83532 83533 83534\n",
      "    snp      (variant) <U10 'rs6681049' 'rs4074137' ... 'rs1001469' 'rs756638'\n"
     ]
    }
   ],
   "source": [
    "print(G)"
   ]
  }
 ],
 "metadata": {
  "kernelspec": {
   "display_name": "Python 3",
   "language": "python",
   "name": "python3"
  },
  "language_info": {
   "codemirror_mode": {
    "name": "ipython",
    "version": 3
   },
   "file_extension": ".py",
   "mimetype": "text/x-python",
   "name": "python",
   "nbconvert_exporter": "python",
   "pygments_lexer": "ipython3",
   "version": "3.7.3"
  },
  "toc": {
   "base_numbering": 1,
   "nav_menu": {},
   "number_sections": true,
   "sideBar": true,
   "skip_h1_title": false,
   "title_cell": "Table of Contents",
   "title_sidebar": "Contents",
   "toc_cell": false,
   "toc_position": {
    "height": "calc(100% - 180px)",
    "left": "10px",
    "top": "150px",
    "width": "191.733px"
   },
   "toc_section_display": true,
   "toc_window_display": false
  }
 },
 "nbformat": 4,
 "nbformat_minor": 2
}
