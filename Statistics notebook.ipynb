{
 "cells": [
  {
   "cell_type": "markdown",
   "metadata": {},
   "source": [
    "# Association analyses\n",
    "\n",
    "With plink and `--assoc` flag, a **genomic inflation factor** is calculated. See the [definition here](http://rstudio-pubs-static.s3.amazonaws.com/9743_8a5f7ba3aa724d4b8270c621fdf6d06e.html):\n",
    "\n",
    "> The genomic inflation factor ($\\lambda$) is defined as the ratio of the median of the empirically observed distribution of the test statistic to the expected median, thus quantifying the extent of the bulk inflation and the excess false positive rate. "
   ]
  },
  {
   "cell_type": "markdown",
   "metadata": {},
   "source": [
    "# Principal component analysis\n",
    "\n",
    "In the book *Applied Statistical Genetics with R*:\n",
    "> 3.3.3 Identifying population substructure\n",
    "> Population substructure can result in sprurious associations. There are two main approaches. First one: stratify the analysis by racial and ethnic groups and remove outlying individuals prior to testing for association (if corresponding strata are small).\n",
    "Second approach: account for the population substructure in the analysis of association. \n",
    "> Application of principal component analysis (PCA) and multidimensional scaling (MDS) provide visual means to identify population substructure. The idea behind both approaches is to provide a low-dimensional representation of the data that captures the variability between individuals across SNPs. \n",
    "\n",
    "> The aim of PCA is to identify k (k<p) linear combinations of the data, commonly referred to as principal components, that capture the overall variability, where p is the number of variables, or SNPs in our settings."
   ]
  },
  {
   "cell_type": "markdown",
   "metadata": {},
   "source": [
    "# Variable transformation\n",
    "\n",
    "## Skewed distribution\n",
    "\n",
    "Article: [Log-transformation and its implications for data analysis](https://www.ncbi.nlm.nih.gov/pmc/articles/PMC4120293/)\n",
    "\n",
    "The log-transformation is widely used in biomedial and psychosocial research to deal with skewed data. Often, results of standard statistical tests performed on log-transformed data are often not relevant for the original, non-transformed data. However, data transformations must be applied very cautiously."
   ]
  },
  {
   "cell_type": "markdown",
   "metadata": {},
   "source": [
    "# Coefficients of relationship\n",
    "\n",
    "## Kinship coefficient\n",
    "\n",
    "Find some references [here (pdf, slides)](https://genome.sph.umich.edu/w/images/1/1f/666.2017.12_-_Kinship_Coefficients.pdf), or [on wiki](https://en.wikipedia.org/wiki/Coefficient_of_relationship#Kinship_coefficient).\n",
    "\n",
    "* Summarize gene similarity between pairs of individuals\n",
    "* Can be used to study relationship between genetic similarity and phenotypic similarity across individuals\n",
    "\n",
    "The kinship coefficient is a **measure of relatedness**, defined as the probability that a pair of randomly sampled homologous alleles are identical by descent. In other words, it's the probability that a randomly selected allele from an individual i, and an allele selected at the same autosomal locus from an individual j, are identical and from the same ancestor.\n",
    "\n",
    "*Personal note: we may have identical allele but not from the same ancestor, but by random 'converging' mutations*.\n",
    "\n",
    "The kinship coeff between two individuals is noted $ \\phi_{ij}$. $\\phi_{ii} = 0.5$ for a non-inbred individual. This is due to the fact that humans are diploid, i.e. there is 50% probability for the randomly chosen alleles to be identical by descent if the same allele is chosen twice.\n",
    "\n",
    "* Siblings: 1/4\n",
    "* Parent-offspring: 1/4\n",
    "* Grandparent-grandchild: 1(8\n",
    "* Uncle/aunt-nephew/niece: 1/8"
   ]
  },
  {
   "cell_type": "markdown",
   "metadata": {},
   "source": [
    "### Identical by descent\n",
    "\n",
    "See the [wiki page](https://en.wikipedia.org/wiki/Identity_by_descent). A DNA segment is identical by state in 2 (or more) individuals if they have identical nucleotide sequence in this segment. An IBS segment is identical by descent (IBD) in 2 (or more) individuals if they have inherited it from a common ancestr without recombination, i.e. the segment has the same ancestral origin in these individuals. DNA segments that are IBD automatically are IBS, but can be IBS without being IBD."
   ]
  },
  {
   "cell_type": "code",
   "execution_count": null,
   "metadata": {},
   "outputs": [],
   "source": []
  },
  {
   "cell_type": "code",
   "execution_count": null,
   "metadata": {},
   "outputs": [],
   "source": []
  },
  {
   "cell_type": "code",
   "execution_count": null,
   "metadata": {},
   "outputs": [],
   "source": []
  }
 ],
 "metadata": {
  "kernelspec": {
   "display_name": "Python 3",
   "language": "python",
   "name": "python3"
  },
  "language_info": {
   "codemirror_mode": {
    "name": "ipython",
    "version": 3
   },
   "file_extension": ".py",
   "mimetype": "text/x-python",
   "name": "python",
   "nbconvert_exporter": "python",
   "pygments_lexer": "ipython3",
   "version": "3.7.3"
  },
  "toc": {
   "base_numbering": 1,
   "nav_menu": {},
   "number_sections": true,
   "sideBar": true,
   "skip_h1_title": false,
   "title_cell": "Table of Contents",
   "title_sidebar": "Contents",
   "toc_cell": false,
   "toc_position": {},
   "toc_section_display": true,
   "toc_window_display": false
  }
 },
 "nbformat": 4,
 "nbformat_minor": 2
}
