{
 "cells": [
  {
   "cell_type": "markdown",
   "metadata": {},
   "source": [
    "# Python and PLINK\n",
    "https://pypi.org/project/pandas-plink/\n",
    "\n",
    "Must install a package for reading PLINK binary file format. \n",
    "\n",
    "## Install\n",
    "\n",
    "    pip install pandas-plink\n",
    "    # aternatively\n",
    "    conda install -c conda-forge pandas-plink\n",
    "\n",
    "## Usage\n",
    "\n",
    "Need access to 3 files:\n",
    "* BED: containing genotype\n",
    "* BIM: containing variant information\n",
    "* FAM: containing sample information\n",
    "\n",
    "    from pandas_plink import read_plink\n",
    "    \n",
    "From `help(pandas_plink)`, this function returns a samples-by-variants matrix. Rows and columns have multiple coordinates each, which have the metainformation contained in the BIM and FAM files. \n"
   ]
  },
  {
   "cell_type": "code",
   "execution_count": 1,
   "metadata": {},
   "outputs": [
    {
     "name": "stderr",
     "output_type": "stream",
     "text": [
      "/home/matthias/anaconda3/lib/python3.7/site-packages/dask/config.py:168: YAMLLoadWarning: calling yaml.load() without Loader=... is deprecated, as the default Loader is unsafe. Please read https://msg.pyyaml.org/load for full details.\n",
      "  data = yaml.load(f.read()) or {}\n",
      "/home/matthias/anaconda3/lib/python3.7/site-packages/distributed/config.py:20: YAMLLoadWarning: calling yaml.load() without Loader=... is deprecated, as the default Loader is unsafe. Please read https://msg.pyyaml.org/load for full details.\n",
      "  defaults = yaml.load(f)\n",
      "Mapping files: 100%|██████████| 3/3 [00:00<00:00, 11.32it/s]\n"
     ]
    }
   ],
   "source": [
    "from pandas_plink import read_plink1_bin\n",
    "G = read_plink1_bin(\"tutorial/hapmap1/hapmap1.bed\", \n",
    "                    \"tutorial/hapmap1/hapmap1.bim\",\n",
    "                    \"tutorial/hapmap1/hapmap1.fam\")"
   ]
  },
  {
   "cell_type": "code",
   "execution_count": 2,
   "metadata": {},
   "outputs": [
    {
     "name": "stdout",
     "output_type": "stream",
     "text": [
      "<xarray.DataArray 'genotype' (sample: 89, variant: 83534)>\n",
      "dask.array<shape=(89, 83534), dtype=float64, chunksize=(89, 1024)>\n",
      "Coordinates:\n",
      "  * sample   (sample) object '1' '1' '1' '1' '1' '1' ... '1' '1' '1' '1' '1' '1'\n",
      "  * variant  (variant) object '1_rs6681049' '1_rs4074137' ... '22_rs756638'\n",
      "    father   (sample) <U1 '0' '0' '0' '0' '0' '0' ... '0' '0' '0' '0' '0' '0'\n",
      "    fid      (sample) <U6 'HCB181' 'HCB182' 'HCB183' ... 'JPT268' 'JPT269'\n",
      "    gender   (sample) <U1 '1' '1' '1' '1' '1' '1' ... '1' '1' '1' '1' '1' '1'\n",
      "    iid      (sample) <U1 '1' '1' '1' '1' '1' '1' ... '1' '1' '1' '1' '1' '1'\n",
      "    mother   (sample) <U1 '0' '0' '0' '0' '0' '0' ... '0' '0' '0' '0' '0' '0'\n",
      "    trait    (sample) float64 1.0 1.0 2.0 1.0 1.0 1.0 ... 1.0 2.0 2.0 2.0 2.0\n",
      "    a0       (variant) <U1 '1' '1' '0' '1' '1' '1' ... '1' '1' '0' '0' '1' '1'\n",
      "    a1       (variant) <U1 '2' '2' '2' '2' '2' '2' ... '2' '2' '2' '2' '2' '2'\n",
      "    chrom    (variant) <U2 '1' '1' '1' '1' '1' '1' ... '22' '22' '22' '22' '22'\n",
      "    cm       (variant) float64 0.0 0.0 0.0 0.0 0.0 0.0 ... 0.0 0.0 0.0 0.0 0.0\n",
      "    pos      (variant) int64 1 2 3 4 5 6 ... 83529 83530 83531 83532 83533 83534\n",
      "    snp      (variant) <U10 'rs6681049' 'rs4074137' ... 'rs1001469' 'rs756638'\n",
      "Shape: (89, 83534)\n"
     ]
    }
   ],
   "source": [
    "print(G)\n",
    "print(\"Shape:\", G.shape)"
   ]
  }
 ],
 "metadata": {
  "kernelspec": {
   "display_name": "Python 3",
   "language": "python",
   "name": "python3"
  },
  "language_info": {
   "codemirror_mode": {
    "name": "ipython",
    "version": 3
   },
   "file_extension": ".py",
   "mimetype": "text/x-python",
   "name": "python",
   "nbconvert_exporter": "python",
   "pygments_lexer": "ipython3",
   "version": "3.7.3"
  },
  "toc": {
   "base_numbering": 1,
   "nav_menu": {},
   "number_sections": true,
   "sideBar": true,
   "skip_h1_title": false,
   "title_cell": "Table of Contents",
   "title_sidebar": "Contents",
   "toc_cell": false,
   "toc_position": {},
   "toc_section_display": true,
   "toc_window_display": false
  }
 },
 "nbformat": 4,
 "nbformat_minor": 2
}
