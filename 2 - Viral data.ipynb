{
 "cells": [
  {
   "cell_type": "code",
   "execution_count": 1,
   "metadata": {},
   "outputs": [],
   "source": [
    "# Warning: usually don't do this kind of inclusion : using *, you 'merge' the namespaces\n",
    "#          but in this case we actually want to mimic the imports as if they were imported here\n",
    "from src.setup import *\n",
    "\n",
    "# This prevents to restart the kernel whenever an external file is edited\n",
    "%load_ext autoreload\n",
    "%autoreload 2\n",
    "# Matplotlib (could also use notebook option)\n",
    "%matplotlib inline\n",
    "\n",
    "# Custom modules\n",
    "from src import viral_seq\n",
    "from src import common"
   ]
  },
  {
   "cell_type": "markdown",
   "metadata": {},
   "source": [
    "# Introduction \n",
    "\n",
    "From `dictionary_viral_seq.txt` :\n",
    "* Some NA are present when nucleotides had low coverage\n",
    "* Nucleotide column format: `pos_position123_variant`\n",
    "* Amino acid column format: `gene_genenameXYZ_pos_position123_variant`\n",
    "* 0 indicates abscence of the variant, while 1 indicates its presence\n",
    "\n",
    "## Notebook structure\n",
    "\n",
    "1. Introduction\n",
    "    1. Genetic background\n",
    "1. Import data\n",
    "    1. Visualize format\n",
    "1. Data glimpse\n",
    "    1. NAN values\n",
    "    1. Mutation rates per individual\n",
    "    1. Mutation rates per variant\n",
    "    1. Mutation rates per position\n",
    "1. Process NA values\n",
    "    1. Per variant\n",
    "    1. Per individual\n",
    "1. PCA\n",
    "    1. Imputation\n",
    "    1. PCA and simple imputation\n",
    "    1. PCA and iterative imputation"
   ]
  },
  {
   "cell_type": "markdown",
   "metadata": {},
   "source": [
    "## Genetic background and geographical distribution\n",
    "\n",
    "Article [*Genetic diversity of hepatitis B virus strains derived worldwide: genotypes, subgenotypes, and HBsAg subtypes.*](https://www.ncbi.nlm.nih.gov/pubmed/15564741).\n",
    "\n",
    "A and F have two subgenotypes, also B, C and D are divided into 4 subgenotypes. \n",
    "\n",
    "* B1 dominating in Japan\n",
    "* B2 in China and Vietnam\n",
    "* B3 Indonesia\n",
    "* B4 Vietnam\n",
    "* C1 Japan, Korea, China\n",
    "* C2 China,, South-East Asia, Bangladesh\n",
    "* C3 Oceania\n",
    "* C4 Aborigines from Autralia\n",
    "* Less evident for D1-D4, spread in Europe, Africa, Asia (possibly diverged earlier than genotypes B and C).\n",
    "* D4 being the first split and still the dominating subgenotype of D in Oceania.\n",
    "\n",
    "Article *[The Molecular Pathology and Clinical Impact of HBV Genetic Variability]*:\n",
    "\n",
    "High risk of developping hepatocellular carcinoma (HCC). Epidemiology of HCC is peculiar with both geographical and temporal patterns of incidence, paralleling exposure to viral etiologic factors. HBV genomes are **classified into 8 groups**, A to H, aving distinct geographical distributions. \n",
    "\n",
    "Article [Hepatitis B virus lineages in mammalian hosts: Potential for bidirectional cross-species transmission](https://www.ncbi.nlm.nih.gov/pmc/articles/PMC4069295/):\n",
    "\n",
    "Among chronic hepatitis B carriers, ~ 75% live in Asia. First criterion of classification: based on the viral surface antigen (HBsAg). The determinant 'a' (HBsAg amino acid residues 124 to 147) is common to all HBV isolates. Residues 122 and 160 are used to classify the second and the third determinants. Their combination is used for determining HBV subtypes. The four major subtypes are further subdivided, adding up to a total of ten described subtypes: ayw1, ayw2, ayw3, ayw4, ayr, adw2, adw3, adw4q-, adrq+ and adrq.\n",
    "\n",
    "Currently, HBV classification is based on viral genotypes and clades derived from phylogenetic analyses of partial or full-length nucleotide sequences. The nucleotide divergence must be of at least 7.5% for defining a genotype while a classification exclusively based on Surface gene requires at least 4% divergence. 8 different HBV genotypes have been described based on full-length sequences, A to H. Two others, I and J, are not consensually accepted yet. \n",
    "\n",
    "**Genotypes diverging between 4% and 7.5% are further subdivided into sub-genotypes**: A1-A5, B1-B8, C1-C7, D1-D7, F1-F4. D8 is under examination (Niger). Two F sub-genotypes are further divided in two clades F1 (a-d) and F2 (a-b). \n",
    "\n",
    "Geographical distribution:\n",
    "\n",
    "* HBV/A and HBV/D are worldwide distributed\n",
    "* HBV/B and HBV/C prevalent in Asia, Oceania, North America\n",
    "* HBV/B Africa\n",
    "* HBV/F Latin America\n",
    "* HBV/G Central America, Europe\n",
    "* HBV/H Central America.\n",
    "* South America: A, D, F\n"
   ]
  },
  {
   "cell_type": "markdown",
   "metadata": {},
   "source": [
    "# Import data\n",
    "\n"
   ]
  },
  {
   "cell_type": "code",
   "execution_count": 2,
   "metadata": {
    "scrolled": false
   },
   "outputs": [
    {
     "name": "stdout",
     "output_type": "stream",
     "text": [
      "(790, 5394)\n"
     ]
    },
    {
     "data": {
      "text/html": [
       "<div>\n",
       "<style scoped>\n",
       "    .dataframe tbody tr th:only-of-type {\n",
       "        vertical-align: middle;\n",
       "    }\n",
       "\n",
       "    .dataframe tbody tr th {\n",
       "        vertical-align: top;\n",
       "    }\n",
       "\n",
       "    .dataframe thead th {\n",
       "        text-align: right;\n",
       "    }\n",
       "</style>\n",
       "<table border=\"1\" class=\"dataframe\">\n",
       "  <thead>\n",
       "    <tr style=\"text-align: right;\">\n",
       "      <th></th>\n",
       "      <th>index</th>\n",
       "      <th>gene_PC_C_pos_0001_I</th>\n",
       "      <th>gene_PC_C_pos_0001_M</th>\n",
       "      <th>gene_PC_C_pos_0002_Q</th>\n",
       "      <th>gene_PC_C_pos_0002_R</th>\n",
       "      <th>gene_PC_C_pos_0002_STOP</th>\n",
       "      <th>gene_PC_C_pos_0003_L</th>\n",
       "      <th>gene_PC_C_pos_0004_F</th>\n",
       "      <th>gene_PC_C_pos_0005_H</th>\n",
       "      <th>gene_PC_C_pos_0006_L</th>\n",
       "      <th>...</th>\n",
       "      <th>gene_X_pos_0148_Y</th>\n",
       "      <th>gene_X_pos_0149_D</th>\n",
       "      <th>gene_X_pos_0149_N</th>\n",
       "      <th>gene_X_pos_0150_F</th>\n",
       "      <th>gene_X_pos_0151_F</th>\n",
       "      <th>gene_X_pos_0152_T</th>\n",
       "      <th>gene_X_pos_0153_S</th>\n",
       "      <th>gene_X_pos_0154_A</th>\n",
       "      <th>gene_X_pos_0155_STOP</th>\n",
       "      <th>gene_X_pos_0155_W</th>\n",
       "    </tr>\n",
       "  </thead>\n",
       "  <tbody>\n",
       "    <tr>\n",
       "      <th>0</th>\n",
       "      <td>GS-US-174-0149-1884</td>\n",
       "      <td>0.0</td>\n",
       "      <td>1.0</td>\n",
       "      <td>1.0</td>\n",
       "      <td>0.0</td>\n",
       "      <td>0.0</td>\n",
       "      <td>NaN</td>\n",
       "      <td>NaN</td>\n",
       "      <td>NaN</td>\n",
       "      <td>1.0</td>\n",
       "      <td>...</td>\n",
       "      <td>0.0</td>\n",
       "      <td>0.0</td>\n",
       "      <td>1.0</td>\n",
       "      <td>NaN</td>\n",
       "      <td>NaN</td>\n",
       "      <td>1.0</td>\n",
       "      <td>1.0</td>\n",
       "      <td>1.0</td>\n",
       "      <td>1.0</td>\n",
       "      <td>0.0</td>\n",
       "    </tr>\n",
       "    <tr>\n",
       "      <th>1</th>\n",
       "      <td>GS-US-174-0149-2770</td>\n",
       "      <td>0.0</td>\n",
       "      <td>1.0</td>\n",
       "      <td>1.0</td>\n",
       "      <td>0.0</td>\n",
       "      <td>0.0</td>\n",
       "      <td>NaN</td>\n",
       "      <td>NaN</td>\n",
       "      <td>NaN</td>\n",
       "      <td>1.0</td>\n",
       "      <td>...</td>\n",
       "      <td>0.0</td>\n",
       "      <td>0.0</td>\n",
       "      <td>1.0</td>\n",
       "      <td>NaN</td>\n",
       "      <td>NaN</td>\n",
       "      <td>1.0</td>\n",
       "      <td>1.0</td>\n",
       "      <td>1.0</td>\n",
       "      <td>1.0</td>\n",
       "      <td>0.0</td>\n",
       "    </tr>\n",
       "    <tr>\n",
       "      <th>2</th>\n",
       "      <td>GS-US-174-0149-5008</td>\n",
       "      <td>0.0</td>\n",
       "      <td>1.0</td>\n",
       "      <td>NaN</td>\n",
       "      <td>NaN</td>\n",
       "      <td>NaN</td>\n",
       "      <td>NaN</td>\n",
       "      <td>NaN</td>\n",
       "      <td>NaN</td>\n",
       "      <td>1.0</td>\n",
       "      <td>...</td>\n",
       "      <td>0.0</td>\n",
       "      <td>NaN</td>\n",
       "      <td>NaN</td>\n",
       "      <td>NaN</td>\n",
       "      <td>NaN</td>\n",
       "      <td>NaN</td>\n",
       "      <td>1.0</td>\n",
       "      <td>1.0</td>\n",
       "      <td>1.0</td>\n",
       "      <td>0.0</td>\n",
       "    </tr>\n",
       "    <tr>\n",
       "      <th>3</th>\n",
       "      <td>GS-US-174-0149-5014</td>\n",
       "      <td>0.0</td>\n",
       "      <td>1.0</td>\n",
       "      <td>NaN</td>\n",
       "      <td>NaN</td>\n",
       "      <td>NaN</td>\n",
       "      <td>NaN</td>\n",
       "      <td>NaN</td>\n",
       "      <td>NaN</td>\n",
       "      <td>1.0</td>\n",
       "      <td>...</td>\n",
       "      <td>0.0</td>\n",
       "      <td>NaN</td>\n",
       "      <td>NaN</td>\n",
       "      <td>NaN</td>\n",
       "      <td>NaN</td>\n",
       "      <td>1.0</td>\n",
       "      <td>1.0</td>\n",
       "      <td>1.0</td>\n",
       "      <td>1.0</td>\n",
       "      <td>0.0</td>\n",
       "    </tr>\n",
       "    <tr>\n",
       "      <th>4</th>\n",
       "      <td>GS-US-174-0149-6637</td>\n",
       "      <td>0.0</td>\n",
       "      <td>1.0</td>\n",
       "      <td>NaN</td>\n",
       "      <td>NaN</td>\n",
       "      <td>NaN</td>\n",
       "      <td>NaN</td>\n",
       "      <td>NaN</td>\n",
       "      <td>NaN</td>\n",
       "      <td>1.0</td>\n",
       "      <td>...</td>\n",
       "      <td>0.0</td>\n",
       "      <td>NaN</td>\n",
       "      <td>NaN</td>\n",
       "      <td>NaN</td>\n",
       "      <td>NaN</td>\n",
       "      <td>NaN</td>\n",
       "      <td>1.0</td>\n",
       "      <td>1.0</td>\n",
       "      <td>1.0</td>\n",
       "      <td>0.0</td>\n",
       "    </tr>\n",
       "  </tbody>\n",
       "</table>\n",
       "<p>5 rows × 5394 columns</p>\n",
       "</div>"
      ],
      "text/plain": [
       "                 index  gene_PC_C_pos_0001_I  gene_PC_C_pos_0001_M  \\\n",
       "0  GS-US-174-0149-1884                   0.0                   1.0   \n",
       "1  GS-US-174-0149-2770                   0.0                   1.0   \n",
       "2  GS-US-174-0149-5008                   0.0                   1.0   \n",
       "3  GS-US-174-0149-5014                   0.0                   1.0   \n",
       "4  GS-US-174-0149-6637                   0.0                   1.0   \n",
       "\n",
       "   gene_PC_C_pos_0002_Q  gene_PC_C_pos_0002_R  gene_PC_C_pos_0002_STOP  \\\n",
       "0                   1.0                   0.0                      0.0   \n",
       "1                   1.0                   0.0                      0.0   \n",
       "2                   NaN                   NaN                      NaN   \n",
       "3                   NaN                   NaN                      NaN   \n",
       "4                   NaN                   NaN                      NaN   \n",
       "\n",
       "   gene_PC_C_pos_0003_L  gene_PC_C_pos_0004_F  gene_PC_C_pos_0005_H  \\\n",
       "0                   NaN                   NaN                   NaN   \n",
       "1                   NaN                   NaN                   NaN   \n",
       "2                   NaN                   NaN                   NaN   \n",
       "3                   NaN                   NaN                   NaN   \n",
       "4                   NaN                   NaN                   NaN   \n",
       "\n",
       "   gene_PC_C_pos_0006_L  ...  gene_X_pos_0148_Y  gene_X_pos_0149_D  \\\n",
       "0                   1.0  ...                0.0                0.0   \n",
       "1                   1.0  ...                0.0                0.0   \n",
       "2                   1.0  ...                0.0                NaN   \n",
       "3                   1.0  ...                0.0                NaN   \n",
       "4                   1.0  ...                0.0                NaN   \n",
       "\n",
       "   gene_X_pos_0149_N  gene_X_pos_0150_F  gene_X_pos_0151_F  gene_X_pos_0152_T  \\\n",
       "0                1.0                NaN                NaN                1.0   \n",
       "1                1.0                NaN                NaN                1.0   \n",
       "2                NaN                NaN                NaN                NaN   \n",
       "3                NaN                NaN                NaN                1.0   \n",
       "4                NaN                NaN                NaN                NaN   \n",
       "\n",
       "   gene_X_pos_0153_S  gene_X_pos_0154_A  gene_X_pos_0155_STOP  \\\n",
       "0                1.0                1.0                   1.0   \n",
       "1                1.0                1.0                   1.0   \n",
       "2                1.0                1.0                   1.0   \n",
       "3                1.0                1.0                   1.0   \n",
       "4                1.0                1.0                   1.0   \n",
       "\n",
       "   gene_X_pos_0155_W  \n",
       "0                0.0  \n",
       "1                0.0  \n",
       "2                0.0  \n",
       "3                0.0  \n",
       "4                0.0  \n",
       "\n",
       "[5 rows x 5394 columns]"
      ]
     },
     "execution_count": 2,
     "metadata": {},
     "output_type": "execute_result"
    }
   ],
   "source": [
    "df_aa = pd.read_csv(PATH_VIRAL_RAW_DATA, sep='\\s+')\n",
    "# We prefer to have integers than index to process data\n",
    "# But we keep the provided index in case it will be useful later\n",
    "df_aa.reset_index(inplace=True)\n",
    "print(df_aa.shape)\n",
    "df_aa.head()"
   ]
  },
  {
   "cell_type": "markdown",
   "metadata": {},
   "source": [
    "## Visualize format"
   ]
  },
  {
   "cell_type": "code",
   "execution_count": 3,
   "metadata": {},
   "outputs": [],
   "source": [
    "def extract_values(df, n):\n",
    "    cols = df.columns.values[1:] # we slice that way to avoid 'index' column\n",
    "    lst = []\n",
    "    for v in cols:\n",
    "        lst.append(v.split('_')[n])\n",
    "    # Remove duplicates\n",
    "    lst = list(dict.fromkeys(lst))\n",
    "    return lst"
   ]
  },
  {
   "cell_type": "markdown",
   "metadata": {},
   "source": [
    "### Variants"
   ]
  },
  {
   "cell_type": "code",
   "execution_count": 4,
   "metadata": {},
   "outputs": [
    {
     "name": "stdout",
     "output_type": "stream",
     "text": [
      "Variants (21 items): ['I', 'M', 'Q', 'R', 'STOP', 'L', 'F', 'H', 'C', 'D', 'N', 'V', 'S', 'T', 'A', 'P', 'E', 'K', 'G', 'W', 'Y']\n"
     ]
    }
   ],
   "source": [
    "lst = extract_values(df_aa, -1)\n",
    "print(\"Variants ({} items): {}\".format(len(lst), lst))"
   ]
  },
  {
   "cell_type": "markdown",
   "metadata": {},
   "source": [
    "This is expected: 20 amino acids + a STOP codon. **Note that all positions in the genome do NOT contain all 21 items**. I guess a variable was created for every mutated a.a. for a given position."
   ]
  },
  {
   "cell_type": "markdown",
   "metadata": {},
   "source": [
    "### Genes\n",
    "\n"
   ]
  },
  {
   "cell_type": "code",
   "execution_count": 5,
   "metadata": {},
   "outputs": [
    {
     "name": "stdout",
     "output_type": "stream",
     "text": [
      "['PC', 'Pol', 'S', 'X']\n"
     ]
    }
   ],
   "source": [
    "lst = extract_values(df_aa, 1)\n",
    "print(lst)"
   ]
  },
  {
   "cell_type": "markdown",
   "metadata": {},
   "source": [
    "That's expected: PC is core protein, Pol is the DNA polymerase, S surface antigen, X not well known (must be implied in some TF encoding)."
   ]
  },
  {
   "cell_type": "markdown",
   "metadata": {},
   "source": [
    "### Positions\n",
    "\n",
    "We simply want to check wheter there are some missing positions."
   ]
  },
  {
   "cell_type": "code",
   "execution_count": 6,
   "metadata": {},
   "outputs": [
    {
     "name": "stdout",
     "output_type": "stream",
     "text": [
      "The int list has no gaps: True\n",
      "There are 1613 amino acid positions in total in the viral genome.\n"
     ]
    }
   ],
   "source": [
    "lst = extract_values(df_aa, -2)\n",
    "# Convert to int\n",
    "lst = [ int(n) for n in lst ]\n",
    "ok = True\n",
    "# Simply iterate from 0 to len-1 and compare with values in the list\n",
    "for i, n in enumerate(lst) :\n",
    "    if i != n-1: ok = False\n",
    "print(\"The int list has no gaps:\", ok)\n",
    "positions = viral_seq.collapse_variants(df_aa.columns.drop('index'))\n",
    "print(\"There are {} amino acid positions in total in the viral genome.\".format(len(positions)))"
   ]
  },
  {
   "cell_type": "markdown",
   "metadata": {},
   "source": [
    "Since HBV has partial double-stranded DNA, it has two different genome length. About 3000 nucleotides for the long strand, and ~ 2000 nucleotides for the short strand. This makes about 1000 and 670 amino acids. However, some genes are **overlapping, thus we have more amino acids depending on the reading frame taken into account**."
   ]
  },
  {
   "cell_type": "markdown",
   "metadata": {},
   "source": [
    "# Data glimpse\n",
    "\n",
    "## NAN values\n",
    "\n",
    "### Per variant\n",
    "\n",
    "We basically count non-NAN values with `DataFrame.count()`. "
   ]
  },
  {
   "cell_type": "code",
   "execution_count": 7,
   "metadata": {},
   "outputs": [
    {
     "data": {
      "image/png": "[encoded data removed]",
      "text/plain": [
       "<Figure size 1008x216 with 2 Axes>"
      ]
     },
     "metadata": {
      "needs_background": "light"
     },
     "output_type": "display_data"
    }
   ],
   "source": [
    "fig, ax = plt.subplots(1, 2, figsize=(14, 3))\n",
    "# Count the non-missing values\n",
    "variants_counts = df_aa.count()\n",
    "r = np.arange(1, len(variants_counts)+1)\n",
    "# Plot it\n",
    "ax[0].scatter(x=r, y=variants_counts);\n",
    "ax[0].set_xlabel('variants'); ax[0].set_ylabel('number of non-missing values')\n",
    "# Want to sort it\n",
    "N_ind = df_aa.shape[0]\n",
    "missing_rates = variants_counts.sort_values()\n",
    "missing_rates = missing_rates/N_ind\n",
    "plt.scatter(x=np.arange(1, len(variants_counts)+1), y=missing_rates);\n",
    "plt.ylabel('non-missing rate'); plt.xlabel('variants (sorted)');"
   ]
  },
  {
   "cell_type": "markdown",
   "metadata": {},
   "source": [
    "We see that some variables have very few non-NA values *(we should remove them...)*. Let's sort them by the rate of non-missing values, and compute the percentage of missing values for each variable."
   ]
  },
  {
   "cell_type": "markdown",
   "metadata": {},
   "source": [
    "### Per individual"
   ]
  },
  {
   "cell_type": "code",
   "execution_count": 8,
   "metadata": {},
   "outputs": [
    {
     "data": {
      "image/png": "[encoded data removed]",
      "text/plain": [
       "<Figure size 1008x216 with 2 Axes>"
      ]
     },
     "metadata": {
      "needs_background": "light"
     },
     "output_type": "display_data"
    }
   ],
   "source": [
    "\n",
    "fig, ax = plt.subplots(1, 2, figsize=(14, 3))\n",
    "# Count non-missing values per individual \n",
    "inds_counts = df_aa.count(axis=1)\n",
    "# Transform counts into frequencies\n",
    "N_variants = df_aa.shape[1]\n",
    "inds_counts = inds_counts/N_variants;\n",
    "# Plot\n",
    "rng = np.arange(1, len(inds_counts)+1)\n",
    "ax[0].scatter(x=rng, y=inds_counts);\n",
    "ax[0].set_xlabel('individuals'); ax[0].set_ylabel('non-missing rate')\n",
    "ax[1].scatter(x=rng, y=inds_counts.sort_values())\n",
    "ax[1].set_xlabel('individuals (sorted)'); ax[1].set_ylabel('non-missing rate');"
   ]
  },
  {
   "cell_type": "markdown",
   "metadata": {},
   "source": [
    "The worst case still has only ~15% of missing values. "
   ]
  },
  {
   "cell_type": "markdown",
   "metadata": {},
   "source": [
    "## Mutation rates per INDIVIDUAL\n",
    "\n",
    "We transpose the DataFrame.\n",
    "\n",
    "### Plots"
   ]
  },
  {
   "cell_type": "code",
   "execution_count": 9,
   "metadata": {},
   "outputs": [
    {
     "data": {
      "text/html": [
       "<div>\n",
       "<style scoped>\n",
       "    .dataframe tbody tr th:only-of-type {\n",
       "        vertical-align: middle;\n",
       "    }\n",
       "\n",
       "    .dataframe tbody tr th {\n",
       "        vertical-align: top;\n",
       "    }\n",
       "\n",
       "    .dataframe thead th {\n",
       "        text-align: right;\n",
       "    }\n",
       "</style>\n",
       "<table border=\"1\" class=\"dataframe\">\n",
       "  <thead>\n",
       "    <tr style=\"text-align: right;\">\n",
       "      <th></th>\n",
       "      <th>0</th>\n",
       "      <th>1</th>\n",
       "      <th>2</th>\n",
       "      <th>3</th>\n",
       "      <th>4</th>\n",
       "      <th>5</th>\n",
       "      <th>6</th>\n",
       "      <th>7</th>\n",
       "      <th>8</th>\n",
       "      <th>9</th>\n",
       "      <th>...</th>\n",
       "      <th>780</th>\n",
       "      <th>781</th>\n",
       "      <th>782</th>\n",
       "      <th>783</th>\n",
       "      <th>784</th>\n",
       "      <th>785</th>\n",
       "      <th>786</th>\n",
       "      <th>787</th>\n",
       "      <th>788</th>\n",
       "      <th>789</th>\n",
       "    </tr>\n",
       "  </thead>\n",
       "  <tbody>\n",
       "    <tr>\n",
       "      <th>gene_PC_C_pos_0001_I</th>\n",
       "      <td>0</td>\n",
       "      <td>0</td>\n",
       "      <td>0</td>\n",
       "      <td>0</td>\n",
       "      <td>0</td>\n",
       "      <td>0</td>\n",
       "      <td>0</td>\n",
       "      <td>0</td>\n",
       "      <td>0</td>\n",
       "      <td>0</td>\n",
       "      <td>...</td>\n",
       "      <td>0</td>\n",
       "      <td>0</td>\n",
       "      <td>0</td>\n",
       "      <td>0</td>\n",
       "      <td>0</td>\n",
       "      <td>0</td>\n",
       "      <td>0</td>\n",
       "      <td>NaN</td>\n",
       "      <td>0</td>\n",
       "      <td>0</td>\n",
       "    </tr>\n",
       "    <tr>\n",
       "      <th>gene_PC_C_pos_0001_M</th>\n",
       "      <td>1</td>\n",
       "      <td>1</td>\n",
       "      <td>1</td>\n",
       "      <td>1</td>\n",
       "      <td>1</td>\n",
       "      <td>1</td>\n",
       "      <td>1</td>\n",
       "      <td>1</td>\n",
       "      <td>1</td>\n",
       "      <td>1</td>\n",
       "      <td>...</td>\n",
       "      <td>1</td>\n",
       "      <td>1</td>\n",
       "      <td>1</td>\n",
       "      <td>1</td>\n",
       "      <td>1</td>\n",
       "      <td>1</td>\n",
       "      <td>1</td>\n",
       "      <td>NaN</td>\n",
       "      <td>1</td>\n",
       "      <td>1</td>\n",
       "    </tr>\n",
       "    <tr>\n",
       "      <th>gene_PC_C_pos_0002_Q</th>\n",
       "      <td>1</td>\n",
       "      <td>1</td>\n",
       "      <td>NaN</td>\n",
       "      <td>NaN</td>\n",
       "      <td>NaN</td>\n",
       "      <td>1</td>\n",
       "      <td>NaN</td>\n",
       "      <td>NaN</td>\n",
       "      <td>NaN</td>\n",
       "      <td>NaN</td>\n",
       "      <td>...</td>\n",
       "      <td>NaN</td>\n",
       "      <td>NaN</td>\n",
       "      <td>NaN</td>\n",
       "      <td>NaN</td>\n",
       "      <td>NaN</td>\n",
       "      <td>NaN</td>\n",
       "      <td>NaN</td>\n",
       "      <td>NaN</td>\n",
       "      <td>NaN</td>\n",
       "      <td>1</td>\n",
       "    </tr>\n",
       "    <tr>\n",
       "      <th>gene_PC_C_pos_0002_R</th>\n",
       "      <td>0</td>\n",
       "      <td>0</td>\n",
       "      <td>NaN</td>\n",
       "      <td>NaN</td>\n",
       "      <td>NaN</td>\n",
       "      <td>0</td>\n",
       "      <td>NaN</td>\n",
       "      <td>NaN</td>\n",
       "      <td>NaN</td>\n",
       "      <td>NaN</td>\n",
       "      <td>...</td>\n",
       "      <td>NaN</td>\n",
       "      <td>NaN</td>\n",
       "      <td>NaN</td>\n",
       "      <td>NaN</td>\n",
       "      <td>NaN</td>\n",
       "      <td>NaN</td>\n",
       "      <td>NaN</td>\n",
       "      <td>NaN</td>\n",
       "      <td>NaN</td>\n",
       "      <td>0</td>\n",
       "    </tr>\n",
       "    <tr>\n",
       "      <th>gene_PC_C_pos_0002_STOP</th>\n",
       "      <td>0</td>\n",
       "      <td>0</td>\n",
       "      <td>NaN</td>\n",
       "      <td>NaN</td>\n",
       "      <td>NaN</td>\n",
       "      <td>1</td>\n",
       "      <td>NaN</td>\n",
       "      <td>NaN</td>\n",
       "      <td>NaN</td>\n",
       "      <td>NaN</td>\n",
       "      <td>...</td>\n",
       "      <td>NaN</td>\n",
       "      <td>NaN</td>\n",
       "      <td>NaN</td>\n",
       "      <td>NaN</td>\n",
       "      <td>NaN</td>\n",
       "      <td>NaN</td>\n",
       "      <td>NaN</td>\n",
       "      <td>NaN</td>\n",
       "      <td>NaN</td>\n",
       "      <td>1</td>\n",
       "    </tr>\n",
       "  </tbody>\n",
       "</table>\n",
       "<p>5 rows × 790 columns</p>\n",
       "</div>"
      ],
      "text/plain": [
       "                        0   1    2    3    4   5    6    7    8    9    ...  \\\n",
       "gene_PC_C_pos_0001_I      0   0    0    0    0   0    0    0    0    0  ...   \n",
       "gene_PC_C_pos_0001_M      1   1    1    1    1   1    1    1    1    1  ...   \n",
       "gene_PC_C_pos_0002_Q      1   1  NaN  NaN  NaN   1  NaN  NaN  NaN  NaN  ...   \n",
       "gene_PC_C_pos_0002_R      0   0  NaN  NaN  NaN   0  NaN  NaN  NaN  NaN  ...   \n",
       "gene_PC_C_pos_0002_STOP   0   0  NaN  NaN  NaN   1  NaN  NaN  NaN  NaN  ...   \n",
       "\n",
       "                         780  781  782  783  784  785  786  787  788 789  \n",
       "gene_PC_C_pos_0001_I       0    0    0    0    0    0    0  NaN    0   0  \n",
       "gene_PC_C_pos_0001_M       1    1    1    1    1    1    1  NaN    1   1  \n",
       "gene_PC_C_pos_0002_Q     NaN  NaN  NaN  NaN  NaN  NaN  NaN  NaN  NaN   1  \n",
       "gene_PC_C_pos_0002_R     NaN  NaN  NaN  NaN  NaN  NaN  NaN  NaN  NaN   0  \n",
       "gene_PC_C_pos_0002_STOP  NaN  NaN  NaN  NaN  NaN  NaN  NaN  NaN  NaN   1  \n",
       "\n",
       "[5 rows x 790 columns]"
      ]
     },
     "execution_count": 9,
     "metadata": {},
     "output_type": "execute_result"
    }
   ],
   "source": [
    "dfT = df_aa.transpose()\n",
    "dfT.drop('index', axis=0, inplace=True)\n",
    "dfT.head()"
   ]
  },
  {
   "cell_type": "code",
   "execution_count": 10,
   "metadata": {
    "cell_style": "split"
   },
   "outputs": [
    {
     "data": {
      "image/png": "[encoded data removed]",
      "text/plain": [
       "<Figure size 432x288 with 1 Axes>"
      ]
     },
     "metadata": {
      "needs_background": "light"
     },
     "output_type": "display_data"
    }
   ],
   "source": [
    "rates = dfT.apply(np.mean)\n",
    "plt.scatter(x=rates.index, y=rates);\n",
    "plt.xlabel('individuals')\n",
    "plt.ylabel('mutation rate');"
   ]
  },
  {
   "cell_type": "code",
   "execution_count": 11,
   "metadata": {
    "cell_style": "split"
   },
   "outputs": [
    {
     "data": {
      "image/png": "[encoded data removed]",
      "text/plain": [
       "<Figure size 432x288 with 1 Axes>"
      ]
     },
     "metadata": {
      "needs_background": "light"
     },
     "output_type": "display_data"
    }
   ],
   "source": [
    "plt.scatter(x=rates.index, y=rates.sort_values());\n",
    "plt.xlabel('inds sorted by rate')\n",
    "plt.ylabel('mutation rate');"
   ]
  },
  {
   "cell_type": "markdown",
   "metadata": {},
   "source": [
    "Note that those rates are ignoring `NaN` values.\n",
    "\n",
    "### Summary statistics"
   ]
  },
  {
   "cell_type": "code",
   "execution_count": 12,
   "metadata": {},
   "outputs": [
    {
     "name": "stdout",
     "output_type": "stream",
     "text": [
      "count    790.000000\n",
      "mean       0.303379\n",
      "std        0.004363\n",
      "min        0.297805\n",
      "25%        0.300204\n",
      "50%        0.302260\n",
      "75%        0.305463\n",
      "max        0.327945\n",
      "dtype: float64\n"
     ]
    },
    {
     "data": {
      "image/png": "[encoded data removed]",
      "text/plain": [
       "<Figure size 432x288 with 1 Axes>"
      ]
     },
     "metadata": {
      "needs_background": "light"
     },
     "output_type": "display_data"
    }
   ],
   "source": [
    "# Summary statistics\n",
    "print(rates.describe())\n",
    "# Boxplot\n",
    "sns.boxplot(rates); plt.xlabel('mutation rate per individual');"
   ]
  },
  {
   "cell_type": "markdown",
   "metadata": {},
   "source": [
    "### Individuals with higher mutation rates"
   ]
  },
  {
   "cell_type": "code",
   "execution_count": 13,
   "metadata": {},
   "outputs": [
    {
     "data": {
      "text/plain": [
       "397    0.327945\n",
       "673    0.322786\n",
       "283    0.322352\n",
       "662    0.319939\n",
       "480    0.318217\n",
       "452    0.317734\n",
       "320    0.317155\n",
       "240    0.317129\n",
       "532    0.316877\n",
       "721    0.316797\n",
       "dtype: float64"
      ]
     },
     "execution_count": 13,
     "metadata": {},
     "output_type": "execute_result"
    }
   ],
   "source": [
    "rates.sort_values(ascending=False).head(10)"
   ]
  },
  {
   "cell_type": "markdown",
   "metadata": {},
   "source": [
    "## Mutation rates per variable/column\n",
    "\n",
    "Here we look at the rates (mean) of mutations **for each column**, i.e. we treat `gene_XX_pos_YY_Z1` and `gene_XX_pos_YY_Z2` separately."
   ]
  },
  {
   "cell_type": "code",
   "execution_count": 14,
   "metadata": {
    "cell_style": "split"
   },
   "outputs": [
    {
     "name": "stdout",
     "output_type": "stream",
     "text": [
      "Shape = (5393,)\n",
      "Head (2 items shown):\n",
      "gene_PC_C_pos_0001_I    0.001348\n",
      "gene_PC_C_pos_0001_M    1.000000\n",
      "dtype: float64\n"
     ]
    },
    {
     "data": {
      "text/plain": [
       "count    5393.000000\n",
       "mean        0.303034\n",
       "std         0.429595\n",
       "min         0.001266\n",
       "25%         0.002532\n",
       "50%         0.010139\n",
       "75%         0.905072\n",
       "max         1.000000\n",
       "dtype: float64"
      ]
     },
     "execution_count": 14,
     "metadata": {},
     "output_type": "execute_result"
    }
   ],
   "source": [
    "# Here, we compute the mean from dtT with axis=1\n",
    "var_rates = dfT.apply(np.mean, axis=1)\n",
    "print(\"Shape =\", var_rates.shape)\n",
    "print(\"Head (2 items shown):\")\n",
    "print(var_rates.head(2))\n",
    "var_rates.describe()"
   ]
  },
  {
   "cell_type": "code",
   "execution_count": 15,
   "metadata": {
    "cell_style": "split"
   },
   "outputs": [
    {
     "data": {
      "image/png": "[encoded data removed]",
      "text/plain": [
       "<Figure size 432x288 with 1 Axes>"
      ]
     },
     "metadata": {
      "needs_background": "light"
     },
     "output_type": "display_data"
    }
   ],
   "source": [
    "sns.distplot(var_rates, kde=False, bins=30);\n",
    "plt.xlabel('mutation rate');"
   ]
  },
  {
   "cell_type": "markdown",
   "metadata": {},
   "source": [
    "We see that most of the variables have very small mutation rate (< 10%) or very high mutation rate (>90%). Let's look at those extremities: "
   ]
  },
  {
   "cell_type": "code",
   "execution_count": 16,
   "metadata": {
    "scrolled": true
   },
   "outputs": [
    {
     "data": {
      "image/png": "[encoded data removed]",
      "text/plain": [
       "<Figure size 1080x216 with 2 Axes>"
      ]
     },
     "metadata": {
      "needs_background": "light"
     },
     "output_type": "display_data"
    }
   ],
   "source": [
    "fig, ax = plt.subplots(1, 2, figsize=(15,3))\n",
    "# Define bounds of extremities\n",
    "lower_bound = 0.05\n",
    "upper_bound = 0.95\n",
    "# Plot histograms\n",
    "sns.distplot(var_rates[var_rates <= lower_bound], kde=False, ax=ax[0]);\n",
    "ax[0].set_xlabel('mutation rate')\n",
    "sns.distplot(var_rates[var_rates >= upper_bound], kde=False, ax=ax[1])\n",
    "ax[1].set_xlabel('mutation rate');"
   ]
  },
  {
   "cell_type": "markdown",
   "metadata": {},
   "source": [
    "### Most conserved variants\n"
   ]
  },
  {
   "cell_type": "code",
   "execution_count": 17,
   "metadata": {
    "scrolled": true
   },
   "outputs": [
    {
     "name": "stdout",
     "output_type": "stream",
     "text": [
      "710 variants with mutation rate of 1.00\n",
      "Those variants are contained in the following genes: ['gene_PC_C', 'gene_Pol', 'gene_S', 'gene_X']\n",
      "At a total of 710 positions\n"
     ]
    }
   ],
   "source": [
    "variants_rate_1 = var_rates[var_rates == 1.0].index.values\n",
    "print(len(variants_rate_1), \"variants with mutation rate of 1.00\")\n",
    "print(\"Those variants are contained in the following genes:\", \n",
    "      viral_seq.collapse_variants(variants_rate_1, pos=False))\n",
    "positions = viral_seq.collapse_variants(variants_rate_1)\n",
    "print(\"At a total of {} positions\".format(len(positions)))"
   ]
  },
  {
   "cell_type": "markdown",
   "metadata": {},
   "source": [
    "## Mutations per position\n",
    "\n",
    "Here we are interested in the variants that exist in each position. One metric we could get from this is the variance per gene.\n",
    "\n",
    "**NOTE: we create a DataFrame that uses MultiIndex**.\n",
    "\n",
    "**WARNING: this is generated before treating NA values.**"
   ]
  },
  {
   "cell_type": "code",
   "execution_count": 18,
   "metadata": {},
   "outputs": [
    {
     "data": {
      "text/html": [
       "<div>\n",
       "<style scoped>\n",
       "    .dataframe tbody tr th:only-of-type {\n",
       "        vertical-align: middle;\n",
       "    }\n",
       "\n",
       "    .dataframe tbody tr th {\n",
       "        vertical-align: top;\n",
       "    }\n",
       "\n",
       "    .dataframe thead th {\n",
       "        text-align: right;\n",
       "    }\n",
       "</style>\n",
       "<table border=\"1\" class=\"dataframe\">\n",
       "  <thead>\n",
       "    <tr style=\"text-align: right;\">\n",
       "      <th></th>\n",
       "      <th></th>\n",
       "      <th></th>\n",
       "      <th>0</th>\n",
       "      <th>1</th>\n",
       "      <th>2</th>\n",
       "      <th>3</th>\n",
       "      <th>4</th>\n",
       "      <th>5</th>\n",
       "      <th>6</th>\n",
       "      <th>7</th>\n",
       "      <th>8</th>\n",
       "      <th>9</th>\n",
       "      <th>...</th>\n",
       "      <th>780</th>\n",
       "      <th>781</th>\n",
       "      <th>782</th>\n",
       "      <th>783</th>\n",
       "      <th>784</th>\n",
       "      <th>785</th>\n",
       "      <th>786</th>\n",
       "      <th>787</th>\n",
       "      <th>788</th>\n",
       "      <th>789</th>\n",
       "    </tr>\n",
       "    <tr>\n",
       "      <th>gene</th>\n",
       "      <th>pos</th>\n",
       "      <th>variant</th>\n",
       "      <th></th>\n",
       "      <th></th>\n",
       "      <th></th>\n",
       "      <th></th>\n",
       "      <th></th>\n",
       "      <th></th>\n",
       "      <th></th>\n",
       "      <th></th>\n",
       "      <th></th>\n",
       "      <th></th>\n",
       "      <th></th>\n",
       "      <th></th>\n",
       "      <th></th>\n",
       "      <th></th>\n",
       "      <th></th>\n",
       "      <th></th>\n",
       "      <th></th>\n",
       "      <th></th>\n",
       "      <th></th>\n",
       "      <th></th>\n",
       "      <th></th>\n",
       "    </tr>\n",
       "  </thead>\n",
       "  <tbody>\n",
       "    <tr>\n",
       "      <th rowspan=\"2\" valign=\"top\">PC</th>\n",
       "      <th rowspan=\"2\" valign=\"top\">1</th>\n",
       "      <th>I</th>\n",
       "      <td>0</td>\n",
       "      <td>0</td>\n",
       "      <td>0</td>\n",
       "      <td>0</td>\n",
       "      <td>0</td>\n",
       "      <td>0</td>\n",
       "      <td>0</td>\n",
       "      <td>0</td>\n",
       "      <td>0</td>\n",
       "      <td>0</td>\n",
       "      <td>...</td>\n",
       "      <td>0</td>\n",
       "      <td>0</td>\n",
       "      <td>0</td>\n",
       "      <td>0</td>\n",
       "      <td>0</td>\n",
       "      <td>0</td>\n",
       "      <td>0</td>\n",
       "      <td>NaN</td>\n",
       "      <td>0</td>\n",
       "      <td>0</td>\n",
       "    </tr>\n",
       "    <tr>\n",
       "      <th>M</th>\n",
       "      <td>1</td>\n",
       "      <td>1</td>\n",
       "      <td>1</td>\n",
       "      <td>1</td>\n",
       "      <td>1</td>\n",
       "      <td>1</td>\n",
       "      <td>1</td>\n",
       "      <td>1</td>\n",
       "      <td>1</td>\n",
       "      <td>1</td>\n",
       "      <td>...</td>\n",
       "      <td>1</td>\n",
       "      <td>1</td>\n",
       "      <td>1</td>\n",
       "      <td>1</td>\n",
       "      <td>1</td>\n",
       "      <td>1</td>\n",
       "      <td>1</td>\n",
       "      <td>NaN</td>\n",
       "      <td>1</td>\n",
       "      <td>1</td>\n",
       "    </tr>\n",
       "  </tbody>\n",
       "</table>\n",
       "<p>2 rows × 790 columns</p>\n",
       "</div>"
      ],
      "text/plain": [
       "                 0   1   2   3   4   5   6   7   8   9    ... 780 781 782 783  \\\n",
       "gene pos variant                                          ...                   \n",
       "PC   1   I         0   0   0   0   0   0   0   0   0   0  ...   0   0   0   0   \n",
       "         M         1   1   1   1   1   1   1   1   1   1  ...   1   1   1   1   \n",
       "\n",
       "                 784 785 786  787 788 789  \n",
       "gene pos variant                           \n",
       "PC   1   I         0   0   0  NaN   0   0  \n",
       "         M         1   1   1  NaN   1   1  \n",
       "\n",
       "[2 rows x 790 columns]"
      ]
     },
     "execution_count": 18,
     "metadata": {},
     "output_type": "execute_result"
    }
   ],
   "source": [
    "# Make the index as a column\n",
    "df_pos = dfT.reset_index()\n",
    "# Process the 'index' column to extract information (gene, position, variant)\n",
    "df_pos['gene'] = df_pos['index'].apply(lambda s: s.split('_')[1])\n",
    "df_pos['pos'] = df_pos['index'].apply(lambda s: int(s.split('_')[-2]))\n",
    "df_pos['variant'] = df_pos['index'].apply(lambda s: s.split('_')[-1])\n",
    "\n",
    "# Create a MultiIndex with the extracted information\n",
    "df_pos.set_index(['gene', 'pos', 'variant'], inplace=True)\n",
    "# 'index' column is useless yet (does not provide any extra information)\n",
    "df_pos.drop(columns=['index'], inplace=True)\n",
    "df_pos.head(2)"
   ]
  },
  {
   "cell_type": "markdown",
   "metadata": {},
   "source": [
    "### Note on multi-indexing\n",
    "\n",
    "One can basically slice the data structure with tuples, i.e. `('geneX', Y, 'variantZ')`. Example: select the value in gene X, at position 141, variant M:\n",
    "\n",
    "    df_pos.loc[ ('X', 141, 'M') ]\n",
    "    \n",
    "To perform **partial splicing**, one can let items from a tuple empty. Example: select all VARIANTS from gene PC, at position 1\n",
    "\n",
    "    df_pos.loc[('PC', 1, )]\n",
    "    \n",
    "Example: select all POSITIONS from gene PC\n",
    "\n",
    "    df_pos.loc['PC']"
   ]
  },
  {
   "cell_type": "markdown",
   "metadata": {},
   "source": [
    "### Group data by position\n",
    "\n",
    "The goal is to show the number of variants that are present at each position (number of variants with a value of `1`). "
   ]
  },
  {
   "cell_type": "code",
   "execution_count": 19,
   "metadata": {},
   "outputs": [
    {
     "name": "stdout",
     "output_type": "stream",
     "text": [
      "manage_pickle: the file 'data/viral_seq_grouped' has been loaded\n"
     ]
    },
    {
     "name": "stderr",
     "output_type": "stream",
     "text": [
      "/home/mazeller/.local/lib/python3.6/site-packages/pandas/core/indexes/base.py:183: FutureWarning: the 'labels' keyword is deprecated, use 'codes' instead\n",
      "  return cls.__new__(cls, **d)\n"
     ]
    },
    {
     "data": {
      "text/html": [
       "<div>\n",
       "<style scoped>\n",
       "    .dataframe tbody tr th:only-of-type {\n",
       "        vertical-align: middle;\n",
       "    }\n",
       "\n",
       "    .dataframe tbody tr th {\n",
       "        vertical-align: top;\n",
       "    }\n",
       "\n",
       "    .dataframe thead th {\n",
       "        text-align: right;\n",
       "    }\n",
       "</style>\n",
       "<table border=\"1\" class=\"dataframe\">\n",
       "  <thead>\n",
       "    <tr style=\"text-align: right;\">\n",
       "      <th></th>\n",
       "      <th></th>\n",
       "      <th>0</th>\n",
       "      <th>1</th>\n",
       "      <th>2</th>\n",
       "      <th>3</th>\n",
       "      <th>4</th>\n",
       "      <th>5</th>\n",
       "      <th>6</th>\n",
       "      <th>7</th>\n",
       "      <th>8</th>\n",
       "      <th>9</th>\n",
       "      <th>...</th>\n",
       "      <th>780</th>\n",
       "      <th>781</th>\n",
       "      <th>782</th>\n",
       "      <th>783</th>\n",
       "      <th>784</th>\n",
       "      <th>785</th>\n",
       "      <th>786</th>\n",
       "      <th>787</th>\n",
       "      <th>788</th>\n",
       "      <th>789</th>\n",
       "    </tr>\n",
       "    <tr>\n",
       "      <th>gene</th>\n",
       "      <th>pos</th>\n",
       "      <th></th>\n",
       "      <th></th>\n",
       "      <th></th>\n",
       "      <th></th>\n",
       "      <th></th>\n",
       "      <th></th>\n",
       "      <th></th>\n",
       "      <th></th>\n",
       "      <th></th>\n",
       "      <th></th>\n",
       "      <th></th>\n",
       "      <th></th>\n",
       "      <th></th>\n",
       "      <th></th>\n",
       "      <th></th>\n",
       "      <th></th>\n",
       "      <th></th>\n",
       "      <th></th>\n",
       "      <th></th>\n",
       "      <th></th>\n",
       "      <th></th>\n",
       "    </tr>\n",
       "  </thead>\n",
       "  <tbody>\n",
       "    <tr>\n",
       "      <th rowspan=\"2\" valign=\"top\">PC</th>\n",
       "      <th>1</th>\n",
       "      <td>1.0</td>\n",
       "      <td>1.0</td>\n",
       "      <td>1.0</td>\n",
       "      <td>1.0</td>\n",
       "      <td>1.0</td>\n",
       "      <td>1.0</td>\n",
       "      <td>1.0</td>\n",
       "      <td>1.0</td>\n",
       "      <td>1.0</td>\n",
       "      <td>1.0</td>\n",
       "      <td>...</td>\n",
       "      <td>1.0</td>\n",
       "      <td>1.0</td>\n",
       "      <td>1.0</td>\n",
       "      <td>1.0</td>\n",
       "      <td>1.0</td>\n",
       "      <td>1.0</td>\n",
       "      <td>1.0</td>\n",
       "      <td>0.0</td>\n",
       "      <td>1.0</td>\n",
       "      <td>1.0</td>\n",
       "    </tr>\n",
       "    <tr>\n",
       "      <th>2</th>\n",
       "      <td>1.0</td>\n",
       "      <td>1.0</td>\n",
       "      <td>0.0</td>\n",
       "      <td>0.0</td>\n",
       "      <td>0.0</td>\n",
       "      <td>2.0</td>\n",
       "      <td>0.0</td>\n",
       "      <td>0.0</td>\n",
       "      <td>0.0</td>\n",
       "      <td>0.0</td>\n",
       "      <td>...</td>\n",
       "      <td>0.0</td>\n",
       "      <td>0.0</td>\n",
       "      <td>0.0</td>\n",
       "      <td>0.0</td>\n",
       "      <td>0.0</td>\n",
       "      <td>0.0</td>\n",
       "      <td>0.0</td>\n",
       "      <td>0.0</td>\n",
       "      <td>0.0</td>\n",
       "      <td>2.0</td>\n",
       "    </tr>\n",
       "  </tbody>\n",
       "</table>\n",
       "<p>2 rows × 790 columns</p>\n",
       "</div>"
      ],
      "text/plain": [
       "          0    1    2    3    4    5    6    7    8    9    ...  780  781  \\\n",
       "gene pos                                                    ...             \n",
       "PC   1    1.0  1.0  1.0  1.0  1.0  1.0  1.0  1.0  1.0  1.0  ...  1.0  1.0   \n",
       "     2    1.0  1.0  0.0  0.0  0.0  2.0  0.0  0.0  0.0  0.0  ...  0.0  0.0   \n",
       "\n",
       "          782  783  784  785  786  787  788  789  \n",
       "gene pos                                          \n",
       "PC   1    1.0  1.0  1.0  1.0  1.0  0.0  1.0  1.0  \n",
       "     2    0.0  0.0  0.0  0.0  0.0  0.0  0.0  2.0  \n",
       "\n",
       "[2 rows x 790 columns]"
      ]
     },
     "execution_count": 19,
     "metadata": {},
     "output_type": "execute_result"
    }
   ],
   "source": [
    "# Warning: this is a slow computation, takes several minutes\n",
    "# Thus we use a custom 'manage_pickle' function\n",
    "# We basically load it if the computation has already been done\n",
    "# Otherwise, we make the calculation and store it into a file. \n",
    "def group_by_pos():\n",
    "    return df_pos.groupby(level=['gene', 'pos']).sum()\n",
    "\n",
    "df_grouped = common.manage_pickle(path=PATH_VIRAL_GROUPED_DATA, fun=group_by_pos)\n",
    "df_grouped.head(2)"
   ]
  },
  {
   "cell_type": "code",
   "execution_count": 20,
   "metadata": {},
   "outputs": [],
   "source": [
    "df_mask = df_grouped.where(df_grouped > 1)"
   ]
  },
  {
   "cell_type": "code",
   "execution_count": 21,
   "metadata": {},
   "outputs": [],
   "source": [
    "multiple_var_per_person = df_mask.sum(axis=0)"
   ]
  },
  {
   "cell_type": "code",
   "execution_count": 22,
   "metadata": {},
   "outputs": [],
   "source": [
    "#sorted(multiple_var_per_person[multiple_var_per_person != 0], reverse=True)"
   ]
  },
  {
   "cell_type": "markdown",
   "metadata": {},
   "source": [
    "# Process NaN values\n",
    "\n",
    "By looking at the plot showing the non-missing values, we see that a few values are below 50%, some are clustered around 80%, and all others lie around 100%. We need to choose a threshold that will lead to exclusion of variants and individuals that have a high rate of missing values.\n",
    "\n",
    "First, we'll focus on *variants* with high rates of missing values, since we **don't want to loose individuals !**. \n",
    "\n",
    "Note: we are working on `df_pos`.\n",
    "\n",
    "## Drop: missing variants per variant"
   ]
  },
  {
   "cell_type": "code",
   "execution_count": 23,
   "metadata": {},
   "outputs": [
    {
     "name": "stdout",
     "output_type": "stream",
     "text": [
      "There are 181 variants (out of 5393) having a missing rate greater than 10.0%\n",
      "Those variants were dropped ! Remaining: 5212 variants\n"
     ]
    },
    {
     "data": {
      "image/png": "[encoded data removed]",
      "text/plain": [
       "<Figure size 432x288 with 1 Axes>"
      ]
     },
     "metadata": {
      "needs_background": "light"
     },
     "output_type": "display_data"
    }
   ],
   "source": [
    "# Define the maximal accepted missing rate (for variants, not individuals)\n",
    "variants_threshold_max_missing = 0.10\n",
    "\n",
    "# Counts missing values in the new table\n",
    "variants_counts = df_pos.count(axis=1)\n",
    "# Transform into rate/frequency\n",
    "variants_counts /= df_pos.shape[1]\n",
    "\n",
    "# Keep only the high-missing rates\n",
    "# Don't forget variants_counts represent the NON-missing rate\n",
    "variants_to_drop = variants_counts[ variants_counts <= (1-variants_threshold_max_missing) ]\n",
    "\n",
    "# Display\n",
    "print(\"There are {} variants (out of {}) having a missing rate greater than {}%\"\n",
    "     .format(len(variants_to_drop), df_pos.shape[0], variants_threshold_max_missing*100))\n",
    "\n",
    "# Drop those values\n",
    "df_pos.drop(variants_to_drop.index, inplace=True)\n",
    "print(\"Those variants were dropped ! Remaining: {} variants\".format(df_pos.shape[0]))\n",
    "\n",
    "# We plot the missing rates rather than the non-missing rates\n",
    "plt.scatter(x=np.arange(1,df_pos.shape[0]+1), \n",
    "                y=(1-df_pos.count(axis=1)/df_pos.shape[1]));\n",
    "plt.xlabel(\"variants\"); plt.ylabel(\"missing rate\");"
   ]
  },
  {
   "cell_type": "markdown",
   "metadata": {},
   "source": [
    "## Drop missing variants per individuals\n",
    "\n",
    "The threshold is defined in `src/setup.py` as `INDIVIDUALS_THRESHOLD_MAX_MISSING`."
   ]
  },
  {
   "cell_type": "code",
   "execution_count": 24,
   "metadata": {},
   "outputs": [
    {
     "name": "stdout",
     "output_type": "stream",
     "text": [
      "There are 1 individuals with a missing rate greater than 10.0%.\n",
      "Those individuals were dropped ! Remaining: 789\n"
     ]
    },
    {
     "data": {
      "image/png": "[encoded data removed]",
      "text/plain": [
       "<Figure size 432x288 with 1 Axes>"
      ]
     },
     "metadata": {
      "needs_background": "light"
     },
     "output_type": "display_data"
    }
   ],
   "source": [
    "# Count the non-NaN values per individual\n",
    "inds_missing_freq = df_pos.count(axis=0)\n",
    "inds_missing_freq /= df_pos.shape[0]\n",
    "\n",
    "# Transform NON-missing rate to missing rate\n",
    "inds_missing_freq = 1-inds_missing_freq\n",
    "\n",
    "# Indexes to drop\n",
    "inds_to_drop = inds_missing_freq[ inds_missing_freq >= INDIVIDUALS_THRESHOLD_MAX_MISSING ]\n",
    "inds_to_drop = inds_to_drop.index\n",
    "print(\"There are {} individuals with a missing rate greater than {}%.\"\n",
    "     .format(len(inds_to_drop), INDIVIDUALS_THRESHOLD_MAX_MISSING*100))\n",
    "\n",
    "# Drop the values\n",
    "df_pos.drop(inds_to_drop, axis=1, inplace=True)\n",
    "print(\"Those individuals were dropped ! Remaining: {}\".format(df_pos.shape[1]))\n",
    "\n",
    "plt.scatter(x=np.arange(1, df_pos.shape[1]+1), y=(1-df_pos.count()/df_pos.shape[0]))\n",
    "plt.xlabel('individuals'); plt.ylabel('missing rate');"
   ]
  },
  {
   "cell_type": "code",
   "execution_count": 25,
   "metadata": {},
   "outputs": [
    {
     "data": {
      "text/plain": [
       "Index([789], dtype='object')"
      ]
     },
     "execution_count": 25,
     "metadata": {},
     "output_type": "execute_result"
    }
   ],
   "source": [
    "inds_to_drop"
   ]
  },
  {
   "cell_type": "markdown",
   "metadata": {},
   "source": [
    "# Drop omnipresent and absent variants\n",
    "\n",
    "In the mutation rate plots, we saw that many variants are omnipresent or completely absent. We want to get rid of them since they do not give any information, or we don't have enough statistical power to detect the very rare variants (something to do with the integrity of the model).  \n",
    "\n",
    "We must define a threshold: this will apply on both sides (both high and low occuring rates). **We drop the values in the `df_pos` DataFrame**."
   ]
  },
  {
   "cell_type": "markdown",
   "metadata": {},
   "source": [
    "We will choose a threshold of 5% (defined in `src/setup.py`). "
   ]
  },
  {
   "cell_type": "code",
   "execution_count": 26,
   "metadata": {},
   "outputs": [
    {
     "data": {
      "text/plain": [
       "(4468,)"
      ]
     },
     "execution_count": 26,
     "metadata": {},
     "output_type": "execute_result"
    }
   ],
   "source": [
    "freq = df_pos.apply(np.mean, axis=1)\n",
    "MAF_lower_rem = freq[ freq < VARIANTS_THRESHOLD_FREQUENCY ].index.values\n",
    "MAF_upper_rem = freq[ freq > (1-VARIANTS_THRESHOLD_FREQUENCY) ].index.values\n",
    "concat = np.r_[MAF_lower_rem, MAF_upper_rem]\n",
    "concat.shape"
   ]
  },
  {
   "cell_type": "code",
   "execution_count": 27,
   "metadata": {},
   "outputs": [
    {
     "name": "stdout",
     "output_type": "stream",
     "text": [
      "There are 4468 variants with a frequency < 5.0% or > 95.0% (out of 5212).\n",
      "Those were dropped ! Remaining: 744\n"
     ]
    }
   ],
   "source": [
    "print(\"There are {} variants with a frequency < {}% or > {}% (out of {}).\"\n",
    "     .format(len(concat), VARIANTS_THRESHOLD_FREQUENCY*100,\n",
    "            (1-VARIANTS_THRESHOLD_FREQUENCY)*100, df_pos.shape[0] ))\n",
    "\n",
    "# Drop those values\n",
    "df_pos.drop(concat, inplace=True, axis=0)\n",
    "#df_clean = df_pos.drop(concat, axis=0)\n",
    "\n",
    "print(\"Those were dropped ! Remaining: {}\".format(df_pos.shape[0]))"
   ]
  },
  {
   "cell_type": "markdown",
   "metadata": {},
   "source": [
    "# PCA\n",
    "\n",
    "See https://towardsdatascience.com/pca-using-python-scikit-learn-e653f8989e60\n",
    "\n",
    "Attributes of the sklearn PCA object are:\n",
    "* components_\n",
    "* explained_variance_\n",
    "* explained_variance_ratio_\n",
    "* singular_values_\n",
    "* ...\n",
    "\n",
    "See in the Statistics notebook the methods to choose the number of principal components, with the **'scree plot' and the elbow rule**. Note that without modifying the size, the **plot is biased**, as said in *Ten quick tips for effective dimensionality reduction, Tip 6: Apply the correct aspect ratio for visualizations* :\n",
    "> The DR plots should obey the aspect ratio consistent with the relative amount of information explained by the output axes displayed. In the case of PCA, each output dimension has a corresponding eigenvalue proportional to the amount of variance it explains. \n",
    "\n",
    "## Imputation of missing values\n",
    "\n",
    "See https://datascience.stackexchange.com/a/11933. One possible thing is to impute missing values, see [SimpleImputer](https://scikit-learn.org/stable/modules/impute.html#impute) of sklearn. There are several strategies (mean, median, most_frequent, ...).\n",
    "\n",
    "Also there is a MultipleImputer, which uses several variables to impute the data.\n",
    "\n",
    "We'll compare two different strategies: mean and most frequent.\n",
    "\n",
    "### Example"
   ]
  },
  {
   "cell_type": "code",
   "execution_count": 28,
   "metadata": {
    "scrolled": false
   },
   "outputs": [],
   "source": [
    "# Impute missing values\n",
    "#imputer = SimpleImputer()\n",
    "#data = [ [0,1, 2], [1, 2, 3], [np.nan, 1, -1] ]\n",
    "#data = pd.DataFrame(data)\n",
    "#print(data)\n",
    "#imputer.fit_transform(data)"
   ]
  },
  {
   "cell_type": "markdown",
   "metadata": {},
   "source": [
    "We see that the imputation happens by columns. Thus we'll use the transpose of the multiindex DataFrame (now managed in a script). \n",
    "\n",
    "## PCA and simple imputation\n",
    "\n",
    "### Strategy: mean"
   ]
  },
  {
   "cell_type": "code",
   "execution_count": 29,
   "metadata": {
    "scrolled": false
   },
   "outputs": [
    {
     "data": {
      "image/png": "[encoded data removed]",
      "text/plain": [
       "<Figure size 432x288 with 1 Axes>"
      ]
     },
     "metadata": {
      "needs_background": "light"
     },
     "output_type": "display_data"
    },
    {
     "data": {
      "image/png": "[encoded data removed]",
      "text/plain": [
       "<Figure size 299.01x216 with 1 Axes>"
      ]
     },
     "metadata": {
      "needs_background": "light"
     },
     "output_type": "display_data"
    },
    {
     "data": {
      "image/png": "[encoded data removed]",
      "text/plain": [
       "<Figure size 236.22x216 with 1 Axes>"
      ]
     },
     "metadata": {
      "needs_background": "light"
     },
     "output_type": "display_data"
    }
   ],
   "source": [
    "(pcs, data) = viral_seq.pca_impute(df=df_pos.transpose(), n_components=20, impute_strategy='mean')\n",
    "common.plot_pca(pcs, data, pc_plot_height=3, n_plots=2, scaled_only=True)"
   ]
  },
  {
   "cell_type": "markdown",
   "metadata": {},
   "source": [
    "### Strategy: 'most_frequent'\n",
    "\n"
   ]
  },
  {
   "cell_type": "code",
   "execution_count": 30,
   "metadata": {
    "scrolled": false
   },
   "outputs": [
    {
     "data": {
      "image/png": "[encoded data removed]",
      "text/plain": [
       "<Figure size 432x288 with 1 Axes>"
      ]
     },
     "metadata": {
      "needs_background": "light"
     },
     "output_type": "display_data"
    },
    {
     "data": {
      "image/png": "[encoded data removed]",
      "text/plain": [
       "<Figure size 299.031x216 with 1 Axes>"
      ]
     },
     "metadata": {
      "needs_background": "light"
     },
     "output_type": "display_data"
    },
    {
     "data": {
      "image/png": "[encoded data removed]",
      "text/plain": [
       "<Figure size 236.973x216 with 1 Axes>"
      ]
     },
     "metadata": {
      "needs_background": "light"
     },
     "output_type": "display_data"
    }
   ],
   "source": [
    "pcs, data = viral_seq.pca_impute(df=df_pos.transpose(), n_components=20, impute_strategy='most_frequent')\n",
    "common.plot_pca(pcs, data, pc_plot_height=3, n_plots=2, scaled_only=True)"
   ]
  },
  {
   "cell_type": "markdown",
   "metadata": {},
   "source": [
    "We actually see no changes compared with the strategy of the mean. \n",
    "\n",
    "## PCA and IterativeImputer\n",
    "\n",
    "IterativeImputer is still at experimental step. \n",
    "\n",
    "Note: IterativeImputer takes many parameters. We only provide `min_value` and `max_value` (respectively 0 and 1).\n",
    "\n",
    "**Warning: this overfills the entire memory on the laptop... Try on scitas**."
   ]
  },
  {
   "cell_type": "code",
   "execution_count": 31,
   "metadata": {
    "scrolled": true
   },
   "outputs": [],
   "source": [
    "#pcs = viral_seq.pca_impute(df=df_pos, n_components=20, impute_strategy='iterative')"
   ]
  },
  {
   "cell_type": "markdown",
   "metadata": {},
   "source": [
    "# Finalization\n",
    "\n",
    "We want to store the clean and processed DataFrame, whith the IDs."
   ]
  },
  {
   "cell_type": "code",
   "execution_count": 34,
   "metadata": {},
   "outputs": [
    {
     "name": "stdout",
     "output_type": "stream",
     "text": [
      "write_binary(): successfully written in 'data/viral_data'\n",
      "\n",
      "The final data shape is (789, 745)\n"
     ]
    }
   ],
   "source": [
    "df_store = df_pos.transpose()\n",
    "# Note: this is fine to simply insert it (no join)\n",
    "#       since the only treatment apply was dropping (the order remains the same)\n",
    "#       but you shouldn't forget to drop ids from df_aa too !\n",
    "df_store.insert(value=df_aa['index'].drop(inds_to_drop), column=ID_GS_VIRAL_DF, loc=0)\n",
    "\n",
    "# use custom function to write in a file:\n",
    "common.write_binary(PATH_VIRAL_DATA, df_store)\n",
    "\n",
    "print(\"\\nThe final data shape is\", df_store.shape)"
   ]
  },
  {
   "cell_type": "markdown",
   "metadata": {},
   "source": [
    "We also store the principal components of the viral data:\n"
   ]
  },
  {
   "cell_type": "code",
   "execution_count": 35,
   "metadata": {},
   "outputs": [
    {
     "data": {
      "text/plain": [
       "(789, 20)"
      ]
     },
     "execution_count": 35,
     "metadata": {},
     "output_type": "execute_result"
    }
   ],
   "source": [
    "_, data = viral_seq.pca_impute(df=df_pos.transpose(), n_components=20, impute_strategy='most_frequent')\n",
    "df_pca = pd.DataFrame(data)\n",
    "df_pca.shape"
   ]
  },
  {
   "cell_type": "code",
   "execution_count": 36,
   "metadata": {},
   "outputs": [
    {
     "name": "stdout",
     "output_type": "stream",
     "text": [
      "write_binary(): successfully written in 'data/viral_data_pcs'\n"
     ]
    }
   ],
   "source": [
    "common.write_binary(PATH_VIRAL_DATA_PCS, df_pca)"
   ]
  }
 ],
 "metadata": {
  "kernelspec": {
   "display_name": "Python 3",
   "language": "python",
   "name": "python3"
  },
  "language_info": {
   "codemirror_mode": {
    "name": "ipython",
    "version": 3
   },
   "file_extension": ".py",
   "mimetype": "text/x-python",
   "name": "python",
   "nbconvert_exporter": "python",
   "pygments_lexer": "ipython3",
   "version": "3.6.5"
  },
  "toc": {
   "base_numbering": 1,
   "nav_menu": {},
   "number_sections": true,
   "sideBar": true,
   "skip_h1_title": false,
   "title_cell": "Table of Contents",
   "title_sidebar": "Contents",
   "toc_cell": false,
   "toc_position": {
    "height": "calc(100% - 180px)",
    "left": "10px",
    "top": "150px",
    "width": "165px"
   },
   "toc_section_display": true,
   "toc_window_display": false
  }
 },
 "nbformat": 4,
 "nbformat_minor": 2
}
