{
 "cells": [
  {
   "cell_type": "code",
   "execution_count": 1,
   "metadata": {},
   "outputs": [],
   "source": [
    "import numpy as np\n",
    "import seaborn as sns\n",
    "import matplotlib.pyplot as plt\n",
    "import pandas as pd\n",
    "import pandas_plink as pp\n",
    "import pickle\n",
    "\n",
    "from src import setup\n",
    "from src.host import run_plink\n",
    "from src import common\n",
    "\n",
    "# This prevents to restart the kernel whenever an external file is edited\n",
    "%load_ext autoreload\n",
    "%autoreload 2\n",
    "\n",
    "# Comutation management\n",
    "DEFAULT_RECOMPUTE = False\n",
    "DATA_THINNING = False"
   ]
  },
  {
   "cell_type": "markdown",
   "metadata": {},
   "source": [
    "# Introduction\n",
    "\n",
    "**14'738'460 variants, 622 people.**\n",
    "\n",
    "## Data processing plan\n",
    "\n",
    "### Preprocessing \n",
    "\n",
    "1. Data thinning (if `DATA_THINNING == True`)\n",
    "1. Create SNP map (SNP id and SNP position)\n",
    "\n",
    "### Filtering\n",
    "1. Remove missing values (variants)\n",
    "1. Remove missing values (individuals)\n",
    "1. Filter out rare variants and variants at Hardy-Weinberg disequilibrium\n",
    "\n",
    "## Computation management\n",
    "\n",
    "### Idea\n",
    "\n",
    "Sometimes we don't want to re-do all the computations if the resulting data is already calculated. Thus we provide:\n",
    "1. A way of easily running shell commands\n",
    "1. A dedicated function to easily run plink commands on the shell\n",
    "1. A way of checking if the results already exist, and loading data if this is the case\n",
    "    * Unless we specifically specifiy to re-do the calculations.\n",
    "\n",
    "DOCUMENTATION about running shell commands and managing the outputs : https://janakiev.com/til/python-shell-commands/, https://www.pythonforbeginners.com/os/subprocess-for-system-administrators"
   ]
  },
  {
   "cell_type": "markdown",
   "metadata": {},
   "source": [
    "### General principle\n",
    "\n",
    "* `run_shell_command`: manage to run shell commands with a specific package (`subprocess`) that helps to manage the outputs.\n",
    "* `run_plink`: manage plink version, binary files location, output location, display errors, check if results already exist\n",
    "\n",
    "**NOTE: possible improvement: automatically find the file extension. Also, if the command results in several output files, we should check that all of them are present (but we assume the user doesn't make such dumb things, i.e. deleting only a fraction of the output files.**\n",
    "\n",
    "Workflow:\n",
    "1. Call `run_plink` command with the specific command (e.g. `--freq`), the input, the output and the file extension to look for (to avoid re-doing the computations). \n",
    "1. The function checks if the result already exist (needs the output and the extension resulting from the command)\n",
    "    * already exists: display a message, abort the process (returns 2-tuple of empty strings). This occurs if `force==False` (which is the default value).\n",
    "1. The command is runned with plink2 by default\n",
    "1. The error messages are displayed (by default, `verbose_err=True`)\n",
    "1. The outputs are returned as a tuple (stdout, stderr)"
   ]
  },
  {
   "cell_type": "code",
   "execution_count": 2,
   "metadata": {},
   "outputs": [],
   "source": [
    "path_raw = setup.PATH_HOST_RAW_PLINK_DATA\n",
    "path_out = setup.PATH_PLINK_DATA\n",
    "file_prefix = 'host_geno'"
   ]
  },
  {
   "cell_type": "markdown",
   "metadata": {},
   "source": [
    "## Overview on raw data\n",
    "\n",
    "### Files"
   ]
  },
  {
   "cell_type": "code",
   "execution_count": 3,
   "metadata": {},
   "outputs": [
    {
     "name": "stdout",
     "output_type": "stream",
     "text": [
      "total 4.0G\r\n",
      "-rwxr-xr-x 1 mazeller SV-BA4-unit  245  9 aoû 16:11 dictionary_wes_vcf.txt\r\n",
      "-rwxr-xr-x 1 mazeller SV-BA4-unit 2.2G  9 aoû 16:11 hbv_gilead.bed\r\n",
      "-rwxr-xr-x 1 mazeller SV-BA4-unit 431M  9 aoû 16:11 hbv_gilead.bim\r\n",
      "-rwxr-xr-x 1 mazeller SV-BA4-unit  18K  9 aoû 16:11 hbv_gilead.fam\r\n",
      "-rw-r--r-- 1 mazeller SV-BA4-unit 1.4G 11 aoû 01:59 hbv_gilead.frq\r\n",
      "-rw-r--r-- 1 mazeller SV-BA4-unit  930 11 aoû 01:59 hbv_gilead.log\r\n",
      "-rw-r--r-- 1 mazeller SV-BA4-unit  13K 11 aoû 01:59 hbv_gilead.nosex\r\n",
      "-rw-r--r-- 1 mazeller SV-BA4-unit  677 11 aoû 17:56 hbv_gilead_validate.log\r\n"
     ]
    }
   ],
   "source": [
    "path = setup.PATH_HOST_RAW_DATA\n",
    "!ls -lh $path"
   ]
  },
  {
   "cell_type": "markdown",
   "metadata": {},
   "source": [
    "Those are **plink binary files**. "
   ]
  },
  {
   "cell_type": "markdown",
   "metadata": {},
   "source": [
    "### Dictionnary of the data"
   ]
  },
  {
   "cell_type": "code",
   "execution_count": 4,
   "metadata": {},
   "outputs": [
    {
     "name": "stdout",
     "output_type": "stream",
     "text": [
      "Info about WES_VCF by Ondrej.Podlaha@gilead.com on Dec 12 2018.\r\n",
      "\r\n",
      "1. Human reference genome: GRCh37.87\r\n",
      "2. Variant calling was performed using GATK (version nightly-2016-08-27-g667f78b; HaplotypeCaller)\r\n",
      "3. dbSNP v138 was used by HaplotypeCaller\r\n",
      " \r\n"
     ]
    }
   ],
   "source": [
    "!cat $path/dictionary_wes_vcf.txt"
   ]
  },
  {
   "cell_type": "markdown",
   "metadata": {},
   "source": [
    "### Data integrity\n"
   ]
  },
  {
   "cell_type": "code",
   "execution_count": 5,
   "metadata": {},
   "outputs": [
    {
     "name": "stdout",
     "output_type": "stream",
     "text": [
      "run_plink: command '--validate', the file 'data/plink/host_geno_validate.log' already exists (force is set to False).\n",
      "PLINK v2.00a2LM 64-bit Intel (31 Jul 2019)\r\n",
      "Options in effect:\r\n",
      "  --bfile data/raw/wes_plink/hbv_gilead\r\n",
      "  --out data/plink/host_geno_validate\r\n",
      "  --validate\r\n",
      "\r\n",
      "Hostname: deneb1\r\n",
      "Working directory: /home/mazeller/HBV\r\n",
      "Start time: Mon Aug 12 10:08:07 2019\r\n",
      "\r\n",
      "Random number seed: 1565597287\r\n",
      "64232 MiB RAM detected; reserving 32116 MiB for main workspace.\r\n",
      "Using up to 16 threads (change this with --threads).\r\n",
      "622 samples (0 females, 0 males, 622 ambiguous; 622 founders) loaded from\r\n",
      "data/raw/wes_plink/hbv_gilead.fam.\r\n",
      "14738460 variants loaded from data/raw/wes_plink/hbv_gilead.bim.\r\n",
      "Validating data/raw/wes_plink/hbv_gilead.bed... done.\r\n",
      "\r\n",
      "End time: Mon Aug 12 10:08:12 2019\r\n"
     ]
    }
   ],
   "source": [
    "o,e= run_plink('--validate', file=path_raw, out=path_out+file_prefix+'_validate', extension='log')\n",
    "!cat $path_out$file_prefix'_validate.log'"
   ]
  },
  {
   "cell_type": "markdown",
   "metadata": {},
   "source": [
    "## .bim file\n",
    "\n",
    "This is an extended .map file, \n",
    "1. Chromosode code\n",
    "1. Variant id (SNP)\n",
    "1. Position in centimorgan\n",
    "1. Baise-pair coordinate\n",
    "1. ALT allele code\n",
    "1. REF allele code"
   ]
  },
  {
   "cell_type": "code",
   "execution_count": 6,
   "metadata": {},
   "outputs": [
    {
     "name": "stdout",
     "output_type": "stream",
     "text": [
      "1\trs779258992\t0\t10146\tA\tAC\r\n",
      "1\t1:10400:C:T\t0\t10400\tT\tC\r\n",
      "1\trs55998931\t0\t10492\tT\tC\r\n",
      "1\trs58108140\t0\t10583\tA\tG\r\n",
      "1\trs376342519\t0\t10616\tC\tCCGCCGTTGCAAAGGCGCGCCG\r\n",
      "1\t1:13012:A:G\t0\t13012\tA\tG\r\n",
      "1\t1:13054:C:T\t0\t13054\tT\tC\r\n",
      "1\t1:13250:G:T\t0\t13250\tT\tG\r\n",
      "1\trs531730856\t0\t13273\tC\tG\r\n",
      "1\trs538791886\t0\t13289\tC\tCCT\r\n"
     ]
    }
   ],
   "source": [
    "!head -10 $path_raw'.bim'"
   ]
  },
  {
   "cell_type": "markdown",
   "metadata": {},
   "source": [
    "## Arbitrary thinning of the data\n",
    "\n",
    "We use the plink2 `--thin <p>` option to **reduce the amount of data** (keep entries with probability p). We'll make sure that the code runs first. When everything works, we can simply set `DATA_THINNING = False`.\n",
    "\n",
    "Management of the **data being taken into account**: we simply put `path_raw` to target the reduced data."
   ]
  },
  {
   "cell_type": "code",
   "execution_count": 7,
   "metadata": {
    "scrolled": true
   },
   "outputs": [],
   "source": [
    "# We change the default raw data for subsequent analyses\n",
    "if DATA_THINNING == True :\n",
    "    file_prefix = 'host_reduced'\n",
    "    run_plink(\"--thin 0.001 --make-bed\", file=path_raw, out=path_out+file_prefix, extension='bed')\n",
    "    path_raw = path_out+file_prefix"
   ]
  },
  {
   "cell_type": "code",
   "execution_count": 8,
   "metadata": {
    "scrolled": true
   },
   "outputs": [
    {
     "name": "stdout",
     "output_type": "stream",
     "text": [
      "cat: data/plink/host_geno.log: Aucun fichier ou dossier de ce type\r\n"
     ]
    }
   ],
   "source": [
    "!cat $path_out$file_prefix'.log' | grep thin"
   ]
  },
  {
   "cell_type": "markdown",
   "metadata": {},
   "source": [
    "## Note on plink\n",
    "\n",
    "| Feature | Summary statistic | Inclusion criteria  |\n",
    "|----------------------------|-----------|-----------|\n",
    "| Missingness per individual | --missing | --mind N  |\n",
    "| Missingness per marker     | --missing | --geno N  |\n",
    "| Allele frequency           | --freq    | --maf N   |\n",
    "| Hardy-Weinberg equilibrium | --hardy   | --hwe     |\n",
    "| Mendel error rates         | --mendel  |  --me N M |"
   ]
  },
  {
   "cell_type": "markdown",
   "metadata": {},
   "source": [
    "# SNP map generation\n",
    "\n",
    "We create a Python dictionnary object and store it to easily convert the SNP references to their genome location. Those information are extracted from the `.bim` file.\n"
   ]
  },
  {
   "cell_type": "code",
   "execution_count": 9,
   "metadata": {},
   "outputs": [
    {
     "name": "stdout",
     "output_type": "stream",
     "text": [
      "   #CHROM          SNP  COORD\n",
      "0       1  rs779258992  10146\n"
     ]
    }
   ],
   "source": [
    "# Create DataFrame from .bim file\n",
    "df_bim = pd.read_csv(path_raw+'.bim', sep='\\s+', header=None,\n",
    "                     usecols=[0, 1, 3])\n",
    "df_bim.columns = ['#CHROM', 'SNP', 'COORD']\n",
    "print(df_bim.head(1))"
   ]
  },
  {
   "cell_type": "code",
   "execution_count": 10,
   "metadata": {},
   "outputs": [
    {
     "name": "stdout",
     "output_type": "stream",
     "text": [
      "manage_pickle: the file 'data/SNP_dict' has been loaded\n"
     ]
    }
   ],
   "source": [
    "# Create dictionnary\n",
    "# Use custom manage_pickle function from common.py\n",
    "def create_dict() :\n",
    "    return dict(zip(df_bim['SNP'], df_bim['COORD']))\n",
    "\n",
    "SNP_dic = common.manage_pickle(path=setup.PATH_SNP_MAP, fun=create_dict)"
   ]
  },
  {
   "cell_type": "markdown",
   "metadata": {},
   "source": [
    "# Missing values\n",
    "\n",
    "`.smiss` for sample-based missing data report:\n",
    "* MISSING_CT: Number of missing hardcalls, not counting het haploids\n",
    "* OBS_CT = Denominator (#males on chrY, otherwise #samples)\n",
    "* F_MISS = Missing hardcall rate, not counting het haploids\n",
    "\n"
   ]
  },
  {
   "cell_type": "code",
   "execution_count": 11,
   "metadata": {},
   "outputs": [],
   "source": [
    "path_missing = path_out+file_prefix+'_missing'\n",
    "o,e = run_plink(\"--missing\", file=path_raw, out=path_missing, extension='vmiss')"
   ]
  },
  {
   "cell_type": "code",
   "execution_count": 12,
   "metadata": {},
   "outputs": [
    {
     "name": "stderr",
     "output_type": "stream",
     "text": [
      "/home/mazeller/opt/x86_E5v2_IntelIB/venv-gcc/lib/python3.6/site-packages/IPython/core/interactiveshell.py:3058: DtypeWarning: Columns (0) have mixed types. Specify dtype option on import or set low_memory=False.\n",
      "  interactivity=interactivity, compiler=compiler, result=result)\n"
     ]
    },
    {
     "name": "stdout",
     "output_type": "stream",
     "text": [
      "Shape of missing var table: (14738460, 3)\n",
      "Columns of missing var table:\n",
      "\tIndex(['#CHROM', 'ID', 'F_MISS'], dtype='object')\n",
      "Shape of missing ind table: (622, 1)\n",
      "Columns of missing ind table:\n",
      "\tIndex(['F_MISS'], dtype='object')\n"
     ]
    }
   ],
   "source": [
    "df_miss_ind = pd.read_csv(path_missing+'.smiss', sep='\\s+', usecols=['F_MISS'])\n",
    "df_miss_var = pd.read_csv(path_missing+'.vmiss', sep='\\s+', usecols=['#CHROM', 'ID', 'F_MISS'])\n",
    "print(\"Shape of missing var table: {}\\nColumns of missing var table:\\n\\t{}\\\n",
    "\\nShape of missing ind table: {}\\nColumns of missing ind table:\\n\\t{}\"\n",
    "     .format(df_miss_var.shape, df_miss_var.columns, \n",
    "             df_miss_ind.shape, df_miss_ind.columns))"
   ]
  },
  {
   "cell_type": "markdown",
   "metadata": {},
   "source": [
    "## Missingness of individuals per variant\n",
    "\n",
    "For each individual, plink computed the rate of missing variants. This tells us about how to filter individuals out."
   ]
  },
  {
   "cell_type": "code",
   "execution_count": 13,
   "metadata": {},
   "outputs": [
    {
     "data": {
      "text/html": [
       "<div>\n",
       "<style scoped>\n",
       "    .dataframe tbody tr th:only-of-type {\n",
       "        vertical-align: middle;\n",
       "    }\n",
       "\n",
       "    .dataframe tbody tr th {\n",
       "        vertical-align: top;\n",
       "    }\n",
       "\n",
       "    .dataframe thead th {\n",
       "        text-align: right;\n",
       "    }\n",
       "</style>\n",
       "<table border=\"1\" class=\"dataframe\">\n",
       "  <thead>\n",
       "    <tr style=\"text-align: right;\">\n",
       "      <th></th>\n",
       "      <th>F_MISS</th>\n",
       "    </tr>\n",
       "  </thead>\n",
       "  <tbody>\n",
       "    <tr>\n",
       "      <th>0</th>\n",
       "      <td>0.775343</td>\n",
       "    </tr>\n",
       "  </tbody>\n",
       "</table>\n",
       "</div>"
      ],
      "text/plain": [
       "     F_MISS\n",
       "0  0.775343"
      ]
     },
     "execution_count": 13,
     "metadata": {},
     "output_type": "execute_result"
    }
   ],
   "source": [
    "df_miss_ind.head(1)"
   ]
  },
  {
   "cell_type": "code",
   "execution_count": 14,
   "metadata": {
    "scrolled": true
   },
   "outputs": [
    {
     "data": {
      "image/png": "[encoded data removed]",
      "text/plain": [
       "<Figure size 432x288 with 1 Axes>"
      ]
     },
     "metadata": {
      "needs_background": "light"
     },
     "output_type": "display_data"
    }
   ],
   "source": [
    "sns.distplot(df_miss_ind['F_MISS'], norm_hist=False, kde=False)\n",
    "plt.ylabel('number of individuals'); plt.xlabel('rate of missing variants');"
   ]
  },
  {
   "cell_type": "markdown",
   "metadata": {},
   "source": [
    "## Missing report - variants\n",
    "\n",
    "For each variant, plink computed the rate of missing individuals. This tells us about how to filter variants out."
   ]
  },
  {
   "cell_type": "code",
   "execution_count": 15,
   "metadata": {},
   "outputs": [
    {
     "data": {
      "text/html": [
       "<div>\n",
       "<style scoped>\n",
       "    .dataframe tbody tr th:only-of-type {\n",
       "        vertical-align: middle;\n",
       "    }\n",
       "\n",
       "    .dataframe tbody tr th {\n",
       "        vertical-align: top;\n",
       "    }\n",
       "\n",
       "    .dataframe thead th {\n",
       "        text-align: right;\n",
       "    }\n",
       "</style>\n",
       "<table border=\"1\" class=\"dataframe\">\n",
       "  <thead>\n",
       "    <tr style=\"text-align: right;\">\n",
       "      <th></th>\n",
       "      <th>#CHROM</th>\n",
       "      <th>ID</th>\n",
       "      <th>F_MISS</th>\n",
       "      <th>COORD</th>\n",
       "    </tr>\n",
       "  </thead>\n",
       "  <tbody>\n",
       "    <tr>\n",
       "      <th>0</th>\n",
       "      <td>1</td>\n",
       "      <td>rs779258992</td>\n",
       "      <td>0.983923</td>\n",
       "      <td>NaN</td>\n",
       "    </tr>\n",
       "  </tbody>\n",
       "</table>\n",
       "</div>"
      ],
      "text/plain": [
       "  #CHROM           ID    F_MISS  COORD\n",
       "0      1  rs779258992  0.983923    NaN"
      ]
     },
     "execution_count": 15,
     "metadata": {},
     "output_type": "execute_result"
    }
   ],
   "source": [
    "df_miss_var['COORD'] = df_miss_var.ID.map(SNP_dic)\n",
    "df_miss_var.head(1)"
   ]
  },
  {
   "cell_type": "code",
   "execution_count": 16,
   "metadata": {},
   "outputs": [
    {
     "data": {
      "image/png": "[encoded data removed]",
      "text/plain": [
       "<Figure size 864x216 with 2 Axes>"
      ]
     },
     "metadata": {
      "needs_background": "light"
     },
     "output_type": "display_data"
    }
   ],
   "source": [
    "fig, ax = plt.subplots(1, 2, figsize=(12,3))\n",
    "# Plot missing rate histogram\n",
    "sns.distplot(df_miss_var.F_MISS.dropna(), kde=False, norm_hist=False, ax=ax[0])\n",
    "ax[0].set_xlabel('rate of missing individuals'); ax[0].set_ylabel('number of variants');\n",
    "# Plot missing rate per position\n",
    "sns.scatterplot(x=df_miss_var.COORD, y=df_miss_var.F_MISS);"
   ]
  },
  {
   "cell_type": "markdown",
   "metadata": {},
   "source": [
    "### Median missingness per chromosome\n",
    "\n",
    "**WARNING: this may take a while if the data is not reduced.**"
   ]
  },
  {
   "cell_type": "code",
   "execution_count": 17,
   "metadata": {},
   "outputs": [
    {
     "data": {
      "image/png": "[encoded data removed]",
      "text/plain": [
       "<Figure size 432x288 with 1 Axes>"
      ]
     },
     "metadata": {
      "needs_background": "light"
     },
     "output_type": "display_data"
    }
   ],
   "source": [
    "df_miss_chr = df_miss_var[['#CHROM', 'F_MISS']].groupby('#CHROM').median()\n",
    "sns.boxplot(x='#CHROM', y='F_MISS', data=df_miss_var);"
   ]
  },
  {
   "cell_type": "markdown",
   "metadata": {},
   "source": [
    "## Summary of missing reports\n",
    "\n",
    "We indeed expect to have almost no items with very few missing variants: missingness has more to do with the sequencing method and the genome location (than randomness). There is no individual that would be specifically better sequenced than others (excluding randomness). In contrast, we expect some variants to be missing in almost all individuals or to be present in all of them.\n",
    "\n",
    "Report `.smiss` (individuals): for each individual, we're interested in the rate of missing variants. That tells us which individuals have too much missingness. There is actually a huge number of individuals with a missing rate >80%. It can arise from that fact that:\n",
    "1. We have low-quality sequencing data\n",
    "1. If we use reduced data, the sub-sample we have has a lot of missingness by random\n",
    "1. **Missingness is biased**, since we did not exclude the variants with high missing rates.\n",
    "\n",
    "Remember that we want to be very careful while excluding individuals, we want to save them due to the small sample size. Just like we did in the viral sequencing data, we must first remove bad variants before removing individuals.\n"
   ]
  },
  {
   "cell_type": "code",
   "execution_count": 18,
   "metadata": {},
   "outputs": [],
   "source": [
    "# Free memory\n",
    "df_miss_var = None\n",
    "df_miss_ind = None\n",
    "df_miss_chr = None"
   ]
  },
  {
   "cell_type": "markdown",
   "metadata": {},
   "source": [
    "# NaN values processing\n",
    "\n",
    "We use the filtering options of plink2 (i.e. `--geno` and `--mind`) together with `--make-bed` to create a new dataset.\n",
    "\n",
    "**NOTE: after data cleaning, we set `file_prefix = file_prefix+'_clean'`.**"
   ]
  },
  {
   "cell_type": "code",
   "execution_count": 19,
   "metadata": {},
   "outputs": [],
   "source": [
    "# Define thresholds\n",
    "THRESHOLD_INDIVIDUALS = 0.1\n",
    "THRESHOLD_VARIANTS = 0.05"
   ]
  },
  {
   "cell_type": "code",
   "execution_count": 20,
   "metadata": {},
   "outputs": [],
   "source": [
    "# Managing paths and files\n",
    "file_prefix = file_prefix + '_clean'\n",
    "path_clean = path_out+file_prefix"
   ]
  },
  {
   "cell_type": "code",
   "execution_count": 21,
   "metadata": {},
   "outputs": [
    {
     "name": "stdout",
     "output_type": "stream",
     "text": [
      "PLINK v2.00a2LM 64-bit Intel (31 Jul 2019)     www.cog-genomics.org/plink/2.0/\n",
      "(C) 2005-2019 Shaun Purcell, Christopher Chang   GNU General Public License v3\n",
      "Logging to data/plink/host_geno_clean_var.log.\n",
      "Options in effect:\n",
      "  --bfile data/raw/wes_plink/hbv_gilead\n",
      "  --geno 0.05\n",
      "  --make-bed\n",
      "  --out data/plink/host_geno_clean_var\n",
      "\n",
      "Start time: Mon Aug 12 18:01:20 2019\n",
      "64232 MiB RAM detected; reserving 32116 MiB for main workspace.\n",
      "Using up to 16 threads (change this with --threads).\n",
      "622 samples (0 females, 0 males, 622 ambiguous; 622 founders) loaded from\n",
      "data/raw/wes_plink/hbv_gilead.fam.\n",
      "14738460 variants loaded from data/raw/wes_plink/hbv_gilead.bim.\n",
      "Note: No phenotype data present.\n",
      "Calculating allele frequencies... 0%\b\b1%\b\b2%\b\b3%\b\b4%\b\b5%\b\b6%\b\b7%\b\b8%\b\b9%\b\b10%\b\b\b11%\b\b\b12%\b\b\b13%\b\b\b14%\b\b\b15%\b\b\b16%\b\b\b17%\b\b\b18%\b\b\b19%\b\b\b20%\b\b\b21%\b\b\b22%\b\b\b23%\b\b\b24%\b\b\b25%\b\b\b26%\b\b\b27%\b\b\b28%\b\b\b29%\b\b\b30%\b\b\b31%\b\b\b32%\b\b\b33%\b\b\b34%\b\b\b35%\b\b\b36%\b\b\b37%\b\b\b38%\b\b\b39%\b\b\b40%\b\b\b41%\b\b\b42%\b\b\b43%\b\b\b44%\b\b\b45%\b\b\b46%\b\b\b47%\b\b\b48%\b\b\b49%\b\b\b50%\b\b\b51%\b\b\b52%\b\b\b53%\b\b\b54%\b\b\b55%\b\b\b56%\b\b\b57%\b\b\b58%\b\b\b59%\b\b\b60%\b\b\b61%\b\b\b62%\b\b\b63%\b\b\b64%\b\b\b65%\b\b\b66%\b\b\b67%\b\b\b68%\b\b\b69%\b\b\b70%\b\b\b71%\b\b\b72%\b\b\b73%\b\b\b74%\b\b\b75%\b\b\b76%\b\b\b77%\b\b\b78%\b\b\b79%\b\b\b80%\b\b\b81%\b\b\b82%\b\b\b83%\b\b\b84%\b\b\b85%\b\b\b86%\b\b\b87%\b\b\b88%\b\b\b89%\b\b\b90%\b\b\b91%\b\b\b92%\b\b\b93%\b\b\b94%\b\b\b95%\b\b\b96%\b\b\b97%\b\b\b98%\b\b\b99%\b\b\bdone.\n",
      "--geno: 12282294 variants removed due to missing genotype data.\n",
      "2456166 variants remaining after main filters.\n",
      "Writing data/plink/host_geno_clean_var.fam ... done.\n",
      "Writing data/plink/host_geno_clean_var.bim ... done.\n",
      "Writing data/plink/host_geno_clean_var.bed ... 0%\b\b1%\b\b2%\b\b3%\b\b4%\b\b5%\b\b6%\b\b7%\b\b8%\b\b9%\b\b10%\b\b\b11%\b\b\b12%\b\b\b13%\b\b\b14%\b\b\b15%\b\b\b16%\b\b\b17%\b\b\b18%\b\b\b19%\b\b\b20%\b\b\b21%\b\b\b22%\b\b\b23%\b\b\b24%\b\b\b25%\b\b\b26%\b\b\b27%\b\b\b28%\b\b\b29%\b\b\b30%\b\b\b31%\b\b\b32%\b\b\b33%\b\b\b34%\b\b\b35%\b\b\b36%\b\b\b37%\b\b\b38%\b\b\b39%\b\b\b40%\b\b\b41%\b\b\b42%\b\b\b43%\b\b\b44%\b\b\b45%\b\b\b46%\b\b\b47%\b\b\b48%\b\b\b49%\b\b\b50%\b\b\b51%\b\b\b52%\b\b\b53%\b\b\b54%\b\b\b55%\b\b\b56%\b\b\b57%\b\b\b58%\b\b\b59%\b\b\b60%\b\b\b61%\b\b\b62%\b\b\b63%\b\b\b64%\b\b\b65%\b\b\b66%\b\b\b67%\b\b\b68%\b\b\b69%\b\b\b70%\b\b\b71%\b\b\b72%\b\b\b73%\b\b\b74%\b\b\b75%\b\b\b76%\b\b\b77%\b\b\b78%\b\b\b79%\b\b\b80%\b\b\b81%\b\b\b82%\b\b\b83%\b\b\b84%\b\b\b85%\b\b\b86%\b\b\b87%\b\b\b88%\b\b\b89%\b\b\b90%\b\b\b91%\b\b\b92%\b\b\b93%\b\b\b94%\b\b\b95%\b\b\b96%\b\b\b97%\b\b\b98%\b\b\bdone.\n",
      "End time: Mon Aug 12 18:01:28 2019\n",
      "\n"
     ]
    }
   ],
   "source": [
    "path_clean_variants = path_clean+'_var'\n",
    "o,e = run_plink('--geno ' + str(THRESHOLD_VARIANTS) + ' --make-bed',\n",
    "                 file=path_raw, out=path_clean_variants, extension='bed')\n",
    "print(o)"
   ]
  },
  {
   "cell_type": "code",
   "execution_count": 22,
   "metadata": {},
   "outputs": [],
   "source": [
    "# We overwrite on the intermediate clean dataset\n",
    "# Thus we must call run_plink with force=True\n",
    "path_clean_ind = path_clean+'_ind'\n",
    "o,e = run_plink('--mind ' + str(THRESHOLD_INDIVIDUALS) + ' --make-bed',\n",
    "                file=path_clean_variants, out=path_clean_ind, extension='bed')"
   ]
  },
  {
   "cell_type": "markdown",
   "metadata": {},
   "source": [
    "## Check again missingness\n"
   ]
  },
  {
   "cell_type": "code",
   "execution_count": 23,
   "metadata": {},
   "outputs": [
    {
     "data": {
      "image/png": "[encoded data removed]",
      "text/plain": [
       "<Figure size 864x216 with 2 Axes>"
      ]
     },
     "metadata": {
      "needs_background": "light"
     },
     "output_type": "display_data"
    }
   ],
   "source": [
    "# Run plink\n",
    "run_plink('--missing', file=path_clean_ind, out=path_clean_ind, extension='vmiss')\n",
    "# Put in DataFrames\n",
    "# NOTE: param usecols DRASTICALLY lowers the amount of memory used\n",
    "df_miss_ind = pd.read_csv(path_clean_ind+'.smiss', sep='\\s+', usecols=['F_MISS'])\n",
    "df_miss_var = pd.read_csv(path_clean_ind+'.vmiss', sep='\\s+', usecols=['F_MISS'])\n",
    "# Plotting\n",
    "fig, ax = plt.subplots(1,2, figsize=(12, 3))\n",
    "sns.distplot(df_miss_ind.F_MISS.dropna(), kde=False, ax=ax[0])\n",
    "ax[0].set_xlabel('rate of missing variants')\n",
    "sns.distplot(df_miss_var.F_MISS.dropna(), kde=False, ax=ax[1])\n",
    "ax[1].set_xlabel('rate of missing individuals');\n",
    "# Free memory\n",
    "df_miss_var = None\n",
    "df_miss_ind = None"
   ]
  },
  {
   "cell_type": "markdown",
   "metadata": {},
   "source": [
    "# Minor allele frequencies\n",
    "\n",
    "## plink1.9 report\n",
    "\n",
    "* A1: minor allele (usually)\n",
    "* A2: major allele (usually)\n",
    "* MAF: frequency of A1"
   ]
  },
  {
   "cell_type": "code",
   "execution_count": 24,
   "metadata": {},
   "outputs": [
    {
     "name": "stdout",
     "output_type": "stream",
     "text": [
      "Warning: Nonmissing nonmale Y chromosome genotype(s) present; many commands\n",
      "treat these as missing.\n",
      "\n"
     ]
    },
    {
     "data": {
      "image/png": "[encoded data removed]",
      "text/plain": [
       "<Figure size 432x288 with 1 Axes>"
      ]
     },
     "metadata": {
      "needs_background": "light"
     },
     "output_type": "display_data"
    }
   ],
   "source": [
    "path_freq = path_clean_ind\n",
    "run_plink('--freq', extension='frq', file=path_clean_ind, \n",
    "          out=path_clean_ind, plink2=False);\n",
    "df_freq = pd.read_csv(path_freq+\".frq\", sep=\"\\s+\")\n",
    "df_freq.head(1)\n",
    "sns.distplot(df_freq.MAF.dropna(), kde=False);"
   ]
  },
  {
   "cell_type": "code",
   "execution_count": 25,
   "metadata": {},
   "outputs": [
    {
     "name": "stdout",
     "output_type": "stream",
     "text": [
      "Percentage of variants to drop for different frequency thresholds:\n",
      "0.1\t88.1%\n",
      "0.05\t85.0%\n",
      "0.01\t77.3%\n",
      "0.005\t72.4%\n"
     ]
    }
   ],
   "source": [
    "frequencies = [0.1, 0.05, 0.01, 0.005]\n",
    "print(\"Percentage of variants to drop for different frequency thresholds:\")\n",
    "N = len(df_freq.MAF)\n",
    "for f in frequencies :\n",
    "    variants = df_freq.MAF[df_freq.MAF < f]\n",
    "    print(\"{}\\t{:.3}%\".format(f, len(variants)/N*100))"
   ]
  },
  {
   "cell_type": "markdown",
   "metadata": {},
   "source": [
    "## plink2 report"
   ]
  },
  {
   "cell_type": "code",
   "execution_count": 26,
   "metadata": {},
   "outputs": [
    {
     "name": "stderr",
     "output_type": "stream",
     "text": [
      "/home/mazeller/opt/x86_E5v2_IntelIB/venv-gcc/lib/python3.6/site-packages/IPython/core/interactiveshell.py:3058: DtypeWarning: Columns (0) have mixed types. Specify dtype option on import or set low_memory=False.\n",
      "  interactivity=interactivity, compiler=compiler, result=result)\n"
     ]
    },
    {
     "data": {
      "image/png": "[encoded data removed]",
      "text/plain": [
       "<Figure size 432x288 with 1 Axes>"
      ]
     },
     "metadata": {
      "needs_background": "light"
     },
     "output_type": "display_data"
    }
   ],
   "source": [
    "path_freq = path_clean_ind\n",
    "run_plink('--freq', extension='afreq', file=path_clean_ind, out=path_freq);\n",
    "df_freq = pd.read_csv(path_freq+\".afreq\", sep=\"\\s+\")\n",
    "df_freq.head(1)\n",
    "sns.distplot(df_freq.ALT_FREQS.dropna(), kde=False, norm_hist=True);"
   ]
  },
  {
   "cell_type": "markdown",
   "metadata": {},
   "source": [
    "## MAF summary\n",
    "\n"
   ]
  },
  {
   "cell_type": "code",
   "execution_count": 27,
   "metadata": {},
   "outputs": [],
   "source": [
    "df_freq = None"
   ]
  },
  {
   "cell_type": "markdown",
   "metadata": {},
   "source": [
    "# Hardy-Weinberg equilibrium\n",
    "\n",
    "* A1: Tested allele\n",
    "* AX: Non-A1 alleles (comma-separated)\n",
    "* HOM_A1_CT: Homozygous-A1 genotype count\n",
    "* HET_A1_CT: Heterozygous-A1 genotype count\n",
    "* TWO_AX_CT: number of NONmissing calls with no A1 copies\n",
    "* O(HET_A1): Observed heterozygous-major frequency\n",
    "* E(HET_A1): Expected heterozygous-major frequency\n",
    "* P: Hardy-Weinberg equilibrium exact test p-value"
   ]
  },
  {
   "cell_type": "code",
   "execution_count": 28,
   "metadata": {},
   "outputs": [],
   "source": [
    "path_hardy = path_clean_ind+'_hardy'\n",
    "run_plink('--hardy', file=path_clean_ind, out=path_hardy, extension='hardy');"
   ]
  },
  {
   "cell_type": "code",
   "execution_count": 29,
   "metadata": {},
   "outputs": [
    {
     "data": {
      "text/html": [
       "<div>\n",
       "<style scoped>\n",
       "    .dataframe tbody tr th:only-of-type {\n",
       "        vertical-align: middle;\n",
       "    }\n",
       "\n",
       "    .dataframe tbody tr th {\n",
       "        vertical-align: top;\n",
       "    }\n",
       "\n",
       "    .dataframe thead th {\n",
       "        text-align: right;\n",
       "    }\n",
       "</style>\n",
       "<table border=\"1\" class=\"dataframe\">\n",
       "  <thead>\n",
       "    <tr style=\"text-align: right;\">\n",
       "      <th></th>\n",
       "      <th>#CHROM</th>\n",
       "      <th>ID</th>\n",
       "      <th>A1</th>\n",
       "      <th>AX</th>\n",
       "      <th>HOM_A1_CT</th>\n",
       "      <th>HET_A1_CT</th>\n",
       "      <th>TWO_AX_CT</th>\n",
       "      <th>O(HET_A1)</th>\n",
       "      <th>E(HET_A1)</th>\n",
       "      <th>P</th>\n",
       "    </tr>\n",
       "  </thead>\n",
       "  <tbody>\n",
       "    <tr>\n",
       "      <th>0</th>\n",
       "      <td>1</td>\n",
       "      <td>rs574697788</td>\n",
       "      <td>A</td>\n",
       "      <td>G</td>\n",
       "      <td>601</td>\n",
       "      <td>1</td>\n",
       "      <td>0</td>\n",
       "      <td>0.001661</td>\n",
       "      <td>0.001660</td>\n",
       "      <td>1.0</td>\n",
       "    </tr>\n",
       "    <tr>\n",
       "      <th>1</th>\n",
       "      <td>1</td>\n",
       "      <td>1:13499:A:C</td>\n",
       "      <td>C</td>\n",
       "      <td>A</td>\n",
       "      <td>599</td>\n",
       "      <td>1</td>\n",
       "      <td>0</td>\n",
       "      <td>0.001667</td>\n",
       "      <td>0.001665</td>\n",
       "      <td>1.0</td>\n",
       "    </tr>\n",
       "    <tr>\n",
       "      <th>2</th>\n",
       "      <td>1</td>\n",
       "      <td>rs199896944</td>\n",
       "      <td>G</td>\n",
       "      <td>A</td>\n",
       "      <td>589</td>\n",
       "      <td>11</td>\n",
       "      <td>0</td>\n",
       "      <td>0.018333</td>\n",
       "      <td>0.018165</td>\n",
       "      <td>1.0</td>\n",
       "    </tr>\n",
       "  </tbody>\n",
       "</table>\n",
       "</div>"
      ],
      "text/plain": [
       "   #CHROM           ID A1 AX  HOM_A1_CT  HET_A1_CT  TWO_AX_CT  O(HET_A1)  \\\n",
       "0       1  rs574697788  A  G        601          1          0   0.001661   \n",
       "1       1  1:13499:A:C  C  A        599          1          0   0.001667   \n",
       "2       1  rs199896944  G  A        589         11          0   0.018333   \n",
       "\n",
       "   E(HET_A1)    P  \n",
       "0   0.001660  1.0  \n",
       "1   0.001665  1.0  \n",
       "2   0.018165  1.0  "
      ]
     },
     "execution_count": 29,
     "metadata": {},
     "output_type": "execute_result"
    }
   ],
   "source": [
    "df_hardy = pd.read_csv(path_hardy+'.hardy', sep=\"\\s+\")\n",
    "df_hardy.head(3)"
   ]
  },
  {
   "cell_type": "code",
   "execution_count": 30,
   "metadata": {},
   "outputs": [
    {
     "data": {
      "image/png": "[encoded data removed]",
      "text/plain": [
       "<Figure size 864x216 with 2 Axes>"
      ]
     },
     "metadata": {
      "needs_background": "light"
     },
     "output_type": "display_data"
    }
   ],
   "source": [
    "fig, ax = plt.subplots(1, 2, figsize=(12, 3))\n",
    "sns.distplot(df_hardy.P, kde=False, ax=ax[0])\n",
    "ax[0].set_xlabel('Hardy-Weinberg p-val');\n",
    "\n",
    "sns.distplot(df_hardy.P[df_hardy.P <= 0.05], kde=False, ax=ax[1])\n",
    "ax[1].set_xlabel('Hardy-Weinberg p-val');"
   ]
  },
  {
   "cell_type": "code",
   "execution_count": 31,
   "metadata": {
    "scrolled": true
   },
   "outputs": [
    {
     "data": {
      "image/png": "[encoded data removed]",
      "text/plain": [
       "<Figure size 432x288 with 1 Axes>"
      ]
     },
     "metadata": {
      "needs_background": "light"
     },
     "output_type": "display_data"
    }
   ],
   "source": [
    "df_hardy['COORD'] = df_hardy.ID.map(SNP_dic)\n",
    "sns.scatterplot(x=df_hardy.COORD, y=df_hardy.P);"
   ]
  },
  {
   "cell_type": "markdown",
   "metadata": {},
   "source": [
    "# Mendelian error rates\n",
    "\n",
    "[Quote](http://zzz.bwh.harvard.edu/plink/summary.shtml#mendel):\n",
    "> The `*.mendel` file contains all Mendel errors (i.e. one line per error); the `*.imendel` file contains a summary of per-individual error rates; the `*.fmendel` file contains a summary of per-family error rates; the `*.lmendel` file contains a summary of per-SNP error rates. "
   ]
  },
  {
   "cell_type": "code",
   "execution_count": 32,
   "metadata": {},
   "outputs": [
    {
     "name": "stdout",
     "output_type": "stream",
     "text": [
      "Warning: Nonmissing nonmale Y chromosome genotype(s) present; many commands\n",
      "treat these as missing.\n",
      "Warning: Skipping --me/--mendel since there are no trios.\n",
      "\n"
     ]
    }
   ],
   "source": [
    "o, e = run_plink(\"--mendel\", extension='mendel', file=path_clean_ind,\n",
    "                 out=path_clean_ind, plink2=False)"
   ]
  },
  {
   "cell_type": "markdown",
   "metadata": {},
   "source": [
    "Since there are **no trio**, there isn't any mendelian error rate to compute."
   ]
  },
  {
   "cell_type": "markdown",
   "metadata": {},
   "source": [
    "# Filter MAF and variants in HW disequilibrium\n",
    "\n",
    "After this last step of filtering, we want to target to `path_clean`."
   ]
  },
  {
   "cell_type": "code",
   "execution_count": 33,
   "metadata": {},
   "outputs": [
    {
     "name": "stdout",
     "output_type": "stream",
     "text": [
      "2456166 variants loaded from data/plink/host_geno_clean_ind.bim.\r\n",
      "--hwe: 121220 variants removed due to Hardy-Weinberg exact test (founders\r\n",
      "1874006 variants removed due to allele frequency threshold(s)\r\n",
      "460940 variants remaining after main filters.\r\n"
     ]
    }
   ],
   "source": [
    "o, e = run_plink(\"--maf 0.01 --hwe 0.001 --make-bed\", file=path_clean_ind, out=path_clean,\n",
    "          extension='bim', force=True)\n",
    "!cat $path_clean'.log' | grep variants"
   ]
  },
  {
   "cell_type": "markdown",
   "metadata": {},
   "source": [
    "# Preparation of PCA\n",
    "\n",
    "Based on the *Bioinformatics with Python Cookbook*, 2nd edition, Tiago Antao, p.131\n",
    "\n",
    "## LD-pruned dataset + allele recoding"
   ]
  },
  {
   "cell_type": "code",
   "execution_count": 38,
   "metadata": {},
   "outputs": [
    {
     "name": "stdout",
     "output_type": "stream",
     "text": [
      "PLINK v2.00a2LM 64-bit Intel (31 Jul 2019)     www.cog-genomics.org/plink/2.0/\n",
      "(C) 2005-2019 Shaun Purcell, Christopher Chang   GNU General Public License v3\n",
      "Logging to data/plink/host_geno_clean_PCA_keep.log.\n",
      "Options in effect:\n",
      "  --bfile data/plink/host_geno_clean\n",
      "  --indep-pairwise 50 10 0.1\n",
      "  --out data/plink/host_geno_clean_PCA_keep\n",
      "\n",
      "Start time: Mon Aug 12 19:09:43 2019\n",
      "64232 MiB RAM detected; reserving 32116 MiB for main workspace.\n",
      "Using up to 16 threads (change this with --threads).\n",
      "612 samples (0 females, 0 males, 612 ambiguous; 612 founders) loaded from\n",
      "data/plink/host_geno_clean.fam.\n",
      "460940 variants loaded from data/plink/host_geno_clean.bim.\n",
      "Note: No phenotype data present.\n",
      "Calculating allele frequencies... 0%\b\b14%\b\b\b28%\b\b\b42%\b\b\b56%\b\b\b71%\b\b\b85%\b\b\b99%\b\b\bdone.\n",
      "--indep-pairwise (12 compute threads): 0%\b\b50%\b\b\b351150/460940 variants removed.\n",
      "Writing...\n",
      "Variant lists written to data/plink/host_geno_clean_PCA_keep.prune.in and\n",
      "data/plink/host_geno_clean_PCA_keep.prune.out .\n",
      "End time: Mon Aug 12 19:09:44 2019\n",
      "\n"
     ]
    }
   ],
   "source": [
    "path_keep = path_clean+'_PCA_keep'\n",
    "o, _ = run_plink('--indep-pairwise 50 10 0.1', file=path_clean, out=path_keep, extension=' ')\n",
    "print(o)"
   ]
  },
  {
   "cell_type": "code",
   "execution_count": 50,
   "metadata": {},
   "outputs": [
    {
     "name": "stdout",
     "output_type": "stream",
     "text": [
      "PLINK v1.90b6.10 64-bit (17 Jun 2019)          www.cog-genomics.org/plink/1.9/\n",
      "(C) 2005-2019 Shaun Purcell, Christopher Chang   GNU General Public License v3\n",
      "Note: --recode12 flag deprecated.  Use \"--recode 12 ...\".\n",
      "Logging to data/plink/host_geno_clean_PCA.log.\n",
      "Options in effect:\n",
      "  --bfile data/plink/host_geno_clean\n",
      "  --extract data/plink/host_geno_clean_PCA_keep.prune.in\n",
      "  --out data/plink/host_geno_clean_PCA\n",
      "  --recode 12\n",
      "\n",
      "64232 MB RAM detected; reserving 32116 MB for main workspace.\n",
      "460940 variants loaded from .bim file.\n",
      "612 people (0 males, 0 females, 612 ambiguous) loaded from .fam.\n",
      "Ambiguous sex IDs written to data/plink/host_geno_clean_PCA.nosex .\n",
      "--extract: 109790 variants remaining.\n",
      "Using 1 thread (no multithreaded calculations invoked).\n",
      "Before main variant filters, 612 founders and 0 nonfounders present.\n",
      "Calculating allele frequencies... 0%\b\b1%\b\b2%\b\b3%\b\b4%\b\b5%\b\b6%\b\b7%\b\b8%\b\b9%\b\b10%\b\b\b11%\b\b\b12%\b\b\b13%\b\b\b14%\b\b\b15%\b\b\b16%\b\b\b17%\b\b\b18%\b\b\b19%\b\b\b20%\b\b\b21%\b\b\b22%\b\b\b23%\b\b\b24%\b\b\b25%\b\b\b26%\b\b\b27%\b\b\b28%\b\b\b29%\b\b\b30%\b\b\b31%\b\b\b32%\b\b\b33%\b\b\b34%\b\b\b35%\b\b\b36%\b\b\b37%\b\b\b38%\b\b\b39%\b\b\b40%\b\b\b41%\b\b\b42%\b\b\b43%\b\b\b44%\b\b\b45%\b\b\b46%\b\b\b47%\b\b\b48%\b\b\b49%\b\b\b50%\b\b\b51%\b\b\b52%\b\b\b53%\b\b\b54%\b\b\b55%\b\b\b56%\b\b\b57%\b\b\b58%\b\b\b59%\b\b\b60%\b\b\b61%\b\b\b62%\b\b\b63%\b\b\b64%\b\b\b65%\b\b\b66%\b\b\b67%\b\b\b68%\b\b\b69%\b\b\b70%\b\b\b71%\b\b\b72%\b\b\b73%\b\b\b74%\b\b\b75%\b\b\b76%\b\b\b77%\b\b\b78%\b\b\b79%\b\b\b80%\b\b\b81%\b\b\b82%\b\b\b83%\b\b\b84%\b\b\b85%\b\b\b86%\b\b\b87%\b\b\b88%\b\b\b89%\b\b\b90%\b\b\b91%\b\b\b92%\b\b\b93%\b\b\b94%\b\b\b95%\b\b\b96%\b\b\b97%\b\b\b98%\b\b\b99%\b\b\b\b done.\n",
      "Total genotyping rate is 0.994553.\n",
      "109790 variants and 612 people pass filters and QC.\n",
      "Note: No phenotypes present.\n",
      "--recode ped to data/plink/host_geno_clean_PCA.ped +\n",
      "data/plink/host_geno_clean_PCA.map ... 0%\b\b1%\b\b2%\b\b3%\b\b4%\b\b5%\b\b6%\b\b7%\b\b8%\b\b9%\b\b10%\b\b\b11%\b\b\b12%\b\b\b13%\b\b\b14%\b\b\b15%\b\b\b16%\b\b\b17%\b\b\b18%\b\b\b19%\b\b\b20%\b\b\b21%\b\b\b22%\b\b\b23%\b\b\b24%\b\b\b25%\b\b\b26%\b\b\b27%\b\b\b28%\b\b\b29%\b\b\b30%\b\b\b31%\b\b\b32%\b\b\b33%\b\b\b34%\b\b\b35%\b\b\b36%\b\b\b37%\b\b\b38%\b\b\b39%\b\b\b40%\b\b\b41%\b\b\b42%\b\b\b43%\b\b\b44%\b\b\b45%\b\b\b46%\b\b\b47%\b\b\b48%\b\b\b49%\b\b\b50%\b\b\b51%\b\b\b52%\b\b\b53%\b\b\b54%\b\b\b55%\b\b\b56%\b\b\b57%\b\b\b58%\b\b\b59%\b\b\b60%\b\b\b61%\b\b\b62%\b\b\b63%\b\b\b64%\b\b\b65%\b\b\b66%\b\b\b67%\b\b\b68%\b\b\b69%\b\b\b70%\b\b\b71%\b\b\b72%\b\b\b73%\b\b\b74%\b\b\b75%\b\b\b76%\b\b\b77%\b\b\b78%\b\b\b79%\b\b\b80%\b\b\b81%\b\b\b82%\b\b\b83%\b\b\b84%\b\b\b85%\b\b\b86%\b\b\b87%\b\b\b88%\b\b\b89%\b\b\b90%\b\b\b91%\b\b\b92%\b\b\b93%\b\b\b94%\b\b\b95%\b\b\b96%\b\b\b97%\b\b\b98%\b\b\b99%\b\b\bdone.\n",
      "\n"
     ]
    }
   ],
   "source": [
    "path_pca = path_clean+'_PCA'\n",
    "o, _ = run_plink('--extract '+path_keep+'.prune.in --recode12', \n",
    "                 file=path_clean, out=path_pca,\n",
    "                 extension='ped', force=True, plink2=False)\n",
    "print(o)"
   ]
  },
  {
   "cell_type": "markdown",
   "metadata": {},
   "source": [
    "## Individual order from PED file"
   ]
  },
  {
   "cell_type": "code",
   "execution_count": 53,
   "metadata": {},
   "outputs": [
    {
     "name": "stdout",
     "output_type": "stream",
     "text": [
      "109790\n"
     ]
    }
   ],
   "source": [
    "f = open(path_pca+'.ped')\n",
    "ninds = 0\n",
    "ind_order = []\n",
    "for line in f:\n",
    "    ninds += 1\n",
    "    toks = line[:100].replace(' ', '\\t').split('\\t') #  for speed\n",
    "    fam_id = toks[0]\n",
    "    ind_id = toks[1]\n",
    "    ind_order.append('%s/%s' % (fam_id, ind_id))\n",
    "nsnps = (len(line.replace(' ', '\\t').split('\\t')) - 6) // 2\n",
    "print (nsnps)\n",
    "f.close()"
   ]
  },
  {
   "cell_type": "code",
   "execution_count": 54,
   "metadata": {},
   "outputs": [
    {
     "name": "stdout",
     "output_type": "stream",
     "text": [
      "(612, 109790)\n"
     ]
    }
   ],
   "source": [
    "pca_array = np.empty((ninds, nsnps), dtype=int)\n",
    "print(pca_array.shape)\n",
    "f = open(path_pca+'.ped')\n",
    "for ind, line in enumerate(f):\n",
    "    snps = line.replace(' ', '\\t').split('\\t')[6:]\n",
    "    for pos in range(len(snps) // 2):\n",
    "        a1 = int(snps[2 * pos])\n",
    "        a2 = int(snps[2 * pos])\n",
    "        my_code = a1 + a2 - 2\n",
    "        pca_array[ind, pos] = my_code\n",
    "f.close()\n",
    "#slow"
   ]
  },
  {
   "cell_type": "code",
   "execution_count": 56,
   "metadata": {},
   "outputs": [
    {
     "name": "stdout",
     "output_type": "stream",
     "text": [
      "write_binary(): successfully written in 'data/pca_array_test'\n"
     ]
    }
   ],
   "source": [
    "common.write_binary(path=setup.PATH_DATA+'pca_array_test', obj=pca_array)"
   ]
  },
  {
   "cell_type": "code",
   "execution_count": 61,
   "metadata": {},
   "outputs": [],
   "source": [
    "from sklearn.decomposition import PCA\n",
    "my_pca = PCA(n_components=8)\n",
    "pcs = my_pca.fit(pca_array)\n",
    "trans = my_pca.transform(pca_array)\n",
    "#Memory required"
   ]
  },
  {
   "cell_type": "code",
   "execution_count": 62,
   "metadata": {},
   "outputs": [
    {
     "name": "stdout",
     "output_type": "stream",
     "text": [
      "<class 'sklearn.decomposition.pca.PCA'>\n"
     ]
    }
   ],
   "source": [
    "print(type(pcs))"
   ]
  },
  {
   "cell_type": "code",
   "execution_count": 64,
   "metadata": {},
   "outputs": [
    {
     "data": {
      "image/png": "[encoded data removed]",
      "text/plain": [
       "<Figure size 432x288 with 1 Axes>"
      ]
     },
     "metadata": {
      "needs_background": "light"
     },
     "output_type": "display_data"
    },
    {
     "data": {
      "image/png": "[encoded data removed]",
      "text/plain": [
       "<Figure size 612.455x144 with 1 Axes>"
      ]
     },
     "metadata": {
      "needs_background": "light"
     },
     "output_type": "display_data"
    },
    {
     "data": {
      "image/png": "[encoded data removed]",
      "text/plain": [
       "<Figure size 168.887x144 with 1 Axes>"
      ]
     },
     "metadata": {
      "needs_background": "light"
     },
     "output_type": "display_data"
    },
    {
     "data": {
      "image/png": "[encoded data removed]",
      "text/plain": [
       "<Figure size 163.399x144 with 1 Axes>"
      ]
     },
     "metadata": {
      "needs_background": "light"
     },
     "output_type": "display_data"
    },
    {
     "data": {
      "image/png": "[encoded data removed]",
      "text/plain": [
       "<Figure size 159.872x144 with 1 Axes>"
      ]
     },
     "metadata": {
      "needs_background": "light"
     },
     "output_type": "display_data"
    }
   ],
   "source": [
    "common.plot_pca(pcs=pcs, pc_plot_height=2, scaled_only=True, n_plots=4)"
   ]
  },
  {
   "cell_type": "markdown",
   "metadata": {},
   "source": [
    "# Phenotypes and covariates\n",
    "\n",
    "## Phenotypes\n",
    "\n",
    "We now want to include some external phenotype data, i.e. the ones in the clinical data. From the [documentation of plink1.9](https://www.cog-genomics.org/plink/1.9/input#pheno) :\n",
    "> --pheno causes phenotype values to be read from the 3rd column of the specified **space- or tab-delimited file**, instead of the .fam or .ped file. The first and second columns of that file must contain family and within-family IDs, respectively.\n",
    ">\n",
    "> In combination with --pheno, --mpheno lets you use the (n+2)th column instead of the 3rd column, while --pheno-name lets you select a column by title. (In order to use --pheno-name, there must be a header row with first two entries 'FID' and 'IID'.)\n",
    "\n",
    "More documentation:\n",
    "> To specify an alternate phenotype for analysis, i.e. other than the one in the `*.ped` file (or, if using a binary fileset, the `*.fam` file), use the --pheno option\n",
    "> \n",
    "> If an individual is in the original file but not listed in the alternate phenotype file, that person's phenotype will be set to missing. If a person is in the alternate phenotype file but not in the original file, that entry will be ignored. The order of the alternate phenotype file need not be the same as for the original file. If the phenotype file contains more than one phenotype, then use the `--mpheno N` option to specify the Nth phenotype is the one to be used: \n",
    ">\n",
    "> Alternatively, your alternate phenotype file can have a header row, in which case you can use variable names to specify which phenotype to use. If you have a header row, the first two variables must be labelled FID and IID. All subsequent variable names cannot have any whitespace in them.\n",
    ">\n",
    "> Finally, if there is more than one phenotype, then for basic association tests, it is possible to specify that all phenotypes be tested, sequentiall [...]. You might want to use the `--pfilter` command in this case, to only report results with a p-value less than a certain value, e.g. `--pfilter 1e-3`.\n",
    ">\n",
    "> **Warning: Currently, all phenotypes must be numerically coded, including missing values, in the alternate phenotype file. The default missing value is -9, change this with `--missing-phenotype`, but it must be a numeric value still (in contrast to the main phenotype in the PED/FAM file).**\n",
    "\n",
    "### Create plink-readable file\n",
    "\n",
    "As shown above, the file should begin with a header row indicating the column names (we will want to select the phenotypes by their names). All entries must begin with FID and IID, but we can add any number of extra columns (at least 1). Values can be separated by (spaces or) *tabs*."
   ]
  },
  {
   "cell_type": "code",
   "execution_count": 34,
   "metadata": {},
   "outputs": [
    {
     "name": "stdout",
     "output_type": "stream",
     "text": [
      "Successfully written 'data/plink/pheno.txt'\n"
     ]
    }
   ],
   "source": [
    "# Create a phenotype file from the clinical DataFrame\n",
    "# Using custom function\n",
    "phenotype_columns = ['BASELINE_BMI']\n",
    "common.convert_to_plink_phenotype(path=setup.PATH_CLINICAL_DATA,\n",
    "                                  out=setup.PATH_CLINICAL_PLINK_PHENOTYPE,\n",
    "                                  id_col_name='IGM_ID', cols=phenotype_columns)"
   ]
  },
  {
   "cell_type": "markdown",
   "metadata": {},
   "source": [
    "## Covariates\n",
    "\n",
    "[Doc](http://zzz.bwh.harvard.edu/plink/data.shtml#covar): \n",
    "> The covariate file should be formatted in a similar manner to the phenotype file. If an individual is not present in the covariate file, or if the individual has a missing phenotype value (i.e. -9 by default) for the covariate, then that individual is set to missing (i.e. will be excluded from association analysis).\n",
    ">\n",
    "> To select a particular subset of covariates, use one of the following commands, which either use numbers or names (i.e. if a header row exists in the file), \n",
    ">         \n",
    ">        plink --file mydata --covar c.txt --covar-number 2,4-6,8 \n",
    ">        plink --file mydata --covar c.txt --covar-name AGE,BMI-SMOKE,ALC \n",
    ">\n",
    "> To output a new covariate file, possibly with categorical variables downcoded to binary dummy variables use the --write-covar option as described [here](http://zzz.bwh.harvard.edu/plink/dataman.shtml#wrtcov).\n",
    ">\n",
    "> *Note: Not all commands accept covariates, and PLINK will not always give you an error or warning. The basic association (--assoc, --mh, --model, --tdt, --dfam, and --qfam) do **not** accept covariates, neither do the basic haplotype association methods (--hap-assoc, --hap-tdt). Among the commands that do are --linear, --logistic, --chap and --proxy-glm. Also --gxe accepts a single covariate only (the others listed here accept multiple covariates).*"
   ]
  },
  {
   "cell_type": "code",
   "execution_count": null,
   "metadata": {},
   "outputs": [],
   "source": []
  },
  {
   "cell_type": "markdown",
   "metadata": {},
   "source": [
    "***\n",
    "***\n",
    "<br /><br /><br /><br /><br /><br /><br /><br /><br /><br /><br /><br /><br /><br /><br /><br /><br /><br /><br /><br /><br /><br /><br /><br /><br /><br /><br /><br /><br /><br />"
   ]
  }
 ],
 "metadata": {
  "kernelspec": {
   "display_name": "Python 3",
   "language": "python",
   "name": "python3"
  },
  "language_info": {
   "codemirror_mode": {
    "name": "ipython",
    "version": 3
   },
   "file_extension": ".py",
   "mimetype": "text/x-python",
   "name": "python",
   "nbconvert_exporter": "python",
   "pygments_lexer": "ipython3",
   "version": "3.6.5"
  }
 },
 "nbformat": 4,
 "nbformat_minor": 2
}
