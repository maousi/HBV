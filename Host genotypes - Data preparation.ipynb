{
 "cells": [
  {
   "cell_type": "code",
   "execution_count": 2,
   "metadata": {},
   "outputs": [],
   "source": [
    "# Warning: usually don't do this kind of inclusion : using *, you 'merge' the namespaces\n",
    "#          but in this case we actually want to mimic the imports as if they were imported here\n",
    "from src.setup import *\n",
    "\n",
    "from src.host import run_plink\n",
    "from src import host\n",
    "from src import common\n",
    "\n",
    "# This prevents to restart the kernel whenever an external file is edited\n",
    "%load_ext autoreload\n",
    "%autoreload 2\n",
    "\n",
    "# Comutation management\n",
    "DATA_THINNING = False"
   ]
  },
  {
   "cell_type": "markdown",
   "metadata": {},
   "source": [
    "# Introduction\n",
    "\n",
    "**14'738'460 variants, 622 people.**\n",
    "\n",
    "## Data processing plan\n",
    "\n",
    "### Preprocessing \n",
    "\n",
    "1. Data thinning (if `DATA_THINNING == True`)\n",
    "1. Create SNP map (SNP id and SNP position)\n",
    "\n",
    "### Filtering\n",
    "1. Remove missing values (variants)\n",
    "1. Remove missing values (individuals)\n",
    "1. Filter out rare variants and variants at Hardy-Weinberg disequilibrium\n",
    "\n",
    "## Computation and path management\n",
    "\n",
    "### Idea\n",
    "\n",
    "Sometimes we don't want to re-do all the computations if the resulting data is already calculated. The features provided below aim to easily manage the paths and the computations:\n",
    "1. A way of easily running shell commands\n",
    "1. A dedicated function to easily run plink commands on the shell\n",
    "1. A way of checking if the results already exist, and loading data if this is the case\n",
    "    * Unless we specifically specify to re-do the calculations.\n",
    "\n",
    "###### DOCUMENTATION \n",
    "\n",
    "Running shell commands and managing the outputs : https://janakiev.com/til/python-shell-commands/, https://www.pythonforbeginners.com/os/subprocess-for-system-administrators"
   ]
  },
  {
   "cell_type": "markdown",
   "metadata": {},
   "source": [
    "### General principle\n",
    "\n",
    "* `run_shell_command`: manage to run shell commands with a specific package (`subprocess`) that helps to manage the outputs. Returns a 2-tuple (stdout, stderr).\n",
    "* `run_plink`: manage plink version, binary files location, output location, display errors, check if results already exist.\n",
    "\n",
    "*NOTE: possible improvement: automatically find the file extension. Also, if the command results in several output files, we should check that all of them are present. So **be careful, we assume the user doesn't  only a fraction of the output files**.*\n",
    "\n",
    "###### Workflow\n",
    "1. Call `run_plink` command with the specific command (e.g. `--freq`), the input, the output and the file extension to look for (to avoid re-doing the computations). \n",
    "1. The function checks if the result already exist (needs the output and the extension resulting from the command)\n",
    "    * already exists: display a message, abort the process (returns 2-tuple of empty strings). This occurs if `force==False` (which is the default value).\n",
    "1. The command is runned with plink2 by default\n",
    "1. The error messages are displayed (by default, `verbose_err=True`)\n",
    "1. The outputs are returned as a tuple (stdout, stderr)\n",
    "\n",
    "###### Modify behaviour\n",
    "\n",
    "Change the boolean value defined in the first cell of this notebook."
   ]
  },
  {
   "cell_type": "markdown",
   "metadata": {},
   "source": [
    "### Path management"
   ]
  },
  {
   "cell_type": "code",
   "execution_count": 7,
   "metadata": {},
   "outputs": [],
   "source": [
    "path_raw = PATH_HOST_RAW_PLINK_DATA\n",
    "path_out = PATH_PLINK_DATA\n",
    "file_prefix = 'host_geno'\n",
    "\n",
    "if not os.path.exists(PATH_PLINK_LOG):\n",
    "    os.system('mkdir '+PATH_PLINK_LOG)\n",
    "    print(\"Created the directory\", PATH_PLINK_LOG)"
   ]
  },
  {
   "cell_type": "markdown",
   "metadata": {},
   "source": [
    "## Overview on raw data\n",
    "\n",
    "### Files"
   ]
  },
  {
   "cell_type": "code",
   "execution_count": 3,
   "metadata": {},
   "outputs": [
    {
     "name": "stdout",
     "output_type": "stream",
     "text": [
      "total 6.6G\r\n",
      "-rwxr-xr-x 1 mazeller SV-BA4-unit  245  9 aoû 16:11 dictionary_wes_vcf.txt\r\n",
      "-rw-r--r-- 1 mazeller SV-BA4-unit 2.2G 13 aoû 15:09 hbv_gilead_bcftools.bed\r\n",
      "-rw-r--r-- 1 mazeller SV-BA4-unit 431M 13 aoû 15:09 hbv_gilead_bcftools.bim\r\n",
      "-rw-r--r-- 1 mazeller SV-BA4-unit  18K 13 aoû 15:09 hbv_gilead_bcftools.fam\r\n",
      "-rwxr-xr-x 1 mazeller SV-BA4-unit 2.2G  9 aoû 16:11 hbv_gilead.bed\r\n",
      "-rwxr-xr-x 1 mazeller SV-BA4-unit 431M  9 aoû 16:11 hbv_gilead.bim\r\n",
      "-rwxr-xr-x 1 mazeller SV-BA4-unit  18K  9 aoû 16:11 hbv_gilead.fam\r\n",
      "-rw-r--r-- 1 mazeller SV-BA4-unit 1.4G 11 aoû 01:59 hbv_gilead.frq\r\n",
      "-rw-r--r-- 1 mazeller SV-BA4-unit  930 11 aoû 01:59 hbv_gilead.log\r\n",
      "-rw-r--r-- 1 mazeller SV-BA4-unit  13K 11 aoû 01:59 hbv_gilead.nosex\r\n",
      "-rw-r--r-- 1 mazeller SV-BA4-unit  677 11 aoû 17:56 hbv_gilead_validate.log\r\n"
     ]
    }
   ],
   "source": [
    "path = PATH_HOST_RAW_DATA\n",
    "!ls -lh $path"
   ]
  },
  {
   "cell_type": "markdown",
   "metadata": {},
   "source": [
    "Those are **plink binary files**. "
   ]
  },
  {
   "cell_type": "markdown",
   "metadata": {},
   "source": [
    "### Dictionnary of the data"
   ]
  },
  {
   "cell_type": "code",
   "execution_count": 4,
   "metadata": {},
   "outputs": [
    {
     "name": "stdout",
     "output_type": "stream",
     "text": [
      "Info about WES_VCF by Ondrej.Podlaha@gilead.com on Dec 12 2018.\r\n",
      "\r\n",
      "1. Human reference genome: GRCh37.87\r\n",
      "2. Variant calling was performed using GATK (version nightly-2016-08-27-g667f78b; HaplotypeCaller)\r\n",
      "3. dbSNP v138 was used by HaplotypeCaller\r\n",
      " \r\n"
     ]
    }
   ],
   "source": [
    "!cat $path/dictionary_wes_vcf.txt"
   ]
  },
  {
   "cell_type": "markdown",
   "metadata": {},
   "source": [
    "### Data integrity\n"
   ]
  },
  {
   "cell_type": "code",
   "execution_count": 5,
   "metadata": {},
   "outputs": [
    {
     "name": "stdout",
     "output_type": "stream",
     "text": [
      "run_plink: command '--validate', the file 'data/plink/host_geno_validate.log' already exists (force is set to False).\n",
      "PLINK v2.00a2LM 64-bit Intel (31 Jul 2019)     www.cog-genomics.org/plink/2.0/\r\n",
      "(C) 2005-2019 Shaun Purcell, Christopher Chang   GNU General Public License v3\r\n",
      "Logging to data/plink/host_geno_validate.log.\r\n",
      "Options in effect:\r\n",
      "  --bfile data/raw/wes_plink/hbv_gilead_bcftools\r\n",
      "  --out data/plink/host_geno_validate\r\n",
      "  --validate\r\n",
      "\r\n",
      "Start time: Tue Aug 13 17:31:45 2019\r\n",
      "64232 MiB RAM detected; reserving 32116 MiB for main workspace.\r\n",
      "Using up to 16 threads (change this with --threads).\r\n",
      "622 samples (0 females, 0 males, 622 ambiguous; 622 founders) loaded from\r\n",
      "data/raw/wes_plink/hbv_gilead_bcftools.fam.\r\n",
      "14738460 variants loaded from data/raw/wes_plink/hbv_gilead_bcftools.bim.\r\n",
      "Validating data/raw/wes_plink/hbv_gilead_bcftools.bed... done.\r\n",
      "End time: Tue Aug 13 17:31:51 2019\r\n"
     ]
    }
   ],
   "source": [
    "run_plink('--validate', file=path_raw, out=path_out+file_prefix+'_validate', \n",
    "               extension='log', log_name='validate')\n",
    "!cat $PATH_PLINK_LOG'validate.log'"
   ]
  },
  {
   "cell_type": "markdown",
   "metadata": {},
   "source": [
    "## .bim file\n",
    "\n",
    "This is an extended .map file, \n",
    "1. Chromosode code\n",
    "1. Variant id (SNP)\n",
    "1. Position in centimorgan\n",
    "1. Baise-pair coordinate\n",
    "1. ALT allele code\n",
    "1. REF allele code"
   ]
  },
  {
   "cell_type": "code",
   "execution_count": 6,
   "metadata": {},
   "outputs": [
    {
     "name": "stdout",
     "output_type": "stream",
     "text": [
      "1\trs779258992\t0\t10146\tA\tAC\r\n",
      "1\t1:10400:C:T\t0\t10400\tT\tC\r\n",
      "1\trs55998931\t0\t10492\tT\tC\r\n",
      "1\trs58108140\t0\t10583\tA\tG\r\n",
      "1\trs376342519\t0\t10616\tC\tCCGCCGTTGCAAAGGCGCGCCG\r\n",
      "1\t1:13012:A:G\t0\t13012\tA\tG\r\n",
      "1\t1:13054:C:T\t0\t13054\tT\tC\r\n",
      "1\t1:13250:G:T\t0\t13250\tT\tG\r\n",
      "1\trs531730856\t0\t13273\tC\tG\r\n",
      "1\trs538791886\t0\t13289\tC\tCCT\r\n"
     ]
    }
   ],
   "source": [
    "!head -10 $path_raw'.bim'"
   ]
  },
  {
   "cell_type": "markdown",
   "metadata": {},
   "source": [
    "## Arbitrary thinning of the data\n",
    "\n",
    "We use the plink2 `--thin <p>` option to **reduce the amount of data** (keep entries with probability p). We'll make sure that the code runs first. When everything works, we can simply set `DATA_THINNING = False`.\n",
    "\n",
    "Management of the **data being taken into account**: we simply put `path_raw` to target the reduced data."
   ]
  },
  {
   "cell_type": "code",
   "execution_count": 7,
   "metadata": {
    "scrolled": true
   },
   "outputs": [],
   "source": [
    "# We change the default raw data for subsequent analyses\n",
    "if DATA_THINNING == True :\n",
    "    file_prefix = 'host_reduced'\n",
    "    run_plink(\"--thin 0.001 --make-bed\", file=path_raw, out=path_out+file_prefix, \n",
    "              extension='bed', log_name='thinning')\n",
    "    path_raw = path_out+file_prefix"
   ]
  },
  {
   "cell_type": "markdown",
   "metadata": {},
   "source": [
    "## Note on plink\n",
    "\n",
    "| Feature | Summary statistic | Inclusion criteria  |\n",
    "|----------------------------|-----------|-----------|\n",
    "| Missingness per individual | --missing | --mind N  |\n",
    "| Missingness per marker     | --missing | --geno N  |\n",
    "| Allele frequency           | --freq    | --maf N   |\n",
    "| Hardy-Weinberg equilibrium | --hardy   | --hwe     |\n",
    "| Mendel error rates         | --mendel  |  --me N M |"
   ]
  },
  {
   "cell_type": "markdown",
   "metadata": {},
   "source": [
    "# SNP map generation\n",
    "\n",
    "We create a Python dictionnary object and store it to easily convert the SNP references to their genome location. Those information are extracted from the `.bim` file.\n"
   ]
  },
  {
   "cell_type": "code",
   "execution_count": 8,
   "metadata": {},
   "outputs": [
    {
     "name": "stdout",
     "output_type": "stream",
     "text": [
      "manage_pickle: the file 'data/SNP_dict' has been loaded\n"
     ]
    }
   ],
   "source": [
    "# Create dictionnary\n",
    "# Use custom manage_pickle function from common.py\n",
    "def create_dict() :\n",
    "    # Create DataFrame from .bim file\n",
    "    df_bim = pd.read_csv(path_raw+'.bim', sep='\\s+', header=None,\n",
    "                         usecols=[0, 1, 3])\n",
    "    df_bim.columns = ['#CHROM', 'SNP', 'COORD']\n",
    "    print(df_bim.head(1))\n",
    "    return dict(zip(df_bim['SNP'], df_bim['COORD']))\n",
    "\n",
    "SNP_dic = common.manage_pickle(path=PATH_SNP_MAP, fun=create_dict)"
   ]
  },
  {
   "cell_type": "markdown",
   "metadata": {},
   "source": [
    "# Missing values \n",
    "\n",
    "`.smiss` for sample-based missing data report:\n",
    "* MISSING_CT: Number of missing hardcalls, not counting het haploids\n",
    "* OBS_CT = Denominator (#males on chrY, otherwise #samples)\n",
    "* F_MISS = Missing hardcall rate, not counting het haploids\n",
    "\n",
    "###### Pandas - memory efficiency\n",
    "\n",
    "When reading big files, one must provide to `pandas.read_csv` a map of the data types that are read to improve the memory usage:\n"
   ]
  },
  {
   "cell_type": "code",
   "execution_count": 75,
   "metadata": {},
   "outputs": [],
   "source": [
    "dtype = {'F_MISS':float, 'ID':str, '#CHROM':str}"
   ]
  },
  {
   "cell_type": "markdown",
   "metadata": {},
   "source": [
    "###### Run plink missing report"
   ]
  },
  {
   "cell_type": "code",
   "execution_count": 81,
   "metadata": {},
   "outputs": [
    {
     "name": "stdout",
     "output_type": "stream",
     "text": [
      "Running 'plink2 --bfile data/raw/wes_plink/hbv_gilead_bcftools --out data/plink/host_geno_clean_missing --missing '\n",
      "Log written to 'data/plink/log/missing.log'\n"
     ]
    }
   ],
   "source": [
    "path_missing = path_out+file_prefix+'_missing'\n",
    "o,e = run_plink(\"--missing\", file=path_raw, out=path_missing, \n",
    "                extension='vmiss', log_name='missing', force=True)\n",
    "df_miss_ind = pd.read_csv(path_missing+'.smiss', sep='\\s+', \n",
    "                          usecols=['F_MISS'], dtype=dtype)\n",
    "df_miss_var = pd.read_csv(path_missing+'.vmiss', sep='\\s+', \n",
    "                          usecols=['#CHROM', 'ID', 'F_MISS'], dtype=dtype)"
   ]
  },
  {
   "cell_type": "markdown",
   "metadata": {},
   "source": [
    "###### Plot function"
   ]
  },
  {
   "cell_type": "code",
   "execution_count": 82,
   "metadata": {},
   "outputs": [],
   "source": [
    "def plot_missing(df_ind, df_var):\n",
    "    fig, ax = plt.subplots(1, 2, figsize=(15, 3))\n",
    "    sns.distplot(df_ind['F_MISS'], norm_hist=False, kde=False, ax=ax[0])\n",
    "    ax[0].set_ylabel('number of individuals'); ax[0].set_xlabel('rate of missing variants');\n",
    "    sns.distplot(df_var.F_MISS.dropna(), kde=False, norm_hist=False, ax=ax[1])\n",
    "    ax[1].set_xlabel('rate of missing individuals'); ax[1].set_ylabel('number of variants');"
   ]
  },
  {
   "cell_type": "markdown",
   "metadata": {},
   "source": [
    "We compute the rate of missing variants for each individual (this tells us about how to filter individuals out). We also plot the rate of missing individuals for each variants (this tells us about how to filter individuals out)."
   ]
  },
  {
   "cell_type": "code",
   "execution_count": 83,
   "metadata": {},
   "outputs": [
    {
     "name": "stdout",
     "output_type": "stream",
     "text": [
      "75.2% variants with missing rate of 100%\n"
     ]
    },
    {
     "data": {
      "image/png": "[encoded data removed]",
      "text/plain": [
       "<Figure size 1080x216 with 2 Axes>"
      ]
     },
     "metadata": {
      "needs_background": "light"
     },
     "output_type": "display_data"
    }
   ],
   "source": [
    "plot_missing(df_miss_ind, df_miss_var)\n",
    "only_missing = df_miss_var.F_MISS[df_miss_var.F_MISS == 1.0].index\n",
    "print(\"{:.3}% variants with missing rate of 100%\"\n",
    "      .format(len(only_missing)/df_miss_var.shape[0]*100))"
   ]
  },
  {
   "cell_type": "markdown",
   "metadata": {},
   "source": [
    "###### First report of missing values\n",
    "\n",
    "Looking at the plot on the right, we see the many variants have 100% of missing individuals. This is expected since the raw data has changed from the beginning. The provided data is now more adapted to exome sequencing data, where variants of poor sequencing quality (ex some intronic regions that are close to exonic regions) have been set to only missing values for each individual. \n",
    "\n",
    "This allows us to remove variants with 100% missingness before looking at the NaN's again, since missingness is biased here by those bad quality variants."
   ]
  },
  {
   "cell_type": "markdown",
   "metadata": {},
   "source": [
    "## Intermediate data\n",
    "\n",
    "We first make a new look at the missing report *after* removing variants with 100% missingness (we can't simply drop the variants in the DataFrame since the plot of showing the rate of missing variants per individuals would be biased, we have to run the plink missing report again).\n",
    "\n",
    "*Note: we actually would like to run `--geno 1.0`, but plink tests if the missingness is greater than the provided value (and not greater or equal). Thus we provide a value that is very close to 1.0.*"
   ]
  },
  {
   "cell_type": "code",
   "execution_count": 84,
   "metadata": {},
   "outputs": [
    {
     "name": "stdout",
     "output_type": "stream",
     "text": [
      "Running 'plink2 --bfile data/raw/wes_plink/hbv_gilead_bcftools --out data/plink/host_geno_clean_intermed --geno 0.999999999 --make-bed '\n"
     ]
    }
   ],
   "source": [
    "path_intermed=path_out+file_prefix+'_intermed'\n",
    "o, e= run_plink('--geno 0.999999999 --make-bed', file=path_raw, out=path_intermed,\n",
    "         extension='bed', force=True);"
   ]
  },
  {
   "cell_type": "markdown",
   "metadata": {},
   "source": [
    "The log reports 3'661'936 remaining variants (11'076'524 removed).\n",
    "\n",
    "## New plink missing report\n",
    "\n",
    "At this point we have a dataset in which there is no variant with 100% missingness. We want to have an unbiased look at this new dataset:"
   ]
  },
  {
   "cell_type": "code",
   "execution_count": 76,
   "metadata": {},
   "outputs": [
    {
     "name": "stdout",
     "output_type": "stream",
     "text": [
      "Running 'plink2 --bfile data/plink/host_geno_intermed --out data/plink/host_geno_clean_missing --missing '\n",
      "Log written to 'data/plink/log/missing.log'\n"
     ]
    },
    {
     "data": {
      "image/png": "[encoded data removed]",
      "text/plain": [
       "<Figure size 1080x216 with 2 Axes>"
      ]
     },
     "metadata": {
      "needs_background": "light"
     },
     "output_type": "display_data"
    }
   ],
   "source": [
    "o,e = run_plink(\"--missing\", file=path_intermed, out=path_missing, \n",
    "                extension='vmiss', log_name='missing', force=True)\n",
    "df_miss_ind = pd.read_csv(path_missing+'.smiss', sep='\\s+', \n",
    "                          usecols=['F_MISS'], dtype=dtype)\n",
    "df_miss_var = pd.read_csv(path_missing+'.vmiss', sep='\\s+', \n",
    "                          usecols=['#CHROM', 'ID', 'F_MISS'], dtype=dtype)\n",
    "plot_missing(df_miss_ind, df_miss_var)"
   ]
  },
  {
   "cell_type": "markdown",
   "metadata": {},
   "source": [
    "##### Report\n",
    "\n",
    "If we carefully look at the plot on the left, we reassuringly observe that the histogram was **heavily shifted to the left** - i.e. to lower missing rates. This is expected since the raw data had many fully missing variants, which increased the missing rate of variants per individual. "
   ]
  },
  {
   "cell_type": "markdown",
   "metadata": {},
   "source": [
    "### Median missingness per chromosome"
   ]
  },
  {
   "cell_type": "code",
   "execution_count": 36,
   "metadata": {},
   "outputs": [
    {
     "data": {
      "image/png": "[encoded data removed]",
      "text/plain": [
       "<Figure size 432x288 with 1 Axes>"
      ]
     },
     "metadata": {
      "needs_background": "light"
     },
     "output_type": "display_data"
    }
   ],
   "source": [
    "df_miss_chr = df_miss_var[['#CHROM', 'F_MISS']].groupby('#CHROM').median()\n",
    "sns.boxenplot(x='#CHROM', y='F_MISS', data=df_miss_var,\n",
    "             order=df_miss_chr.sort_values(by='F_MISS').index);"
   ]
  },
  {
   "cell_type": "markdown",
   "metadata": {},
   "source": [
    "## Investigate missingness patterns w.r.t. some clinical variables\n",
    "\n",
    "We want to make sure there are no patterns among variables such as sex, race, ... \n",
    "\n",
    "<br />\n",
    "\n",
    "**TO BE DONE**"
   ]
  },
  {
   "cell_type": "markdown",
   "metadata": {},
   "source": [
    "## Final missingness processing\n",
    "\n",
    "Note: we need to separately filter missingness by individual and by variant, since plink first removes individuals (and we don't want that). Thus we first create a dataset with `--geno`, then with `--mind`."
   ]
  },
  {
   "cell_type": "code",
   "execution_count": 8,
   "metadata": {},
   "outputs": [],
   "source": [
    "# Managing paths and files\n",
    "file_prefix = file_prefix + '_clean'\n",
    "path_clean = path_out+file_prefix\n",
    "path_clean_variants = path_clean+'_var'\n",
    "path_clean_ind = path_clean+'_ind'"
   ]
  },
  {
   "cell_type": "code",
   "execution_count": 85,
   "metadata": {},
   "outputs": [
    {
     "name": "stdout",
     "output_type": "stream",
     "text": [
      "run_plink: command '--geno 0.01 --make-bed', the file 'data/plink/host_geno_clean_var.bed' already exists (force is set to False).\n",
      "run_plink: command '--mind 0.1 --make-bed', the file 'data/plink/host_geno_clean_ind.bed' already exists (force is set to False).\n",
      "run_plink: command '--missing', the file 'data/plink/host_geno_clean_ind.vmiss' already exists (force is set to False).\n"
     ]
    }
   ],
   "source": [
    "run_plink('--geno ' + str(THRESHOLD_MISSING_VARIANTS) + ' --make-bed', file=path_intermed, \n",
    "          out=path_clean_variants, extension='bed', log_name='filter_variants');\n",
    "run_plink('--mind ' + str(THRESHOLD_MISSING_INDIVIDUALS) + ' --make-bed', \n",
    "          file=path_clean_variants, \n",
    "          out=path_clean_ind, extension='bed', log_name='filter_individuals');\n",
    "run_plink('--missing', file=path_clean_ind, out=path_clean_ind,\n",
    "         extension='vmiss', log_name='missing_final')\n",
    "df_miss_ind = pd.read_csv(path_clean_ind+'.smiss', sep='\\s+', \n",
    "                          usecols=['F_MISS'], dtype=dtype)\n",
    "df_miss_var = pd.read_csv(path_clean_ind+'.vmiss', sep='\\s+', \n",
    "                          usecols=['#CHROM', 'ID', 'F_MISS'], dtype=dtype)"
   ]
  },
  {
   "cell_type": "code",
   "execution_count": 86,
   "metadata": {},
   "outputs": [
    {
     "data": {
      "image/png": "[encoded data removed]",
      "text/plain": [
       "<Figure size 1080x216 with 2 Axes>"
      ]
     },
     "metadata": {
      "needs_background": "light"
     },
     "output_type": "display_data"
    }
   ],
   "source": [
    "plot_missing(df_miss_ind, df_miss_var)\n",
    "# Free memory\n",
    "df_miss_ind = None\n",
    "df_miss_var = None"
   ]
  },
  {
   "cell_type": "markdown",
   "metadata": {},
   "source": [
    "The last log reports 676'575 remaining variants. "
   ]
  },
  {
   "cell_type": "markdown",
   "metadata": {},
   "source": [
    "# Minor allele frequencies\n",
    "\n",
    "## plink1.9 report\n",
    "\n",
    "* A1: minor allele (usually)\n",
    "* A2: major allele (usually)\n",
    "* MAF: frequency of A1"
   ]
  },
  {
   "cell_type": "code",
   "execution_count": 9,
   "metadata": {},
   "outputs": [
    {
     "name": "stdout",
     "output_type": "stream",
     "text": [
      "run_plink: command '--freq', the file 'data/plink/host_geno_clean_ind.frq' already exists (force is set to False).\n"
     ]
    },
    {
     "data": {
      "image/png": "[encoded data removed]",
      "text/plain": [
       "<Figure size 432x288 with 1 Axes>"
      ]
     },
     "metadata": {
      "needs_background": "light"
     },
     "output_type": "display_data"
    }
   ],
   "source": [
    "path_freq = path_clean_ind\n",
    "run_plink('--freq', extension='frq', file=path_clean_ind, \n",
    "          out=path_clean_ind, plink2=False, log_name='freq_plink1');\n",
    "df_freq = pd.read_csv(path_freq+\".frq\", sep=\"\\s+\")\n",
    "df_freq.head(1)\n",
    "sns.distplot(df_freq.MAF.dropna(), kde=False);"
   ]
  },
  {
   "cell_type": "code",
   "execution_count": 51,
   "metadata": {},
   "outputs": [
    {
     "name": "stdout",
     "output_type": "stream",
     "text": [
      "Percentage of variants to drop for different frequency thresholds:\n",
      "0.1\t86.9%\n",
      "0.05\t84.5%\n",
      "0.01\t78.6%\n",
      "0.005\t74.7%\n"
     ]
    }
   ],
   "source": [
    "frequencies = [0.1, 0.05, 0.01, 0.005]\n",
    "print(\"Percentage of variants to drop for different frequency thresholds:\")\n",
    "N = len(df_freq.MAF)\n",
    "for f in frequencies :\n",
    "    variants = df_freq.MAF[df_freq.MAF < f]\n",
    "    print(\"{}\\t{:.3}%\".format(f, len(variants)/N*100))"
   ]
  },
  {
   "cell_type": "markdown",
   "metadata": {},
   "source": [
    "## plink2 report"
   ]
  },
  {
   "cell_type": "code",
   "execution_count": 3,
   "metadata": {},
   "outputs": [],
   "source": [
    "dtype={'#CHROM':str, 'ID':str, 'REF':str, 'ALT':str, 'ALT_FREQS':float, 'OBS_CT':int}"
   ]
  },
  {
   "cell_type": "code",
   "execution_count": 11,
   "metadata": {},
   "outputs": [
    {
     "name": "stdout",
     "output_type": "stream",
     "text": [
      "run_plink: command '--freq', the file 'data/plink/host_geno_clean_ind.afreq' already exists (force is set to False).\n"
     ]
    },
    {
     "data": {
      "image/png": "[encoded data removed]",
      "text/plain": [
       "<Figure size 432x288 with 1 Axes>"
      ]
     },
     "metadata": {
      "needs_background": "light"
     },
     "output_type": "display_data"
    }
   ],
   "source": [
    "path_freq = path_clean_ind\n",
    "run_plink('--freq', extension='afreq', file=path_clean_ind, out=path_freq, log_name='freq_plink2');\n",
    "df_freq = pd.read_csv(path_freq+\".afreq\", sep=\"\\s+\", dtype=dtype)\n",
    "sns.distplot(df_freq.ALT_FREQS.dropna(), kde=False, norm_hist=True);"
   ]
  },
  {
   "cell_type": "code",
   "execution_count": 54,
   "metadata": {},
   "outputs": [],
   "source": [
    "df_freq = None"
   ]
  },
  {
   "cell_type": "markdown",
   "metadata": {},
   "source": [
    "# Hardy-Weinberg equilibrium\n",
    "\n",
    "* A1: Tested allele\n",
    "* AX: Non-A1 alleles (comma-separated)\n",
    "* HOM_A1_CT: Homozygous-A1 genotype count\n",
    "* HET_A1_CT: Heterozygous-A1 genotype count\n",
    "* TWO_AX_CT: number of NONmissing calls with no A1 copies\n",
    "* O(HET_A1): Observed heterozygous-major frequency\n",
    "* E(HET_A1): Expected heterozygous-major frequency\n",
    "* P: Hardy-Weinberg equilibrium exact test p-value"
   ]
  },
  {
   "cell_type": "code",
   "execution_count": 55,
   "metadata": {},
   "outputs": [
    {
     "name": "stdout",
     "output_type": "stream",
     "text": [
      "Running 'plink2 --bfile data/plink/host_geno_clean_ind --out data/plink/host_geno_clean_ind_hardy --hardy '\n",
      "Log written to 'data/plink/log/hardy.log'\n"
     ]
    }
   ],
   "source": [
    "path_hardy = path_clean_ind+'_hardy'\n",
    "run_plink('--hardy', file=path_clean_ind, out=path_hardy, \n",
    "          extension='hardy', log_name='hardy');"
   ]
  },
  {
   "cell_type": "code",
   "execution_count": 56,
   "metadata": {},
   "outputs": [
    {
     "data": {
      "text/html": [
       "<div>\n",
       "<style scoped>\n",
       "    .dataframe tbody tr th:only-of-type {\n",
       "        vertical-align: middle;\n",
       "    }\n",
       "\n",
       "    .dataframe tbody tr th {\n",
       "        vertical-align: top;\n",
       "    }\n",
       "\n",
       "    .dataframe thead th {\n",
       "        text-align: right;\n",
       "    }\n",
       "</style>\n",
       "<table border=\"1\" class=\"dataframe\">\n",
       "  <thead>\n",
       "    <tr style=\"text-align: right;\">\n",
       "      <th></th>\n",
       "      <th>#CHROM</th>\n",
       "      <th>ID</th>\n",
       "      <th>A1</th>\n",
       "      <th>AX</th>\n",
       "      <th>HOM_A1_CT</th>\n",
       "      <th>HET_A1_CT</th>\n",
       "      <th>TWO_AX_CT</th>\n",
       "      <th>O(HET_A1)</th>\n",
       "      <th>E(HET_A1)</th>\n",
       "      <th>P</th>\n",
       "    </tr>\n",
       "  </thead>\n",
       "  <tbody>\n",
       "    <tr>\n",
       "      <th>0</th>\n",
       "      <td>1</td>\n",
       "      <td>1:14773:C:T</td>\n",
       "      <td>C</td>\n",
       "      <td>T</td>\n",
       "      <td>607</td>\n",
       "      <td>3</td>\n",
       "      <td>0</td>\n",
       "      <td>0.004918</td>\n",
       "      <td>0.004906</td>\n",
       "      <td>1.0</td>\n",
       "    </tr>\n",
       "    <tr>\n",
       "      <th>1</th>\n",
       "      <td>1</td>\n",
       "      <td>rs571121669</td>\n",
       "      <td>C</td>\n",
       "      <td>T</td>\n",
       "      <td>605</td>\n",
       "      <td>4</td>\n",
       "      <td>0</td>\n",
       "      <td>0.006568</td>\n",
       "      <td>0.006547</td>\n",
       "      <td>1.0</td>\n",
       "    </tr>\n",
       "    <tr>\n",
       "      <th>2</th>\n",
       "      <td>1</td>\n",
       "      <td>rs201013861</td>\n",
       "      <td>G</td>\n",
       "      <td>A</td>\n",
       "      <td>609</td>\n",
       "      <td>1</td>\n",
       "      <td>0</td>\n",
       "      <td>0.001639</td>\n",
       "      <td>0.001638</td>\n",
       "      <td>1.0</td>\n",
       "    </tr>\n",
       "  </tbody>\n",
       "</table>\n",
       "</div>"
      ],
      "text/plain": [
       "   #CHROM           ID A1 AX  HOM_A1_CT  HET_A1_CT  TWO_AX_CT  O(HET_A1)  \\\n",
       "0       1  1:14773:C:T  C  T        607          3          0   0.004918   \n",
       "1       1  rs571121669  C  T        605          4          0   0.006568   \n",
       "2       1  rs201013861  G  A        609          1          0   0.001639   \n",
       "\n",
       "   E(HET_A1)    P  \n",
       "0   0.004906  1.0  \n",
       "1   0.006547  1.0  \n",
       "2   0.001638  1.0  "
      ]
     },
     "execution_count": 56,
     "metadata": {},
     "output_type": "execute_result"
    }
   ],
   "source": [
    "df_hardy = pd.read_csv(path_hardy+'.hardy', sep=\"\\s+\")\n",
    "df_hardy.head(3)"
   ]
  },
  {
   "cell_type": "code",
   "execution_count": 57,
   "metadata": {},
   "outputs": [
    {
     "data": {
      "image/png": "[encoded data removed]",
      "text/plain": [
       "<Figure size 864x216 with 2 Axes>"
      ]
     },
     "metadata": {
      "needs_background": "light"
     },
     "output_type": "display_data"
    }
   ],
   "source": [
    "fig, ax = plt.subplots(1, 2, figsize=(12, 3))\n",
    "sns.distplot(df_hardy.P, kde=False, ax=ax[0])\n",
    "ax[0].set_xlabel('Hardy-Weinberg p-val');\n",
    "\n",
    "sns.distplot(df_hardy.P[df_hardy.P <= 0.05], kde=False, ax=ax[1])\n",
    "ax[1].set_xlabel('Hardy-Weinberg p-val');"
   ]
  },
  {
   "cell_type": "code",
   "execution_count": 59,
   "metadata": {
    "scrolled": true
   },
   "outputs": [],
   "source": [
    "#df_hardy['COORD'] = df_hardy.ID.map(SNP_dic)\n",
    "#sns.scatterplot(x=df_hardy.COORD, y=df_hardy.P);"
   ]
  },
  {
   "cell_type": "markdown",
   "metadata": {},
   "source": [
    "# Mendelian error rates\n",
    "\n",
    "[Quote](http://zzz.bwh.harvard.edu/plink/summary.shtml#mendel):\n",
    "> The `*.mendel` file contains all Mendel errors (i.e. one line per error); the `*.imendel` file contains a summary of per-individual error rates; the `*.fmendel` file contains a summary of per-family error rates; the `*.lmendel` file contains a summary of per-SNP error rates. "
   ]
  },
  {
   "cell_type": "code",
   "execution_count": 60,
   "metadata": {},
   "outputs": [
    {
     "name": "stdout",
     "output_type": "stream",
     "text": [
      "Running 'plink --bfile data/plink/host_geno_clean_ind --out data/plink/host_geno_clean_ind --mendel '\n",
      "Warning: Nonmissing nonmale Y chromosome genotype(s) present; many commands\n",
      "treat these as missing.\n",
      "Warning: Skipping --me/--mendel since there are no trios.\n",
      "\n"
     ]
    }
   ],
   "source": [
    "run_plink(\"--mendel\", extension='mendel', file=path_clean_ind,\n",
    "          out=path_clean_ind, plink2=False, log_name='mendel');"
   ]
  },
  {
   "cell_type": "markdown",
   "metadata": {},
   "source": [
    "Since there are **no trio**, there isn't any mendelian error rate to compute."
   ]
  },
  {
   "cell_type": "markdown",
   "metadata": {},
   "source": [
    "# Filter MAF and variants in HW disequilibrium\n",
    "\n",
    "After this last step of filtering, we want to target to `path_clean`."
   ]
  },
  {
   "cell_type": "code",
   "execution_count": 62,
   "metadata": {},
   "outputs": [
    {
     "name": "stdout",
     "output_type": "stream",
     "text": [
      "Running 'plink2 --bfile data/plink/host_geno_clean_ind --out data/plink/host_geno_clean --maf 0.01 --hwe 1e-6 --make-bed '\n",
      "Log written to 'data/plink/log/filter_maf_hardy.log'\n"
     ]
    }
   ],
   "source": [
    "run_plink(\"--maf 0.01 --hwe 1e-6 --make-bed\", file=path_clean_ind, out=path_clean,\n",
    "          extension='bim', force=True, log_name='filter_maf_hardy');"
   ]
  },
  {
   "cell_type": "markdown",
   "metadata": {},
   "source": [
    "# PCA pre-processing\n",
    "\n",
    "## Find intersecting individuals\n",
    "\n",
    "We first want to include only individuals that are in all the three datasets. We run the custom function `common.find_individuals`. We'll later use the command `--keep-fam <file>` of plink to filter the individuals. We could actually use `--keep <file>`, but in our case those two ids are the same (and the file for the former option has to have two columns).\n",
    "\n",
    "[Quote](https://www.cog-genomics.org/plink/1.9/filter):\n",
    "> --keep accepts a space/tab-delimited text file with family IDs in the first column and within-family IDs in the second column, and removes all unlisted samples from the current analysis. --remove does the same for all listed samples.\n",
    ">\n",
    ">Similarly, --keep-fam and --remove-fam accept text files with family IDs in the first column, and keep or remove entire families."
   ]
  },
  {
   "cell_type": "code",
   "execution_count": 9,
   "metadata": {},
   "outputs": [
    {
     "name": "stdout",
     "output_type": "stream",
     "text": [
      "725 in clinical\n",
      "789 in viral\n",
      "611 in host genotypes\n",
      "Viral and clinical ids:\t611 in intersection, 725 in union\n",
      "Geno and clinical ids :\t724 in intersection, 790 in union\n",
      "Global intersection : 610\n",
      "Written to data/individuals/intersecting_ids\n"
     ]
    }
   ],
   "source": [
    "common.find_individuals(fam=PATH_HOST_CLEAN_DATA,\n",
    "                        clinical=PATH_CLINICAL_DATA,\n",
    "                        viral=PATH_VIRAL_DATA, \n",
    "                        output_path=PATH_INTERSECTING_INDIVIDUALS)\n",
    "# Write them into a file that can be read by the --keep command of plink\n",
    "#with open(PATH_INTERSECTING_INDIVIDUALS, 'w') as file:\n",
    "#    file.write(df_inds[ID_IGM_CLINICAL_DF].to_csv(header=False, index=False))"
   ]
  },
  {
   "cell_type": "markdown",
   "metadata": {},
   "source": [
    "## Asian individuals\n",
    "\n",
    "We aim here to generate a dataset with only asian people with excluded X, Y and chromosome 6. We first compute the list of asian individuals."
   ]
  },
  {
   "cell_type": "code",
   "execution_count": 5,
   "metadata": {},
   "outputs": [
    {
     "name": "stdout",
     "output_type": "stream",
     "text": [
      "Written to data/individuals/asians (440 individuals)\n"
     ]
    },
    {
     "name": "stderr",
     "output_type": "stream",
     "text": [
      "/home/mazeller/.local/lib/python3.6/site-packages/pandas/core/indexes/base.py:183: FutureWarning: the 'labels' keyword is deprecated, use 'codes' instead\n",
      "  return cls.__new__(cls, **d)\n"
     ]
    }
   ],
   "source": [
    "# First generate the list of individuals that are part of the 'asian race'\n",
    "common.find_individuals(fam=PATH_HOST_CLEAN_DATA,\n",
    "                        clinical=PATH_CLINICAL_DATA,\n",
    "                        viral=PATH_VIRAL_DATA, \n",
    "                        output_path=PATH_INDIVIDUALS_ASIAN,\n",
    "                        criteria = ('RACE', 'ASIAN'), verbose=False)"
   ]
  },
  {
   "cell_type": "markdown",
   "metadata": {},
   "source": [
    "# Phenotypes and covariates\n",
    "\n",
    "## Phenotypes\n",
    "\n",
    "We now want to include some external phenotype data, i.e. the ones in the clinical data. From the [documentation of plink1.9](https://www.cog-genomics.org/plink/1.9/input#pheno) :\n",
    "> --pheno causes phenotype values to be read from the 3rd column of the specified **space- or tab-delimited file**, instead of the .fam or .ped file. The first and second columns of that file must contain family and within-family IDs, respectively.\n",
    ">\n",
    "> In combination with --pheno, --mpheno lets you use the (n+2)th column instead of the 3rd column, while --pheno-name lets you select a column by title. (In order to use --pheno-name, there must be a header row with first two entries 'FID' and 'IID'.)\n",
    "\n",
    "More documentation:\n",
    "> To specify an alternate phenotype for analysis, i.e. other than the one in the `*.ped` file (or, if using a binary fileset, the `*.fam` file), use the --pheno option\n",
    "> \n",
    "> If an individual is in the original file but not listed in the alternate phenotype file, that person's phenotype will be set to missing. If a person is in the alternate phenotype file but not in the original file, that entry will be ignored. The order of the alternate phenotype file need not be the same as for the original file. If the phenotype file contains more than one phenotype, then use the `--mpheno N` option to specify the Nth phenotype is the one to be used: \n",
    ">\n",
    "> Alternatively, your alternate phenotype file can have a header row, in which case you can use variable names to specify which phenotype to use. If you have a header row, the first two variables must be labelled FID and IID. All subsequent variable names cannot have any whitespace in them.\n",
    ">\n",
    "> Finally, if there is more than one phenotype, then for basic association tests, it is possible to specify that all phenotypes be tested, sequentiall [...]. You might want to use the `--pfilter` command in this case, to only report results with a p-value less than a certain value, e.g. `--pfilter 1e-3`.\n",
    ">\n",
    "> **Warning: Currently, all phenotypes must be numerically coded, including missing values, in the alternate phenotype file. The default missing value is -9, change this with `--missing-phenotype`, but it must be a numeric value still (in contrast to the main phenotype in the PED/FAM file).**\n",
    "\n",
    "### Create plink-readable file\n",
    "\n",
    "As shown above, the file should begin with a header row indicating the column names (we will want to select the phenotypes by their names). All entries must begin with FID and IID, but we can add any number of extra columns (at least 1). Values can be separated by (spaces or) *tabs*."
   ]
  },
  {
   "cell_type": "code",
   "execution_count": 31,
   "metadata": {},
   "outputs": [
    {
     "name": "stdout",
     "output_type": "stream",
     "text": [
      "Successfully written 'data/plink/pheno.txt'\n"
     ]
    }
   ],
   "source": [
    "# Create a phenotype file from the clinical DataFrame\n",
    "# Using custom function\n",
    "phenotype_columns = ['BASELINE_BMI']\n",
    "common.convert_to_plink_phenotype(path=PATH_CLINICAL_DATA,\n",
    "                                  out=PATH_CLINICAL_PLINK_PHENOTYPE,\n",
    "                                  id_col_name='IGM_ID', cols=phenotype_columns)"
   ]
  },
  {
   "cell_type": "markdown",
   "metadata": {},
   "source": [
    "## Covariates\n",
    "\n",
    "[Doc](http://zzz.bwh.harvard.edu/plink/data.shtml#covar): \n",
    "> The covariate file should be formatted in a similar manner to the phenotype file. If an individual is not present in the covariate file, or if the individual has a missing phenotype value (i.e. -9 by default) for the covariate, then that individual is set to missing (i.e. will be excluded from association analysis).\n",
    ">\n",
    "> To select a particular subset of covariates, use one of the following commands, which either use numbers or names (i.e. if a header row exists in the file), \n",
    ">         \n",
    ">        plink --file mydata --covar c.txt --covar-number 2,4-6,8 \n",
    ">        plink --file mydata --covar c.txt --covar-name AGE,BMI-SMOKE,ALC \n",
    ">\n",
    "> To output a new covariate file, possibly with categorical variables downcoded to binary dummy variables use the --write-covar option as described [here](http://zzz.bwh.harvard.edu/plink/dataman.shtml#wrtcov).\n",
    ">\n",
    "> *Note: Not all commands accept covariates, and PLINK will not always give you an error or warning. The basic association (--assoc, --mh, --model, --tdt, --dfam, and --qfam) do **not** accept covariates, neither do the basic haplotype association methods (--hap-assoc, --hap-tdt). Among the commands that do are --linear, --logistic, --chap and --proxy-glm. Also --gxe accepts a single covariate only (the others listed here accept multiple covariates).*"
   ]
  },
  {
   "cell_type": "markdown",
   "metadata": {},
   "source": [
    "***\n",
    "***\n",
    "<br /><br /><br /><br /><br /><br /><br /><br /><br /><br /><br /><br /><br /><br /><br /><br /><br /><br /><br /><br /><br /><br /><br /><br /><br /><br /><br /><br /><br /><br />"
   ]
  }
 ],
 "metadata": {
  "kernelspec": {
   "display_name": "Python 3",
   "language": "python",
   "name": "python3"
  },
  "language_info": {
   "codemirror_mode": {
    "name": "ipython",
    "version": 3
   },
   "file_extension": ".py",
   "mimetype": "text/x-python",
   "name": "python",
   "nbconvert_exporter": "python",
   "pygments_lexer": "ipython3",
   "version": "3.6.5"
  }
 },
 "nbformat": 4,
 "nbformat_minor": 2
}
