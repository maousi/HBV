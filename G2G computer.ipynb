{
 "cells": [
  {
   "cell_type": "code",
   "execution_count": 1,
   "metadata": {},
   "outputs": [],
   "source": [
    "from src import host\n",
    "from src import common\n",
    "from src.setup import *"
   ]
  },
  {
   "cell_type": "markdown",
   "metadata": {},
   "source": [
    "# Introduction\n",
    "\n",
    "As an non-interactive usage of this notebook, one can use `sbatch src/run_gwas.sh` to send a job and get the results in a notebook or in HTML format. \n",
    "\n",
    "**TODO**: \n",
    "\n",
    "# README !\n",
    "\n",
    "This notebook is special: it's designed differently from the others. To use this notebook effciently and interactively, first use `sbatch src/run_gwas.sh` to run a job that...\n",
    "\n",
    "###### A word about `run_gwas()` function\n",
    "\n",
    "Every output is stored. Warnings are displayed in `concatenated_warnings`, and the whole reports in `concatenated_logs` (both paths are defined in `setup.py`)."
   ]
  },
  {
   "cell_type": "markdown",
   "metadata": {},
   "source": [
    "# Compute assciation tests\n",
    "\n"
   ]
  },
  {
   "cell_type": "code",
   "execution_count": 2,
   "metadata": {},
   "outputs": [],
   "source": [
    "#common.write_phenotypes(PATH_ASIANS_GWAS, phenotype='all', output_path=PATH_ASIANS_GWAS_PHENOTYPES)\n",
    "#host.run_gwas()"
   ]
  },
  {
   "cell_type": "code",
   "execution_count": null,
   "metadata": {},
   "outputs": [],
   "source": []
  },
  {
   "cell_type": "markdown",
   "metadata": {},
   "source": [
    "# Check the results\n",
    "\n",
    "###### Report computational time\n"
   ]
  },
  {
   "cell_type": "code",
   "execution_count": 3,
   "metadata": {},
   "outputs": [
    {
     "name": "stdout",
     "output_type": "stream",
     "text": [
      "Start time: Tue Aug 20 18:20:28 2019\n",
      "grep: erreur d'écriture\n",
      "cat: erreur d'écriture: Relais brisé (pipe)\n",
      "End time: Tue Aug 20 18:38:07 2019\n"
     ]
    }
   ],
   "source": [
    "!cat $PATH_ASIANS_GWAS_TMP_LOGS_CONCAT | grep \"Start time:\" | head -1 \n",
    "!cat $PATH_ASIANS_GWAS_TMP_LOGS_CONCAT | grep \"End time:\" | tail -1 "
   ]
  },
  {
   "cell_type": "markdown",
   "metadata": {},
   "source": [
    "This took about 18 min 30 s."
   ]
  },
  {
   "cell_type": "markdown",
   "metadata": {},
   "source": [
    "###### Look at warnings\n",
    "\n"
   ]
  },
  {
   "cell_type": "code",
   "execution_count": 4,
   "metadata": {},
   "outputs": [
    {
     "name": "stdout",
     "output_type": "stream",
     "text": [
      "Number of warnings: 633\r\n"
     ]
    }
   ],
   "source": [
    "# count warnings\n",
    "print(\"Number of warnings: \", end='')\n",
    "!grep $PATH_ASIANS_GWAS_TMP_LOGS_CONCAT -e Warning | wc -l"
   ]
  },
  {
   "cell_type": "code",
   "execution_count": 5,
   "metadata": {},
   "outputs": [
    {
     "name": "stdout",
     "output_type": "stream",
     "text": [
      "\r\n",
      "(PC_9_V) Warning: --glm remaining case count is less than 10x predictor count for\r\n",
      "phenotype 'PC_9_V'.\r\n",
      "\r\n",
      "(PC_28_STOP) \r\n",
      "(PC_28_W) Warning: --glm remaining control count is less than 10x predictor count for\r\n",
      "phenotype 'PC_28_W'.\r\n",
      "\r\n",
      "(PC_29_D) Warning: --glm remaining case count is less than 10x predictor count for\r\n",
      "phenotype 'PC_29_D'.\r\n"
     ]
    }
   ],
   "source": [
    "!head $PATH_ASIANS_GWAS_TMP_WARNINGS"
   ]
  },
  {
   "cell_type": "markdown",
   "metadata": {},
   "source": [
    "We have 633/744 amino acids that do not respect the 1 to 10 rule of the thumb."
   ]
  },
  {
   "cell_type": "markdown",
   "metadata": {},
   "source": [
    "###### Skipped amino acids\n"
   ]
  },
  {
   "cell_type": "code",
   "execution_count": 6,
   "metadata": {},
   "outputs": [
    {
     "name": "stdout",
     "output_type": "stream",
     "text": [
      "37\r\n"
     ]
    }
   ],
   "source": [
    "!grep $PATH_ASIANS_GWAS_TMP_WARNINGS -e Skipping | wc -l"
   ]
  },
  {
   "cell_type": "markdown",
   "metadata": {},
   "source": [
    "We have 37 amino acids that were skipped with the following warning:\n",
    "\n",
    "    (S_19_P) Warning: Skipping --glm regression on phenotype <AA> since # samples <= #\n",
    "    predictor columns.\n",
    "    (Quasi-)separated covariate(s) were present.  Try removing inappropriate\n",
    "    covariates, and/or using Firth logistic regression."
   ]
  },
  {
   "cell_type": "markdown",
   "metadata": {},
   "source": [
    "# Summarize results\n",
    "\n",
    "###### p-values"
   ]
  },
  {
   "cell_type": "code",
   "execution_count": 7,
   "metadata": {},
   "outputs": [],
   "source": [
    "# 1. Get all files in the temporary results directory\n",
    "from os import walk\n",
    "f = []\n",
    "for (dirpath, dirnames, filenames) in walk(PATH_ASIANS_GWAS_TMP):\n",
    "    f = filenames    "
   ]
  },
  {
   "cell_type": "code",
   "execution_count": 8,
   "metadata": {},
   "outputs": [],
   "source": [
    "threshold = 5e-8"
   ]
  },
  {
   "cell_type": "code",
   "execution_count": 9,
   "metadata": {},
   "outputs": [
    {
     "name": "stdout",
     "output_type": "stream",
     "text": [
      "..\n"
     ]
    }
   ],
   "source": [
    "# 2. For each plink report file, get p-values and summarize them\n",
    "summaries = pd.DataFrame()\n",
    "concat = pd.DataFrame()\n",
    "\n",
    "report = [1, 10, 50 100, 200, 300, 400, 500, 600, 700] # track the job\n",
    "\n",
    "for counter, i in enumerate(f):\n",
    "    if i[-9:] != '.logistic': continue \n",
    "    print('.', end='')\n",
    "    if counter in report:\n",
    "        !echo $counter\n",
    "    \n",
    "    df = pd.read_csv(PATH_ASIANS_GWAS_TMP+i, sep='\\t')\n",
    "    summary = df.P.describe()\n",
    "    summary.name = i.split('.')[1]\n",
    "    if summaries.empty: \n",
    "        summaries = pd.DataFrame(summary)\n",
    "        concat = pd.DataFrame( df[ df.P <= threshold ] )\n",
    "    else: \n",
    "        summaries.insert(loc=0, column=i.split('.')[1], value=summary)\n",
    "        concat = concat.append(df[df.P <= threshold], ignore_index=True)\n",
    "print()"
   ]
  },
  {
   "cell_type": "code",
   "execution_count": 10,
   "metadata": {
    "scrolled": true
   },
   "outputs": [
    {
     "name": "stdout",
     "output_type": "stream",
     "text": [
      "write_binary(): successfully written in '/scratch/mazeller/gwas_tmp_results/pval_summary'\n",
      "write_binary(): successfully written in 'data/plink/gwas/filtered_g2g'\n"
     ]
    }
   ],
   "source": [
    "common.write_binary(PATH_ASIANS_GWAS_TMP_SUMMARY, summaries)\n",
    "common.write_binary(PATH_ASIANS_GWAS_FILTERED, concat)"
   ]
  }
 ],
 "metadata": {
  "kernelspec": {
   "display_name": "Python 3",
   "language": "python",
   "name": "python3"
  },
  "language_info": {
   "codemirror_mode": {
    "name": "ipython",
    "version": 3
   },
   "file_extension": ".py",
   "mimetype": "text/x-python",
   "name": "python",
   "nbconvert_exporter": "python",
   "pygments_lexer": "ipython3",
   "version": "3.6.5"
  }
 },
 "nbformat": 4,
 "nbformat_minor": 2
}
