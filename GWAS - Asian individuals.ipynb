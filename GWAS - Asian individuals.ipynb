{
 "cells": [
  {
   "cell_type": "code",
   "execution_count": 1,
   "metadata": {},
   "outputs": [],
   "source": [
    "from src.setup import *\n",
    "from src import host\n",
    "from src import common\n",
    "# This prevents to restart the kernel whenever an external file is edited\n",
    "%load_ext autoreload\n",
    "%autoreload 2"
   ]
  },
  {
   "cell_type": "markdown",
   "metadata": {},
   "source": [
    "# Introduction\n",
    "\n",
    "In this notebook, we'll do a complete GWAS **from strach**, i.e. beginning with the raw, dirty data, and focus on asian individuals. The principle is to re-run all quality control steps to get a **new dataset** that is not biased by individuals that won't be included in the study. For instance, MAF filtering can be biased when subpopulations with different allele frequencies are present. We also want to avoid such biases with missing values and chromosomes, for example. \n",
    "\n",
    "The path to the clean dataset for this study is defined by `PATH_ASIANS_GWAS`.\n",
    "\n",
    "###### Selection of individuals\n",
    "\n",
    "The clustering that was done in the previous notebook did not provide any satisfying result. Thus we will use a list of individuals that belong to a same cluster, according to the same clustering algorithm (hierarchichal, ward) but done with R (thanks to Sina for providing me the list). This list is specified by `PATH_CLUSTERING_ASIANS`.\n",
    "\n",
    "###### Plan\n",
    "\n",
    "1. Prepare dataset for QC: Exclude variants with 100% missing rate, remove relevant chromosomes, keep only relevant individuals, create **new (dirty) dataset**.\n",
    "1. Quality control\n",
    "    1. Missing values (variants), create intermediate dataset\n",
    "    1. Missing values (individuals)\n",
    "    1. MAF filtering, HWE tests\n",
    "1. Association analyses\n",
    "\n",
    "We want to force the order of missingness filtering (first variants, then individuals, i.e. unlike plink does when both commands are run at the same time), thus we create an intermediate dataset after the filtering of missing variants."
   ]
  },
  {
   "cell_type": "markdown",
   "metadata": {},
   "source": [
    "# Preparation\n",
    "\n",
    "At the end of this section, we create a new dataset that is ready for **unbiased** quality control. The filters here are :\n",
    "\n",
    "* Remove variants with 100% missingness\n",
    "* Keep only autosomes\n",
    "* Keep only asian related individuals (a cluster)"
   ]
  },
  {
   "cell_type": "code",
   "execution_count": 4,
   "metadata": {},
   "outputs": [],
   "source": [
    "# Define the path for this new dataset\n",
    "path_prepared_dataset = PATH_PLINK_DATA+\"asians_gwas_prepared\""
   ]
  },
  {
   "cell_type": "code",
   "execution_count": 9,
   "metadata": {},
   "outputs": [
    {
     "name": "stdout",
     "output_type": "stream",
     "text": [
      "Running 'plink2 --bfile data/raw/wes_plink/hbv_gilead_bcftools --out data/plink/asians_gwas_prepared --geno 0.999999999 --not-chr 0 X Y XY MT --keep data/clustering_asians_gwas.txt --make-bed '\n",
      "Log written to 'data/plink/log/asians_gwas_data_preparation.log'\n"
     ]
    }
   ],
   "source": [
    "# 1. Remove variants with 100% missing rate\n",
    "host.run_plink(\"--geno 0.999999999 \" + DEFAULT_CHROMOSOME_EXCLUSION_GWAS + \\\n",
    "               \" --keep \" + PATH_CLUSTERING_ASIANS + \" --make-bed\",\n",
    "               file=PATH_HOST_RAW_PLINK_DATA, out=path_prepared_dataset, extension='bed',\n",
    "               log_name='asians_gwas_0_data_preparation');"
   ]
  },
  {
   "cell_type": "markdown",
   "metadata": {},
   "source": [
    "# Quality control\n",
    "\n",
    "We start the QC with he dataset defined by `path_prepared_dataset`.\n",
    "\n",
    "###### Missing report\n",
    "\n"
   ]
  },
  {
   "cell_type": "code",
   "execution_count": 14,
   "metadata": {},
   "outputs": [
    {
     "name": "stdout",
     "output_type": "stream",
     "text": [
      "Running 'plink2 --bfile data/plink/asians_gwas_prepared --out data/plink/asians_gwas_prepared --missing '\n",
      "Log written to 'data/plink/log/asians_gwas_missing.log'\n"
     ]
    },
    {
     "data": {
      "image/png": "[encoded data removed]",
      "text/plain": [
       "<Figure size 1080x216 with 2 Axes>"
      ]
     },
     "metadata": {
      "needs_background": "light"
     },
     "output_type": "display_data"
    }
   ],
   "source": [
    "host.run_plink(\"--missing\", file=path_prepared_dataset, out=path_prepared_dataset, \n",
    "               extension='vmiss', log_name='asians_gwas_1_missing')\n",
    "common.plot_missing(path_prepared_dataset)"
   ]
  },
  {
   "cell_type": "code",
   "execution_count": 19,
   "metadata": {},
   "outputs": [
    {
     "data": {
      "image/png": "[encoded data removed]",
      "text/plain": [
       "<Figure size 432x288 with 1 Axes>"
      ]
     },
     "metadata": {
      "needs_background": "light"
     },
     "output_type": "display_data"
    }
   ],
   "source": [
    "dtype = {'F_MISS':float, 'ID':str, '#CHROM':str}\n",
    "df_miss_var = pd.read_csv(path_prepared_dataset+'.vmiss', sep='\\s+', usecols=['#CHROM', 'ID', 'F_MISS'], dtype=dtype)\n",
    "df_miss_chr = df_miss_var.groupby('#CHROM').mean()\n",
    "sns.boxplot(x='#CHROM', y='F_MISS', data=df_miss_var, order=df_miss_chr.sort_values(by='F_MISS').index);"
   ]
  },
  {
   "cell_type": "markdown",
   "metadata": {},
   "source": [
    "###### Filter variants"
   ]
  },
  {
   "cell_type": "code",
   "execution_count": 20,
   "metadata": {},
   "outputs": [],
   "source": [
    "# 1. Path for this intermediate dataset\n",
    "path_intermed_dataset = PATH_PLINK_DATA+\"asians_gwas_intermed_QC\""
   ]
  },
  {
   "cell_type": "code",
   "execution_count": 21,
   "metadata": {},
   "outputs": [
    {
     "name": "stdout",
     "output_type": "stream",
     "text": [
      "Running 'plink2 --bfile data/plink/asians_gwas_prepared --out data/plink/asians_gwas_QC_intermed --geno 0.01 --make-bed '\n",
      "Log written to 'data/plink/log/asians_gwas_intermedQC.log'\n"
     ]
    }
   ],
   "source": [
    "# 2. Filter\n",
    "host.run_plink(\"--geno \" + str(THRESHOLD_MISSING_VARIANTS) + \" --make-bed\", file=path_prepared_dataset,\n",
    "              out=path_intermed_dataset, extension='bed', log_name='asians_gwas_2_intermedQC');"
   ]
  },
  {
   "cell_type": "markdown",
   "metadata": {},
   "source": [
    "###### Filter individuals"
   ]
  },
  {
   "cell_type": "code",
   "execution_count": 23,
   "metadata": {},
   "outputs": [],
   "source": [
    "path_missingness_treated_dataset = PATH_PLINK_DATA+\"asians_gwas_missingness_treated\""
   ]
  },
  {
   "cell_type": "code",
   "execution_count": 25,
   "metadata": {},
   "outputs": [
    {
     "name": "stdout",
     "output_type": "stream",
     "text": [
      "Running 'plink2 --bfile data/plink/asians_gwas_QC_intermed --out data/plink/asians_gwas_missingness_treated --mind 0.1 --make-bed '\n",
      "Log written to 'data/plink/log/asians_gwas_miss_treated.log'\n"
     ]
    }
   ],
   "source": [
    "host.run_plink(\"--mind \" + str(THRESHOLD_MISSING_INDIVIDUALS) + \" --make-bed\", file=path_intermed_dataset,\n",
    "              out=path_missingness_treated_dataset, extension='bed', log_name='asians_gwas_3_miss_treated');"
   ]
  },
  {
   "cell_type": "markdown",
   "metadata": {},
   "source": [
    "###### Missing report of missingness treated dataset"
   ]
  },
  {
   "cell_type": "code",
   "execution_count": 27,
   "metadata": {},
   "outputs": [
    {
     "name": "stdout",
     "output_type": "stream",
     "text": [
      "Running 'plink2 --bfile data/plink/asians_gwas_missingness_treated --out data/plink/asians_gwas_missingness_treated --missing '\n",
      "Log written to 'data/plink/log/asians_gwas_missing.log'\n"
     ]
    },
    {
     "data": {
      "image/png": "[encoded data removed]",
      "text/plain": [
       "<Figure size 1080x216 with 2 Axes>"
      ]
     },
     "metadata": {
      "needs_background": "light"
     },
     "output_type": "display_data"
    }
   ],
   "source": [
    "host.run_plink(\"--missing\", file=path_missingness_treated_dataset, out=path_missingness_treated_dataset, \n",
    "               extension='vmiss', log_name='asians_gwas_4_missing')\n",
    "common.plot_missing(path_missingness_treated_dataset)"
   ]
  },
  {
   "cell_type": "markdown",
   "metadata": {},
   "source": [
    "###### MAF and HWE"
   ]
  },
  {
   "cell_type": "code",
   "execution_count": 29,
   "metadata": {},
   "outputs": [
    {
     "name": "stdout",
     "output_type": "stream",
     "text": [
      "Running 'plink2 --bfile data/plink/asians_gwas_missingness_treated --out data/plink/asians_gwas --maf 0.01 --hwe 1e-6 --make-bed '\n",
      "Log written to 'data/plink/log/asians_gwas_maf_hwe.log'\n"
     ]
    }
   ],
   "source": [
    "host.run_plink(\"--maf 0.01 --hwe 1e-6 --make-bed\", file=path_missingness_treated_dataset, extension='bed',\n",
    "              out=PATH_ASIANS_GWAS, log_name='asians_gwas_5_maf_hwe');"
   ]
  },
  {
   "cell_type": "markdown",
   "metadata": {},
   "source": [
    "# Association analyses\n",
    "\n"
   ]
  },
  {
   "cell_type": "markdown",
   "metadata": {},
   "source": [
    "# Multivariate model\n",
    "\n",
    "From [plink doc](https://www.cog-genomics.org/plink/1.9/input#covar):\n",
    "\n",
    "> `--covar` designates the file to load covariates from. The file format is the same as for --pheno. The main phenotype is no longer set to missing when a covariate value is missing; instead, this only happens to the temporary phenotype copies used by e.g. the linear/logistic regression routine.\n",
    ">\n",
    ">Categorical covariates are now directly supported. Any nonnumeric string ('NA' and 'nan' are considered to be numbers for this purpose) is treated as a categorical covariate name.\n",
    ">\n",
    ">`--covar-name` works like --pheno-name. It can now be used without --covar (in which case the --pheno or .psam file is the target).\n",
    ">\n",
    ">`--covar-col-nums` works like --pheno-col-nums, and refers to the --pheno file when --covar is not specified.\n",
    ">\n",
    ">When no primary header line is present, covariates are assigned the names 'COVAR1', 'COVAR2', etc.\n",
    "\n",
    "Thus we need a to manage the writing of new files containing covariate information. <s>We can create a function that calls `write_phenotype` since the format is the same (two columns with FID, IID and one variable per column, we also need to keep the intersection of the individuals, the variables to include are contained in the clinical dataframe).</s> We can  actually use the same `write_phenotype` function that we tune for that purpose"
   ]
  },
  {
   "cell_type": "code",
   "execution_count": null,
   "metadata": {},
   "outputs": [],
   "source": []
  },
  {
   "cell_type": "code",
   "execution_count": null,
   "metadata": {},
   "outputs": [],
   "source": []
  }
 ],
 "metadata": {
  "kernelspec": {
   "display_name": "Python 3",
   "language": "python",
   "name": "python3"
  },
  "language_info": {
   "codemirror_mode": {
    "name": "ipython",
    "version": 3
   },
   "file_extension": ".py",
   "mimetype": "text/x-python",
   "name": "python",
   "nbconvert_exporter": "python",
   "pygments_lexer": "ipython3",
   "version": "3.6.5"
  }
 },
 "nbformat": 4,
 "nbformat_minor": 2
}
